{
 "cells": [
  {
   "cell_type": "code",
   "execution_count": 1,
   "id": "80ef2ff5-4623-4699-b4c3-ba7858f72b80",
   "metadata": {},
   "outputs": [],
   "source": [
    "import os\n",
    "import glob\n",
    "import pandas as pd\n",
    "import numpy as np"
   ]
  },
  {
   "cell_type": "code",
   "execution_count": 2,
   "id": "3f6f39c4-4375-4502-87e0-a859342f4775",
   "metadata": {},
   "outputs": [],
   "source": [
    "pd.set_option('display.max_rows', None)"
   ]
  },
  {
   "cell_type": "code",
   "execution_count": 3,
   "id": "021e8189-e4ce-4910-9f5d-62c9ce9d63e5",
   "metadata": {},
   "outputs": [
    {
     "name": "stdout",
     "output_type": "stream",
     "text": [
      "/home/manoelflorencio/cta_for_jd/LakeBench\n"
     ]
    }
   ],
   "source": [
    "path = '/home/manoelflorencio/cta_for_jd/LakeBench'\n",
    "os.chdir(path)\n",
    "print(os.getcwd())"
   ]
  },
  {
   "cell_type": "code",
   "execution_count": 4,
   "id": "3a64b097-9b4f-47ce-b0c3-5a789b72a8e3",
   "metadata": {},
   "outputs": [],
   "source": [
    "filenames = glob.glob('datasets_SG/*')"
   ]
  },
  {
   "cell_type": "code",
   "execution_count": 5,
   "id": "d7721e38-138e-4ad3-ac59-04c669d66a56",
   "metadata": {},
   "outputs": [],
   "source": [
    "filenames = ['datasets_SG/SG_CSV0000000000000925.csv','datasets_SG/SG_CSV0000000000001714.csv']"
   ]
  },
  {
   "cell_type": "code",
   "execution_count": 7,
   "id": "71bc9665-7b1e-41a2-a553-7b7e363f00dd",
   "metadata": {},
   "outputs": [
    {
     "data": {
      "text/plain": [
       "['SG_CSV0000000000000925.csv', 'SG_CSV0000000000001714.csv']"
      ]
     },
     "execution_count": 7,
     "metadata": {},
     "output_type": "execute_result"
    }
   ],
   "source": [
    "filenames = [filename.split('/')[-1] for filename in filenames]\n",
    "filenames"
   ]
  },
  {
   "cell_type": "code",
   "execution_count": 8,
   "id": "455b50e3-e82d-4311-8122-ac697c0249f4",
   "metadata": {},
   "outputs": [
    {
     "data": {
      "text/plain": [
       "[['SG_CSV0000000000000925.csv', 'SG_CSV0000000000001714.csv']]"
      ]
     },
     "execution_count": 8,
     "metadata": {},
     "output_type": "execute_result"
    }
   ],
   "source": [
    "cartesians = []\n",
    "for i in range(len(filenames)-1):\n",
    "    for j in range(i+1, len(filenames)):\n",
    "        cartesians.append([filenames[i], filenames[j]])\n",
    "cartesians"
   ]
  },
  {
   "cell_type": "code",
   "execution_count": 9,
   "id": "f21f5ab5-94cc-4a54-a573-ffbb6e8078ad",
   "metadata": {},
   "outputs": [
    {
     "data": {
      "text/html": [
       "<div>\n",
       "<style scoped>\n",
       "    .dataframe tbody tr th:only-of-type {\n",
       "        vertical-align: middle;\n",
       "    }\n",
       "\n",
       "    .dataframe tbody tr th {\n",
       "        vertical-align: top;\n",
       "    }\n",
       "\n",
       "    .dataframe thead th {\n",
       "        text-align: right;\n",
       "    }\n",
       "</style>\n",
       "<table border=\"1\" class=\"dataframe\">\n",
       "  <thead>\n",
       "    <tr style=\"text-align: right;\">\n",
       "      <th></th>\n",
       "      <th>LEFT_TABLE</th>\n",
       "      <th>RIGHT_TABLE</th>\n",
       "    </tr>\n",
       "  </thead>\n",
       "  <tbody>\n",
       "    <tr>\n",
       "      <th>0</th>\n",
       "      <td>SG_CSV0000000000000925.csv</td>\n",
       "      <td>SG_CSV0000000000001714.csv</td>\n",
       "    </tr>\n",
       "  </tbody>\n",
       "</table>\n",
       "</div>"
      ],
      "text/plain": [
       "                   LEFT_TABLE                 RIGHT_TABLE\n",
       "0  SG_CSV0000000000000925.csv  SG_CSV0000000000001714.csv"
      ]
     },
     "execution_count": 9,
     "metadata": {},
     "output_type": "execute_result"
    }
   ],
   "source": [
    "cartesians_df = pd.DataFrame(cartesians, columns=['LEFT_TABLE', 'RIGHT_TABLE'])\n",
    "cartesians_df"
   ]
  },
  {
   "cell_type": "code",
   "execution_count": 10,
   "id": "270d8b5e-175a-4bef-8654-1d4f2af1c81d",
   "metadata": {},
   "outputs": [],
   "source": [
    "cartesians_df.to_csv('table_cartesians.csv', index=False)"
   ]
  }
 ],
 "metadata": {
  "kernelspec": {
   "display_name": "Python 3 (ipykernel)",
   "language": "python",
   "name": "python3"
  },
  "language_info": {
   "codemirror_mode": {
    "name": "ipython",
    "version": 3
   },
   "file_extension": ".py",
   "mimetype": "text/x-python",
   "name": "python",
   "nbconvert_exporter": "python",
   "pygments_lexer": "ipython3",
   "version": "3.10.12"
  }
 },
 "nbformat": 4,
 "nbformat_minor": 5
}
