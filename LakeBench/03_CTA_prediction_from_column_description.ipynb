{
 "cells": [
  {
   "cell_type": "code",
   "execution_count": 1,
   "id": "465349c0-6876-456f-b789-a93d1f538ddd",
   "metadata": {},
   "outputs": [],
   "source": [
    "import pandas as pd\n",
    "import numpy as np\n",
    "import json\n",
    "import os\n",
    "import glob\n",
    "\n",
    "import pickle\n",
    "from openai import OpenAI\n",
    "\n",
    "from tenacity import (\n",
    "                        retry,\n",
    "                        stop_after_attempt,\n",
    "                        wait_random_exponential\n",
    ")\n",
    "\n",
    "from tqdm import tqdm"
   ]
  },
  {
   "cell_type": "code",
   "execution_count": 2,
   "id": "97624602-4d22-4b90-bb54-fc5fa570097e",
   "metadata": {},
   "outputs": [],
   "source": [
    "pd.set_option('display.max_rows', None)"
   ]
  },
  {
   "cell_type": "code",
   "execution_count": 3,
   "id": "0d4e292d-0d61-454a-8bd7-ace0b820988d",
   "metadata": {},
   "outputs": [
    {
     "name": "stdout",
     "output_type": "stream",
     "text": [
      "/home/manoelflorencio/cta_for_jd/LakeBench\n"
     ]
    }
   ],
   "source": [
    "path = '/home/manoelflorencio/cta_for_jd/LakeBench'\n",
    "os.chdir(path)\n",
    "print(os.getcwd())"
   ]
  },
  {
   "cell_type": "code",
   "execution_count": 4,
   "id": "2cc94c0d-05d3-48a2-88d3-d088ad4d4fad",
   "metadata": {},
   "outputs": [],
   "source": [
    "def generate_prompt_cta_prediction(description, cta_types):\n",
    "\n",
    "    system_msg = f\"\"\"\n",
    "            Your task is to classify a column's description of a given table with only one of the following classes that are separated \n",
    "            with comma: {\",\".join(cta_types)}.\n",
    "\n",
    "            Your instructions are:\n",
    "                1. Look at the input given to you.\n",
    "                2. Look at the description semantics in detail.\n",
    "                3. Predict a class among the following classes {\",\".join(cta_types)} for the target column.\n",
    "                4. Answer only with the predicted class.\n",
    "\n",
    "            Example 1:\n",
    "                Description: \"The 'Sex' column in the table represents the gender of the animal listed in each row. The values in this column consist of abbreviations that denote both the sex and reproductive status of the animals. 'M' indicates a male animal, and 'F' stands for a female animal.\n",
    "                Class: category\n",
    "\n",
    "            Example 2:\n",
    "                Description: \"The \"\"GeoLocalArea\"\" column in the table represents the geographical local area within which the public artworks or installations are situated or associated.\n",
    "                Class: streetAddress\"\"\"\n",
    "            \n",
    "    user_msg =  f\"\"\"Description: {description}\n",
    "                    Class: \"\"\".strip()\n",
    "    \n",
    "    return system_msg, user_msg"
   ]
  },
  {
   "cell_type": "code",
   "execution_count": 5,
   "id": "c1f0ab85-82e8-4047-a307-366e2b3185a5",
   "metadata": {},
   "outputs": [],
   "source": [
    "def generate_predictions(description, cta_types, client):\n",
    "    \n",
    "    system_msg_predict_cta, user_msg_predict_cta = generate_prompt_cta_prediction(description, cta_types)\n",
    "    result = execute_prompt(client, system_msg_predict_cta, user_msg_predict_cta)\n",
    "    cta = result.choices[0].message.content.split('Class: ')[-1].strip()\n",
    "    \n",
    "    return cta"
   ]
  },
  {
   "cell_type": "code",
   "execution_count": 6,
   "id": "332fd998-7d0f-459f-b5f7-2b9071c3e0d4",
   "metadata": {},
   "outputs": [],
   "source": [
    "@retry(wait=wait_random_exponential(min=1,max=60), stop=stop_after_attempt(6))\n",
    "def execute_prompt(client, system_msg, user_msg):\n",
    "    completion = client.chat.completions.create(\n",
    "                                            model=\"gpt-4o\",\n",
    "                                            messages=[\n",
    "                                                        {\n",
    "                                                            \"role\": \"system\", \n",
    "                                                             \"content\": f\"{system_msg}\"\n",
    "                                                        },\n",
    "                                                        {\n",
    "                                                            \"role\": \"user\",\n",
    "                                                            \"content\": f\"{user_msg}\"\n",
    "                                                        }\n",
    "                                                    ]\n",
    "                                            )\n",
    "    return completion"
   ]
  },
  {
   "cell_type": "code",
   "execution_count": 7,
   "id": "03de11cf-3979-48c5-bcf6-0aaa7aaa30ee",
   "metadata": {},
   "outputs": [],
   "source": [
    "client = OpenAI()"
   ]
  },
  {
   "cell_type": "code",
   "execution_count": 8,
   "id": "f6c2f4e6-7a49-490c-b0e0-85cc5a56c44c",
   "metadata": {},
   "outputs": [
    {
     "data": {
      "text/html": [
       "<div>\n",
       "<style scoped>\n",
       "    .dataframe tbody tr th:only-of-type {\n",
       "        vertical-align: middle;\n",
       "    }\n",
       "\n",
       "    .dataframe tbody tr th {\n",
       "        vertical-align: top;\n",
       "    }\n",
       "\n",
       "    .dataframe thead th {\n",
       "        text-align: right;\n",
       "    }\n",
       "</style>\n",
       "<table border=\"1\" class=\"dataframe\">\n",
       "  <thead>\n",
       "    <tr style=\"text-align: right;\">\n",
       "      <th></th>\n",
       "      <th>TableName</th>\n",
       "      <th>Column</th>\n",
       "      <th>Description</th>\n",
       "    </tr>\n",
       "  </thead>\n",
       "  <tbody>\n",
       "    <tr>\n",
       "      <th>0</th>\n",
       "      <td>SG_CSV0000000000000925.csv</td>\n",
       "      <td>respondent_serial</td>\n",
       "      <td>The 'respondent_serial' column contains unique...</td>\n",
       "    </tr>\n",
       "    <tr>\n",
       "      <th>1</th>\n",
       "      <td>SG_CSV0000000000000925.csv</td>\n",
       "      <td>respondent_id</td>\n",
       "      <td>The 'respondent_id' column contains unique ide...</td>\n",
       "    </tr>\n",
       "    <tr>\n",
       "      <th>2</th>\n",
       "      <td>SG_CSV0000000000000925.csv</td>\n",
       "      <td>country</td>\n",
       "      <td>The \"country\" column contains the name of the ...</td>\n",
       "    </tr>\n",
       "    <tr>\n",
       "      <th>3</th>\n",
       "      <td>SG_CSV0000000000000925.csv</td>\n",
       "      <td>yearbornin_1_slice</td>\n",
       "      <td>The 'yearbornin_1_slice' column indicates a sl...</td>\n",
       "    </tr>\n",
       "    <tr>\n",
       "      <th>4</th>\n",
       "      <td>SG_CSV0000000000000925.csv</td>\n",
       "      <td>yearbornin_1_slice1</td>\n",
       "      <td>The 'yearbornin_1_slice1' column represents th...</td>\n",
       "    </tr>\n",
       "  </tbody>\n",
       "</table>\n",
       "</div>"
      ],
      "text/plain": [
       "                    TableName               Column  \\\n",
       "0  SG_CSV0000000000000925.csv    respondent_serial   \n",
       "1  SG_CSV0000000000000925.csv        respondent_id   \n",
       "2  SG_CSV0000000000000925.csv              country   \n",
       "3  SG_CSV0000000000000925.csv   yearbornin_1_slice   \n",
       "4  SG_CSV0000000000000925.csv  yearbornin_1_slice1   \n",
       "\n",
       "                                         Description  \n",
       "0  The 'respondent_serial' column contains unique...  \n",
       "1  The 'respondent_id' column contains unique ide...  \n",
       "2  The \"country\" column contains the name of the ...  \n",
       "3  The 'yearbornin_1_slice' column indicates a sl...  \n",
       "4  The 'yearbornin_1_slice1' column represents th...  "
      ]
     },
     "execution_count": 8,
     "metadata": {},
     "output_type": "execute_result"
    }
   ],
   "source": [
    "descriptions = pd.read_csv('column_descriptions.csv')\n",
    "descriptions.head()"
   ]
  },
  {
   "cell_type": "code",
   "execution_count": 10,
   "id": "353d681c-d97f-4e4c-b464-ed4d4ef06bcd",
   "metadata": {},
   "outputs": [],
   "source": [
    "cta_types = np.load('cta_types.npy')"
   ]
  },
  {
   "cell_type": "code",
   "execution_count": 11,
   "id": "85b8d672-f8a0-46d1-ad87-6589de50f287",
   "metadata": {},
   "outputs": [
    {
     "name": "stderr",
     "output_type": "stream",
     "text": [
      "100%|██████████████████████████████████████████████████████████████████████████████████████████████████████████████████████████████████████████████████████████████████████████████████████████████████████| 201/201 [01:58<00:00,  1.70it/s]\n"
     ]
    }
   ],
   "source": [
    "cta = []\n",
    "for table_name, column_name, description in tqdm(descriptions.values):\n",
    "    target_description = description\n",
    "    cta.append(generate_predictions(target_description, cta_types, client))"
   ]
  },
  {
   "cell_type": "code",
   "execution_count": 12,
   "id": "be9c5826-5905-4f2e-b5f6-77f1825e2aff",
   "metadata": {},
   "outputs": [],
   "source": [
    "descriptions['CTA'] = cta"
   ]
  },
  {
   "cell_type": "code",
   "execution_count": 13,
   "id": "a34ecbd0-6a19-4f13-86de-aaf495af216e",
   "metadata": {},
   "outputs": [],
   "source": [
    "descriptions.to_csv('column_descriptions_with_cta.csv',index=False)"
   ]
  },
  {
   "cell_type": "code",
   "execution_count": 14,
   "id": "f8712e71-55e7-40c6-864b-db9e25c41926",
   "metadata": {},
   "outputs": [],
   "source": [
    "descriptions_with_cta = pd.read_csv('column_descriptions_with_cta.csv')"
   ]
  },
  {
   "cell_type": "code",
   "execution_count": 15,
   "id": "4ea00254-8890-480a-9a40-0cbf24a41210",
   "metadata": {},
   "outputs": [
    {
     "data": {
      "text/html": [
       "<div>\n",
       "<style scoped>\n",
       "    .dataframe tbody tr th:only-of-type {\n",
       "        vertical-align: middle;\n",
       "    }\n",
       "\n",
       "    .dataframe tbody tr th {\n",
       "        vertical-align: top;\n",
       "    }\n",
       "\n",
       "    .dataframe thead th {\n",
       "        text-align: right;\n",
       "    }\n",
       "</style>\n",
       "<table border=\"1\" class=\"dataframe\">\n",
       "  <thead>\n",
       "    <tr style=\"text-align: right;\">\n",
       "      <th></th>\n",
       "      <th>TableName</th>\n",
       "      <th>Column</th>\n",
       "      <th>Description</th>\n",
       "      <th>CTA</th>\n",
       "    </tr>\n",
       "  </thead>\n",
       "  <tbody>\n",
       "    <tr>\n",
       "      <th>0</th>\n",
       "      <td>SG_CSV0000000000000925.csv</td>\n",
       "      <td>respondent_serial</td>\n",
       "      <td>The 'respondent_serial' column contains unique...</td>\n",
       "      <td>Identifier</td>\n",
       "    </tr>\n",
       "    <tr>\n",
       "      <th>1</th>\n",
       "      <td>SG_CSV0000000000000925.csv</td>\n",
       "      <td>respondent_id</td>\n",
       "      <td>The 'respondent_id' column contains unique ide...</td>\n",
       "      <td>Identifier</td>\n",
       "    </tr>\n",
       "    <tr>\n",
       "      <th>2</th>\n",
       "      <td>SG_CSV0000000000000925.csv</td>\n",
       "      <td>country</td>\n",
       "      <td>The \"country\" column contains the name of the ...</td>\n",
       "      <td>Country</td>\n",
       "    </tr>\n",
       "    <tr>\n",
       "      <th>3</th>\n",
       "      <td>SG_CSV0000000000000925.csv</td>\n",
       "      <td>yearbornin_1_slice</td>\n",
       "      <td>The 'yearbornin_1_slice' column indicates a sl...</td>\n",
       "      <td>Date</td>\n",
       "    </tr>\n",
       "    <tr>\n",
       "      <th>4</th>\n",
       "      <td>SG_CSV0000000000000925.csv</td>\n",
       "      <td>yearbornin_1_slice1</td>\n",
       "      <td>The 'yearbornin_1_slice1' column represents th...</td>\n",
       "      <td>Date</td>\n",
       "    </tr>\n",
       "  </tbody>\n",
       "</table>\n",
       "</div>"
      ],
      "text/plain": [
       "                    TableName               Column  \\\n",
       "0  SG_CSV0000000000000925.csv    respondent_serial   \n",
       "1  SG_CSV0000000000000925.csv        respondent_id   \n",
       "2  SG_CSV0000000000000925.csv              country   \n",
       "3  SG_CSV0000000000000925.csv   yearbornin_1_slice   \n",
       "4  SG_CSV0000000000000925.csv  yearbornin_1_slice1   \n",
       "\n",
       "                                         Description         CTA  \n",
       "0  The 'respondent_serial' column contains unique...  Identifier  \n",
       "1  The 'respondent_id' column contains unique ide...  Identifier  \n",
       "2  The \"country\" column contains the name of the ...     Country  \n",
       "3  The 'yearbornin_1_slice' column indicates a sl...        Date  \n",
       "4  The 'yearbornin_1_slice1' column represents th...        Date  "
      ]
     },
     "execution_count": 15,
     "metadata": {},
     "output_type": "execute_result"
    }
   ],
   "source": [
    "descriptions_with_cta.head()"
   ]
  },
  {
   "cell_type": "code",
   "execution_count": 16,
   "id": "dd6a8d5f-8cd0-4df0-9bfe-d0a9e9046003",
   "metadata": {},
   "outputs": [
    {
     "data": {
      "text/plain": [
       "array(['SG_CSV0000000000000925.csv', 'SG_CSV0000000000001714.csv'],\n",
       "      dtype=object)"
      ]
     },
     "execution_count": 16,
     "metadata": {},
     "output_type": "execute_result"
    }
   ],
   "source": [
    "table_names = descriptions_with_cta.TableName.unique()\n",
    "table_names"
   ]
  },
  {
   "cell_type": "code",
   "execution_count": 17,
   "id": "c31d7cbe-ed42-4711-a17f-9f1afad406c6",
   "metadata": {},
   "outputs": [],
   "source": [
    "matches = pd.DataFrame({'LEFT_TABLE':[],'LEFT_COLUMN':[],'RIGHT_TABLE':[],'RIGHT_COLUMN':[]})\n",
    "for table_name in table_names:\n",
    "    target_table = descriptions_with_cta[descriptions_with_cta['TableName'] == table_name]\n",
    "    candidate_tables = descriptions_with_cta[descriptions_with_cta['TableName'] != table_name]\n",
    "    for i in range(len(target_table.Column)):\n",
    "        for j in range(len(candidate_tables.Column)):\n",
    "            if(target_table.CTA.values[i] == candidate_tables.CTA.values[j]):\n",
    "                match = pd.DataFrame({'LEFT_TABLE':[table_name],\n",
    "                                      'LEFT_COLUMN':[target_table.Column.values[i]],\n",
    "                                      'LEFT_DESCRIPTION':[target_table.Description.values[i]],\n",
    "                                      'RIGHT_TABLE':[candidate_tables.TableName.values[j]],\n",
    "                                      'RIGHT_COLUMN':[candidate_tables.Column.values[j]],\n",
    "                                      'RIGHT_DESCRIPTION':[candidate_tables.Description.values[j]]})\n",
    "                if(len(matches) == 0):\n",
    "                    matches = match\n",
    "                else:\n",
    "                    matches = pd.concat([matches, match], axis=0)"
   ]
  },
  {
   "cell_type": "code",
   "execution_count": 18,
   "id": "9b598749-a5f0-4805-8eeb-66e9503dc440",
   "metadata": {},
   "outputs": [
    {
     "data": {
      "text/html": [
       "<div>\n",
       "<style scoped>\n",
       "    .dataframe tbody tr th:only-of-type {\n",
       "        vertical-align: middle;\n",
       "    }\n",
       "\n",
       "    .dataframe tbody tr th {\n",
       "        vertical-align: top;\n",
       "    }\n",
       "\n",
       "    .dataframe thead th {\n",
       "        text-align: right;\n",
       "    }\n",
       "</style>\n",
       "<table border=\"1\" class=\"dataframe\">\n",
       "  <thead>\n",
       "    <tr style=\"text-align: right;\">\n",
       "      <th></th>\n",
       "      <th>LEFT_TABLE</th>\n",
       "      <th>LEFT_COLUMN</th>\n",
       "      <th>LEFT_DESCRIPTION</th>\n",
       "      <th>RIGHT_TABLE</th>\n",
       "      <th>RIGHT_COLUMN</th>\n",
       "      <th>RIGHT_DESCRIPTION</th>\n",
       "    </tr>\n",
       "  </thead>\n",
       "  <tbody>\n",
       "    <tr>\n",
       "      <th>0</th>\n",
       "      <td>SG_CSV0000000000000925.csv</td>\n",
       "      <td>respondent_serial</td>\n",
       "      <td>The 'respondent_serial' column contains unique...</td>\n",
       "      <td>SG_CSV0000000000001714.csv</td>\n",
       "      <td>respondent_serial</td>\n",
       "      <td>The \"respondent_serial\" column contains unique...</td>\n",
       "    </tr>\n",
       "    <tr>\n",
       "      <th>0</th>\n",
       "      <td>SG_CSV0000000000000925.csv</td>\n",
       "      <td>respondent_serial</td>\n",
       "      <td>The 'respondent_serial' column contains unique...</td>\n",
       "      <td>SG_CSV0000000000001714.csv</td>\n",
       "      <td>respondent_id</td>\n",
       "      <td>The 'respondent_id' column contains unique alp...</td>\n",
       "    </tr>\n",
       "    <tr>\n",
       "      <th>0</th>\n",
       "      <td>SG_CSV0000000000000925.csv</td>\n",
       "      <td>respondent_id</td>\n",
       "      <td>The 'respondent_id' column contains unique ide...</td>\n",
       "      <td>SG_CSV0000000000001714.csv</td>\n",
       "      <td>respondent_serial</td>\n",
       "      <td>The \"respondent_serial\" column contains unique...</td>\n",
       "    </tr>\n",
       "    <tr>\n",
       "      <th>0</th>\n",
       "      <td>SG_CSV0000000000000925.csv</td>\n",
       "      <td>respondent_id</td>\n",
       "      <td>The 'respondent_id' column contains unique ide...</td>\n",
       "      <td>SG_CSV0000000000001714.csv</td>\n",
       "      <td>respondent_id</td>\n",
       "      <td>The 'respondent_id' column contains unique alp...</td>\n",
       "    </tr>\n",
       "    <tr>\n",
       "      <th>0</th>\n",
       "      <td>SG_CSV0000000000000925.csv</td>\n",
       "      <td>country</td>\n",
       "      <td>The \"country\" column contains the name of the ...</td>\n",
       "      <td>SG_CSV0000000000001714.csv</td>\n",
       "      <td>country</td>\n",
       "      <td>The \"country\" column indicates the country whe...</td>\n",
       "    </tr>\n",
       "  </tbody>\n",
       "</table>\n",
       "</div>"
      ],
      "text/plain": [
       "                   LEFT_TABLE        LEFT_COLUMN  \\\n",
       "0  SG_CSV0000000000000925.csv  respondent_serial   \n",
       "0  SG_CSV0000000000000925.csv  respondent_serial   \n",
       "0  SG_CSV0000000000000925.csv      respondent_id   \n",
       "0  SG_CSV0000000000000925.csv      respondent_id   \n",
       "0  SG_CSV0000000000000925.csv            country   \n",
       "\n",
       "                                    LEFT_DESCRIPTION  \\\n",
       "0  The 'respondent_serial' column contains unique...   \n",
       "0  The 'respondent_serial' column contains unique...   \n",
       "0  The 'respondent_id' column contains unique ide...   \n",
       "0  The 'respondent_id' column contains unique ide...   \n",
       "0  The \"country\" column contains the name of the ...   \n",
       "\n",
       "                  RIGHT_TABLE       RIGHT_COLUMN  \\\n",
       "0  SG_CSV0000000000001714.csv  respondent_serial   \n",
       "0  SG_CSV0000000000001714.csv      respondent_id   \n",
       "0  SG_CSV0000000000001714.csv  respondent_serial   \n",
       "0  SG_CSV0000000000001714.csv      respondent_id   \n",
       "0  SG_CSV0000000000001714.csv            country   \n",
       "\n",
       "                                   RIGHT_DESCRIPTION  \n",
       "0  The \"respondent_serial\" column contains unique...  \n",
       "0  The 'respondent_id' column contains unique alp...  \n",
       "0  The \"respondent_serial\" column contains unique...  \n",
       "0  The 'respondent_id' column contains unique alp...  \n",
       "0  The \"country\" column indicates the country whe...  "
      ]
     },
     "execution_count": 18,
     "metadata": {},
     "output_type": "execute_result"
    }
   ],
   "source": [
    "matches.head()"
   ]
  },
  {
   "cell_type": "code",
   "execution_count": 19,
   "id": "4d2592a6-9377-4068-ac99-ef4d4841ac91",
   "metadata": {},
   "outputs": [
    {
     "data": {
      "text/plain": [
       "(7444, 6)"
      ]
     },
     "execution_count": 19,
     "metadata": {},
     "output_type": "execute_result"
    }
   ],
   "source": [
    "matches.shape"
   ]
  },
  {
   "cell_type": "code",
   "execution_count": 20,
   "id": "723745a7-e6b8-437d-a68c-66f33bba1517",
   "metadata": {},
   "outputs": [],
   "source": [
    "def generate_key_for_evaluation(df):\n",
    "    left_table_name = []\n",
    "    left_column_name = []\n",
    "    left_description = []\n",
    "    right_table_name = []\n",
    "    right_column_name = []\n",
    "    right_description = []\n",
    "    df_key = pd.DataFrame((), columns=df.columns)\n",
    "    \n",
    "    for i in range(df.shape[0]):\n",
    "        rtn = df.iloc[i, 3]\n",
    "        ltn = df.iloc[i, 0]\n",
    "        right_table_name.append(rtn if rtn > ltn else ltn)\n",
    "        left_table_name.append(rtn if rtn < ltn else ltn)\n",
    "        \n",
    "    \n",
    "        rcn = df.iloc[i, 4]\n",
    "        lcn = df.iloc[i, 1]\n",
    "        right_column_name.append(rcn if rtn > ltn else lcn)\n",
    "        left_column_name.append(rcn if rtn < ltn else lcn)\n",
    "\n",
    "        rcd = df.iloc[i, 5]\n",
    "        lcd = df.iloc[i, 2]\n",
    "        left_description.append(rcd if rtn > ltn else lcd)\n",
    "        right_description.append(rcd if rtn < ltn else lcd)\n",
    "    \n",
    "    d = {'LEFT_TABLE':left_table_name,\n",
    "         'LEFT_COLUMN':left_column_name,\n",
    "         'LEFT_DESCRIPTION':left_description,\n",
    "         'RIGHT_TABLE':right_table_name,\n",
    "         'RIGHT_COLUMN':right_column_name,\n",
    "         'RIGHT_DESCRIPTION':right_description}\n",
    "    df_key = pd.DataFrame(d)\n",
    "    df_key = df_key.drop_duplicates()\n",
    "    df_key = df_key.reset_index(drop=True)\n",
    "\n",
    "    return df_key"
   ]
  },
  {
   "cell_type": "code",
   "execution_count": 21,
   "id": "03a04f19-04fc-4a7e-841c-de569661b122",
   "metadata": {},
   "outputs": [
    {
     "data": {
      "text/plain": [
       "(3722, 6)"
      ]
     },
     "execution_count": 21,
     "metadata": {},
     "output_type": "execute_result"
    }
   ],
   "source": [
    "matches = generate_key_for_evaluation(matches)\n",
    "matches.shape"
   ]
  },
  {
   "cell_type": "code",
   "execution_count": 22,
   "id": "ed58c317-30e1-4074-b759-f1c79387f3f1",
   "metadata": {},
   "outputs": [
    {
     "data": {
      "text/html": [
       "<div>\n",
       "<style scoped>\n",
       "    .dataframe tbody tr th:only-of-type {\n",
       "        vertical-align: middle;\n",
       "    }\n",
       "\n",
       "    .dataframe tbody tr th {\n",
       "        vertical-align: top;\n",
       "    }\n",
       "\n",
       "    .dataframe thead th {\n",
       "        text-align: right;\n",
       "    }\n",
       "</style>\n",
       "<table border=\"1\" class=\"dataframe\">\n",
       "  <thead>\n",
       "    <tr style=\"text-align: right;\">\n",
       "      <th></th>\n",
       "      <th>LEFT_TABLE</th>\n",
       "      <th>LEFT_COLUMN</th>\n",
       "      <th>LEFT_DESCRIPTION</th>\n",
       "      <th>RIGHT_TABLE</th>\n",
       "      <th>RIGHT_COLUMN</th>\n",
       "      <th>RIGHT_DESCRIPTION</th>\n",
       "    </tr>\n",
       "  </thead>\n",
       "  <tbody>\n",
       "    <tr>\n",
       "      <th>0</th>\n",
       "      <td>SG_CSV0000000000000925.csv</td>\n",
       "      <td>respondent_serial</td>\n",
       "      <td>The \"respondent_serial\" column contains unique...</td>\n",
       "      <td>SG_CSV0000000000001714.csv</td>\n",
       "      <td>respondent_serial</td>\n",
       "      <td>The 'respondent_serial' column contains unique...</td>\n",
       "    </tr>\n",
       "    <tr>\n",
       "      <th>1</th>\n",
       "      <td>SG_CSV0000000000000925.csv</td>\n",
       "      <td>respondent_serial</td>\n",
       "      <td>The 'respondent_id' column contains unique alp...</td>\n",
       "      <td>SG_CSV0000000000001714.csv</td>\n",
       "      <td>respondent_id</td>\n",
       "      <td>The 'respondent_serial' column contains unique...</td>\n",
       "    </tr>\n",
       "    <tr>\n",
       "      <th>2</th>\n",
       "      <td>SG_CSV0000000000000925.csv</td>\n",
       "      <td>respondent_id</td>\n",
       "      <td>The \"respondent_serial\" column contains unique...</td>\n",
       "      <td>SG_CSV0000000000001714.csv</td>\n",
       "      <td>respondent_serial</td>\n",
       "      <td>The 'respondent_id' column contains unique ide...</td>\n",
       "    </tr>\n",
       "    <tr>\n",
       "      <th>3</th>\n",
       "      <td>SG_CSV0000000000000925.csv</td>\n",
       "      <td>respondent_id</td>\n",
       "      <td>The 'respondent_id' column contains unique alp...</td>\n",
       "      <td>SG_CSV0000000000001714.csv</td>\n",
       "      <td>respondent_id</td>\n",
       "      <td>The 'respondent_id' column contains unique ide...</td>\n",
       "    </tr>\n",
       "    <tr>\n",
       "      <th>4</th>\n",
       "      <td>SG_CSV0000000000000925.csv</td>\n",
       "      <td>country</td>\n",
       "      <td>The \"country\" column indicates the country whe...</td>\n",
       "      <td>SG_CSV0000000000001714.csv</td>\n",
       "      <td>country</td>\n",
       "      <td>The \"country\" column contains the name of the ...</td>\n",
       "    </tr>\n",
       "  </tbody>\n",
       "</table>\n",
       "</div>"
      ],
      "text/plain": [
       "                   LEFT_TABLE        LEFT_COLUMN  \\\n",
       "0  SG_CSV0000000000000925.csv  respondent_serial   \n",
       "1  SG_CSV0000000000000925.csv  respondent_serial   \n",
       "2  SG_CSV0000000000000925.csv      respondent_id   \n",
       "3  SG_CSV0000000000000925.csv      respondent_id   \n",
       "4  SG_CSV0000000000000925.csv            country   \n",
       "\n",
       "                                    LEFT_DESCRIPTION  \\\n",
       "0  The \"respondent_serial\" column contains unique...   \n",
       "1  The 'respondent_id' column contains unique alp...   \n",
       "2  The \"respondent_serial\" column contains unique...   \n",
       "3  The 'respondent_id' column contains unique alp...   \n",
       "4  The \"country\" column indicates the country whe...   \n",
       "\n",
       "                  RIGHT_TABLE       RIGHT_COLUMN  \\\n",
       "0  SG_CSV0000000000001714.csv  respondent_serial   \n",
       "1  SG_CSV0000000000001714.csv      respondent_id   \n",
       "2  SG_CSV0000000000001714.csv  respondent_serial   \n",
       "3  SG_CSV0000000000001714.csv      respondent_id   \n",
       "4  SG_CSV0000000000001714.csv            country   \n",
       "\n",
       "                                   RIGHT_DESCRIPTION  \n",
       "0  The 'respondent_serial' column contains unique...  \n",
       "1  The 'respondent_serial' column contains unique...  \n",
       "2  The 'respondent_id' column contains unique ide...  \n",
       "3  The 'respondent_id' column contains unique ide...  \n",
       "4  The \"country\" column contains the name of the ...  "
      ]
     },
     "execution_count": 22,
     "metadata": {},
     "output_type": "execute_result"
    }
   ],
   "source": [
    "matches.head()"
   ]
  },
  {
   "cell_type": "code",
   "execution_count": 23,
   "id": "96638c5f-6ac9-47de-a119-bc819b42dde3",
   "metadata": {},
   "outputs": [],
   "source": [
    "matches.to_csv('column_description_cta_matches.csv', index=False)"
   ]
  }
 ],
 "metadata": {
  "kernelspec": {
   "display_name": "Python 3 (ipykernel)",
   "language": "python",
   "name": "python3"
  },
  "language_info": {
   "codemirror_mode": {
    "name": "ipython",
    "version": 3
   },
   "file_extension": ".py",
   "mimetype": "text/x-python",
   "name": "python",
   "nbconvert_exporter": "python",
   "pygments_lexer": "ipython3",
   "version": "3.10.12"
  }
 },
 "nbformat": 4,
 "nbformat_minor": 5
}
