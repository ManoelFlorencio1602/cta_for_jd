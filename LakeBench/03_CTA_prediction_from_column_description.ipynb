{
 "cells": [
  {
   "cell_type": "code",
   "execution_count": 1,
   "id": "465349c0-6876-456f-b789-a93d1f538ddd",
   "metadata": {},
   "outputs": [],
   "source": [
    "import pandas as pd\n",
    "import numpy as np\n",
    "import json\n",
    "import os\n",
    "import glob\n",
    "\n",
    "import pickle\n",
    "from openai import OpenAI\n",
    "\n",
    "from tenacity import (\n",
    "                        retry,\n",
    "                        stop_after_attempt,\n",
    "                        wait_random_exponential\n",
    ")\n",
    "\n",
    "from tqdm import tqdm"
   ]
  },
  {
   "cell_type": "code",
   "execution_count": 2,
   "id": "97624602-4d22-4b90-bb54-fc5fa570097e",
   "metadata": {},
   "outputs": [],
   "source": [
    "pd.set_option('display.max_rows', None)"
   ]
  },
  {
   "cell_type": "code",
   "execution_count": 3,
   "id": "0d4e292d-0d61-454a-8bd7-ace0b820988d",
   "metadata": {},
   "outputs": [
    {
     "name": "stdout",
     "output_type": "stream",
     "text": [
      "/home/manoelflorencio/cta_for_jd/LakeBench\n"
     ]
    }
   ],
   "source": [
    "path = '/home/manoelflorencio/cta_for_jd/LakeBench'\n",
    "os.chdir(path)\n",
    "print(os.getcwd())"
   ]
  },
  {
   "cell_type": "code",
   "execution_count": 4,
   "id": "2cc94c0d-05d3-48a2-88d3-d088ad4d4fad",
   "metadata": {},
   "outputs": [],
   "source": [
    "def generate_prompt_cta_prediction(description, cta_types):\n",
    "\n",
    "    system_msg = f\"\"\"\n",
    "            Your task is to classify a column's description of a given table with only one of the following classes that are separated \n",
    "            with comma: {\",\".join(cta_types)}.\n",
    "\n",
    "            Your instructions are:\n",
    "                1. Look at the input given to you.\n",
    "                2. Look at the description semantics in detail.\n",
    "                3. Predict a class among the following classes {\",\".join(cta_types)} for the target column.\n",
    "                4. Answer only with the predicted class.\n",
    "\n",
    "            Example 1:\n",
    "                Description: \"The 'Sex' column in the table represents the gender of the animal listed in each row. The values in this column consist of abbreviations that denote both the sex and reproductive status of the animals. 'M' indicates a male animal, and 'F' stands for a female animal.\n",
    "                Class: category\n",
    "\n",
    "            Example 2:\n",
    "                Description: \"The \"\"GeoLocalArea\"\" column in the table represents the geographical local area within which the public artworks or installations are situated or associated.\n",
    "                Class: streetAddress\"\"\"\n",
    "            \n",
    "    user_msg =  f\"\"\"Description: {description}\n",
    "                    Class: \"\"\".strip()\n",
    "    \n",
    "    return system_msg, user_msg"
   ]
  },
  {
   "cell_type": "code",
   "execution_count": 5,
   "id": "c1f0ab85-82e8-4047-a307-366e2b3185a5",
   "metadata": {},
   "outputs": [],
   "source": [
    "def generate_predictions(description, cta_types, client):\n",
    "    \n",
    "    system_msg_predict_cta, user_msg_predict_cta = generate_prompt_cta_prediction(description, cta_types)\n",
    "    result = execute_prompt(client, system_msg_predict_cta, user_msg_predict_cta)\n",
    "    cta = result.choices[0].message.content.split('Class: ')[-1].strip()\n",
    "    \n",
    "    return cta"
   ]
  },
  {
   "cell_type": "code",
   "execution_count": 6,
   "id": "332fd998-7d0f-459f-b5f7-2b9071c3e0d4",
   "metadata": {},
   "outputs": [],
   "source": [
    "@retry(wait=wait_random_exponential(min=1,max=60), stop=stop_after_attempt(6))\n",
    "def execute_prompt(client, system_msg, user_msg):\n",
    "    completion = client.chat.completions.create(\n",
    "                                            model=\"gpt-4o\",\n",
    "                                            messages=[\n",
    "                                                        {\n",
    "                                                            \"role\": \"system\", \n",
    "                                                             \"content\": f\"{system_msg}\"\n",
    "                                                        },\n",
    "                                                        {\n",
    "                                                            \"role\": \"user\",\n",
    "                                                            \"content\": f\"{user_msg}\"\n",
    "                                                        }\n",
    "                                                    ]\n",
    "                                            )\n",
    "    return completion"
   ]
  },
  {
   "cell_type": "code",
   "execution_count": 7,
   "id": "03de11cf-3979-48c5-bcf6-0aaa7aaa30ee",
   "metadata": {},
   "outputs": [],
   "source": [
    "client = OpenAI()"
   ]
  },
  {
   "cell_type": "code",
   "execution_count": 8,
   "id": "f6c2f4e6-7a49-490c-b0e0-85cc5a56c44c",
   "metadata": {},
   "outputs": [
    {
     "data": {
      "text/html": [
       "<div>\n",
       "<style scoped>\n",
       "    .dataframe tbody tr th:only-of-type {\n",
       "        vertical-align: middle;\n",
       "    }\n",
       "\n",
       "    .dataframe tbody tr th {\n",
       "        vertical-align: top;\n",
       "    }\n",
       "\n",
       "    .dataframe thead th {\n",
       "        text-align: right;\n",
       "    }\n",
       "</style>\n",
       "<table border=\"1\" class=\"dataframe\">\n",
       "  <thead>\n",
       "    <tr style=\"text-align: right;\">\n",
       "      <th></th>\n",
       "      <th>TableName</th>\n",
       "      <th>Column</th>\n",
       "      <th>Description</th>\n",
       "    </tr>\n",
       "  </thead>\n",
       "  <tbody>\n",
       "    <tr>\n",
       "      <th>0</th>\n",
       "      <td>SG_CSV0000000000000925.csv</td>\n",
       "      <td>respondent_serial</td>\n",
       "      <td>The 'respondent_serial' column contains unique...</td>\n",
       "    </tr>\n",
       "    <tr>\n",
       "      <th>1</th>\n",
       "      <td>SG_CSV0000000000000925.csv</td>\n",
       "      <td>respondent_id</td>\n",
       "      <td>The 'respondent_id' column contains unique ide...</td>\n",
       "    </tr>\n",
       "    <tr>\n",
       "      <th>2</th>\n",
       "      <td>SG_CSV0000000000000925.csv</td>\n",
       "      <td>country</td>\n",
       "      <td>The \"country\" column contains the name of the ...</td>\n",
       "    </tr>\n",
       "    <tr>\n",
       "      <th>3</th>\n",
       "      <td>SG_CSV0000000000000925.csv</td>\n",
       "      <td>yearbornin_1_slice</td>\n",
       "      <td>The 'yearbornin_1_slice' column indicates a sl...</td>\n",
       "    </tr>\n",
       "    <tr>\n",
       "      <th>4</th>\n",
       "      <td>SG_CSV0000000000000925.csv</td>\n",
       "      <td>yearbornin_1_slice1</td>\n",
       "      <td>The 'yearbornin_1_slice1' column represents th...</td>\n",
       "    </tr>\n",
       "  </tbody>\n",
       "</table>\n",
       "</div>"
      ],
      "text/plain": [
       "                    TableName               Column  \\\n",
       "0  SG_CSV0000000000000925.csv    respondent_serial   \n",
       "1  SG_CSV0000000000000925.csv        respondent_id   \n",
       "2  SG_CSV0000000000000925.csv              country   \n",
       "3  SG_CSV0000000000000925.csv   yearbornin_1_slice   \n",
       "4  SG_CSV0000000000000925.csv  yearbornin_1_slice1   \n",
       "\n",
       "                                         Description  \n",
       "0  The 'respondent_serial' column contains unique...  \n",
       "1  The 'respondent_id' column contains unique ide...  \n",
       "2  The \"country\" column contains the name of the ...  \n",
       "3  The 'yearbornin_1_slice' column indicates a sl...  \n",
       "4  The 'yearbornin_1_slice1' column represents th...  "
      ]
     },
     "execution_count": 8,
     "metadata": {},
     "output_type": "execute_result"
    }
   ],
   "source": [
    "descriptions = pd.read_csv('column_descriptions.csv')\n",
    "descriptions.head()"
   ]
  },
  {
   "cell_type": "code",
   "execution_count": 9,
   "id": "353d681c-d97f-4e4c-b464-ed4d4ef06bcd",
   "metadata": {},
   "outputs": [],
   "source": [
    "cta_types = np.load('cta_types.npy')"
   ]
  },
  {
   "cell_type": "code",
   "execution_count": 10,
   "id": "85b8d672-f8a0-46d1-ad87-6589de50f287",
   "metadata": {},
   "outputs": [
    {
     "name": "stderr",
     "output_type": "stream",
     "text": [
      "100%|██████████████████████████████████████████████████████████████████████████████████████████████████████████████████████████████████████████████████████████████████████████████████████████████████| 6756/6756 [1:15:38<00:00,  1.49it/s]\n"
     ]
    }
   ],
   "source": [
    "cta = []\n",
    "cont, step = 0, 500\n",
    "\n",
    "for table_name, column_name, description in tqdm(descriptions.values):\n",
    "    target_description = description\n",
    "    cta.append(generate_predictions(target_description, cta_types, client))\n",
    "    \n",
    "    cont += 1\n",
    "    if(cont % step == 0):\n",
    "        np.save('predicted_cta.npy', cta)\n",
    "        \n",
    "np.save('predicted_cta.npy', cta)"
   ]
  },
  {
   "cell_type": "code",
   "execution_count": 11,
   "id": "be9c5826-5905-4f2e-b5f6-77f1825e2aff",
   "metadata": {},
   "outputs": [],
   "source": [
    "descriptions['CTA'] = cta"
   ]
  },
  {
   "cell_type": "code",
   "execution_count": 12,
   "id": "a34ecbd0-6a19-4f13-86de-aaf495af216e",
   "metadata": {},
   "outputs": [],
   "source": [
    "descriptions.to_csv('column_descriptions_with_cta.csv',index=False)"
   ]
  },
  {
   "cell_type": "code",
   "execution_count": 13,
   "id": "f8712e71-55e7-40c6-864b-db9e25c41926",
   "metadata": {},
   "outputs": [],
   "source": [
    "descriptions_with_cta = pd.read_csv('column_descriptions_with_cta.csv')"
   ]
  },
  {
   "cell_type": "code",
   "execution_count": 14,
   "id": "4ea00254-8890-480a-9a40-0cbf24a41210",
   "metadata": {},
   "outputs": [
    {
     "data": {
      "text/html": [
       "<div>\n",
       "<style scoped>\n",
       "    .dataframe tbody tr th:only-of-type {\n",
       "        vertical-align: middle;\n",
       "    }\n",
       "\n",
       "    .dataframe tbody tr th {\n",
       "        vertical-align: top;\n",
       "    }\n",
       "\n",
       "    .dataframe thead th {\n",
       "        text-align: right;\n",
       "    }\n",
       "</style>\n",
       "<table border=\"1\" class=\"dataframe\">\n",
       "  <thead>\n",
       "    <tr style=\"text-align: right;\">\n",
       "      <th></th>\n",
       "      <th>TableName</th>\n",
       "      <th>Column</th>\n",
       "      <th>Description</th>\n",
       "      <th>CTA</th>\n",
       "    </tr>\n",
       "  </thead>\n",
       "  <tbody>\n",
       "    <tr>\n",
       "      <th>0</th>\n",
       "      <td>SG_CSV0000000000000925.csv</td>\n",
       "      <td>respondent_serial</td>\n",
       "      <td>The 'respondent_serial' column contains unique...</td>\n",
       "      <td>Identifier</td>\n",
       "    </tr>\n",
       "    <tr>\n",
       "      <th>1</th>\n",
       "      <td>SG_CSV0000000000000925.csv</td>\n",
       "      <td>respondent_id</td>\n",
       "      <td>The 'respondent_id' column contains unique ide...</td>\n",
       "      <td>Identifier</td>\n",
       "    </tr>\n",
       "    <tr>\n",
       "      <th>2</th>\n",
       "      <td>SG_CSV0000000000000925.csv</td>\n",
       "      <td>country</td>\n",
       "      <td>The \"country\" column contains the name of the ...</td>\n",
       "      <td>Country</td>\n",
       "    </tr>\n",
       "    <tr>\n",
       "      <th>3</th>\n",
       "      <td>SG_CSV0000000000000925.csv</td>\n",
       "      <td>yearbornin_1_slice</td>\n",
       "      <td>The 'yearbornin_1_slice' column indicates a sl...</td>\n",
       "      <td>Date</td>\n",
       "    </tr>\n",
       "    <tr>\n",
       "      <th>4</th>\n",
       "      <td>SG_CSV0000000000000925.csv</td>\n",
       "      <td>yearbornin_1_slice1</td>\n",
       "      <td>The 'yearbornin_1_slice1' column represents th...</td>\n",
       "      <td>Number</td>\n",
       "    </tr>\n",
       "  </tbody>\n",
       "</table>\n",
       "</div>"
      ],
      "text/plain": [
       "                    TableName               Column  \\\n",
       "0  SG_CSV0000000000000925.csv    respondent_serial   \n",
       "1  SG_CSV0000000000000925.csv        respondent_id   \n",
       "2  SG_CSV0000000000000925.csv              country   \n",
       "3  SG_CSV0000000000000925.csv   yearbornin_1_slice   \n",
       "4  SG_CSV0000000000000925.csv  yearbornin_1_slice1   \n",
       "\n",
       "                                         Description         CTA  \n",
       "0  The 'respondent_serial' column contains unique...  Identifier  \n",
       "1  The 'respondent_id' column contains unique ide...  Identifier  \n",
       "2  The \"country\" column contains the name of the ...     Country  \n",
       "3  The 'yearbornin_1_slice' column indicates a sl...        Date  \n",
       "4  The 'yearbornin_1_slice1' column represents th...      Number  "
      ]
     },
     "execution_count": 14,
     "metadata": {},
     "output_type": "execute_result"
    }
   ],
   "source": [
    "descriptions_with_cta.head()"
   ]
  },
  {
   "cell_type": "code",
   "execution_count": 15,
   "id": "dd6a8d5f-8cd0-4df0-9bfe-d0a9e9046003",
   "metadata": {},
   "outputs": [
    {
     "data": {
      "text/plain": [
       "array(['SG_CSV0000000000000925.csv', 'SG_CSV0000000000001714.csv',\n",
       "       'SG_CSV0000000000000240.csv', ..., 'SG_CSV0000000000000000.csv',\n",
       "       'SG_CSV0000000000000864.csv', 'SG_CSV0000000000000384.csv'],\n",
       "      dtype=object)"
      ]
     },
     "execution_count": 15,
     "metadata": {},
     "output_type": "execute_result"
    }
   ],
   "source": [
    "table_names = descriptions_with_cta.TableName.unique()\n",
    "table_names"
   ]
  },
  {
   "cell_type": "code",
   "execution_count": 18,
   "id": "c31d7cbe-ed42-4711-a17f-9f1afad406c6",
   "metadata": {
    "scrolled": true
   },
   "outputs": [
    {
     "name": "stderr",
     "output_type": "stream",
     "text": [
      "  2%|███                                                                                                                                                                                               | 20/1256 [41:22<42:36:31, 124.10s/it]\n"
     ]
    },
    {
     "ename": "KeyboardInterrupt",
     "evalue": "",
     "output_type": "error",
     "traceback": [
      "\u001b[0;31m---------------------------------------------------------------------------\u001b[0m",
      "\u001b[0;31mKeyboardInterrupt\u001b[0m                         Traceback (most recent call last)",
      "Cell \u001b[0;32mIn[18], line 17\u001b[0m\n\u001b[1;32m     15\u001b[0m     matches \u001b[38;5;241m=\u001b[39m match\n\u001b[1;32m     16\u001b[0m \u001b[38;5;28;01melse\u001b[39;00m:\n\u001b[0;32m---> 17\u001b[0m     matches \u001b[38;5;241m=\u001b[39m \u001b[43mpd\u001b[49m\u001b[38;5;241;43m.\u001b[39;49m\u001b[43mconcat\u001b[49m\u001b[43m(\u001b[49m\u001b[43m[\u001b[49m\u001b[43mmatches\u001b[49m\u001b[43m,\u001b[49m\u001b[43m \u001b[49m\u001b[43mmatch\u001b[49m\u001b[43m]\u001b[49m\u001b[43m,\u001b[49m\u001b[43m \u001b[49m\u001b[43maxis\u001b[49m\u001b[38;5;241;43m=\u001b[39;49m\u001b[38;5;241;43m0\u001b[39;49m\u001b[43m)\u001b[49m\n",
      "File \u001b[0;32m~/anaconda3/envs/sotab/lib/python3.10/site-packages/pandas/core/reshape/concat.py:395\u001b[0m, in \u001b[0;36mconcat\u001b[0;34m(objs, axis, join, ignore_index, keys, levels, names, verify_integrity, sort, copy)\u001b[0m\n\u001b[1;32m    380\u001b[0m     copy \u001b[38;5;241m=\u001b[39m \u001b[38;5;28;01mFalse\u001b[39;00m\n\u001b[1;32m    382\u001b[0m op \u001b[38;5;241m=\u001b[39m _Concatenator(\n\u001b[1;32m    383\u001b[0m     objs,\n\u001b[1;32m    384\u001b[0m     axis\u001b[38;5;241m=\u001b[39maxis,\n\u001b[0;32m   (...)\u001b[0m\n\u001b[1;32m    392\u001b[0m     sort\u001b[38;5;241m=\u001b[39msort,\n\u001b[1;32m    393\u001b[0m )\n\u001b[0;32m--> 395\u001b[0m \u001b[38;5;28;01mreturn\u001b[39;00m \u001b[43mop\u001b[49m\u001b[38;5;241;43m.\u001b[39;49m\u001b[43mget_result\u001b[49m\u001b[43m(\u001b[49m\u001b[43m)\u001b[49m\n",
      "File \u001b[0;32m~/anaconda3/envs/sotab/lib/python3.10/site-packages/pandas/core/reshape/concat.py:684\u001b[0m, in \u001b[0;36m_Concatenator.get_result\u001b[0;34m(self)\u001b[0m\n\u001b[1;32m    680\u001b[0m             indexers[ax] \u001b[38;5;241m=\u001b[39m obj_labels\u001b[38;5;241m.\u001b[39mget_indexer(new_labels)\n\u001b[1;32m    682\u001b[0m     mgrs_indexers\u001b[38;5;241m.\u001b[39mappend((obj\u001b[38;5;241m.\u001b[39m_mgr, indexers))\n\u001b[0;32m--> 684\u001b[0m new_data \u001b[38;5;241m=\u001b[39m \u001b[43mconcatenate_managers\u001b[49m\u001b[43m(\u001b[49m\n\u001b[1;32m    685\u001b[0m \u001b[43m    \u001b[49m\u001b[43mmgrs_indexers\u001b[49m\u001b[43m,\u001b[49m\u001b[43m \u001b[49m\u001b[38;5;28;43mself\u001b[39;49m\u001b[38;5;241;43m.\u001b[39;49m\u001b[43mnew_axes\u001b[49m\u001b[43m,\u001b[49m\u001b[43m \u001b[49m\u001b[43mconcat_axis\u001b[49m\u001b[38;5;241;43m=\u001b[39;49m\u001b[38;5;28;43mself\u001b[39;49m\u001b[38;5;241;43m.\u001b[39;49m\u001b[43mbm_axis\u001b[49m\u001b[43m,\u001b[49m\u001b[43m \u001b[49m\u001b[43mcopy\u001b[49m\u001b[38;5;241;43m=\u001b[39;49m\u001b[38;5;28;43mself\u001b[39;49m\u001b[38;5;241;43m.\u001b[39;49m\u001b[43mcopy\u001b[49m\n\u001b[1;32m    686\u001b[0m \u001b[43m\u001b[49m\u001b[43m)\u001b[49m\n\u001b[1;32m    687\u001b[0m \u001b[38;5;28;01mif\u001b[39;00m \u001b[38;5;129;01mnot\u001b[39;00m \u001b[38;5;28mself\u001b[39m\u001b[38;5;241m.\u001b[39mcopy \u001b[38;5;129;01mand\u001b[39;00m \u001b[38;5;129;01mnot\u001b[39;00m using_copy_on_write():\n\u001b[1;32m    688\u001b[0m     new_data\u001b[38;5;241m.\u001b[39m_consolidate_inplace()\n",
      "File \u001b[0;32m~/anaconda3/envs/sotab/lib/python3.10/site-packages/pandas/core/internals/concat.py:177\u001b[0m, in \u001b[0;36mconcatenate_managers\u001b[0;34m(mgrs_indexers, axes, concat_axis, copy)\u001b[0m\n\u001b[1;32m    167\u001b[0m vals \u001b[38;5;241m=\u001b[39m [ju\u001b[38;5;241m.\u001b[39mblock\u001b[38;5;241m.\u001b[39mvalues \u001b[38;5;28;01mfor\u001b[39;00m ju \u001b[38;5;129;01min\u001b[39;00m join_units]\n\u001b[1;32m    169\u001b[0m \u001b[38;5;28;01mif\u001b[39;00m \u001b[38;5;129;01mnot\u001b[39;00m blk\u001b[38;5;241m.\u001b[39mis_extension:\n\u001b[1;32m    170\u001b[0m     \u001b[38;5;66;03m# _is_uniform_join_units ensures a single dtype, so\u001b[39;00m\n\u001b[1;32m    171\u001b[0m     \u001b[38;5;66;03m#  we can use np.concatenate, which is more performant\u001b[39;00m\n\u001b[0;32m   (...)\u001b[0m\n\u001b[1;32m    175\u001b[0m     \u001b[38;5;66;03m# expected \"Union[_SupportsArray[dtype[Any]],\u001b[39;00m\n\u001b[1;32m    176\u001b[0m     \u001b[38;5;66;03m# _NestedSequence[_SupportsArray[dtype[Any]]]]\"\u001b[39;00m\n\u001b[0;32m--> 177\u001b[0m     values \u001b[38;5;241m=\u001b[39m \u001b[43mnp\u001b[49m\u001b[38;5;241;43m.\u001b[39;49m\u001b[43mconcatenate\u001b[49m\u001b[43m(\u001b[49m\u001b[43mvals\u001b[49m\u001b[43m,\u001b[49m\u001b[43m \u001b[49m\u001b[43maxis\u001b[49m\u001b[38;5;241;43m=\u001b[39;49m\u001b[38;5;241;43m1\u001b[39;49m\u001b[43m)\u001b[49m  \u001b[38;5;66;03m# type: ignore[arg-type]\u001b[39;00m\n\u001b[1;32m    178\u001b[0m \u001b[38;5;28;01melif\u001b[39;00m is_1d_only_ea_dtype(blk\u001b[38;5;241m.\u001b[39mdtype):\n\u001b[1;32m    179\u001b[0m     \u001b[38;5;66;03m# TODO(EA2D): special-casing not needed with 2D EAs\u001b[39;00m\n\u001b[1;32m    180\u001b[0m     values \u001b[38;5;241m=\u001b[39m concat_compat(vals, axis\u001b[38;5;241m=\u001b[39m\u001b[38;5;241m0\u001b[39m, ea_compat_axis\u001b[38;5;241m=\u001b[39m\u001b[38;5;28;01mTrue\u001b[39;00m)\n",
      "\u001b[0;31mKeyboardInterrupt\u001b[0m: "
     ]
    }
   ],
   "source": [
    "matches = pd.read_csv('column_description_cta_matches.csv')\n",
    "# matches = pd.DataFrame({'LEFT_TABLE':[],'LEFT_COLUMN':[],'RIGHT_TABLE':[],'RIGHT_COLUMN':[]})\n",
    "\n",
    "for table_name in tqdm(table_names[20:]):\n",
    "    target_table = descriptions_with_cta[descriptions_with_cta['TableName'] == table_name]\n",
    "    candidate_tables = descriptions_with_cta[descriptions_with_cta['TableName'] != table_name]\n",
    "    for i in range(len(target_table.Column)):\n",
    "        for j in range(len(candidate_tables.Column)):\n",
    "            if(target_table.CTA.values[i] == candidate_tables.CTA.values[j]):\n",
    "                match = pd.DataFrame({'LEFT_TABLE':[table_name],\n",
    "                                      'LEFT_COLUMN':[target_table.Column.values[i]],\n",
    "                                      'LEFT_DESCRIPTION':[target_table.Description.values[i]],\n",
    "                                      'RIGHT_TABLE':[candidate_tables.TableName.values[j]],\n",
    "                                      'RIGHT_COLUMN':[candidate_tables.Column.values[j]],\n",
    "                                      'RIGHT_DESCRIPTION':[candidate_tables.Description.values[j]]})\n",
    "                if(len(matches) == 0):\n",
    "                    matches = match\n",
    "                elif(match.values.tolist() not in matches.values.tolist()):\n",
    "                    matches = pd.concat([matches, match], axis=0)\n",
    "\n",
    "    matches.to_csv('column_description_cta_matches_partial.csv', index=False)\n",
    "matches.to_csv('column_description_cta_matches.csv', index=False)"
   ]
  },
  {
   "cell_type": "code",
   "execution_count": 19,
   "id": "9b598749-a5f0-4805-8eeb-66e9503dc440",
   "metadata": {},
   "outputs": [
    {
     "data": {
      "text/html": [
       "<div>\n",
       "<style scoped>\n",
       "    .dataframe tbody tr th:only-of-type {\n",
       "        vertical-align: middle;\n",
       "    }\n",
       "\n",
       "    .dataframe tbody tr th {\n",
       "        vertical-align: top;\n",
       "    }\n",
       "\n",
       "    .dataframe thead th {\n",
       "        text-align: right;\n",
       "    }\n",
       "</style>\n",
       "<table border=\"1\" class=\"dataframe\">\n",
       "  <thead>\n",
       "    <tr style=\"text-align: right;\">\n",
       "      <th></th>\n",
       "      <th>LEFT_TABLE</th>\n",
       "      <th>LEFT_COLUMN</th>\n",
       "      <th>LEFT_DESCRIPTION</th>\n",
       "      <th>RIGHT_TABLE</th>\n",
       "      <th>RIGHT_COLUMN</th>\n",
       "      <th>RIGHT_DESCRIPTION</th>\n",
       "    </tr>\n",
       "  </thead>\n",
       "  <tbody>\n",
       "    <tr>\n",
       "      <th>0</th>\n",
       "      <td>SG_CSV0000000000000925.csv</td>\n",
       "      <td>respondent_serial</td>\n",
       "      <td>The 'respondent_serial' column contains unique...</td>\n",
       "      <td>SG_CSV0000000000001714.csv</td>\n",
       "      <td>respondent_serial</td>\n",
       "      <td>The \"respondent_serial\" column contains unique...</td>\n",
       "    </tr>\n",
       "    <tr>\n",
       "      <th>0</th>\n",
       "      <td>SG_CSV0000000000000925.csv</td>\n",
       "      <td>respondent_serial</td>\n",
       "      <td>The 'respondent_serial' column contains unique...</td>\n",
       "      <td>SG_CSV0000000000001714.csv</td>\n",
       "      <td>respondent_id</td>\n",
       "      <td>The 'respondent_id' column contains unique alp...</td>\n",
       "    </tr>\n",
       "    <tr>\n",
       "      <th>0</th>\n",
       "      <td>SG_CSV0000000000000925.csv</td>\n",
       "      <td>respondent_serial</td>\n",
       "      <td>The 'respondent_serial' column contains unique...</td>\n",
       "      <td>SG_CSV0000000000001026.csv</td>\n",
       "      <td>issue_id</td>\n",
       "      <td>The \"issue_id\" column contains unique identifi...</td>\n",
       "    </tr>\n",
       "    <tr>\n",
       "      <th>0</th>\n",
       "      <td>SG_CSV0000000000000925.csv</td>\n",
       "      <td>respondent_serial</td>\n",
       "      <td>The 'respondent_serial' column contains unique...</td>\n",
       "      <td>SG_CSV0000000000001026.csv</td>\n",
       "      <td>page_id</td>\n",
       "      <td>The \"page_id\" column uniquely identifies each ...</td>\n",
       "    </tr>\n",
       "    <tr>\n",
       "      <th>0</th>\n",
       "      <td>SG_CSV0000000000000925.csv</td>\n",
       "      <td>respondent_serial</td>\n",
       "      <td>The 'respondent_serial' column contains unique...</td>\n",
       "      <td>SG_CSV0000000000001026.csv</td>\n",
       "      <td>article_id</td>\n",
       "      <td>The \"article_id\" column uniquely identifies in...</td>\n",
       "    </tr>\n",
       "  </tbody>\n",
       "</table>\n",
       "</div>"
      ],
      "text/plain": [
       "                   LEFT_TABLE        LEFT_COLUMN  \\\n",
       "0  SG_CSV0000000000000925.csv  respondent_serial   \n",
       "0  SG_CSV0000000000000925.csv  respondent_serial   \n",
       "0  SG_CSV0000000000000925.csv  respondent_serial   \n",
       "0  SG_CSV0000000000000925.csv  respondent_serial   \n",
       "0  SG_CSV0000000000000925.csv  respondent_serial   \n",
       "\n",
       "                                    LEFT_DESCRIPTION  \\\n",
       "0  The 'respondent_serial' column contains unique...   \n",
       "0  The 'respondent_serial' column contains unique...   \n",
       "0  The 'respondent_serial' column contains unique...   \n",
       "0  The 'respondent_serial' column contains unique...   \n",
       "0  The 'respondent_serial' column contains unique...   \n",
       "\n",
       "                  RIGHT_TABLE       RIGHT_COLUMN  \\\n",
       "0  SG_CSV0000000000001714.csv  respondent_serial   \n",
       "0  SG_CSV0000000000001714.csv      respondent_id   \n",
       "0  SG_CSV0000000000001026.csv           issue_id   \n",
       "0  SG_CSV0000000000001026.csv            page_id   \n",
       "0  SG_CSV0000000000001026.csv         article_id   \n",
       "\n",
       "                                   RIGHT_DESCRIPTION  \n",
       "0  The \"respondent_serial\" column contains unique...  \n",
       "0  The 'respondent_id' column contains unique alp...  \n",
       "0  The \"issue_id\" column contains unique identifi...  \n",
       "0  The \"page_id\" column uniquely identifies each ...  \n",
       "0  The \"article_id\" column uniquely identifies in...  "
      ]
     },
     "execution_count": 19,
     "metadata": {},
     "output_type": "execute_result"
    }
   ],
   "source": [
    "matches.head()"
   ]
  },
  {
   "cell_type": "code",
   "execution_count": null,
   "id": "4d2592a6-9377-4068-ac99-ef4d4841ac91",
   "metadata": {},
   "outputs": [],
   "source": [
    "matches.shape"
   ]
  },
  {
   "cell_type": "code",
   "execution_count": 20,
   "id": "723745a7-e6b8-437d-a68c-66f33bba1517",
   "metadata": {},
   "outputs": [],
   "source": [
    "def generate_key_for_evaluation(df):\n",
    "    left_table_name = []\n",
    "    left_column_name = []\n",
    "    left_description = []\n",
    "    right_table_name = []\n",
    "    right_column_name = []\n",
    "    right_description = []\n",
    "    df_key = pd.DataFrame((), columns=df.columns)\n",
    "    \n",
    "    for i in range(df.shape[0]):\n",
    "        rtn = df.iloc[i, 3]\n",
    "        ltn = df.iloc[i, 0]\n",
    "        right_table_name.append(rtn if rtn > ltn else ltn)\n",
    "        left_table_name.append(rtn if rtn < ltn else ltn)\n",
    "        \n",
    "    \n",
    "        rcn = df.iloc[i, 4]\n",
    "        lcn = df.iloc[i, 1]\n",
    "        right_column_name.append(rcn if rtn > ltn else lcn)\n",
    "        left_column_name.append(rcn if rtn < ltn else lcn)\n",
    "\n",
    "        rcd = df.iloc[i, 5]\n",
    "        lcd = df.iloc[i, 2]\n",
    "        left_description.append(rcd if rtn > ltn else lcd)\n",
    "        right_description.append(rcd if rtn < ltn else lcd)\n",
    "    \n",
    "    d = {'LEFT_TABLE':left_table_name,\n",
    "         'LEFT_COLUMN':left_column_name,\n",
    "         'LEFT_DESCRIPTION':left_description,\n",
    "         'RIGHT_TABLE':right_table_name,\n",
    "         'RIGHT_COLUMN':right_column_name,\n",
    "         'RIGHT_DESCRIPTION':right_description}\n",
    "    df_key = pd.DataFrame(d)\n",
    "    df_key = df_key.drop_duplicates()\n",
    "    df_key = df_key.reset_index(drop=True)\n",
    "\n",
    "    return df_key"
   ]
  },
  {
   "cell_type": "code",
   "execution_count": 21,
   "id": "03a04f19-04fc-4a7e-841c-de569661b122",
   "metadata": {},
   "outputs": [
    {
     "data": {
      "text/plain": [
       "(3722, 6)"
      ]
     },
     "execution_count": 21,
     "metadata": {},
     "output_type": "execute_result"
    }
   ],
   "source": [
    "matches = generate_key_for_evaluation(matches)\n",
    "matches.shape"
   ]
  },
  {
   "cell_type": "code",
   "execution_count": 22,
   "id": "ed58c317-30e1-4074-b759-f1c79387f3f1",
   "metadata": {},
   "outputs": [
    {
     "data": {
      "text/html": [
       "<div>\n",
       "<style scoped>\n",
       "    .dataframe tbody tr th:only-of-type {\n",
       "        vertical-align: middle;\n",
       "    }\n",
       "\n",
       "    .dataframe tbody tr th {\n",
       "        vertical-align: top;\n",
       "    }\n",
       "\n",
       "    .dataframe thead th {\n",
       "        text-align: right;\n",
       "    }\n",
       "</style>\n",
       "<table border=\"1\" class=\"dataframe\">\n",
       "  <thead>\n",
       "    <tr style=\"text-align: right;\">\n",
       "      <th></th>\n",
       "      <th>LEFT_TABLE</th>\n",
       "      <th>LEFT_COLUMN</th>\n",
       "      <th>LEFT_DESCRIPTION</th>\n",
       "      <th>RIGHT_TABLE</th>\n",
       "      <th>RIGHT_COLUMN</th>\n",
       "      <th>RIGHT_DESCRIPTION</th>\n",
       "    </tr>\n",
       "  </thead>\n",
       "  <tbody>\n",
       "    <tr>\n",
       "      <th>0</th>\n",
       "      <td>SG_CSV0000000000000925.csv</td>\n",
       "      <td>respondent_serial</td>\n",
       "      <td>The \"respondent_serial\" column contains unique...</td>\n",
       "      <td>SG_CSV0000000000001714.csv</td>\n",
       "      <td>respondent_serial</td>\n",
       "      <td>The 'respondent_serial' column contains unique...</td>\n",
       "    </tr>\n",
       "    <tr>\n",
       "      <th>1</th>\n",
       "      <td>SG_CSV0000000000000925.csv</td>\n",
       "      <td>respondent_serial</td>\n",
       "      <td>The 'respondent_id' column contains unique alp...</td>\n",
       "      <td>SG_CSV0000000000001714.csv</td>\n",
       "      <td>respondent_id</td>\n",
       "      <td>The 'respondent_serial' column contains unique...</td>\n",
       "    </tr>\n",
       "    <tr>\n",
       "      <th>2</th>\n",
       "      <td>SG_CSV0000000000000925.csv</td>\n",
       "      <td>respondent_id</td>\n",
       "      <td>The \"respondent_serial\" column contains unique...</td>\n",
       "      <td>SG_CSV0000000000001714.csv</td>\n",
       "      <td>respondent_serial</td>\n",
       "      <td>The 'respondent_id' column contains unique ide...</td>\n",
       "    </tr>\n",
       "    <tr>\n",
       "      <th>3</th>\n",
       "      <td>SG_CSV0000000000000925.csv</td>\n",
       "      <td>respondent_id</td>\n",
       "      <td>The 'respondent_id' column contains unique alp...</td>\n",
       "      <td>SG_CSV0000000000001714.csv</td>\n",
       "      <td>respondent_id</td>\n",
       "      <td>The 'respondent_id' column contains unique ide...</td>\n",
       "    </tr>\n",
       "    <tr>\n",
       "      <th>4</th>\n",
       "      <td>SG_CSV0000000000000925.csv</td>\n",
       "      <td>country</td>\n",
       "      <td>The \"country\" column indicates the country whe...</td>\n",
       "      <td>SG_CSV0000000000001714.csv</td>\n",
       "      <td>country</td>\n",
       "      <td>The \"country\" column contains the name of the ...</td>\n",
       "    </tr>\n",
       "  </tbody>\n",
       "</table>\n",
       "</div>"
      ],
      "text/plain": [
       "                   LEFT_TABLE        LEFT_COLUMN  \\\n",
       "0  SG_CSV0000000000000925.csv  respondent_serial   \n",
       "1  SG_CSV0000000000000925.csv  respondent_serial   \n",
       "2  SG_CSV0000000000000925.csv      respondent_id   \n",
       "3  SG_CSV0000000000000925.csv      respondent_id   \n",
       "4  SG_CSV0000000000000925.csv            country   \n",
       "\n",
       "                                    LEFT_DESCRIPTION  \\\n",
       "0  The \"respondent_serial\" column contains unique...   \n",
       "1  The 'respondent_id' column contains unique alp...   \n",
       "2  The \"respondent_serial\" column contains unique...   \n",
       "3  The 'respondent_id' column contains unique alp...   \n",
       "4  The \"country\" column indicates the country whe...   \n",
       "\n",
       "                  RIGHT_TABLE       RIGHT_COLUMN  \\\n",
       "0  SG_CSV0000000000001714.csv  respondent_serial   \n",
       "1  SG_CSV0000000000001714.csv      respondent_id   \n",
       "2  SG_CSV0000000000001714.csv  respondent_serial   \n",
       "3  SG_CSV0000000000001714.csv      respondent_id   \n",
       "4  SG_CSV0000000000001714.csv            country   \n",
       "\n",
       "                                   RIGHT_DESCRIPTION  \n",
       "0  The 'respondent_serial' column contains unique...  \n",
       "1  The 'respondent_serial' column contains unique...  \n",
       "2  The 'respondent_id' column contains unique ide...  \n",
       "3  The 'respondent_id' column contains unique ide...  \n",
       "4  The \"country\" column contains the name of the ...  "
      ]
     },
     "execution_count": 22,
     "metadata": {},
     "output_type": "execute_result"
    }
   ],
   "source": [
    "matches.head()"
   ]
  },
  {
   "cell_type": "code",
   "execution_count": 23,
   "id": "96638c5f-6ac9-47de-a119-bc819b42dde3",
   "metadata": {},
   "outputs": [],
   "source": [
    "matches.to_csv('column_description_cta_matches.csv', index=False)"
   ]
  }
 ],
 "metadata": {
  "kernelspec": {
   "display_name": "Python 3 (ipykernel)",
   "language": "python",
   "name": "python3"
  },
  "language_info": {
   "codemirror_mode": {
    "name": "ipython",
    "version": 3
   },
   "file_extension": ".py",
   "mimetype": "text/x-python",
   "name": "python",
   "nbconvert_exporter": "python",
   "pygments_lexer": "ipython3",
   "version": "3.10.12"
  }
 },
 "nbformat": 4,
 "nbformat_minor": 5
}
