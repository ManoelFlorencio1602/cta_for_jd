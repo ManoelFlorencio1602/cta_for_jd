{
 "cells": [
  {
   "cell_type": "code",
   "execution_count": 1,
   "id": "010afefb-a543-4630-b928-94b10e78fbb9",
   "metadata": {},
   "outputs": [],
   "source": [
    "import pandas as pd\n",
    "import numpy as np\n",
    "import json\n",
    "import os\n",
    "import glob\n",
    "\n",
    "import pickle\n",
    "from openai import OpenAI\n",
    "\n",
    "from tenacity import (\n",
    "                        retry,\n",
    "                        stop_after_attempt,\n",
    "                        wait_random_exponential\n",
    ")\n",
    "\n",
    "from tqdm import tqdm"
   ]
  },
  {
   "cell_type": "code",
   "execution_count": 2,
   "id": "70226f4d-100d-480f-80e8-82b6bc520cb7",
   "metadata": {},
   "outputs": [],
   "source": [
    "pd.set_option('display.max_rows', None)"
   ]
  },
  {
   "cell_type": "code",
   "execution_count": 3,
   "id": "76219504-3bd5-4a1a-b8c6-016043c87102",
   "metadata": {},
   "outputs": [
    {
     "name": "stdout",
     "output_type": "stream",
     "text": [
      "/home/manoelflorencio/cta_for_jd/LakeBench\n"
     ]
    }
   ],
   "source": [
    "path = '/home/manoelflorencio/cta_for_jd/LakeBench'\n",
    "os.chdir(path)\n",
    "print(os.getcwd())"
   ]
  },
  {
   "cell_type": "code",
   "execution_count": 4,
   "id": "af3b4d2b-4181-45f2-871f-51e3e659ea56",
   "metadata": {},
   "outputs": [],
   "source": [
    "def generate_prompt_column_description(table, column):\n",
    "\n",
    "    system_msg = f\"\"\"\n",
    "            Describe the semantics of a target column.\n",
    "            Task: Describe in one phrase the information within a column in a given table using continuos text, without itemization.\n",
    "            Instructions: \n",
    "                1. Look at the input given to you. \n",
    "                2. Look at the column values in detail. \n",
    "                3. Describe the target column. \n",
    "            \"\"\"\n",
    "    \n",
    "    user_msg = f\"\"\"Table columns: {table.columns}\n",
    "                   Table values:  {table.iloc[:30,:].values}\n",
    "                   Target column: {column}\n",
    "                   Description: \"\"\".strip()\n",
    "    \n",
    "    return system_msg, user_msg"
   ]
  },
  {
   "cell_type": "code",
   "execution_count": 5,
   "id": "ef60d1fb-9c6c-478b-880d-994d5605c8b8",
   "metadata": {},
   "outputs": [],
   "source": [
    "def generate_predictions(df, table_name, client):\n",
    "    \n",
    "    descriptions = []\n",
    "    table_names = []\n",
    "    \n",
    "    for i in tqdm(range(df.shape[1])): \n",
    "        system_msg_predict_description, user_msg_predict_descrition = generate_prompt_column_description(df, df.columns[i])\n",
    "        result = execute_prompt(client, system_msg_predict_description, user_msg_predict_descrition)\n",
    "        description = result.choices[0].message.content.split('Description: ')[-1].strip()\n",
    "        descriptions.append(description)\n",
    "\n",
    "    tables_names = [table_name] * len(descriptions)\n",
    "        \n",
    "    descriptions_df = pd.DataFrame({\n",
    "                               \"TableName\": tables_names,\n",
    "                               \"Column\":df.columns, \n",
    "                               \"Description\":descriptions\n",
    "                               })\n",
    "    \n",
    "    return descriptions_df"
   ]
  },
  {
   "cell_type": "code",
   "execution_count": 6,
   "id": "372b223a-9301-4348-98d1-d168401bc02b",
   "metadata": {},
   "outputs": [],
   "source": [
    "@retry(wait=wait_random_exponential(min=1,max=60), stop=stop_after_attempt(6))\n",
    "def execute_prompt(client, system_msg, user_msg):\n",
    "    completion = client.chat.completions.create(\n",
    "                                            model=\"gpt-4o\",\n",
    "                                            messages=[\n",
    "                                                        {\n",
    "                                                            \"role\": \"system\", \n",
    "                                                             \"content\": f\"{system_msg}\"\n",
    "                                                        },\n",
    "                                                        {\n",
    "                                                            \"role\": \"user\",\n",
    "                                                            \"content\": f\"{user_msg}\"\n",
    "                                                        }\n",
    "                                                    ]\n",
    "                                            )\n",
    "    return completion"
   ]
  },
  {
   "cell_type": "code",
   "execution_count": 7,
   "id": "c982a751-08f3-4292-abef-6434263db3de",
   "metadata": {},
   "outputs": [],
   "source": [
    "client = OpenAI()"
   ]
  },
  {
   "cell_type": "code",
   "execution_count": 8,
   "id": "cbbe49fc-1433-4873-bb1a-e8b10ef82279",
   "metadata": {},
   "outputs": [],
   "source": [
    "filenames = glob.glob('datasets_SG/*')"
   ]
  },
  {
   "cell_type": "code",
   "execution_count": 12,
   "id": "6c70bf45-fcd5-4f41-99c0-62ad054b645d",
   "metadata": {},
   "outputs": [],
   "source": [
    "filenames = ['datasets_SG/SG_CSV0000000000000925.csv','datasets_SG/SG_CSV0000000000001714.csv']"
   ]
  },
  {
   "cell_type": "code",
   "execution_count": 13,
   "id": "85ac9481-7c90-4c8b-8cb3-c97c0e76f546",
   "metadata": {},
   "outputs": [
    {
     "name": "stderr",
     "output_type": "stream",
     "text": [
      "100%|██████████████████████████████████████████████████████████████████████████████████████████████████████████████████████████████████████████████████████████████████████████████████████████████████████| 101/101 [01:55<00:00,  1.15s/it]\n",
      "100%|██████████████████████████████████████████████████████████████████████████████████████████████████████████████████████████████████████████████████████████████████████████████████████████████████████| 100/100 [01:53<00:00,  1.14s/it]\n"
     ]
    }
   ],
   "source": [
    "descriptions_df_complete = pd.DataFrame((), columns=['TableName','Column','Description'])\n",
    "\n",
    "for filename in filenames:\n",
    "    table_name = filename.split('/')[-1]            \n",
    "    df = pd.read_csv(filename)\n",
    "    descriptions_df = generate_predictions(df, table_name, client)\n",
    "    descriptions_df_complete = pd.concat([descriptions_df_complete, descriptions_df])\n",
    "    descriptions_df_complete.reset_index(drop=True)\n",
    "    descriptions_df_complete.to_csv('column_descriptions.csv', index=False)"
   ]
  }
 ],
 "metadata": {
  "kernelspec": {
   "display_name": "Python 3 (ipykernel)",
   "language": "python",
   "name": "python3"
  },
  "language_info": {
   "codemirror_mode": {
    "name": "ipython",
    "version": 3
   },
   "file_extension": ".py",
   "mimetype": "text/x-python",
   "name": "python",
   "nbconvert_exporter": "python",
   "pygments_lexer": "ipython3",
   "version": "3.10.12"
  }
 },
 "nbformat": 4,
 "nbformat_minor": 5
}
