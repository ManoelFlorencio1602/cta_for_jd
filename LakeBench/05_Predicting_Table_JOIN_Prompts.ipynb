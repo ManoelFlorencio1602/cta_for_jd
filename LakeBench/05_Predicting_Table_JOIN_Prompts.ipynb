{
 "cells": [
  {
   "cell_type": "code",
   "execution_count": 1,
   "id": "8a6bf46a-36fd-49c4-8daa-06ff8beb672a",
   "metadata": {},
   "outputs": [],
   "source": [
    "import pandas as pd\n",
    "import numpy as np\n",
    "import json\n",
    "import os\n",
    "import glob\n",
    "\n",
    "import pickle\n",
    "from pydantic import BaseModel\n",
    "from openai import OpenAI\n",
    "\n",
    "from tenacity import (\n",
    "                        retry,\n",
    "                        stop_after_attempt,\n",
    "                        wait_random_exponential\n",
    ")\n",
    "\n",
    "from tqdm import tqdm"
   ]
  },
  {
   "cell_type": "code",
   "execution_count": 2,
   "id": "66644529-e859-4633-814d-18ddb079eaf3",
   "metadata": {},
   "outputs": [],
   "source": [
    "pd.set_option('display.max_rows', None)"
   ]
  },
  {
   "cell_type": "code",
   "execution_count": 3,
   "id": "4d4593b8-22f4-4e44-acf2-6ccfd7fd3543",
   "metadata": {},
   "outputs": [
    {
     "name": "stdout",
     "output_type": "stream",
     "text": [
      "/home/manoelflorencio/cta_for_jd/LakeBench\n"
     ]
    }
   ],
   "source": [
    "path = '/home/manoelflorencio/cta_for_jd/LakeBench'\n",
    "os.chdir(path)\n",
    "print(os.getcwd())"
   ]
  },
  {
   "cell_type": "code",
   "execution_count": 4,
   "id": "4b5414f5-9a02-43fa-b57e-3a2bf6e24ec9",
   "metadata": {},
   "outputs": [],
   "source": [
    "@retry(wait=wait_random_exponential(min=1,max=60), stop=stop_after_attempt(6))\n",
    "def execute_prompt(client, system_msg, user_msg):\n",
    "    completion = client.chat.completions.create(\n",
    "                                            model=\"gpt-4o\",\n",
    "                                            messages=[\n",
    "                                                        {\n",
    "                                                            \"role\": \"system\", \n",
    "                                                             \"content\": f\"{system_msg}\"\n",
    "                                                        },\n",
    "                                                        {\n",
    "                                                            \"role\": \"user\",\n",
    "                                                            \"content\": f\"{user_msg}\"\n",
    "                                                        }\n",
    "                                                    ]\n",
    "                                            )\n",
    "    return completion"
   ]
  },
  {
   "cell_type": "code",
   "execution_count": 5,
   "id": "03ea8e7e-1534-415a-87df-8ed7a45c9674",
   "metadata": {},
   "outputs": [],
   "source": [
    "client = OpenAI()"
   ]
  },
  {
   "cell_type": "code",
   "execution_count": 6,
   "id": "dd674344-bf42-4060-85c1-105f527e5754",
   "metadata": {},
   "outputs": [
    {
     "data": {
      "text/plain": [
       "(1, 2)"
      ]
     },
     "execution_count": 6,
     "metadata": {},
     "output_type": "execute_result"
    }
   ],
   "source": [
    "prompts = np.load('table_JD_with_columns.npy')\n",
    "prompts.shape"
   ]
  },
  {
   "cell_type": "code",
   "execution_count": 7,
   "id": "328abd3b-74da-4ade-92c8-5278d0599d7a",
   "metadata": {},
   "outputs": [
    {
     "data": {
      "text/plain": [
       "(1, 2)"
      ]
     },
     "execution_count": 7,
     "metadata": {},
     "output_type": "execute_result"
    }
   ],
   "source": [
    "table_cartesians = pd.read_csv('table_cartesians.csv')\n",
    "table_cartesians.shape"
   ]
  },
  {
   "cell_type": "code",
   "execution_count": 8,
   "id": "5760efb4-f2a4-496f-9c01-9dac2ef0d35a",
   "metadata": {},
   "outputs": [],
   "source": [
    "def generate_predictions(system_msg, user_msg, client):\n",
    "    \n",
    "    result = execute_prompt(client, system_msg, user_msg)\n",
    "    jd_prediction = result.choices[0].message.content.split('Answer: ')[-1].strip()\n",
    "    \n",
    "    return jd_prediction"
   ]
  },
  {
   "cell_type": "code",
   "execution_count": 9,
   "id": "01702aff-50ea-4043-a2d8-6d3b9dab5a93",
   "metadata": {},
   "outputs": [
    {
     "data": {
      "text/plain": [
       "'Target Table description: The table \"SG_CSV0000000000000925.csv\" provides detailed demographic and sociocultural data on individuals residing in Singapore, capturing aspects such as age, gender, occupation, educational level, marital status, income, and social networks, along with participants\\' perceptions and rankings on various sociocultural and moral segments.\\n                  Target Table columns descriptions: [\"The \\'respondent_serial\\' column contains unique numerical identifiers assigned to each respondent participating in the survey, ensuring each entry is distinctly recognizable within the dataset.\"\\n \\'The \\\\\\'respondent_id\\\\\\' column contains unique identifiers assigned to each survey participant, formatted as a string that typically begins with \"GEN24_\" followed by a number or a combination of characters and numbers, serving to distinguish each respondent within the dataset.\\'\\n \\'The \"country\" column contains the name of the country where the respondent is from, in this case, all recorded instances show \"Singapore.\"\\'\\n \"The \\'yearbornin_1_slice\\' column indicates a slice or portion of the year in which each respondent was born, suggesting the year or range of years defining the time period of their birth.\"\\n \"The \\'yearbornin_1_slice1\\' column represents the year in which respondents were born, likely segmented or categorized in some fashion different from \\'yearbornin_1_slice\\', to help in analyzing age-related trends or patterns within the dataset.\"\\n \"The \\'ageofrespondent\\' column contains numerical values representing the age of each respondent at the time the data was collected.\"\\n \\'The \"indicateage\" column contains binary values indicating whether or not the respondent has provided their age.\\'\\n \\'The \"gender\" column indicates the gender identity of the respondent, typically represented as different categorical variables such as \\\\\\'Male\\\\\\' and \\\\\\'Female\\\\\\'.\\'\\n \"The \\'occstatus\\' column describes the employment or occupational status of each respondent, indicating if they are likely working, unemployed, retired, or in another employment condition.\"\\n \"The \\'levelsch\\' column indicates the highest level of education attained or the educational qualification of the respondent.\"\\n \"The \\'highestlevel\\' column denotes the highest educational level attained by the respondents in the survey.\"\\n \\'The column \\\\\\'unisch\\\\\\' likely contains data indicating whether respondents attended or completed a university education, as inferred from potential binary values like \"Yes\" and \"No\" that denote participation or completion status in higher education.\\'\\n \"The \\'postgradsch\\' column indicates whether the respondent has attended any postgraduate school, likely marked by categorical variables such as \\'Yes\\' or \\'No\\'.\"\\n \"The \\'occupationindustry\\' column likely contains information about the specific industry or sector in which the respondent works or is employed.\"\\n \"The column \\'occupation2\\' lists the respondent\\'s occupation or professional status, indicating their primary type of employment or professional affiliation.\"\\n \"The \\'whichauthority\\' column contains information on respondents\\' preferred or most identified authority or guiding principle, as indicated by values such as \\'Family\\', \\'Government\\', or \\'Religion\\'.\"\\n \"The \\'rankmostimptchild_1\\' column captures a numerical value indicating the priority or significance assigned by the respondent regarding their perception of an important aspect or characteristic related to children.\"\\n \"The \\'rankmostimptchild_2\\' column likely contains ordinal data reflecting the priority or importance assigned by respondents to certain aspects or traits considered most important for children to learn, indicated as a numerical ranking or position in a list of such traits.\"\\n \"The \\'rankmostimptchild_3\\' column contains a ranking or prioritization value that signifies the respondent\\'s perception regarding the importance of a specific aspect related to children, where higher values likely represent higher importance in the context of a survey or study.\"\\n \"The \\'livinginsg_1_slice\\' column indicates whether the respondent lives in Singapore or not, as a part of a demographic survey, typically reflecting residential status during the time of data collection.\"\\n \\'The \"livinginsg_2_slice\" column indicates a binary response (either \\\\\\'Yes\\\\\\' or \\\\\\'No\\\\\\') reflecting whether the respondent currently resides in Singapore.\\'\\n \\'The \"livinginsg_3_slice\" column signifies whether the respondent is currently residing in Singapore, often represented as binary values indicating \\\\\\'Yes\\\\\\' or \\\\\\'No\\\\\\'.\\'\\n \\'The \"livinginsg_4_slice\" column indicates whether the respondent was living in Singapore at the time of the survey.\\'\\n \"The \\'vbc\\' column contains binary categorical values \\'Yes\\' or \\'No\\' denoting the response to a specific question or condition in the survey.\"\\n \"The column \\'sliderliberty_1_slice\\' likely contains quantitative data representing responses or ratings related to the concept of liberty, potentially on a sliding scale, as a part of a larger survey or study.\"\\n \\'The \"maritialstatus\" column documents the marital status of the respondents, indicating their current relationship status such as single, married, divorced, or widowed.\\'\\n \\'The \"children\" column indicates whether the respondent has children or not, typically marked by binary values such as \\\\\\'Yes\\\\\\' or \\\\\\'No\\\\\\'.\\'\\n \"The \\'noofchildren\\' column contains numerical data indicating the number of children each respondent has.\"\\n \\'The \"childage\" column captures the age of a specific child related to the respondent, which is likely identified by their relationship or role in the survey context.\\'\\n \\'The \"personalincome\" column contains data reflecting the individual income levels of respondents, which likely represent a range of monetary values indicating the earnings or financial earnings of each person surveyed, reflecting their personal financial status or earnings capacity within the survey data context.\\'\\n \"The \\'hhi\\' column likely represents the household income or a related aggregated household index for each respondent.\"\\n \"The \\'socialnetwork_1_slice\\' column contains categorical data indicating whether respondents are part of a particular social network, with values represented as either \\'Yes\\' or \\'No\\'.\"\\n \"The \\'socialnetwork_2_slice\\' column contains categorical information indicating the different types of social networking actions or platforms used by respondents.\"\\n \"The \\'socialnetwork_3_slice\\' column in the table contains categorical data indicating respondents\\' usage or activity status on a particular social network, represented by either \\'Yes\\' or \\'No\\'.\"\\n \\'The \"socialnetwork_4_slice\" column contains binary categorical values indicating whether or not the respondent is associated with a particular social network attribute, likely reflecting their social engagement or activity level related to that network.\\'\\n \\'The \"socialnetwork_5_slice\" column describes a specific aspect or category of the respondents\\\\\\' social network preferences or behaviors, likely representing a subset or segment within a larger dataset about social networking habits or attitudes.\\'\\n \"The \\'socialnetwork_6_slice\\' column contains entries that indicate the respondents\\' usage or engagement level with a particular social network platform, captured in binary \\'Yes\\' or \\'No\\' responses.\"\\n \"The column \\'socialnetwork_dp01\\' represents whether the respondents use a specific social networking platform, indicated by values such as \\'Yes\\' or \\'No\\'.\"\\n \"The \\'socialnetwork_dp02\\' column contains binary data indicating the presence or absence of a respondent\\'s participation or engagement in a specific type of social network or digital platform, likely denoted by a \\'Yes\\' or \\'No\\' response.\"\\n \"The \\'socialnetwork_dp03\\' column likely contains categorical data indicating whether a respondent is active on a specific social network platform or if they have a profile on it, based on its nomenclature and typical survey construction.\"\\n \"The \\'socialnetwork_dp04\\' column captures whether respondents identify themselves in specific social network categories, such as \\'Loyal_betrayal,\\' \\'Harm_Care,\\' \\'Fairness_Cheating,\\' or \\'Purity_Degradation,\\' indicating their social or moral alignment.\"\\n \"The \\'socialnetwork_dp05\\' column captures the usage preferences or engagement of respondents with a particular social network platform, potentially highlighting their frequency or intensity of use.\"\\n \"The \\'socialnetwork_dp06\\' column contains dichotomous values indicating whether respondents use a particular social network platform, represented as \\'Yes\\' or \\'No\\'.\"\\n \\'The \"socialnetwork_dp07\" column captures responses regarding the frequency or type of engagement participants have with social networks or social media platforms.\\'\\n \"The \\'socialnetwork_dp08\\' column captures a binary indicator reflecting whether the respondent is active on a specific social network platform, with values typically represented as \\'Yes\\' or \\'No\\'.\"\\n \"The \\'socialnetwork_dp09\\' column in the table captures respondents\\' usage or engagement with specific social networks or platforms, though specific values are not provided for more detailed insight.\"\\n \"The \\'socialnetwork_dp10\\' column captures respondents\\' preferences or behaviors regarding social networks, likely indicating their engagement level, usage patterns, or attitudes towards digital platforms.\"\\n \"The column \\'q20_q211\\' contains responses indicating the participant\\'s tendency to agree or disagree with a specific moral or ethical principle, as denoted by various categorically labeled values.\"\\n \"The \\'q20_q212\\' column captures binary survey responses indicating either a \\'Yes\\' or \\'No\\' answer to a specific question related to the participant\\'s attitudes or behaviors.\"\\n \"The target column \\'q20_q213\\' likely contains responses or data related to a specific survey question, where the entries are either categorical or ordinal in nature, capturing participants\\' attitudes, opinions, or experiences that correlate with other thematic questions identified by similar \\'q20\\' identifiers.\"\\n \"The column \\'q20_q214\\' contains binary responses indicating whether respondents engage in or agree with a certain unspecified behavior or statement, with possible values being \\'Yes\\' or \\'No\\'.\"\\n \\'The \\\\\\'ban_age\\\\\\' column likely contains values representing respondents\\\\\\' ages in relation to specific questions or scenarios regarding \"ban\" topics or initiatives.\\'\\n \"The \\'ban_gender\\' column represents data on whether respondents believe certain bans should be applied differently based on gender, with possible answers indicating their stance such as \\'Yes\\' or \\'No\\'.\"\\n \"The column \\'ban_personal_inc\\' contains data related to the respondent\\'s personal income bracket, reflecting financial information such as income level or category for each individual within the dataset.\"\\n \"The \\'ban_mhi\\' column likely contains responses or ratings related to mental health issues, capturing individual sentiments or evaluations on mental health-related questions in the context of the survey conducted among respondents from Singapore.\"\\n \"The column \\'ban_q18_q191\\' in the table appears to contain binary responses, indicating a \\'Yes\\' or \\'No\\' answer to a specific question asked to respondents, potentially related to a survey or study conducted in Singapore.\"\\n \"The target column \\'ban_q18_q192\\' contains boolean values, specifically \\'Yes\\' or \\'No\\', indicating the respondent\\'s answer or opinion to a specific survey question which isn\\'t explicitly detailed but may relate to a binary choice or agreement.\"\\n \"The column \\'ban_q18_q193\\' contains binary responses indicating whether the respondents have a certain attribute or condition, such as the presence or absence of a particular opinion, belief, or behavior, as evidenced by consistent entries like \\'Yes\\' or \\'No\\'.\"\\n \"The target column \\'ban_q18_q194\\' contains responses indicating whether individuals, presumably in a survey or study context, answered \\'Yes\\' or \\'No\\' to a particular question or statement that is part of a broader assessment categorized under the identifier \\'ban_q18_q194\\'.\"\\n \"The \\'ban_education1\\' column likely contains categorical values that signify the respondents\\' educational background or level, which might be used to understand how education relates to opinions or behaviors captured in other survey questions.\"\\n \"The column \\'ban_education2\\' contains categorical values indicating an individual\\'s level of education or attitudes towards education standards, possibly related to a specific question in a survey or study.\"\\n \"The column \\'ban_education3\\' contains data indicating the educational background or qualifications of the respondents, which may include responses or classifications related to educational attainment levels or categories.\"\\n \"The \\'ban_education4\\' column contains responses indicating whether certain educational bans or affiliations are considered important or relevant by the respondents.\"\\n \"The \\'ban_occupation_status1\\' column likely captures data related to the occupation status of respondents in the survey.\"\\n \\'The \"ban_occupation_status2\" column likely contains information about the employment or occupational status of respondents within the dataset, indicating whether certain occupational restrictions or conditions apply to them.\\'\\n \"The \\'ban_occupation_status3\\' column likely captures information regarding an individual\\'s occupation status, possibly indicating categories or levels of employment or professional engagement, as part of the broader dataset detailing respondent demographics and characteristics.\"\\n \"The \\'ban_occupation_status4\\' column categorizes respondents based on their employment status or occupational classification, specifically identifying whether their occupation is banned or restricted in some capacity.\"\\n \"The \\'ban_occupation_status5\\' column identifies whether respondents, as part of a study, hold a particular occupational status, which may be related to a specific question or condition in the survey denoted by the prefix \\'ban\\'.\"\\n \"The \\'ban_occupation_status6\\' column indicates whether respondents belong to a specific occupational status category, potentially part of a series detailing varying professional conditions or classifications.\"\\n \"The \\'ban_occupation_status7\\' column likely captures specific information related to respondents\\' occupation status, potentially in the context of a survey or study on employment or economic conditions, although specific values in the column are not provided to determine the exact nature of the data captured.\"\\n \"The \\'ban_occupation_status8\\' column represents a categorical variable indicating the occupational status of respondents, with possible values being \\'Yes\\' or \\'No\\'.\"\\n \\'The \"ban_occupation_status9\" column holds categorical data that likely represents responses or attitudes towards different occupations, possibly indicating the acceptance, restriction, or other qualitative measures related to occupation status from the survey respondents.\\'\\n \\'The \"ban_occupation_role1\" column contains information about the specific occupation roles that are being referred to in the context of a survey or study, indicating how occupational roles are grouped or categorized for analysis.\\'\\n \\'The column \"ban_occupation_role2\" contains categorical information representing different occupational roles or categories assigned to respondents in the dataset.\\'\\n \"The \\'ban_occupation_role3\\' column captures data indicating whether respondents identify with a particular occupation role or category, potentially related to binary occupation status or filling specific job functions within an occupational context.\"\\n \\'The \"ban_occupation_role4\" column categorizes respondents based on their roles or positions within an organizational context, focusing on specific occupational or professional distinctions.\\'\\n \"The \\'ban_occupation_role5\\' column likely contains categorical data representing specific occupation roles or categories that respondents might have indicated, possibly pertaining to whether certain roles are deemed acceptable or controversial in the context of a banning survey.\"\\n \\'The \"ban_occupation_role6\" column contains binary or categorical data indicating whether a respondent associates with a specific role or perspective regarding occupational or professional restrictions, as part of a broader survey exploring attitudes and beliefs.\\'\\n \\'The \"ban_occupation_role7\" column appears to capture responses related to a specific occupational role or function, with values presumably denoting whether the respondent has a certain occupational role or responsibility, possibly indicated by a binary \"Yes\" or \"No\" response.\\'\\n \\'The \"ban_occupation_role8\" column likely contains information about the specific occupation or role classification that is being banned or regulated, often represented as discrete categorical values indicating the nature of the role or occupation restriction.\\'\\n \"The \\'ban_marital\\' column contains responses indicating the marital status of the participants in the study.\"\\n \"The \\'ban_children1\\' column contains categorical responses indicating whether respondents believe in banning children-related activities, with possible values suggesting \\'Yes\\' or \\'No\\' beliefs.\"\\n \"The target column \\'ban_children2\\' contains values that indicate whether respondents believe (Yes or No) that certain actions or policies are acceptable or applicable to children, as inferred from the binary responses given.\"\\n \\'The target column \"ban_children3\" contains binary responses indicating whether respondents are in favor (\\\\\\'Yes\\\\\\') or not in favor (\\\\\\'No\\\\\\') regarding a particular stance or policy related to children.\\'\\n \"The column \\'ban_children4\\' indicates whether respondents answered \\'Yes\\' or \\'No\\' to a specific question related to the presence or consideration of a ban that involves children, as part of a larger set of survey questions.\"\\n \"The column \\'ban_no_ofchildren\\' represents the number of children a respondent has.\"\\n \"The column \\'ban_age_youngest\\' likely represents the age of the youngest individual within a specified group or family associated with the respondent.\"\\n \"The \\'ban_q28\\' column contains binary responses indicating whether the respondent answered \\'Yes\\' or \\'No\\' to a particular survey question, which is likely related to a specific ban or restriction topic.\"\\n \"The column \\'ban_q30_1\\' contains binary responses, indicating a \\'Yes\\' or \\'No\\' answer to a survey question regarding a specific issue related to the questionnaire in a given study.\"\\n \"The column \\'ban_q30_2\\' contains binary responses indicating whether participants agree (\\'Yes\\') or disagree (\\'No\\') with a specific question related to an unspecified topic within a survey.\"\\n \\'The \\\\\\'ban_q30_3\\\\\\' column contains binary information indicating whether respondents answered \"Yes\" or \"No\" to a specific survey question, with the exact nature of the question not specified in the provided table values.\\'\\n \\'The \"ban_q30_4\" column contains binary responses, \"Yes\" or \"No,\" indicating whether the respondent agrees with a specific statement or condition related to banning, as part of a survey question.\\'\\n \"The \\'ban_q32\\' column contains binary responses indicating whether the individuals agree or disagree with a certain proposition or question.\"\\n \"The \\'ban_q431\\' column contains binary responses, \\'Yes\\' or \\'No\\', indicating whether respondents agreed or disagreed with a particular survey question.\"\\n \"The \\'ban_q432\\' column contains binary responses indicating either \\'Yes\\' or \\'No\\'.\"\\n \\'The target column \"ban_q433\" captures the binary response of survey participants, represented as \\\\\\'Yes\\\\\\' or \\\\\\'No\\\\\\', which likely corresponds to their stance or behavior concerning a specific question or statement included in the survey.\\'\\n \"The \\'ban_q434\\' column contains binary values indicating whether respondents answered \\'Yes\\' or \\'No\\' to a specific survey question related to a particular topic, likely concerning personal values or behaviors.\"\\n \"The \\'ban_q435\\' column contains binary responses indicating whether the respondent agrees or disagrees with a specific proposition or statement, as evidenced by the values \\'Yes\\' and \\'No\\'.\"\\n \\'The \"ban_q436\" column contains binary responses indicating whether respondents affirmed or denied a particular proposition or statement, as represented by \\\\\\'Yes\\\\\\' or \\\\\\'No\\\\\\'.\\'\\n \"The target column \\'ban_q437\\' captures binary responses indicating either \\'Yes\\' or \\'No\\' to a specific question or statement in a survey or study context, likely related to an aspect of individual beliefs or behaviors.\"\\n \"The \\'md_segment\\' column categorizes individuals based on moral foundations, reflecting distinct moral values or orientations such as \\'Loyal_betrayal\\', \\'Harm_Care\\', \\'Fairness_Cheating\\', \\'Purity_Degradation\\', which guide their ethical and social behavior.\"]\\n                  Candidate Table description: The table \"SG_CSV0000000000001714.csv\" contains detailed demographic, social, and economic data about respondents from Singapore, capturing information such as age, gender, employment status, education level, marital status, number and age of children, personal and household income, social network engagement, and various attitudinal indicators, preferences, or opinions, all structured around individual serial identifiers and IDs associated with each respondent.\\n                  Candidate Table columns descriptions: [\\'The \"respondent_serial\" column contains unique numerical identifiers assigned to each respondent to distinguish their entries within the dataset.\\'\\n \"The \\'respondent_id\\' column contains unique alphanumeric identifiers assigned to each individual respondent, allowing for their distinct identification within the dataset.\"\\n \\'The \"country\" column indicates the country where the respondent is from or is currently residing, with values such as \"Singapore\" denoting the specific nation associated with each respondent\\\\\\'s data entry.\\'\\n \\'The \"yearbornin_1_slice\" column contains information about the year of birth of the respondent.\\'\\n \\'The \"yearbornin_1_slice1\" column contains the birth year information of the respondent, represented as a consistent data slice across each entry in the dataset.\\'\\n \\'The \"ageofrespondent\" column contains numerical values representing the age of each individual respondent recorded in the dataset.\\'\\n \\'The \"indicateage\" column represents whether respondents have provided their age information in the survey.\\'\\n \"The \\'gender\\' column contains data regarding the gender identity of the respondents, typically represented as categorical values such as \\'Male\\', \\'Female\\', or other gender identities.\"\\n \"The \\'occstatus\\' column indicates the current employment status or occupational status of the respondent.\"\\n \\'The \"levelsch\" column describes the level of school education attained by the respondent.\\'\\n \\'The \"highestlevel\" column represents the highest educational attainment or qualification level achieved by the respondents.\\'\\n \"The \\'unisch\\' column indicates whether the respondent has attended university, providing a binary answer of either \\'Yes\\' or \\'No\\'.\"\\n \\'The \"postgradsch\" column indicates whether the respondent has attended postgraduate school or not, with possible values being categorical indicators such as \"Yes\" or \"No\".\\'\\n \\'The target column \"occupationindustry\" describes the sector or field of employment in which the respondent is currently working or has worked.\\'\\n \\'The \"occupation2\" column contains information detailing the secondary occupation or job classification of respondents within a survey dataset.\\'\\n \\'The \"whichauthority\" column specifies the particular authority that respondents have identified or are associated with, which might indicate their trust, preference, or recognition of that authority in their personal or professional context.\\'\\n \\'The \"rankmostimptchild_new_1\" column represents the primary ranking or prioritization assigned by respondents regarding the most important characteristic or quality they consider for their child.\\'\\n \"The column \\'rankmostimptchild_new_2\\' contains data that represents the ranking given by respondents to a particular aspect they consider most important in terms of child-related matters, serving as the second choice or preference in their ranking list.\"\\n \"The \\'rankmostimptchild_new_3\\' column represents the third most important factor or attribute considered by the respondent regarding their children\\'s development or priorities, as ranked by the individual.\"\\n \"The \\'livinginsg_1_slice\\' column indicates whether the respondent is currently living in Singapore, providing a binary yes or no response.\"\\n \\'The \"livinginsg_2_slice\" column indicates whether the respondent is currently residing in Singapore.\\'\\n \"The target column \\'livinginsg_3_slice\\' indicates whether respondents currently reside in Singapore, with entries suggesting binary responses such as \\'Yes\\' or \\'No\\' to signify the presence or absence of living in Singapore for a particular time slice.\"\\n \\'The \"livinginsg_4_slice\" column indicates whether the respondents have been living in Singapore for a certain undefined period or condition, as suggested by the pattern of data, potentially categorized or divided into specific segments or slices.\\'\\n \"The \\'vbc\\' column contains binary categorical responses indicating a specific condition or trait, presumably related to the respondents, with values alternating between \\'No\\' and \\'Yes\\'.\"\\n \\'The target column \"sliderliberty_1_slice\" contains data that likely represents a respondent\\\\\\'s self-assessed rating or opinion related to liberty or personal freedom, collected through a sliding scale input method.\\'\\n \\'The \"maritialstatus\" column represents the marital status of the respondents, indicating whether they are single, married, divorced, widowed, or in any other form of relationship status.\\'\\n \\'The \"children\" column indicates whether the respondents have any children, typically represented with responses like \"Yes\" or \"No.\"\\'\\n \\'The \"noofchildren\" column represents the number of children that each respondent has.\\'\\n \\'The \"childage\" column represents the age of respondents\\\\\\' children.\\'\\n \"The \\'personalincome\\' column represents the individual financial earnings of the respondents, detailing their personal income levels.\"\\n \\'The \"hhi\" column represents the household income of the respondent.\\'\\n \\'The \"socialnetwork_1_slice\" column captures specific attributes or elements related to an individual\\\\\\'s first social networking connection or interaction.\\'\\n \"The \\'socialnetwork_2_slice\\' column represents responses related to a specific aspect or segment of social network engagement or behavior, likely captured through a survey or study, involving the participants in the dataset.\"\\n \"The \\'socialnetwork_3_slice\\' column contains data indicating a specific aspect or measurement related to the respondents\\' social network or social interactions as captured during the survey from which the dataset originates, reflecting the third categorized observation or metric within the broader social network theme.\"\\n \\'The \"socialnetwork_4_slice\" column contains data representing a particular aspect or dimension of a respondent\\\\\\'s social network, reflecting a specific variable in their social interactions or connections as captured in the survey.\\'\\n \"The \\'socialnetwork_5_slice\\' column contains categorical data indicating responses related to a specific aspect or question about social networking, as part of a structured survey or data collection, represented by binary options such as \\'Yes\\' or \\'No\\'.\"\\n \\'The \"socialnetwork_6_slice\" column represents specific segments or groups of an individual\\\\\\'s social network, capturing aspects or characteristics of the social connections or interactions the respondents have within a specified context or community.\\'\\n \"The column \\'socialnetwork_dp01\\' contains binary data indicating whether a respondent is connected to a specific social network detail point, with entries like \\'Yes\\' or \\'No\\'.\"\\n \\'The \"socialnetwork_dp02\" column records binary values, typically \\\\\\'Yes\\\\\\' or \\\\\\'No\\\\\\', indicating whether the respondent is engaged in a specific type of social network or social activity.\\'\\n \"The \\'socialnetwork_dp03\\' column represents the data specific to a particular aspect or dimension of a respondent’s social network, capturing responses in a form that indicates the presence or absence of a particular characteristic, connection, or interaction within their social network.\"\\n \"The \\'socialnetwork_dp04\\' column captures responses from participants indicating whether they have a specific element or connection within their social network.\"\\n \"The \\'socialnetwork_dp05\\' column indicates a specific aspect or characteristic related to the social network activities or associations of a respondent, representing discrete data points relevant to their social interactions or affiliations.\"\\n \"The target column \\'socialnetwork_dp06\\' captures a specific aspect of the respondent\\'s involvement or presence in a particular social networking scenario or platform, indicating either inclusion or absence in that context, typically reflected by values such as \\'Yes\\' or \\'No\\'.\"\\n \"The \\'socialnetwork_dp07\\' column represents whether the respondent feels connected or supported by their social network, with values typically indicating a binary response such as \\'Yes\\' or \\'No\\'.\"\\n \\'The \\\\\\'socialnetwork_dp08\\\\\\' column represents a categorical response indicating whether or not a respondent is associated with a specific aspect or element of their social network, denoted by \"Yes\" or \"No\".\\'\\n \"The column \\'socialnetwork_dp09\\' contains responses indicating whether or not the respondent is part of a particular social network or group, represented as binary options such as \\'Yes\\' or \\'No\\'.\"\\n \\'The \"socialnetwork_dp10\" column provides categorical information indicating whether or not a survey respondent is part of a particular social network or group, possibly reflecting their involvement or connections within certain community or social settings.\\'\\n \\'The column \"q20_q211\" contains responses indicating whether the respondent answers affirmatively, negatively, or otherwise in relation to a specific survey question or aspect.\\'\\n \"The \\'q20_q212\\' column contains binary responses indicating either a \\'Yes\\' or \\'No\\' answer to a specific survey question represented by the code \\'q20_q212\\'.\"\\n \\'The target column \"q20_q213\" seems to contain categorical data indicating responses to a specific survey question, with possible values being \"Yes\" or \"No\".\\'\\n \\'The \"q20_q214\" column indicates responses to a specific survey question, likely concerning the attitudes or behaviors of respondents, with potential binary or categorical values representing distinct answer choices.\\'\\n \"The \\'ban_age\\' column contains responses in binary format (\\'Yes\\' or \\'No\\') indicating whether a particular age-related factor or condition is applicable to the respondent.\"\\n \"The \\'ban_gender\\' column represents whether a respondent is prohibited or restricted based on their gender, indicated by binary values such as \\'Yes\\' or \\'No\\'.\"\\n \"The \\'ban_personal_inc\\' column indicates whether a personal income criterion has been applied to exclude or include respondents from a particular category or analysis in the dataset.\"\\n \"The target column \\'ban_mhi\\' likely indicates whether the respondent\\'s response or data should be banned or excluded based on their household income information.\"\\n \"The column \\'ban_q18_q191\\' contains responses to a specific survey question related to a certain topic, likely representing a binary or categorical choice indicated by \\'Yes\\' or \\'No\\'.\"\\n \"The \\'ban_q18_q192\\' column indicates whether a specific condition related to question 18, sub-question 192, was applicable to the respondent, typically represented with binary values such as \\'Yes\\' or \\'No\\'.\"\\n \\'The \\\\\\'ban_q18_q193\\\\\\' column contains binary values, which indicate whether a specific condition or restriction represented by the code \\\\\\'q18_q193\\\\\\' is applicable to the respondents, with \"Yes\" signifying its applicability and \"No\" indicating otherwise.\\'\\n \\'The \"ban_q18_q194\" column contains binary responses, likely indicating a specific characteristic or condition of the respondents that is either affirmed with \"Yes\" or negated with \"No\".\\'\\n \\'The \"ban_education1\" column indicates whether or not a respondent has a certain level of education, likely corresponding to a specific category or type of educational attainment.\\'\\n \\'The column \"ban_education2\" contains information indicating a respondent\\\\\\'s second level of banned or restricted educational qualification or status in a categorical format, likely contributing to a survey or study about demographic or social characteristics.\\'\\n \"The \\'ban_education3\\' column indicates whether the respondent has been subjected to a specific educational ban or restriction policy, with possible values suggesting a binary response like \\'Yes\\' or \\'No\\'.\"\\n \\'The target column \"ban_education4\" contains binary data that indicates whether individuals have a particular fourth level of education banned or restricted for discussion or acknowledgment within the context of the collected survey data.\\'\\n \\'The target column \"ban_occupation_status1\" likely indicates whether a respondent is categorized under a specific occupational status, with possible values suggesting a binary response, such as \\\\\\'Yes\\\\\\' for being in that occupational category and \\\\\\'No\\\\\\' for not being in it.\\'\\n \\'The column \"ban_occupation_status2\" indicates whether the respondent falls into a certain occupational status category, with a \"Yes\" or \"No\" response signifying their inclusion or exclusion from this specific status.\\'\\n \\'The \"ban_occupation_status3\" column indicates whether a respondent is associated with a specific condition or requirement related to their occupational status, represented with binary options such as \\\\\\'Yes\\\\\\' or \\\\\\'No\\\\\\'.\\'\\n \"The target column \\'ban_occupation_status4\\' contains values indicating a specific occupational status or categorization as part of a broader occupational classification, represented as binary responses such as \\'Yes\\' or \\'No\\', likely reflecting whether a respondent falls under a certain occupational category or meets a certain criterion related to their employment status.\"\\n \\'The target column \"ban_occupation_status5\" contains binary indicators, likely representing whether a specific occupation status, identified by number 5 in a predefined list of occupation statuses, is banned or not for the respondent, with values typically being \\\\\\'Yes\\\\\\' or \\\\\\'No\\\\\\'.\\'\\n \\'The column \"ban_occupation_status6\" indicates whether the respondent\\\\\\'s current occupation status corresponds to a specific, predefined category, with entries typically being \"Yes\" or \"No\".\\'\\n \\'The \"ban_occupation_status7\" column contains binary indicators, with values such as \\\\\\'Yes\\\\\\' or \\\\\\'No\\\\\\', representing whether a specific occupation status condition 7 applies to the respondent.\\'\\n \"The column \\'ban_occupation_status8\\' indicates whether the respondent holds a specific occupational status, with possible values such as \\'Yes\\' or \\'No\\' reflecting the presence or absence of this particular occupational status.\"\\n \\'The target column \"ban_occupation_status9\" contains categorical data indicating whether the respondent\\\\\\'s occupational status falls under a specific classification, denoted possibly by a \\\\\\'Yes\\\\\\' or \\\\\\'No\\\\\\'.\\'\\n \\'The \"ban_occupation_role1\" column likely represents a binary indicator, such as \"Yes\" or \"No,\" signaling whether a respondent fulfills a specific occupational role, although the exact nature of this role is not defined within the values given.\\'\\n \\'The \"ban_occupation_role2\" column indicates whether the respondent has a specific secondary occupational role, represented by binary values such as \\\\\\'Yes\\\\\\' or \\\\\\'No\\\\\\'.\\'\\n \"The target column \\'ban_occupation_role3\\' represents a binary indicator, presumably a \\'Yes\\' or \\'No\\' response, identifying whether the respondent is associated with or holds a specific third occupational role within a predefined list of roles.\"\\n \\'The target column \"ban_occupation_role4\" contains binary values indicating whether respondents with a specific occupation role were flagged or prohibited for certain aspects under consideration or analysis in the survey data.\\'\\n \"The \\'ban_occupation_role5\\' column contains categorical values indicating whether a respondent is associated with a particular occupation role designation labeled as \\'5\\', with responses typically being \\'Yes\\' or \\'No\\' to denote the presence or absence of the role for each individual.\"\\n \"The column \\'ban_occupation_role6\\' contains information indicating a binary response (such as \\'Yes\\' or \\'No\\') about the banning status or restriction of a particular occupation role for individuals in the dataset.\"\\n \"The \\'ban_occupation_role7\\' column indicates a binary response, \\'Yes\\' or \\'No\\', to a question about whether an individual holds or has experience in a specific, predefined occupational role categorized as \\'role 7\\'.\"\\n \"The \\'ban_occupation_role8\\' column indicates whether a respondent is banned from a specific occupation role, with the values reflecting a binary response, such as \\'Yes\\' or \\'No\\', to denote such a restriction.\"\\n \"The \\'ban_marital\\' column indicates whether respondents were banned from a particular activity or survey participation based on their marital status, with possible values of \\'Yes\\' or \\'No\\'.\"\\n \\'The target column \"ban_children1\" indicates whether respondents have a specific condition or restriction related to children, represented by \"Yes\" or \"No\" values.\\'\\n \"The column \\'ban_children2\\' represents a binary indicator of whether the respondent has a second child, with possible values likely being \\'Yes\\' or \\'No\\'.\"\\n \\'The \"ban_children3\" column likely indicates a binary response, potentially capturing whether there is a specific restriction or ban related to a third aspect of children, with possible values of \\\\\\'Yes\\\\\\' or \\\\\\'No\\\\\\' for each respondent in the survey.\\'\\n \"The \\'ban_children4\\' column indicates whether a survey respondent has restrictions or bans related to the presence or number of children in their household, capturing specific criteria or thresholds associated with such restrictions.\"\\n \\'The \"ban_no_ofchildren\" column indicates whether restrictions or bans are associated with a specific number of children in the respondent\\\\\\'s context, typically reflecting a binary \"Yes\" or \"No\" response.\\'\\n \"The \\'ban_age_youngest\\' column indicates whether there is a restriction or a mode of consideration applied to the age of the youngest member associated with the data in context.\"\\n \\'The target column \"ban_q28\" in the table indicates respondents\\\\\\' binary responses, typically \"Yes\" or \"No,\" to a specific question within the survey, likely related to a particular opinion, behavior, or demographic attribute explored in the survey.\\'\\n \\'The \"ban_q30_1\" column indicates a binary response, represented by \"Yes\" or \"No,\" to a particular question or criterion related to ban-related factors or conditions in the dataset.\\'\\n \"The column \\'ban_q30_2\\' contains categorical data indicating responses to a specific survey question, with possible values of \\'Yes\\' or \\'No\\'.\"\\n \\'The column \"ban_q30_3\" contains binary values \"Yes\" or \"No,\" potentially indicating whether respondents agreed or disagreed with a specific statement or condition related to a question labeled as Q30_3 in a survey conducted in Singapore.\\'\\n \\'The \"ban_q30_4\" column indicates the respondent\\\\\\'s answer to a specific survey question related to a ban, with responses captured as \"Yes\" or \"No.\"\\'\\n \\'The \"ban_q32\" column contains binary responses indicating either \"Yes\" or \"No\" to a particular question or condition related to a ban, which is part of a larger set of categorized questions or restrictions likely imposed on the respondents.\\'\\n \"The target column \\'ban_q431\\' contains binary responses indicating whether a particular condition or preference related to the survey question labeled as q431 is present, which is recorded as \\'Yes\\' or \\'No\\' for each respondent.\"\\n \\'The \"ban_q432\" column contains binary responses indicating whether a specific condition or question related to personal or demographic information in the survey was answered with \"Yes\" or \"No.\"\\'\\n \"The column \\'ban_q433\\' contains binary responses, represented as \\'Yes\\' or \\'No\\', indicating whether or not respondents have agreed with or acknowledged a specific statement or question identified by \\'ban_q433\\' in the survey.\"\\n \"The target column \\'ban_q434\\' contains binary responses (either \\'Yes\\' or \\'No\\') indicating a survey participant\\'s answer to a specific question identified as q434 in the questionnaire.\"\\n \\'The target column \"ban_q435\" contains binary values indicating whether respondents answered \"Yes\" or \"No\" to a specific question 435 related to a certain ban, possibly assessing their personal opinion or experience regarding the subject of the ban in question.\\'\\n \\'The \"ban_q436\" column contains binary responses indicating either \"Yes\" or \"No\", reflecting a specific aspect of the respondents\\\\\\' experiences or opinions.\\'\\n \\'The target column \"ban_q437\" represents categorical data indicating a binary response, such as \"Yes\" or \"No,\" from respondents based on a particular question or criterion denoted by \"q437,\" possibly related to personal, social, or economic factors surveyed in the given dataset.\\']Answer:'"
      ]
     },
     "execution_count": 9,
     "metadata": {},
     "output_type": "execute_result"
    }
   ],
   "source": [
    "prompts[0][1]"
   ]
  },
  {
   "cell_type": "code",
   "execution_count": 10,
   "id": "d9acfa44-34bc-492d-9ba8-56ee1cc86f8c",
   "metadata": {},
   "outputs": [
    {
     "name": "stderr",
     "output_type": "stream",
     "text": [
      "100%|██████████████████████████████████████████████████████████████████████████████████████████████████████████████████████████████████████████████████████████████████████████████████████████████████████████| 1/1 [00:02<00:00,  2.00s/it]\n"
     ]
    }
   ],
   "source": [
    "asnwers = []\n",
    "\n",
    "for i in tqdm(range(len(prompts))):\n",
    "\n",
    "    system_msg, user_msg = prompts[i][0], prompts[i][1]\n",
    "    result = generate_predictions(system_msg, user_msg, client)\n",
    "    asnwers.append(result)"
   ]
  },
  {
   "cell_type": "code",
   "execution_count": 11,
   "id": "d5bcab34-ed0b-45e6-99b0-cfb944f583f3",
   "metadata": {},
   "outputs": [
    {
     "data": {
      "text/plain": [
       "['Yes']"
      ]
     },
     "execution_count": 11,
     "metadata": {},
     "output_type": "execute_result"
    }
   ],
   "source": [
    "asnwers"
   ]
  },
  {
   "cell_type": "code",
   "execution_count": 12,
   "id": "90125f56-fa27-4cad-8148-7d94e2a62d99",
   "metadata": {},
   "outputs": [],
   "source": [
    "table_cartesians['JOINABLE'] = asnwers"
   ]
  },
  {
   "cell_type": "code",
   "execution_count": 13,
   "id": "74b88ed3-041b-4fab-b8f6-eee57bda1b9b",
   "metadata": {},
   "outputs": [
    {
     "data": {
      "text/html": [
       "<div>\n",
       "<style scoped>\n",
       "    .dataframe tbody tr th:only-of-type {\n",
       "        vertical-align: middle;\n",
       "    }\n",
       "\n",
       "    .dataframe tbody tr th {\n",
       "        vertical-align: top;\n",
       "    }\n",
       "\n",
       "    .dataframe thead th {\n",
       "        text-align: right;\n",
       "    }\n",
       "</style>\n",
       "<table border=\"1\" class=\"dataframe\">\n",
       "  <thead>\n",
       "    <tr style=\"text-align: right;\">\n",
       "      <th></th>\n",
       "      <th>LEFT_TABLE</th>\n",
       "      <th>RIGHT_TABLE</th>\n",
       "      <th>JOINABLE</th>\n",
       "    </tr>\n",
       "  </thead>\n",
       "  <tbody>\n",
       "    <tr>\n",
       "      <th>0</th>\n",
       "      <td>SG_CSV0000000000000925.csv</td>\n",
       "      <td>SG_CSV0000000000001714.csv</td>\n",
       "      <td>Yes</td>\n",
       "    </tr>\n",
       "  </tbody>\n",
       "</table>\n",
       "</div>"
      ],
      "text/plain": [
       "                   LEFT_TABLE                 RIGHT_TABLE JOINABLE\n",
       "0  SG_CSV0000000000000925.csv  SG_CSV0000000000001714.csv      Yes"
      ]
     },
     "execution_count": 13,
     "metadata": {},
     "output_type": "execute_result"
    }
   ],
   "source": [
    "table_cartesians"
   ]
  },
  {
   "cell_type": "code",
   "execution_count": 14,
   "id": "db6266cb-d6c1-4881-9751-1d33b5cdbde7",
   "metadata": {},
   "outputs": [],
   "source": [
    "table_cartesians.to_csv('table_cartesians_JD_with_columns_descriptions.csv', index=False)"
   ]
  }
 ],
 "metadata": {
  "kernelspec": {
   "display_name": "Python 3 (ipykernel)",
   "language": "python",
   "name": "python3"
  },
  "language_info": {
   "codemirror_mode": {
    "name": "ipython",
    "version": 3
   },
   "file_extension": ".py",
   "mimetype": "text/x-python",
   "name": "python",
   "nbconvert_exporter": "python",
   "pygments_lexer": "ipython3",
   "version": "3.10.12"
  }
 },
 "nbformat": 4,
 "nbformat_minor": 5
}
