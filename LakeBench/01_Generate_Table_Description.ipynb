{
 "cells": [
  {
   "cell_type": "code",
   "execution_count": 1,
   "id": "abf7bc76-db81-4535-881b-2a98d0d57a5b",
   "metadata": {},
   "outputs": [],
   "source": [
    "import pandas as pd\n",
    "import numpy as np\n",
    "import json\n",
    "import os\n",
    "import glob\n",
    "\n",
    "import pickle\n",
    "from openai import OpenAI\n",
    "\n",
    "from tenacity import (\n",
    "                        retry,\n",
    "                        stop_after_attempt,\n",
    "                        wait_random_exponential\n",
    ")\n",
    "\n",
    "from tqdm import tqdm"
   ]
  },
  {
   "cell_type": "code",
   "execution_count": 2,
   "id": "2aea0dda-99f6-4e03-a986-c47a377bc8e7",
   "metadata": {},
   "outputs": [],
   "source": [
    "pd.set_option('display.max_rows', None)"
   ]
  },
  {
   "cell_type": "code",
   "execution_count": 3,
   "id": "e338633d-4dad-45a7-b873-f826aa82adee",
   "metadata": {},
   "outputs": [
    {
     "name": "stdout",
     "output_type": "stream",
     "text": [
      "/home/manoelflorencio/cta_for_jd/LakeBench\n"
     ]
    }
   ],
   "source": [
    "path = '/home/manoelflorencio/cta_for_jd/LakeBench'\n",
    "os.chdir(path)\n",
    "print(os.getcwd())"
   ]
  },
  {
   "cell_type": "code",
   "execution_count": 4,
   "id": "ef42f3d1-1f96-46b9-955e-56a88d106c5b",
   "metadata": {},
   "outputs": [],
   "source": [
    "def generate_prompt_table_prediction(table, table_name):\n",
    "\n",
    "    system_msg = f\"\"\"\n",
    "            Given a table name, its respective columns names and some column values, describe the semantics of the given table.\n",
    "            \n",
    "            Describe the semantics of a given table.\n",
    "            Task: Describe in one phrase the information within a table using continuos text, without itemization.\n",
    "            Instructions: \n",
    "                1. Look at the input given to you.\n",
    "                2. Look at the table and columns names.\n",
    "                3. Look at the column values in detail. \n",
    "                4. Describe the target table. \n",
    "            \"\"\"\n",
    "            \n",
    "    user_msg =  f\"\"\"Table Name: {table_name}\n",
    "                    Columns Names: {','.join(table.columns)}\n",
    "                    Table values: {table.iloc[:50,:]}\n",
    "                    Description:\"\"\".strip()\n",
    "    \n",
    "    return system_msg, user_msg"
   ]
  },
  {
   "cell_type": "code",
   "execution_count": 5,
   "id": "ed719dd5-6721-41fc-ba9c-118f14bb0036",
   "metadata": {},
   "outputs": [],
   "source": [
    "def generate_predictions(table, table_name, client):\n",
    "    \n",
    "    system_msg_describe_table, user_msg_describe_table = generate_prompt_table_prediction(table, table_name)\n",
    "    result = execute_prompt(client, system_msg_describe_table, user_msg_describe_table)\n",
    "    description = result.choices[0].message.content.split('Description: ')[-1].strip()\n",
    "\n",
    "    description_df = pd.DataFrame({\n",
    "                               \"TableName\": [table_name],\n",
    "                               \"Description\":[description]\n",
    "                               })\n",
    "    \n",
    "    return description_df"
   ]
  },
  {
   "cell_type": "code",
   "execution_count": 6,
   "id": "473a45ee-05a4-49af-b43f-ec9fd85fe46d",
   "metadata": {},
   "outputs": [],
   "source": [
    "@retry(wait=wait_random_exponential(min=1,max=60), stop=stop_after_attempt(6))\n",
    "def execute_prompt(client, system_msg, user_msg):\n",
    "    completion = client.chat.completions.create(\n",
    "                                            model=\"gpt-4o\",\n",
    "                                            messages=[\n",
    "                                                        {\n",
    "                                                            \"role\": \"system\", \n",
    "                                                             \"content\": f\"{system_msg}\"\n",
    "                                                        },\n",
    "                                                        {\n",
    "                                                            \"role\": \"user\",\n",
    "                                                            \"content\": f\"{user_msg}\"\n",
    "                                                        }\n",
    "                                                    ]\n",
    "                                            )\n",
    "    return completion"
   ]
  },
  {
   "cell_type": "code",
   "execution_count": 7,
   "id": "a2359b1d-7b14-4476-932b-d7eb88a0b94e",
   "metadata": {},
   "outputs": [],
   "source": [
    "client = OpenAI()"
   ]
  },
  {
   "cell_type": "code",
   "execution_count": 8,
   "id": "d7a395ba-780b-4195-973c-7e120bf70d45",
   "metadata": {},
   "outputs": [],
   "source": [
    "filenames = glob.glob('datasets_SG/*')"
   ]
  },
  {
   "cell_type": "code",
   "execution_count": 12,
   "id": "fc401f2e-1d40-4d19-bb09-ecfe12039a00",
   "metadata": {},
   "outputs": [
    {
     "name": "stderr",
     "output_type": "stream",
     "text": [
      " 14%|███████████████████████████▊                                                                                                                                                                         | 177/1255 [04:07<23:05,  1.28s/it]/tmp/ipykernel_430224/2015469613.py:4: DtypeWarning: Columns (14) have mixed types. Specify dtype option on import or set low_memory=False.\n",
      "  df = pd.read_csv(filename)\n",
      " 17%|████████████████████████████████▊                                                                                                                                                                    | 209/1255 [04:52<26:20,  1.51s/it]/tmp/ipykernel_430224/2015469613.py:4: DtypeWarning: Columns (14) have mixed types. Specify dtype option on import or set low_memory=False.\n",
      "  df = pd.read_csv(filename)\n",
      " 31%|█████████████████████████████████████████████████████████████▊                                                                                                                                       | 394/1255 [09:24<21:44,  1.51s/it]/tmp/ipykernel_430224/2015469613.py:4: DtypeWarning: Columns (14) have mixed types. Specify dtype option on import or set low_memory=False.\n",
      "  df = pd.read_csv(filename)\n",
      " 35%|████████████████████████████████████████████████████████████████████▎                                                                                                                                | 435/1255 [10:20<21:18,  1.56s/it]/tmp/ipykernel_430224/2015469613.py:4: DtypeWarning: Columns (5) have mixed types. Specify dtype option on import or set low_memory=False.\n",
      "  df = pd.read_csv(filename)\n",
      " 42%|██████████████████████████████████████████████████████████████████████████████████                                                                                                                   | 523/1255 [12:39<16:48,  1.38s/it]/tmp/ipykernel_430224/2015469613.py:4: DtypeWarning: Columns (5) have mixed types. Specify dtype option on import or set low_memory=False.\n",
      "  df = pd.read_csv(filename)\n",
      " 44%|██████████████████████████████████████████████████████████████████████████████████████▊                                                                                                              | 553/1255 [13:26<16:14,  1.39s/it]/tmp/ipykernel_430224/2015469613.py:4: DtypeWarning: Columns (14) have mixed types. Specify dtype option on import or set low_memory=False.\n",
      "  df = pd.read_csv(filename)\n",
      " 49%|█████████████████████████████████████████████████████████████████████████████████████████████████▍                                                                                                   | 621/1255 [14:52<13:47,  1.30s/it]/tmp/ipykernel_430224/2015469613.py:4: DtypeWarning: Columns (7) have mixed types. Specify dtype option on import or set low_memory=False.\n",
      "  df = pd.read_csv(filename)\n",
      " 54%|█████████████████████████████████████████████████████████████████████████████████████████████████████████▊                                                                                           | 674/1255 [16:08<12:59,  1.34s/it]/tmp/ipykernel_430224/2015469613.py:4: DtypeWarning: Columns (13) have mixed types. Specify dtype option on import or set low_memory=False.\n",
      "  df = pd.read_csv(filename)\n",
      " 55%|███████████████████████████████████████████████████████████████████████████████████████████████████████████▌                                                                                         | 685/1255 [16:28<17:37,  1.86s/it]/tmp/ipykernel_430224/2015469613.py:4: DtypeWarning: Columns (14) have mixed types. Specify dtype option on import or set low_memory=False.\n",
      "  df = pd.read_csv(filename)\n",
      " 59%|████████████████████████████████████████████████████████████████████████████████████████████████████████████████████                                                                                 | 739/1255 [17:51<10:17,  1.20s/it]/tmp/ipykernel_430224/2015469613.py:4: DtypeWarning: Columns (14) have mixed types. Specify dtype option on import or set low_memory=False.\n",
      "  df = pd.read_csv(filename)\n",
      " 65%|████████████████████████████████████████████████████████████████████████████████████████████████████████████████████████████████▏                                                                    | 817/1255 [19:58<13:54,  1.90s/it]/tmp/ipykernel_430224/2015469613.py:4: DtypeWarning: Columns (5) have mixed types. Specify dtype option on import or set low_memory=False.\n",
      "  df = pd.read_csv(filename)\n",
      " 79%|███████████████████████████████████████████████████████████████████████████████████████████████████████████████████████████████████████████████████████████▊                                         | 993/1255 [24:09<06:08,  1.41s/it]/tmp/ipykernel_430224/2015469613.py:4: DtypeWarning: Columns (14) have mixed types. Specify dtype option on import or set low_memory=False.\n",
      "  df = pd.read_csv(filename)\n",
      " 88%|█████████████████████████████████████████████████████████████████████████████████████████████████████████████████████████████████████████████████████████████████████████████▎                      | 1110/1255 [27:02<02:52,  1.19s/it]/tmp/ipykernel_430224/2015469613.py:4: DtypeWarning: Columns (7) have mixed types. Specify dtype option on import or set low_memory=False.\n",
      "  df = pd.read_csv(filename)\n",
      " 99%|█████████████████████████████████████████████████████████████████████████████████████████████████████████████████████████████████████████████████████████████████████████████████████████████████▎  | 1238/1255 [30:14<00:23,  1.36s/it]/tmp/ipykernel_430224/2015469613.py:4: DtypeWarning: Columns (14) have mixed types. Specify dtype option on import or set low_memory=False.\n",
      "  df = pd.read_csv(filename)\n",
      "100%|████████████████████████████████████████████████████████████████████████████████████████████████████████████████████████████████████████████████████████████████████████████████████████████████████| 1255/1255 [30:41<00:00,  1.47s/it]\n"
     ]
    }
   ],
   "source": [
    "# descriptions_df_complete = pd.DataFrame((), columns=['TableName','Description'])\n",
    "\n",
    "for filename in tqdm(filenames[1:]):\n",
    "    df = pd.read_csv(filename)\n",
    "    table_name = filename.split('/')[-1]\n",
    "    descriptions_df = generate_predictions(df, table_name, client)\n",
    "    descriptions_df_complete = pd.concat([descriptions_df_complete, descriptions_df])\n",
    "    descriptions_df_complete.reset_index(drop=True)\n",
    "    descriptions_df_complete.to_csv('table_descriptions.csv', index=False)"
   ]
  }
 ],
 "metadata": {
  "kernelspec": {
   "display_name": "Python 3 (ipykernel)",
   "language": "python",
   "name": "python3"
  },
  "language_info": {
   "codemirror_mode": {
    "name": "ipython",
    "version": 3
   },
   "file_extension": ".py",
   "mimetype": "text/x-python",
   "name": "python",
   "nbconvert_exporter": "python",
   "pygments_lexer": "ipython3",
   "version": "3.10.12"
  }
 },
 "nbformat": 4,
 "nbformat_minor": 5
}
