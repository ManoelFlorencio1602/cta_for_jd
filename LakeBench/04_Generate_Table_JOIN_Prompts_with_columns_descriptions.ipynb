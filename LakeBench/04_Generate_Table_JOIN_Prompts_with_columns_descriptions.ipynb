{
 "cells": [
  {
   "cell_type": "code",
   "execution_count": 1,
   "id": "c78f6905-a03c-4265-a87a-cb642f01337c",
   "metadata": {},
   "outputs": [],
   "source": [
    "import pandas as pd\n",
    "import numpy as np\n",
    "import json\n",
    "import os\n",
    "import glob\n",
    "\n",
    "import pickle\n",
    "\n",
    "from tqdm import tqdm"
   ]
  },
  {
   "cell_type": "code",
   "execution_count": 2,
   "id": "97fc352b-8f4e-4879-9d58-89e3739b24de",
   "metadata": {},
   "outputs": [],
   "source": [
    "pd.set_option('display.max_rows', None)"
   ]
  },
  {
   "cell_type": "code",
   "execution_count": 3,
   "id": "0b64295e-04c7-4584-a5b6-de65383c2a2b",
   "metadata": {},
   "outputs": [
    {
     "name": "stdout",
     "output_type": "stream",
     "text": [
      "/home/manoelflorencio/cta_for_jd/LakeBench\n"
     ]
    }
   ],
   "source": [
    "path = '/home/manoelflorencio/cta_for_jd/LakeBench'\n",
    "os.chdir(path)\n",
    "print(os.getcwd())"
   ]
  },
  {
   "cell_type": "code",
   "execution_count": 4,
   "id": "00671efa-dea7-4c86-ad1d-9a4532086259",
   "metadata": {},
   "outputs": [],
   "source": [
    "def generate_prompt_JD_prediction(target_table_description, target_column_descriptions, candidate_table_description, candidate_column_descriptions):\n",
    "\n",
    "    system_msg = \"\"\"\n",
    "            Given a target table and a candidate table, predict if the pair (target table, candidate table) could be joined and answer with only \"Yes\" or \"No\".\n",
    "\n",
    "            Task: Look carefully at the target table description and the candidate table description, as well as the description of their columns, and \n",
    "            use these information to identify patterns and relationships between the descriptions. The result must be only the word \"Yes\" if the JOIN is \n",
    "            possible or \"No\" otherwise.\n",
    "\n",
    "            Additional info: A JOIN in relational databases is an operation that retrieves related rows from two tables by linking them \n",
    "            based on related columns they may have between them.\n",
    "\n",
    "            Additional info: consider location as JOINable as if the values are standardized.\n",
    "\n",
    "           Instructions: \n",
    "                1. Look at the description of the target table given to you.\n",
    "                2. Look at the description of the columns of the target table given to you.\n",
    "                3. Look at the description of the candidate table given to you.\n",
    "                4. Look at the description of the columns of the candidate table given to you.\n",
    "                5. Predict if the target table and the candidate tables are joinable, answer with \"Yes\" or \"No\".\n",
    "    \"\"\"\n",
    "    user_msg =  f\"\"\"Target Table description: {target_table_description}\n",
    "                  Target Table columns descriptions: {target_column_descriptions}\n",
    "                  Candidate Table description: {candidate_table_description}\n",
    "                  Candidate Table columns descriptions: {candidate_column_descriptions}Answer:\"\"\".strip()\n",
    "\n",
    "    return system_msg, user_msg"
   ]
  },
  {
   "cell_type": "code",
   "execution_count": 5,
   "id": "ff6e8194-1e6f-48e5-b344-c0c917842be8",
   "metadata": {},
   "outputs": [
    {
     "data": {
      "text/html": [
       "<div>\n",
       "<style scoped>\n",
       "    .dataframe tbody tr th:only-of-type {\n",
       "        vertical-align: middle;\n",
       "    }\n",
       "\n",
       "    .dataframe tbody tr th {\n",
       "        vertical-align: top;\n",
       "    }\n",
       "\n",
       "    .dataframe thead th {\n",
       "        text-align: right;\n",
       "    }\n",
       "</style>\n",
       "<table border=\"1\" class=\"dataframe\">\n",
       "  <thead>\n",
       "    <tr style=\"text-align: right;\">\n",
       "      <th></th>\n",
       "      <th>TableName</th>\n",
       "      <th>Column</th>\n",
       "      <th>Description</th>\n",
       "      <th>CTA</th>\n",
       "    </tr>\n",
       "  </thead>\n",
       "  <tbody>\n",
       "    <tr>\n",
       "      <th>0</th>\n",
       "      <td>SG_CSV0000000000000925.csv</td>\n",
       "      <td>respondent_serial</td>\n",
       "      <td>The 'respondent_serial' column contains unique...</td>\n",
       "      <td>Identifier</td>\n",
       "    </tr>\n",
       "    <tr>\n",
       "      <th>1</th>\n",
       "      <td>SG_CSV0000000000000925.csv</td>\n",
       "      <td>respondent_id</td>\n",
       "      <td>The 'respondent_id' column contains unique ide...</td>\n",
       "      <td>Identifier</td>\n",
       "    </tr>\n",
       "    <tr>\n",
       "      <th>2</th>\n",
       "      <td>SG_CSV0000000000000925.csv</td>\n",
       "      <td>country</td>\n",
       "      <td>The \"country\" column contains the name of the ...</td>\n",
       "      <td>Country</td>\n",
       "    </tr>\n",
       "    <tr>\n",
       "      <th>3</th>\n",
       "      <td>SG_CSV0000000000000925.csv</td>\n",
       "      <td>yearbornin_1_slice</td>\n",
       "      <td>The 'yearbornin_1_slice' column indicates a sl...</td>\n",
       "      <td>Date</td>\n",
       "    </tr>\n",
       "    <tr>\n",
       "      <th>4</th>\n",
       "      <td>SG_CSV0000000000000925.csv</td>\n",
       "      <td>yearbornin_1_slice1</td>\n",
       "      <td>The 'yearbornin_1_slice1' column represents th...</td>\n",
       "      <td>Number</td>\n",
       "    </tr>\n",
       "  </tbody>\n",
       "</table>\n",
       "</div>"
      ],
      "text/plain": [
       "                    TableName               Column  \\\n",
       "0  SG_CSV0000000000000925.csv    respondent_serial   \n",
       "1  SG_CSV0000000000000925.csv        respondent_id   \n",
       "2  SG_CSV0000000000000925.csv              country   \n",
       "3  SG_CSV0000000000000925.csv   yearbornin_1_slice   \n",
       "4  SG_CSV0000000000000925.csv  yearbornin_1_slice1   \n",
       "\n",
       "                                         Description         CTA  \n",
       "0  The 'respondent_serial' column contains unique...  Identifier  \n",
       "1  The 'respondent_id' column contains unique ide...  Identifier  \n",
       "2  The \"country\" column contains the name of the ...     Country  \n",
       "3  The 'yearbornin_1_slice' column indicates a sl...        Date  \n",
       "4  The 'yearbornin_1_slice1' column represents th...      Number  "
      ]
     },
     "execution_count": 5,
     "metadata": {},
     "output_type": "execute_result"
    }
   ],
   "source": [
    "column_descriptions = pd.read_csv('column_descriptions_with_cta.csv')\n",
    "column_descriptions.head()"
   ]
  },
  {
   "cell_type": "code",
   "execution_count": 6,
   "id": "fd8011b3-4f08-493a-9920-8cc98c54cba6",
   "metadata": {},
   "outputs": [
    {
     "data": {
      "text/plain": [
       "(6756, 4)"
      ]
     },
     "execution_count": 6,
     "metadata": {},
     "output_type": "execute_result"
    }
   ],
   "source": [
    "column_descriptions.shape"
   ]
  },
  {
   "cell_type": "code",
   "execution_count": 7,
   "id": "d77988da-cf87-4f54-a5e7-651c1818905d",
   "metadata": {},
   "outputs": [
    {
     "data": {
      "text/html": [
       "<div>\n",
       "<style scoped>\n",
       "    .dataframe tbody tr th:only-of-type {\n",
       "        vertical-align: middle;\n",
       "    }\n",
       "\n",
       "    .dataframe tbody tr th {\n",
       "        vertical-align: top;\n",
       "    }\n",
       "\n",
       "    .dataframe thead th {\n",
       "        text-align: right;\n",
       "    }\n",
       "</style>\n",
       "<table border=\"1\" class=\"dataframe\">\n",
       "  <thead>\n",
       "    <tr style=\"text-align: right;\">\n",
       "      <th></th>\n",
       "      <th>TableName</th>\n",
       "      <th>Description</th>\n",
       "    </tr>\n",
       "  </thead>\n",
       "  <tbody>\n",
       "    <tr>\n",
       "      <th>0</th>\n",
       "      <td>SG_CSV0000000000001178.csv</td>\n",
       "      <td>The table SG_CSV0000000000001178.csv presents ...</td>\n",
       "    </tr>\n",
       "    <tr>\n",
       "      <th>1</th>\n",
       "      <td>SG_CSV0000000000000451.csv</td>\n",
       "      <td>The table \"SG_CSV0000000000000451.csv\" contain...</td>\n",
       "    </tr>\n",
       "    <tr>\n",
       "      <th>2</th>\n",
       "      <td>SG_CSV0000000000000147.csv</td>\n",
       "      <td>The table contains data on the average monthly...</td>\n",
       "    </tr>\n",
       "    <tr>\n",
       "      <th>3</th>\n",
       "      <td>SG_CSV0000000000000048.csv</td>\n",
       "      <td>The table \"SG_CSV0000000000000048.csv\" contain...</td>\n",
       "    </tr>\n",
       "    <tr>\n",
       "      <th>4</th>\n",
       "      <td>SG_CSV0000000000001638.csv</td>\n",
       "      <td>The table SG_CSV0000000000001638.csv contains ...</td>\n",
       "    </tr>\n",
       "  </tbody>\n",
       "</table>\n",
       "</div>"
      ],
      "text/plain": [
       "                    TableName  \\\n",
       "0  SG_CSV0000000000001178.csv   \n",
       "1  SG_CSV0000000000000451.csv   \n",
       "2  SG_CSV0000000000000147.csv   \n",
       "3  SG_CSV0000000000000048.csv   \n",
       "4  SG_CSV0000000000001638.csv   \n",
       "\n",
       "                                         Description  \n",
       "0  The table SG_CSV0000000000001178.csv presents ...  \n",
       "1  The table \"SG_CSV0000000000000451.csv\" contain...  \n",
       "2  The table contains data on the average monthly...  \n",
       "3  The table \"SG_CSV0000000000000048.csv\" contain...  \n",
       "4  The table SG_CSV0000000000001638.csv contains ...  "
      ]
     },
     "execution_count": 7,
     "metadata": {},
     "output_type": "execute_result"
    }
   ],
   "source": [
    "table_descriptions = pd.read_csv('table_descriptions.csv')\n",
    "table_descriptions.head()"
   ]
  },
  {
   "cell_type": "code",
   "execution_count": 8,
   "id": "62dbb3ae-ed21-4a76-a245-ced263007359",
   "metadata": {},
   "outputs": [
    {
     "data": {
      "text/plain": [
       "(1256, 2)"
      ]
     },
     "execution_count": 8,
     "metadata": {},
     "output_type": "execute_result"
    }
   ],
   "source": [
    "table_descriptions.shape"
   ]
  },
  {
   "cell_type": "code",
   "execution_count": 9,
   "id": "565e5c44-fe93-4871-aab3-974b15426483",
   "metadata": {},
   "outputs": [
    {
     "data": {
      "text/html": [
       "<div>\n",
       "<style scoped>\n",
       "    .dataframe tbody tr th:only-of-type {\n",
       "        vertical-align: middle;\n",
       "    }\n",
       "\n",
       "    .dataframe tbody tr th {\n",
       "        vertical-align: top;\n",
       "    }\n",
       "\n",
       "    .dataframe thead th {\n",
       "        text-align: right;\n",
       "    }\n",
       "</style>\n",
       "<table border=\"1\" class=\"dataframe\">\n",
       "  <thead>\n",
       "    <tr style=\"text-align: right;\">\n",
       "      <th></th>\n",
       "      <th>LEFT_TABLE</th>\n",
       "      <th>RIGHT_TABLE</th>\n",
       "    </tr>\n",
       "  </thead>\n",
       "  <tbody>\n",
       "    <tr>\n",
       "      <th>0</th>\n",
       "      <td>SG_CSV0000000000001178.csv</td>\n",
       "      <td>SG_CSV0000000000000451.csv</td>\n",
       "    </tr>\n",
       "    <tr>\n",
       "      <th>1</th>\n",
       "      <td>SG_CSV0000000000001178.csv</td>\n",
       "      <td>SG_CSV0000000000000147.csv</td>\n",
       "    </tr>\n",
       "    <tr>\n",
       "      <th>2</th>\n",
       "      <td>SG_CSV0000000000001178.csv</td>\n",
       "      <td>SG_CSV0000000000000048.csv</td>\n",
       "    </tr>\n",
       "    <tr>\n",
       "      <th>3</th>\n",
       "      <td>SG_CSV0000000000001178.csv</td>\n",
       "      <td>SG_CSV0000000000001638.csv</td>\n",
       "    </tr>\n",
       "    <tr>\n",
       "      <th>4</th>\n",
       "      <td>SG_CSV0000000000001178.csv</td>\n",
       "      <td>SG_CSV0000000000000744.csv</td>\n",
       "    </tr>\n",
       "  </tbody>\n",
       "</table>\n",
       "</div>"
      ],
      "text/plain": [
       "                   LEFT_TABLE                 RIGHT_TABLE\n",
       "0  SG_CSV0000000000001178.csv  SG_CSV0000000000000451.csv\n",
       "1  SG_CSV0000000000001178.csv  SG_CSV0000000000000147.csv\n",
       "2  SG_CSV0000000000001178.csv  SG_CSV0000000000000048.csv\n",
       "3  SG_CSV0000000000001178.csv  SG_CSV0000000000001638.csv\n",
       "4  SG_CSV0000000000001178.csv  SG_CSV0000000000000744.csv"
      ]
     },
     "execution_count": 9,
     "metadata": {},
     "output_type": "execute_result"
    }
   ],
   "source": [
    "table_matches = pd.read_csv('table_cartesians.csv')\n",
    "table_matches.head()"
   ]
  },
  {
   "cell_type": "code",
   "execution_count": 10,
   "id": "9226e9ce-67c5-4047-8ab0-deb1b359c05c",
   "metadata": {},
   "outputs": [],
   "source": [
    "table_matches = table_matches[(table_matches['LEFT_TABLE'] == 'SG_CSV0000000000000925.csv') | (table_matches['RIGHT_TABLE'] == 'SG_CSV0000000000000925.csv')]"
   ]
  },
  {
   "cell_type": "code",
   "execution_count": 11,
   "id": "964bbb1b-5a77-474d-a35f-62780dd85256",
   "metadata": {},
   "outputs": [
    {
     "data": {
      "text/plain": [
       "(1255, 2)"
      ]
     },
     "execution_count": 11,
     "metadata": {},
     "output_type": "execute_result"
    }
   ],
   "source": [
    "table_matches.shape"
   ]
  },
  {
   "cell_type": "code",
   "execution_count": 12,
   "id": "43a4023f-72cc-49bf-a361-a2cca50be589",
   "metadata": {
    "scrolled": true
   },
   "outputs": [
    {
     "name": "stderr",
     "output_type": "stream",
     "text": [
      "100%|███████████████████████████████████████████████████████████████████████████████████████████████████████████████████████████████████████████████████████████████████████████████████████████████████| 1255/1255 [00:03<00:00, 324.06it/s]\n"
     ]
    }
   ],
   "source": [
    "prompts = []\n",
    "init = 0\n",
    "end = 10000\n",
    "\n",
    "for i in tqdm(range(len(table_matches))):\n",
    "# for i in tqdm(range(init, end)):\n",
    "    left_table_name  = table_matches.iloc[i, 0]\n",
    "    right_table_name = table_matches.iloc[i, 1]\n",
    "    \n",
    "    target_table_description = table_descriptions[table_descriptions['TableName'] == left_table_name].iloc[0,1]\n",
    "    target_column_descriptions = column_descriptions[column_descriptions['TableName'] == left_table_name].Description.values    \n",
    "    \n",
    "    candidate_table_description = table_descriptions[table_descriptions['TableName'] == right_table_name].iloc[0,1]\n",
    "    candidate_column_descriptions = column_descriptions[column_descriptions['TableName'] == right_table_name].Description.values\n",
    "    \n",
    "    prompt = generate_prompt_JD_prediction(target_table_description, target_column_descriptions, \n",
    "                                           candidate_table_description, candidate_column_descriptions)\n",
    "    prompts.append(prompt)"
   ]
  },
  {
   "cell_type": "code",
   "execution_count": 13,
   "id": "c32c2212-1759-4a6f-bacb-4a90c03cbc4f",
   "metadata": {},
   "outputs": [],
   "source": [
    "del column_descriptions\n",
    "del table_descriptions\n",
    "del table_matches"
   ]
  },
  {
   "cell_type": "code",
   "execution_count": 14,
   "id": "5fbb30b3-98ca-4442-a2d9-23f185af2b19",
   "metadata": {},
   "outputs": [
    {
     "data": {
      "text/plain": [
       "1255"
      ]
     },
     "execution_count": 14,
     "metadata": {},
     "output_type": "execute_result"
    }
   ],
   "source": [
    "len(prompts)"
   ]
  },
  {
   "cell_type": "code",
   "execution_count": 15,
   "id": "0ffa8230-8497-4bcf-a8ad-a1edf8afa672",
   "metadata": {
    "scrolled": true
   },
   "outputs": [
    {
     "data": {
      "text/plain": [
       "('\\n            Given a target table and a candidate table, predict if the pair (target table, candidate table) could be joined and answer with only \"Yes\" or \"No\".\\n\\n            Task: Look carefully at the target table description and the candidate table description, as well as the description of their columns, and \\n            use these information to identify patterns and relationships between the descriptions. The result must be only the word \"Yes\" if the JOIN is \\n            possible or \"No\" otherwise.\\n\\n            Additional info: A JOIN in relational databases is an operation that retrieves related rows from two tables by linking them \\n            based on related columns they may have between them.\\n\\n            Additional info: consider location as JOINable as if the values are standardized.\\n\\n           Instructions: \\n                1. Look at the description of the target table given to you.\\n                2. Look at the description of the columns of the target table given to you.\\n                3. Look at the description of the candidate table given to you.\\n                4. Look at the description of the columns of the candidate table given to you.\\n                5. Predict if the target table and the candidate tables are joinable, answer with \"Yes\" or \"No\".\\n    ',\n",
       " 'Target Table description: The table SG_CSV0000000000001178.csv presents information on the financial years, types of facilities, and their respective categories, either sold or rented, from 2006 to 2008, covering various types of community and service centers such as childcare centers, education centers, social service centers, and medical service centers.\\n                  Target Table columns descriptions: [\\'The \"financial_year\" column contains values indicating the year associated with financial data, reflecting the period during which transactions or records were categorized, specifically spanning various years such as 2006 and 2007.\\'\\n \"The \\'facility_type\\' column describes the specific type of facility involved in each entry, such as childcare centres, education centres, social service centres, or other similar community and service-oriented establishments.\"\\n \"The \\'category\\' column describes the status of a facility in terms of its occupancy, indicating whether the facility has been sold or rented.\"]\\n                  Candidate Table description: The table \"SG_CSV0000000000000925.csv\" provides detailed demographic and sociocultural data on individuals residing in Singapore, capturing aspects such as age, gender, occupation, educational level, marital status, income, and social networks, along with participants\\' perceptions and rankings on various sociocultural and moral segments.\\n                  Candidate Table columns descriptions: [\"The \\'respondent_serial\\' column contains unique numerical identifiers assigned to each respondent participating in the survey, ensuring each entry is distinctly recognizable within the dataset.\"\\n \\'The \\\\\\'respondent_id\\\\\\' column contains unique identifiers assigned to each survey participant, formatted as a string that typically begins with \"GEN24_\" followed by a number or a combination of characters and numbers, serving to distinguish each respondent within the dataset.\\'\\n \\'The \"country\" column contains the name of the country where the respondent is from, in this case, all recorded instances show \"Singapore.\"\\'\\n \"The \\'yearbornin_1_slice\\' column indicates a slice or portion of the year in which each respondent was born, suggesting the year or range of years defining the time period of their birth.\"\\n \"The \\'yearbornin_1_slice1\\' column represents the year in which respondents were born, likely segmented or categorized in some fashion different from \\'yearbornin_1_slice\\', to help in analyzing age-related trends or patterns within the dataset.\"\\n \"The \\'ageofrespondent\\' column contains numerical values representing the age of each respondent at the time the data was collected.\"\\n \\'The \"indicateage\" column contains binary values indicating whether or not the respondent has provided their age.\\'\\n \\'The \"gender\" column indicates the gender identity of the respondent, typically represented as different categorical variables such as \\\\\\'Male\\\\\\' and \\\\\\'Female\\\\\\'.\\'\\n \"The \\'occstatus\\' column describes the employment or occupational status of each respondent, indicating if they are likely working, unemployed, retired, or in another employment condition.\"\\n \"The \\'levelsch\\' column indicates the highest level of education attained or the educational qualification of the respondent.\"\\n \"The \\'highestlevel\\' column denotes the highest educational level attained by the respondents in the survey.\"\\n \\'The column \\\\\\'unisch\\\\\\' likely contains data indicating whether respondents attended or completed a university education, as inferred from potential binary values like \"Yes\" and \"No\" that denote participation or completion status in higher education.\\'\\n \"The \\'postgradsch\\' column indicates whether the respondent has attended any postgraduate school, likely marked by categorical variables such as \\'Yes\\' or \\'No\\'.\"\\n \"The \\'occupationindustry\\' column likely contains information about the specific industry or sector in which the respondent works or is employed.\"\\n \"The column \\'occupation2\\' lists the respondent\\'s occupation or professional status, indicating their primary type of employment or professional affiliation.\"\\n \"The \\'whichauthority\\' column contains information on respondents\\' preferred or most identified authority or guiding principle, as indicated by values such as \\'Family\\', \\'Government\\', or \\'Religion\\'.\"\\n \"The \\'rankmostimptchild_1\\' column captures a numerical value indicating the priority or significance assigned by the respondent regarding their perception of an important aspect or characteristic related to children.\"\\n \"The \\'rankmostimptchild_2\\' column likely contains ordinal data reflecting the priority or importance assigned by respondents to certain aspects or traits considered most important for children to learn, indicated as a numerical ranking or position in a list of such traits.\"\\n \"The \\'rankmostimptchild_3\\' column contains a ranking or prioritization value that signifies the respondent\\'s perception regarding the importance of a specific aspect related to children, where higher values likely represent higher importance in the context of a survey or study.\"\\n \"The \\'livinginsg_1_slice\\' column indicates whether the respondent lives in Singapore or not, as a part of a demographic survey, typically reflecting residential status during the time of data collection.\"\\n \\'The \"livinginsg_2_slice\" column indicates a binary response (either \\\\\\'Yes\\\\\\' or \\\\\\'No\\\\\\') reflecting whether the respondent currently resides in Singapore.\\'\\n \\'The \"livinginsg_3_slice\" column signifies whether the respondent is currently residing in Singapore, often represented as binary values indicating \\\\\\'Yes\\\\\\' or \\\\\\'No\\\\\\'.\\'\\n \\'The \"livinginsg_4_slice\" column indicates whether the respondent was living in Singapore at the time of the survey.\\'\\n \"The \\'vbc\\' column contains binary categorical values \\'Yes\\' or \\'No\\' denoting the response to a specific question or condition in the survey.\"\\n \"The column \\'sliderliberty_1_slice\\' likely contains quantitative data representing responses or ratings related to the concept of liberty, potentially on a sliding scale, as a part of a larger survey or study.\"\\n \\'The \"maritialstatus\" column documents the marital status of the respondents, indicating their current relationship status such as single, married, divorced, or widowed.\\'\\n \\'The \"children\" column indicates whether the respondent has children or not, typically marked by binary values such as \\\\\\'Yes\\\\\\' or \\\\\\'No\\\\\\'.\\'\\n \"The \\'noofchildren\\' column contains numerical data indicating the number of children each respondent has.\"\\n \\'The \"childage\" column captures the age of a specific child related to the respondent, which is likely identified by their relationship or role in the survey context.\\'\\n \\'The \"personalincome\" column contains data reflecting the individual income levels of respondents, which likely represent a range of monetary values indicating the earnings or financial earnings of each person surveyed, reflecting their personal financial status or earnings capacity within the survey data context.\\'\\n \"The \\'hhi\\' column likely represents the household income or a related aggregated household index for each respondent.\"\\n \"The \\'socialnetwork_1_slice\\' column contains categorical data indicating whether respondents are part of a particular social network, with values represented as either \\'Yes\\' or \\'No\\'.\"\\n \"The \\'socialnetwork_2_slice\\' column contains categorical information indicating the different types of social networking actions or platforms used by respondents.\"\\n \"The \\'socialnetwork_3_slice\\' column in the table contains categorical data indicating respondents\\' usage or activity status on a particular social network, represented by either \\'Yes\\' or \\'No\\'.\"\\n \\'The \"socialnetwork_4_slice\" column contains binary categorical values indicating whether or not the respondent is associated with a particular social network attribute, likely reflecting their social engagement or activity level related to that network.\\'\\n \\'The \"socialnetwork_5_slice\" column describes a specific aspect or category of the respondents\\\\\\' social network preferences or behaviors, likely representing a subset or segment within a larger dataset about social networking habits or attitudes.\\'\\n \"The \\'socialnetwork_6_slice\\' column contains entries that indicate the respondents\\' usage or engagement level with a particular social network platform, captured in binary \\'Yes\\' or \\'No\\' responses.\"\\n \"The column \\'socialnetwork_dp01\\' represents whether the respondents use a specific social networking platform, indicated by values such as \\'Yes\\' or \\'No\\'.\"\\n \"The \\'socialnetwork_dp02\\' column contains binary data indicating the presence or absence of a respondent\\'s participation or engagement in a specific type of social network or digital platform, likely denoted by a \\'Yes\\' or \\'No\\' response.\"\\n \"The \\'socialnetwork_dp03\\' column likely contains categorical data indicating whether a respondent is active on a specific social network platform or if they have a profile on it, based on its nomenclature and typical survey construction.\"\\n \"The \\'socialnetwork_dp04\\' column captures whether respondents identify themselves in specific social network categories, such as \\'Loyal_betrayal,\\' \\'Harm_Care,\\' \\'Fairness_Cheating,\\' or \\'Purity_Degradation,\\' indicating their social or moral alignment.\"\\n \"The \\'socialnetwork_dp05\\' column captures the usage preferences or engagement of respondents with a particular social network platform, potentially highlighting their frequency or intensity of use.\"\\n \"The \\'socialnetwork_dp06\\' column contains dichotomous values indicating whether respondents use a particular social network platform, represented as \\'Yes\\' or \\'No\\'.\"\\n \\'The \"socialnetwork_dp07\" column captures responses regarding the frequency or type of engagement participants have with social networks or social media platforms.\\'\\n \"The \\'socialnetwork_dp08\\' column captures a binary indicator reflecting whether the respondent is active on a specific social network platform, with values typically represented as \\'Yes\\' or \\'No\\'.\"\\n \"The \\'socialnetwork_dp09\\' column in the table captures respondents\\' usage or engagement with specific social networks or platforms, though specific values are not provided for more detailed insight.\"\\n \"The \\'socialnetwork_dp10\\' column captures respondents\\' preferences or behaviors regarding social networks, likely indicating their engagement level, usage patterns, or attitudes towards digital platforms.\"\\n \"The column \\'q20_q211\\' contains responses indicating the participant\\'s tendency to agree or disagree with a specific moral or ethical principle, as denoted by various categorically labeled values.\"\\n \"The \\'q20_q212\\' column captures binary survey responses indicating either a \\'Yes\\' or \\'No\\' answer to a specific question related to the participant\\'s attitudes or behaviors.\"\\n \"The target column \\'q20_q213\\' likely contains responses or data related to a specific survey question, where the entries are either categorical or ordinal in nature, capturing participants\\' attitudes, opinions, or experiences that correlate with other thematic questions identified by similar \\'q20\\' identifiers.\"\\n \"The column \\'q20_q214\\' contains binary responses indicating whether respondents engage in or agree with a certain unspecified behavior or statement, with possible values being \\'Yes\\' or \\'No\\'.\"\\n \\'The \\\\\\'ban_age\\\\\\' column likely contains values representing respondents\\\\\\' ages in relation to specific questions or scenarios regarding \"ban\" topics or initiatives.\\'\\n \"The \\'ban_gender\\' column represents data on whether respondents believe certain bans should be applied differently based on gender, with possible answers indicating their stance such as \\'Yes\\' or \\'No\\'.\"\\n \"The column \\'ban_personal_inc\\' contains data related to the respondent\\'s personal income bracket, reflecting financial information such as income level or category for each individual within the dataset.\"\\n \"The \\'ban_mhi\\' column likely contains responses or ratings related to mental health issues, capturing individual sentiments or evaluations on mental health-related questions in the context of the survey conducted among respondents from Singapore.\"\\n \"The column \\'ban_q18_q191\\' in the table appears to contain binary responses, indicating a \\'Yes\\' or \\'No\\' answer to a specific question asked to respondents, potentially related to a survey or study conducted in Singapore.\"\\n \"The target column \\'ban_q18_q192\\' contains boolean values, specifically \\'Yes\\' or \\'No\\', indicating the respondent\\'s answer or opinion to a specific survey question which isn\\'t explicitly detailed but may relate to a binary choice or agreement.\"\\n \"The column \\'ban_q18_q193\\' contains binary responses indicating whether the respondents have a certain attribute or condition, such as the presence or absence of a particular opinion, belief, or behavior, as evidenced by consistent entries like \\'Yes\\' or \\'No\\'.\"\\n \"The target column \\'ban_q18_q194\\' contains responses indicating whether individuals, presumably in a survey or study context, answered \\'Yes\\' or \\'No\\' to a particular question or statement that is part of a broader assessment categorized under the identifier \\'ban_q18_q194\\'.\"\\n \"The \\'ban_education1\\' column likely contains categorical values that signify the respondents\\' educational background or level, which might be used to understand how education relates to opinions or behaviors captured in other survey questions.\"\\n \"The column \\'ban_education2\\' contains categorical values indicating an individual\\'s level of education or attitudes towards education standards, possibly related to a specific question in a survey or study.\"\\n \"The column \\'ban_education3\\' contains data indicating the educational background or qualifications of the respondents, which may include responses or classifications related to educational attainment levels or categories.\"\\n \"The \\'ban_education4\\' column contains responses indicating whether certain educational bans or affiliations are considered important or relevant by the respondents.\"\\n \"The \\'ban_occupation_status1\\' column likely captures data related to the occupation status of respondents in the survey.\"\\n \\'The \"ban_occupation_status2\" column likely contains information about the employment or occupational status of respondents within the dataset, indicating whether certain occupational restrictions or conditions apply to them.\\'\\n \"The \\'ban_occupation_status3\\' column likely captures information regarding an individual\\'s occupation status, possibly indicating categories or levels of employment or professional engagement, as part of the broader dataset detailing respondent demographics and characteristics.\"\\n \"The \\'ban_occupation_status4\\' column categorizes respondents based on their employment status or occupational classification, specifically identifying whether their occupation is banned or restricted in some capacity.\"\\n \"The \\'ban_occupation_status5\\' column identifies whether respondents, as part of a study, hold a particular occupational status, which may be related to a specific question or condition in the survey denoted by the prefix \\'ban\\'.\"\\n \"The \\'ban_occupation_status6\\' column indicates whether respondents belong to a specific occupational status category, potentially part of a series detailing varying professional conditions or classifications.\"\\n \"The \\'ban_occupation_status7\\' column likely captures specific information related to respondents\\' occupation status, potentially in the context of a survey or study on employment or economic conditions, although specific values in the column are not provided to determine the exact nature of the data captured.\"\\n \"The \\'ban_occupation_status8\\' column represents a categorical variable indicating the occupational status of respondents, with possible values being \\'Yes\\' or \\'No\\'.\"\\n \\'The \"ban_occupation_status9\" column holds categorical data that likely represents responses or attitudes towards different occupations, possibly indicating the acceptance, restriction, or other qualitative measures related to occupation status from the survey respondents.\\'\\n \\'The \"ban_occupation_role1\" column contains information about the specific occupation roles that are being referred to in the context of a survey or study, indicating how occupational roles are grouped or categorized for analysis.\\'\\n \\'The column \"ban_occupation_role2\" contains categorical information representing different occupational roles or categories assigned to respondents in the dataset.\\'\\n \"The \\'ban_occupation_role3\\' column captures data indicating whether respondents identify with a particular occupation role or category, potentially related to binary occupation status or filling specific job functions within an occupational context.\"\\n \\'The \"ban_occupation_role4\" column categorizes respondents based on their roles or positions within an organizational context, focusing on specific occupational or professional distinctions.\\'\\n \"The \\'ban_occupation_role5\\' column likely contains categorical data representing specific occupation roles or categories that respondents might have indicated, possibly pertaining to whether certain roles are deemed acceptable or controversial in the context of a banning survey.\"\\n \\'The \"ban_occupation_role6\" column contains binary or categorical data indicating whether a respondent associates with a specific role or perspective regarding occupational or professional restrictions, as part of a broader survey exploring attitudes and beliefs.\\'\\n \\'The \"ban_occupation_role7\" column appears to capture responses related to a specific occupational role or function, with values presumably denoting whether the respondent has a certain occupational role or responsibility, possibly indicated by a binary \"Yes\" or \"No\" response.\\'\\n \\'The \"ban_occupation_role8\" column likely contains information about the specific occupation or role classification that is being banned or regulated, often represented as discrete categorical values indicating the nature of the role or occupation restriction.\\'\\n \"The \\'ban_marital\\' column contains responses indicating the marital status of the participants in the study.\"\\n \"The \\'ban_children1\\' column contains categorical responses indicating whether respondents believe in banning children-related activities, with possible values suggesting \\'Yes\\' or \\'No\\' beliefs.\"\\n \"The target column \\'ban_children2\\' contains values that indicate whether respondents believe (Yes or No) that certain actions or policies are acceptable or applicable to children, as inferred from the binary responses given.\"\\n \\'The target column \"ban_children3\" contains binary responses indicating whether respondents are in favor (\\\\\\'Yes\\\\\\') or not in favor (\\\\\\'No\\\\\\') regarding a particular stance or policy related to children.\\'\\n \"The column \\'ban_children4\\' indicates whether respondents answered \\'Yes\\' or \\'No\\' to a specific question related to the presence or consideration of a ban that involves children, as part of a larger set of survey questions.\"\\n \"The column \\'ban_no_ofchildren\\' represents the number of children a respondent has.\"\\n \"The column \\'ban_age_youngest\\' likely represents the age of the youngest individual within a specified group or family associated with the respondent.\"\\n \"The \\'ban_q28\\' column contains binary responses indicating whether the respondent answered \\'Yes\\' or \\'No\\' to a particular survey question, which is likely related to a specific ban or restriction topic.\"\\n \"The column \\'ban_q30_1\\' contains binary responses, indicating a \\'Yes\\' or \\'No\\' answer to a survey question regarding a specific issue related to the questionnaire in a given study.\"\\n \"The column \\'ban_q30_2\\' contains binary responses indicating whether participants agree (\\'Yes\\') or disagree (\\'No\\') with a specific question related to an unspecified topic within a survey.\"\\n \\'The \\\\\\'ban_q30_3\\\\\\' column contains binary information indicating whether respondents answered \"Yes\" or \"No\" to a specific survey question, with the exact nature of the question not specified in the provided table values.\\'\\n \\'The \"ban_q30_4\" column contains binary responses, \"Yes\" or \"No,\" indicating whether the respondent agrees with a specific statement or condition related to banning, as part of a survey question.\\'\\n \"The \\'ban_q32\\' column contains binary responses indicating whether the individuals agree or disagree with a certain proposition or question.\"\\n \"The \\'ban_q431\\' column contains binary responses, \\'Yes\\' or \\'No\\', indicating whether respondents agreed or disagreed with a particular survey question.\"\\n \"The \\'ban_q432\\' column contains binary responses indicating either \\'Yes\\' or \\'No\\'.\"\\n \\'The target column \"ban_q433\" captures the binary response of survey participants, represented as \\\\\\'Yes\\\\\\' or \\\\\\'No\\\\\\', which likely corresponds to their stance or behavior concerning a specific question or statement included in the survey.\\'\\n \"The \\'ban_q434\\' column contains binary values indicating whether respondents answered \\'Yes\\' or \\'No\\' to a specific survey question related to a particular topic, likely concerning personal values or behaviors.\"\\n \"The \\'ban_q435\\' column contains binary responses indicating whether the respondent agrees or disagrees with a specific proposition or statement, as evidenced by the values \\'Yes\\' and \\'No\\'.\"\\n \\'The \"ban_q436\" column contains binary responses indicating whether respondents affirmed or denied a particular proposition or statement, as represented by \\\\\\'Yes\\\\\\' or \\\\\\'No\\\\\\'.\\'\\n \"The target column \\'ban_q437\\' captures binary responses indicating either \\'Yes\\' or \\'No\\' to a specific question or statement in a survey or study context, likely related to an aspect of individual beliefs or behaviors.\"\\n \"The \\'md_segment\\' column categorizes individuals based on moral foundations, reflecting distinct moral values or orientations such as \\'Loyal_betrayal\\', \\'Harm_Care\\', \\'Fairness_Cheating\\', \\'Purity_Degradation\\', which guide their ethical and social behavior.\"\\n \"The \\'respondent_serial\\' column contains unique numerical identifiers assigned to each individual responding to the survey, ensuring that each respondent is distinctly numbered for identification purposes.\"\\n \\'The \"respondent_id\" column contains unique alphanumeric codes assigned to each respondent to identify them within the dataset.\\'\\n \"The target column \\'country\\' contains the name of the country where each respondent is from, and in this dataset, all entries are \\'Singapore\\', indicating that all respondents are from Singapore.\"\\n \\'The \"yearbornin_1_slice\" column contains the abbreviated or specific part of the birth year information for each respondent.\\'\\n \"The \\'yearbornin_1_slice1\\' column provides information on the century in which the respondent was born.\"\\n \\'The \"ageofrespondent\" column represents the age of each participant or respondent in the dataset, likely calculated from their year of birth or provided directly by the respondent to indicate how old they are at the time of the survey or data collection.\\'\\n \"The \\'indicateage\\' column specifies whether the age of the respondent has been indicated, using values like \\'Yes\\' or \\'No\\'.\"\\n \\'The target column \"gender\" contains information about the gender of the respondents, categorizing them typically as either \\\\\\'Male\\\\\\' or \\\\\\'Female\\\\\\'.\\'\\n \"The \\'occstatus\\' column describes the occupational status of each respondent, providing information on their current employment situation or professional activity level.\"\\n \\'The \"levelsch\" column represents the education level or scholastic attainment of the respondents, indicating the highest level of formal education they have completed.\\'\\n \\'The \"highestlevel\" column represents the highest level of education achieved by the respondents.\\'\\n \"The \\'unisch\\' column likely contains categorical data referring to a specific aspect or category related to universities or higher education, possibly indicating a type of school affiliation, involvement, or opinion related to university education, but the precise nature of the column is ambiguous without further context.\"\\n \\'The \"postgradsch\" column indicates whether the respondent has completed postgraduate school or education, typically represented by values such as \\\\\\'Yes\\\\\\' or \\\\\\'No\\\\\\'.\\'\\n \\'The \"occupationindustry\" column describes the industry sector or field in which the respondent is employed or was employed, capturing information about the type of business or economic activity associated with their occupation.\\'\\n \\'The \"occupation2\" column contains categorical data representing the secondary or alternative occupation or job title of the respondent, if applicable.\\'\\n \"The \\'whichauthority\\' column contains information regarding the specific authority or moral foundation with which respondents identify or align themselves within the context of the survey, capturing diverse alignments such as \\'Loyal_betrayal\\', \\'Harm_Care\\', \\'Fairness_Cheating\\', and other potential moral or ethical categories.\"\\n \"The column \\'rankmostimptchild_1\\' contains data likely representing the rank or priority given by respondents to the most important trait, value, or attribute they believe a child should possess, as indicated by a numerical or categorical ranking.\"\\n \"The \\'rankmostimptchild_2\\' column represents respondents\\' ranked choices indicating the second most important aspect related to children, likely reflecting personal or cultural values assigned to various attributes or principles regarding children.\"\\n \"The \\'rankmostimptchild_3\\' column captures the ranking assigned to a particular aspect of child-rearing or a value considered most important by the respondent when evaluating or discussing aspects related to children, which can be influenced by personal, cultural, or societal norms and beliefs.\"\\n \\'The \"livinginsg_1_slice\" column indicates whether respondents are currently residing in Singapore.\\'\\n \\'The \"livinginsg_2_slice\" column indicates whether the respondent is currently living in Singapore, with possible responses typically being \\\\\\'Yes\\\\\\' or \\\\\\'No\\\\\\'.\\'\\n \\'The \"livinginsg_3_slice\" column indicates whether the respondent is currently residing in Singapore, with values reflecting confirmation of their living status in the country.\\'\\n \"The \\'livinginsg_4_slice\\' column indicates whether the respondent is currently residing in Singapore or not.\"\\n \"The \\'vbc\\' column represents categorical responses given by individuals that are likely related to survey opinions or attitudes.\"\\n \"The \\'sliderliberty_1_slice\\' column contains responses likely indicating a participant\\'s level of agreement or perception towards a statement or concept related to liberty, gauged on a continuous or categorical scale, as part of a survey dataset.\"\\n \"The \\'maritialstatus\\' column captures the marital status of the respondent, categorizing them based on their current relationship status such as single, married, divorced, or widowed.\"\\n \\'The \"children\" column likely indicates whether the respondent has children, capturing a binary state such as \"Yes\" or \"No\".\\'\\n \"The \\'noofchildren\\' column indicates the number of children each respondent has, as reported in the survey data.\"\\n \\'The \"childage\" column captures the ages of the respondents\\\\\\' children.\\'\\n \"The target column \\'personalincome\\' contains information about the individual income levels of respondents, likely measured in a specific currency, providing quantitative data on their financial earnings or salary within a certain period.\"\\n \"The \\'hhi\\' column likely represents the household income index or another similar economic measure, providing a numerical or categorical value that indicates the economic status or income level of the respondents\\' households.\"\\n \\'The \"socialnetwork_1_slice\" column likely captures a specific aspect or participation level concerning social networks for each respondent, though the exact nature or category of this \"slice\" is not immediately clear from the context provided.\\'\\n \"The \\'socialnetwork_2_slice\\' column contains categorical data indicating the type or status of a respondent\\'s participation or engagement in a specific social network or community.\"\\n \\'The \"socialnetwork_3_slice\" column contains information about the usage or preference of a specific social network platform or a particular aspect of social media engagement, likely reflecting respondents\\\\\\' engagement or opinion levels with a social media component.\\'\\n \\'The \"socialnetwork_4_slice\" column contains categorical data indicating respondents\\\\\\' usage or membership status on a specific social media platform or network included in the survey.\\'\\n \\'The column \"socialnetwork_5_slice\" represents responses related to a specific question or statement about the use or perception of a given social network, capturing diverse aspects of respondents\\\\\\' engagement, preferences, or opinions associated with the network.\\'\\n \"The \\'socialnetwork_6_slice\\' column captures binary responses indicating whether the respondent utilizes a specific social networking platform or service, represented by a simple \\'Yes\\' or \\'No\\' in each entry.\"\\n \"The column \\'socialnetwork_dp01\\' indicates whether the respondent uses a particular social network, with values likely representing options such as \\'Yes\\' or \\'No\\'.\"\\n \"The \\'socialnetwork_dp02\\' column captures whether respondents are engaged in specific social networking activities or platforms, with binary values indicating presence or absence of these activities.\"\\n \\'The \"socialnetwork_dp03\" column captures binary responses, specifically indicating whether individuals use or are part of a specific social network platform, with entries like \\\\\\'Yes\\\\\\' or \\\\\\'No\\\\\\'.\\'\\n \"The \\'socialnetwork_dp04\\' column encapsulates specific responses or interactions related to a particular aspect of a social network activity or behavior within the survey data, reflecting the participants\\' engagement or opinions in this domain.\"\\n \"The \\'socialnetwork_dp05\\' column contains binary categorical data indicating respondents\\' engagement or use of a specific social network or platform.\"\\n \\'The \"socialnetwork_dp06\" column captures data regarding respondents\\\\\\' preferences or behavior related to a specific social networking aspect, potentially indicating their engagement or agreement level with statements or scenarios associated with social networks.\\'\\n \\'The column \"socialnetwork_dp07\" likely contains data indicating whether a respondent is active on a specific social networking platform or type of social network, such as Instagram, Facebook, Twitter, etc., often captured as binary or categorical values representing the respondent\\\\\\'s engagement status or membership on the platform.\\'\\n \"The column \\'socialnetwork_dp08\\' likely captures responses related to a particular question about the participant\\'s engagement or interaction with social networks or platforms, reflecting preferences, concerns, or behaviors associated with digital or online social activity.\"\\n \"The \\'socialnetwork_dp09\\' column captures whether or not a respondent has a presence on a specific social networking platform, indicated by responses such as \\'Yes\\' or \\'No\\'.\"\\n \"The \\'socialnetwork_dp10\\' column indicates whether the respondent uses or is a member of a specific social network platform with responses such as \\'Yes\\' or \\'No\\'.\"\\n \"The \\'q20_q211\\' column captures binary responses, either \\'Yes\\' or \\'No\\', likely indicating the respondent\\'s agreement or disagreement with a specific question or statement posed during the survey.\"\\n \"The \\'q20_q212\\' column captures responses pertaining to a specific question or set of questions within a survey, focusing on the participants\\' opinions, beliefs, or personal experiences, and is likely a binary or categorical variable indicating different predefined response options.\"\\n \\'The \\\\\\'q20_q213\\\\\\' column contains binary responses indicating a \"Yes\" or \"No\" answer, representing the respondents\\\\\\' choices or agreements to a specific question labeled as q20_q213 in the survey.\\'\\n \"The \\'q20_q214\\' column contains binary responses indicating \\'Yes\\' or \\'No\\' for a particular survey question or statement, possibly related to a specific topic or sentiment being measured within the study.\"\\n \\'The \"ban_age\" column likely contains values related to the age or age group of respondents, although specific values from this column are not provided in the table snippet to confirm its precise contents.\\'\\n \"The \\'ban_gender\\' column denotes the gender-based responses or perceptions captured in the survey, reflecting participants\\' views or beliefs on gender-related questions within the broader dataset context.\"\\n \\'The \"ban_personal_inc\" column in the table contains information about individuals\\\\\\' personal inclinations or preferences regarding aspects related to bans or prohibitions, potentially capturing their stance or behavior patterns toward specific moral or ethical principles.\\'\\n \"The \\'ban_mhi\\' column contains categorical responses indicative of whether a moral or emotional belief, principle, or attribute has been experienced, observed, or expressed by the respondents, as assessed during the survey.\"\\n \"The \\'ban_q18_q191\\' column contains values indicating whether respondents answered \\'Yes\\' or \\'No\\' to a specific question or set of questions, possibly about activities, beliefs, or behaviors, as part of a broader survey or study.\"\\n \"The \\'ban_q18_q192\\' column contains binary data indicating responses to a survey question, with possible values being \\'Yes\\' or \\'No\\', reflecting the respondents\\' agreement or disagreement with a specific statement or condition.\"\\n \\'The target column \"ban_q18_q193\" contains values that indicate a response outcome or selection made by the respondents, likely in relation to a specific question or topic covered in the survey, which could be a categorical choice or a binary response among options such as \\\\\\'Yes\\\\\\' or \\\\\\'No\\\\\\'.\\'\\n \"The \\'ban_q18_q194\\' column contains binary responses indicating \\'Yes\\' or \\'No\\' to a question related to a specific behavior, belief, or preference of the respondents, possibly in the context of a survey or study focused on ethical or moral dimensions.\"\\n \"The \\'ban_education1\\' column captures responses related to education, potentially indicating whether individuals believe education should be banned or regulated in certain contexts or expressing their opinions on education-related bans.\"\\n \"The \\'ban_education2\\' column likely contains responses to a survey question about an individual\\'s educational background or opinion related to education, indicated by binary responses such as \\'Yes\\' or \\'No\\'.\"\\n \"The \\'ban_education3\\' column represents the data capturing respondents\\' reported levels of education or academic qualifications.\"\\n \"The column \\'ban_education4\\' contains information about the respondents\\' level of education or educational status, typically reflecting the highest level or degree they have completed.\"\\n \"The \\'ban_occupation_status1\\' column contains information indicating whether a particular respondent\\'s occupation is banned or not, likely coded with binary values such as \\'Yes\\' or \\'No\\' to denote the presence or absence of a ban on their occupation status.\"\\n \"The \\'ban_occupation_status2\\' column appears to represent the occupational status of respondents based on a specific classification or survey category in a dataset.\"\\n \"The \\'ban_occupation_status3\\' column indicates the employment or occupational status of respondents as part of the surveyed data.\"\\n \"The \\'ban_occupation_status4\\' column contains information about the occupation status of respondents, specifically regarding whether a certain occupational category or activity is applicable to them, likely analyzed in relation to a broader survey or study, though detailed values are not visible in the provided snippet.\"\\n \"The \\'ban_occupation_status5\\' column likely represents a specific categorical classification related to the occupational status or employment sector of respondents, possibly indicating a particular level of employment or job role within a broader employment category.\"\\n \"The \\'ban_occupation_status6\\' column likely contains categorical data indicating different occupational statuses or classifications for respondents, potentially representing employment status or occupation categories.\"\\n \\'The \"ban_occupation_status7\" column contains categorical values indicating the occupational status of individuals, describing their employment situation or professional standing.\\'\\n \"The \\'ban_occupation_status8\\' column contains categorical data representing respondents\\' occupational status with respect to a specific parameter tracked in the survey, capturing whether their professional activity or employment type aligns with certain restrictions or qualifications defined by the survey\\'s criteria.\"\\n \"The column \\'ban_occupation_status9\\' likely captures information pertaining to the occupational status or classification of an individual based on a specific coding or response system.\"\\n \"The target column \\'ban_occupation_role1\\' contains categorical data representing the occupation role of respondents, possibly indicating their employment status or the nature of their job roles, and is part of a larger dataset that seems to assess various demographic and psychological attributes of individuals from Singapore.\"\\n \"The \\'ban_occupation_role2\\' column likely represents the respondent\\'s occupation or role within a specific context, possibly related to a study or survey on moral or ethical perspectives, which can provide insight into their professional status or societal role as part of the broader dataset.\"\\n \"The \\'ban_occupation_role3\\' column contains data indicating whether a respondent\\'s occupation role relates to a specific context or aspect, signified through categorical options such as \\'Yes\\' or \\'No\\'.\"\\n \\'The target column \"ban_occupation_role4\" contains categorical data that seems to indicate specific types or categories of occupational roles, possibly grouped or coded into various classifications relevant to the context of the data collection.\\'\\n \"The \\'ban_occupation_role5\\' column contains binary values, \\'Yes\\' or \\'No,\\' indicating whether respondents hold a certain occupation role as defined by the criteria of the survey in Singapore.\"\\n \"The target column \\'ban_occupation_role6\\' contains information indicating a specific occupation role or category associated with each respondent in the dataset.\"\\n \\'The \"ban_occupation_role7\" column indicates whether a specific occupation role is forbidden or restricted.\\'\\n \"The \\'ban_occupation_role8\\' column describes whether respondents engage in a specific occupation role-related activity or hold a certain occupational status, as indicated by a binary response such as \\'Yes\\' or \\'No\\'.\"\\n \"The \\'ban_marital\\' column captures respondents\\' marital status with values likely indicating options such as \\'Yes\\' or \\'No\\' to denote their current marital condition, although the specific categorical values aren\\'t explicitly detailed in the provided data snippet.\"\\n \\'The \"ban_children1\" column contains binary responses indicating whether the respondent believes children should be banned from certain activities or places, typically represented by \\\\\\'Yes\\\\\\' for agreement or \\\\\\'No\\\\\\' for disagreement.\\'\\n \"The \\'ban_children2\\' column in the table likely contains binary or categorical responses indicating whether respondents have children or are related to a question regarding banning something associated with children.\"\\n \"The \\'ban_children3\\' column indicates whether or not a respondent agrees with banning something related to children; the values are binary, represented as \\'Yes\\' for agreement and \\'No\\' for disagreement.\"\\n \\'The \\\\\\'ban_children4\\\\\\' column consists of binary values \"Yes\" or \"No,\" indicating whether respondents believe that certain bans concerning children should be implemented or not.\\'\\n \"The \\'ban_no_ofchildren\\' column captures the number of children a respondent has.\"\\n \"The \\'ban_age_youngest\\' column likely represents the age of the youngest individual considered or involved in a specific context or situation referred to by the dataset, potentially indicating a demographic or eligibility criterion.\"\\n \\'The column \\\\\\'ban_q28\\\\\\' contains responses indicating whether participants answered \"Yes\" or \"No\" to a specific question, which is part of a structured survey related to personal beliefs or attitudes in a dataset involving multiple respondents from Singapore.\\'\\n \\'The \"ban_q30_1\" column contains binary responses, with possible values such as \"Yes\" or \"No,\" indicating whether the respondent agrees or disagrees with a specific survey question related to personal or societal beliefs or practices.\\'\\n \"The column \\'ban_q30_2\\' contains binary responses (\\'Yes\\' or \\'No\\') indicating whether respondents agree or disagree with a specific statement or question posed in the survey, likely related to a particular topic or issue.\"\\n \"The \\'ban_q30_3\\' column contains binary responses, either \\'Yes\\' or \\'No\\', indicating whether the respondent agrees or disagrees with a specific statement or question in the survey.\"\\n \"The \\'ban_q30_4\\' column contains binary categorical responses indicating whether a particular option or statement, as part of a survey question, was selected or affirmed by the respondent, typically represented as \\'Yes\\' or \\'No\\'.\"\\n \"The \\'ban_q32\\' column contains binary responses of \\'Yes\\' or \\'No\\' indicating the respondent\\'s stance or opinion on a specific aspect that was questioned in the survey.\"\\n \\'The \"ban_q431\" column contains binary categorical data indicating the respondents\\\\\\' affirmative or negative response to a specific survey question, with values represented as \\\\\\'Yes\\\\\\' or \\\\\\'No\\\\\\'.\\'\\n \"The \\'ban_q432\\' column contains binary data indicating a \\'Yes\\' or \\'No\\' response to a specific question or statement related to a survey or research study conducted among respondents, potentially addressing aspects of beliefs, opinions, or behaviors.\"\\n \"The column \\'ban_q433\\' contains binary responses indicating whether an individual answered \\'Yes\\' or \\'No\\' to a specific survey question related to a ban, reflecting their stance or experience regarding the issue inquired by the survey.\"\\n \"The \\'ban_q434\\' column denotes binary survey responses, either \\'Yes\\' or \\'No\\', reflecting the respondent\\'s agreement or disagreement with a specific question related to the survey topic.\"\\n \"The \\'ban_q435\\' column contains binary responses indicating whether a specific condition or proposition was met or agreed upon, where the values are either \\'Yes\\' or \\'No\\'.\"\\n \"The \\'ban_q436\\' column contains binary responses indicating a \\'Yes\\' or \\'No\\' answer to a specific question within a survey or questionnaire.\"\\n \\'The \"ban_q437\" column contains binary responses (\"Yes\" or \"No\") indicating whether respondents believe there should be a ban on a specific issue or activity, as per the survey question associated with this column index.\\'\\n \"The \\'md_segment\\' column categorizes respondents into different moral dimensions based on their responses, such as \\'Loyal_betrayal,\\' \\'Harm_Care,\\' \\'Fairness_Cheating,\\' or \\'Purity_Degradation.\\'\"]Answer:')"
      ]
     },
     "execution_count": 15,
     "metadata": {},
     "output_type": "execute_result"
    }
   ],
   "source": [
    "prompts[0]"
   ]
  },
  {
   "cell_type": "code",
   "execution_count": 16,
   "id": "24397f80-a3e5-414c-a9e5-206eb753e4a4",
   "metadata": {},
   "outputs": [],
   "source": [
    "np.save('Table_JOIN_Prompts/table_JD_with_columns_SG_CSV0000000000000925.npy', prompts)"
   ]
  }
 ],
 "metadata": {
  "kernelspec": {
   "display_name": "Python 3 (ipykernel)",
   "language": "python",
   "name": "python3"
  },
  "language_info": {
   "codemirror_mode": {
    "name": "ipython",
    "version": 3
   },
   "file_extension": ".py",
   "mimetype": "text/x-python",
   "name": "python",
   "nbconvert_exporter": "python",
   "pygments_lexer": "ipython3",
   "version": "3.10.12"
  }
 },
 "nbformat": 4,
 "nbformat_minor": 5
}
