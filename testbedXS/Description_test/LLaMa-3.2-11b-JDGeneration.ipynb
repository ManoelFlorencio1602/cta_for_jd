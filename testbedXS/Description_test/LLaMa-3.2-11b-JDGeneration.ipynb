{
 "cells": [
  {
   "cell_type": "code",
   "execution_count": 1,
   "id": "aa26a54c-5c50-4e63-9835-02842b2df3b8",
   "metadata": {},
   "outputs": [],
   "source": [
    "import numpy as np\n",
    "import pandas as pd\n",
    "from transformers import pipeline\n",
    "                         \n",
    "from huggingface_hub import notebook_login\n",
    "\n",
    "from utils import (find_all_linear_names,\n",
    "                    initiate_base_model)\n",
    "\n",
    "import os\n",
    "import warnings\n",
    "import glob\n",
    "import json\n",
    "\n",
    "from tqdm import tqdm\n",
    "\n",
    "from sklearn.metrics import precision_score, recall_score, f1_score, accuracy_score, confusion_matrix\n",
    "import seaborn as sns\n",
    "\n",
    "os.environ[\"WANDB_DISABLED\"] = \"true\"\n",
    "warnings.filterwarnings(\"ignore\")"
   ]
  },
  {
   "cell_type": "code",
   "execution_count": 2,
   "id": "a89f39be-3d00-46c4-a12d-7629f3261fc1",
   "metadata": {},
   "outputs": [
    {
     "name": "stdout",
     "output_type": "stream",
     "text": [
      "/home/manoelflorencio/cta_for_jd/testbedXS\n"
     ]
    }
   ],
   "source": [
    "path = '/home/manoelflorencio/cta_for_jd/testbedXS'\n",
    "os.chdir(path)\n",
    "print(os.getcwd())"
   ]
  },
  {
   "cell_type": "markdown",
   "id": "b0ded187-116f-4876-887b-0376b3c16d44",
   "metadata": {},
   "source": [
    "# Import Model"
   ]
  },
  {
   "cell_type": "code",
   "execution_count": 3,
   "id": "2211a09e-44f3-4a5c-9126-c60f97f23214",
   "metadata": {},
   "outputs": [
    {
     "data": {
      "application/vnd.jupyter.widget-view+json": {
       "model_id": "ae028452909a49a9b80d7e53d55acd43",
       "version_major": 2,
       "version_minor": 0
      },
      "text/plain": [
       "VBox(children=(HTML(value='<center> <img\\nsrc=https://huggingface.co/front/assets/huggingface_logo-noborder.sv…"
      ]
     },
     "metadata": {},
     "output_type": "display_data"
    }
   ],
   "source": [
    "notebook_login()"
   ]
  },
  {
   "cell_type": "code",
   "execution_count": 4,
   "id": "c9d7b021-c13b-4e05-ac32-ee878303d6f9",
   "metadata": {},
   "outputs": [
    {
     "data": {
      "application/vnd.jupyter.widget-view+json": {
       "model_id": "c588c9cc5a2040df9d5b3bb4f29b6e4c",
       "version_major": 2,
       "version_minor": 0
      },
      "text/plain": [
       "model.safetensors.index.json:   0%|          | 0.00/89.4k [00:00<?, ?B/s]"
      ]
     },
     "metadata": {},
     "output_type": "display_data"
    },
    {
     "data": {
      "application/vnd.jupyter.widget-view+json": {
       "model_id": "b8569d724ca343089994a3f85328b31d",
       "version_major": 2,
       "version_minor": 0
      },
      "text/plain": [
       "Downloading shards:   0%|          | 0/5 [00:00<?, ?it/s]"
      ]
     },
     "metadata": {},
     "output_type": "display_data"
    },
    {
     "data": {
      "application/vnd.jupyter.widget-view+json": {
       "model_id": "c15a96f833f941b1b6b304e93912f4db",
       "version_major": 2,
       "version_minor": 0
      },
      "text/plain": [
       "model-00001-of-00005.safetensors:   0%|          | 0.00/4.99G [00:00<?, ?B/s]"
      ]
     },
     "metadata": {},
     "output_type": "display_data"
    },
    {
     "data": {
      "application/vnd.jupyter.widget-view+json": {
       "model_id": "76d7ec6f30234f6ab5fac136d17249d7",
       "version_major": 2,
       "version_minor": 0
      },
      "text/plain": [
       "model-00002-of-00005.safetensors:   0%|          | 0.00/4.97G [00:00<?, ?B/s]"
      ]
     },
     "metadata": {},
     "output_type": "display_data"
    },
    {
     "data": {
      "application/vnd.jupyter.widget-view+json": {
       "model_id": "e65676dc27c041469dd15d41f8969aa9",
       "version_major": 2,
       "version_minor": 0
      },
      "text/plain": [
       "model-00003-of-00005.safetensors:   0%|          | 0.00/4.92G [00:00<?, ?B/s]"
      ]
     },
     "metadata": {},
     "output_type": "display_data"
    },
    {
     "data": {
      "application/vnd.jupyter.widget-view+json": {
       "model_id": "c3d51afb516241af946719dd1fef8543",
       "version_major": 2,
       "version_minor": 0
      },
      "text/plain": [
       "model-00004-of-00005.safetensors:   0%|          | 0.00/5.00G [00:00<?, ?B/s]"
      ]
     },
     "metadata": {},
     "output_type": "display_data"
    },
    {
     "data": {
      "application/vnd.jupyter.widget-view+json": {
       "model_id": "4b960657cb4847ac9b856531ea76462b",
       "version_major": 2,
       "version_minor": 0
      },
      "text/plain": [
       "model-00005-of-00005.safetensors:   0%|          | 0.00/1.47G [00:00<?, ?B/s]"
      ]
     },
     "metadata": {},
     "output_type": "display_data"
    },
    {
     "data": {
      "application/vnd.jupyter.widget-view+json": {
       "model_id": "36b5f1dd25be4e74aca87e0f34e437f1",
       "version_major": 2,
       "version_minor": 0
      },
      "text/plain": [
       "Loading checkpoint shards:   0%|          | 0/5 [00:00<?, ?it/s]"
      ]
     },
     "metadata": {},
     "output_type": "display_data"
    },
    {
     "data": {
      "application/vnd.jupyter.widget-view+json": {
       "model_id": "9ac5f78a4ec0426da825243e0ed98afa",
       "version_major": 2,
       "version_minor": 0
      },
      "text/plain": [
       "generation_config.json:   0%|          | 0.00/215 [00:00<?, ?B/s]"
      ]
     },
     "metadata": {},
     "output_type": "display_data"
    },
    {
     "data": {
      "application/vnd.jupyter.widget-view+json": {
       "model_id": "ce15f3257348411296f0e4e4c0388b8d",
       "version_major": 2,
       "version_minor": 0
      },
      "text/plain": [
       "tokenizer_config.json:   0%|          | 0.00/55.8k [00:00<?, ?B/s]"
      ]
     },
     "metadata": {},
     "output_type": "display_data"
    },
    {
     "data": {
      "application/vnd.jupyter.widget-view+json": {
       "model_id": "26d415ec70bb468d9d096f467a91faa2",
       "version_major": 2,
       "version_minor": 0
      },
      "text/plain": [
       "tokenizer.json:   0%|          | 0.00/9.09M [00:00<?, ?B/s]"
      ]
     },
     "metadata": {},
     "output_type": "display_data"
    },
    {
     "data": {
      "application/vnd.jupyter.widget-view+json": {
       "model_id": "293e8e27e6834b99b349b01261cc550d",
       "version_major": 2,
       "version_minor": 0
      },
      "text/plain": [
       "special_tokens_map.json:   0%|          | 0.00/454 [00:00<?, ?B/s]"
      ]
     },
     "metadata": {},
     "output_type": "display_data"
    }
   ],
   "source": [
    "base_model_name = \"meta-llama/Llama-3.2-11B-Vision-Instruct\"\n",
    "model, tokenizer = initiate_base_model(base_model_name)"
   ]
  },
  {
   "cell_type": "code",
   "execution_count": 5,
   "id": "d15d1be0-a559-48c6-89c0-d422b7eb3b39",
   "metadata": {},
   "outputs": [],
   "source": [
    "modules = find_all_linear_names(model)"
   ]
  },
  {
   "cell_type": "code",
   "execution_count": 77,
   "id": "be0363cd-3061-45c4-b6aa-8698c2414541",
   "metadata": {},
   "outputs": [],
   "source": [
    "def generate_prompt_predict_possible_joins(target_description, candidate_descriptions, candidate_tables):\n",
    "\n",
    "    system_msg = f\"\"\"\n",
    "            Given one target column description and many candidate column descriptions, predict all the pairs (candidate table name, candidate \n",
    "            description column name) that could be joined, answer only with the pairs without including reasoning or extra info.\n",
    "\n",
    "            Task: Look carefully at the target column description and candidate column descriptions and use this information to identify \n",
    "            patterns and relationships between the descriptions, the result must be a list of all the JOINable pairs found. If no joinable pair is \n",
    "            found the result should be just the word \"none\".\n",
    "\n",
    "            Additional info: A JOIN in relational databases is an operation that retrieves related rows from two tables by linking them \n",
    "            based on related columns between them.\n",
    "            \n",
    "            Instructions: \n",
    "                1. Look at the target description given to you. \n",
    "                2. Look at the candidate descriptions in detail. \n",
    "                3. Predict if the target column description belongs to a column that may be used in join. \n",
    "                4. Select all the highly likely JOINs between these candidate columns based only on these descriptions and the similarities between their semantics. Disregard the column names.\n",
    "\n",
    "            Example 1:\n",
    "                Target description: this column represents a worker's id\n",
    "                Candidate tables: ['salary.csv','salary.csv','hospital.csv']\n",
    "                Candidate description: ['the column worker_id represents the worker's id', 'this column represents a worker's salary', 'this column represents a hospital location']\n",
    "                Possible JOINs: ('salary.csv', 'worker_id')\n",
    "                \"\"\"\n",
    "            \n",
    "    user_msg = f\"\"\" Target description:      {target_description}\n",
    "                   Candidate table:         {candidate_tables.values}\n",
    "                   Candidate descriptions:  {candidate_descriptions.values}\n",
    "                   Possible JOINs: \"\"\".strip()\n",
    "\n",
    "    messages=[\n",
    "                {\n",
    "                    \"role\": \"system\", \n",
    "                     \"content\": f\"{system_msg}\"\n",
    "                },\n",
    "                {\n",
    "                    \"role\": \"user\",\n",
    "                    \"content\": f\"{user_msg}\"\n",
    "                }\n",
    "            ]\n",
    "\n",
    "    return messages"
   ]
  },
  {
   "cell_type": "code",
   "execution_count": 62,
   "id": "af0840fc-e498-4d94-9f85-b758cd29b705",
   "metadata": {},
   "outputs": [],
   "source": [
    "def predict(table, prompt, model, tokenizer, split_key):\n",
    " \n",
    "    pipe = pipeline(task=\"text-generation\",\n",
    "                    model=model,\n",
    "                    tokenizer=tokenizer,\n",
    "                    max_new_tokens=50,\n",
    "                    temperature=0.1)\n",
    "\n",
    "    result = pipe(prompt)\n",
    "    answer = result[0]['generated_text'][-1]['content']\n",
    "\n",
    "    return answer"
   ]
  },
  {
   "cell_type": "code",
   "execution_count": 9,
   "id": "5e6a225d-c6dc-43f5-881f-f440e103d065",
   "metadata": {},
   "outputs": [
    {
     "data": {
      "text/html": [
       "<div>\n",
       "<style scoped>\n",
       "    .dataframe tbody tr th:only-of-type {\n",
       "        vertical-align: middle;\n",
       "    }\n",
       "\n",
       "    .dataframe tbody tr th {\n",
       "        vertical-align: top;\n",
       "    }\n",
       "\n",
       "    .dataframe thead th {\n",
       "        text-align: right;\n",
       "    }\n",
       "</style>\n",
       "<table border=\"1\" class=\"dataframe\">\n",
       "  <thead>\n",
       "    <tr style=\"text-align: right;\">\n",
       "      <th></th>\n",
       "      <th>TableName</th>\n",
       "      <th>Column</th>\n",
       "      <th>Description</th>\n",
       "    </tr>\n",
       "  </thead>\n",
       "  <tbody>\n",
       "    <tr>\n",
       "      <th>0</th>\n",
       "      <td>statewise-census-data-in-india-1901-2011.csv</td>\n",
       "      <td>FREQUENCY</td>\n",
       "      <td>The 'FREQUENCY' column consists of the tempora...</td>\n",
       "    </tr>\n",
       "    <tr>\n",
       "      <th>1</th>\n",
       "      <td>statewise-census-data-in-india-1901-2011.csv</td>\n",
       "      <td>DATE</td>\n",
       "      <td>The 'DATE' column in the table represents the ...</td>\n",
       "    </tr>\n",
       "    <tr>\n",
       "      <th>2</th>\n",
       "      <td>statewise-census-data-in-india-1901-2011.csv</td>\n",
       "      <td>LOCATION_NAME</td>\n",
       "      <td>The \"LOCATION_NAME\" column in the table repres...</td>\n",
       "    </tr>\n",
       "    <tr>\n",
       "      <th>3</th>\n",
       "      <td>statewise-census-data-in-india-1901-2011.csv</td>\n",
       "      <td>LOCATION_F5</td>\n",
       "      <td>The column \"LOCATION_F5\" in the table appears ...</td>\n",
       "    </tr>\n",
       "    <tr>\n",
       "      <th>4</th>\n",
       "      <td>statewise-census-data-in-india-1901-2011.csv</td>\n",
       "      <td>LOCATION_ID</td>\n",
       "      <td>The \"LOCATION_ID\" column contains identifiers ...</td>\n",
       "    </tr>\n",
       "  </tbody>\n",
       "</table>\n",
       "</div>"
      ],
      "text/plain": [
       "                                      TableName         Column  \\\n",
       "0  statewise-census-data-in-india-1901-2011.csv      FREQUENCY   \n",
       "1  statewise-census-data-in-india-1901-2011.csv           DATE   \n",
       "2  statewise-census-data-in-india-1901-2011.csv  LOCATION_NAME   \n",
       "3  statewise-census-data-in-india-1901-2011.csv    LOCATION_F5   \n",
       "4  statewise-census-data-in-india-1901-2011.csv    LOCATION_ID   \n",
       "\n",
       "                                         Description  \n",
       "0  The 'FREQUENCY' column consists of the tempora...  \n",
       "1  The 'DATE' column in the table represents the ...  \n",
       "2  The \"LOCATION_NAME\" column in the table repres...  \n",
       "3  The column \"LOCATION_F5\" in the table appears ...  \n",
       "4  The \"LOCATION_ID\" column contains identifiers ...  "
      ]
     },
     "execution_count": 9,
     "metadata": {},
     "output_type": "execute_result"
    }
   ],
   "source": [
    "descriptions = pd.read_csv('Description_test/all_descriptions.csv')\n",
    "descriptions.head()"
   ]
  },
  {
   "cell_type": "code",
   "execution_count": 10,
   "id": "f0cfe4cc-eb02-4f9b-bb78-c856dbe0bff3",
   "metadata": {},
   "outputs": [
    {
     "data": {
      "text/plain": [
       "['statewise-census-data-in-india-1901-2011.csv',\n",
       " 'road-ahead-current-road-closures.csv',\n",
       " 'property-tie-lines.csv',\n",
       " 'public-art.csv',\n",
       " 'gvrd-sewer-trunk-mains.csv',\n",
       " 'SCS_Staff_Salaries_data_30th_June 2010.csv',\n",
       " 'schools.csv',\n",
       " 'rental-standards-current-issues.csv',\n",
       " 'datasets_579296_1047868_authors.csv',\n",
       " 'survey_results_schema.csv',\n",
       " 'animal-control-inventory-lost-and-found.csv',\n",
       " 'glassdoor_wwfu_val_captions.csv',\n",
       " 'eo_xx.csv',\n",
       " 'community-gardens-and-food-trees.csv',\n",
       " 'road-ahead-upcoming-projects.csv',\n",
       " 'libraries.csv',\n",
       " 'cultural-spaces.csv',\n",
       " 'datasets_517172_952401_train.csv',\n",
       " 'public-art-artists.csv',\n",
       " 'eo4.csv',\n",
       " 'currency_exchange.csv',\n",
       " 'eo_pr.csv',\n",
       " 'road-ahead-projects-under-construction.csv',\n",
       " 'ability_ids.csv',\n",
       " 'population-by-governorate-citizenship-and-gender.csv',\n",
       " 'community-centres.csv',\n",
       " 'street-intersections.csv',\n",
       " 'population-census-of-botswana-2011.csv']"
      ]
     },
     "execution_count": 10,
     "metadata": {},
     "output_type": "execute_result"
    }
   ],
   "source": [
    "# files = ['eo_pr.csv', 'cultural-spaces.csv', 'public-art.csv', 'libraries.csv', 'schools.csv']\n",
    "files = [file.split('/')[-1] for file in glob.glob('datasets/*')]\n",
    "files"
   ]
  },
  {
   "cell_type": "code",
   "execution_count": 11,
   "id": "ce01c3b6-bd00-43a1-8623-20dd018cb211",
   "metadata": {},
   "outputs": [],
   "source": [
    "df_dsInformation = pd.read_csv('datasetInformation_testbedXS.csv')"
   ]
  },
  {
   "cell_type": "code",
   "execution_count": 80,
   "id": "2661689d-354c-46d2-bb87-b0a21f2b5a87",
   "metadata": {},
   "outputs": [
    {
     "name": "stderr",
     "output_type": "stream",
     "text": [
      "100%|██████████████████████████████████████████████████████████████████████████████████████████████████████████████████████████████████████████████████████████████████████████████████████████████████████████| 9/9 [09:37<00:00, 64.18s/it]\n",
      "100%|██████████████████████████████████████████████████████████████████████████████████████████████████████████████████████████████████████████████████████████████████████████████████████████████████████████| 6/6 [06:52<00:00, 68.68s/it]\n",
      "100%|██████████████████████████████████████████████████████████████████████████████████████████████████████████████████████████████████████████████████████████████████████████████████████████████████████████| 2/2 [02:07<00:00, 63.73s/it]\n",
      "100%|████████████████████████████████████████████████████████████████████████████████████████████████████████████████████████████████████████████████████████████████████████████████████████████████████████| 19/19 [21:08<00:00, 66.78s/it]\n",
      "100%|██████████████████████████████████████████████████████████████████████████████████████████████████████████████████████████████████████████████████████████████████████████████████████████████████████████| 7/7 [07:17<00:00, 62.48s/it]\n",
      "100%|████████████████████████████████████████████████████████████████████████████████████████████████████████████████████████████████████████████████████████████████████████████████████████████████████████| 10/10 [11:57<00:00, 71.75s/it]\n",
      "100%|██████████████████████████████████████████████████████████████████████████████████████████████████████████████████████████████████████████████████████████████████████████████████████████████████████████| 5/5 [05:39<00:00, 67.89s/it]\n",
      "100%|██████████████████████████████████████████████████████████████████████████████████████████████████████████████████████████████████████████████████████████████████████████████████████████████████████████| 8/8 [09:45<00:00, 73.13s/it]\n",
      "100%|██████████████████████████████████████████████████████████████████████████████████████████████████████████████████████████████████████████████████████████████████████████████████████████████████████████| 6/6 [06:32<00:00, 65.41s/it]\n",
      "100%|██████████████████████████████████████████████████████████████████████████████████████████████████████████████████████████████████████████████████████████████████████████████████████████████████████████| 2/2 [02:35<00:00, 77.68s/it]\n",
      "100%|██████████████████████████████████████████████████████████████████████████████████████████████████████████████████████████████████████████████████████████████████████████████████████████████████████████| 7/7 [06:56<00:00, 59.55s/it]\n",
      "100%|██████████████████████████████████████████████████████████████████████████████████████████████████████████████████████████████████████████████████████████████████████████████████████████████████████████| 3/3 [04:02<00:00, 80.88s/it]\n",
      "100%|████████████████████████████████████████████████████████████████████████████████████████████████████████████████████████████████████████████████████████████████████████████████████████████████████████| 28/28 [30:02<00:00, 64.37s/it]\n",
      "100%|████████████████████████████████████████████████████████████████████████████████████████████████████████████████████████████████████████████████████████████████████████████████████████████████████████| 19/19 [20:45<00:00, 65.53s/it]\n",
      "100%|██████████████████████████████████████████████████████████████████████████████████████████████████████████████████████████████████████████████████████████████████████████████████████████████████████████| 6/6 [06:51<00:00, 68.61s/it]\n",
      "100%|██████████████████████████████████████████████████████████████████████████████████████████████████████████████████████████████████████████████████████████████████████████████████████████████████████████| 5/5 [05:52<00:00, 70.55s/it]\n",
      "100%|████████████████████████████████████████████████████████████████████████████████████████████████████████████████████████████████████████████████████████████████████████████████████████████████████████| 12/12 [13:46<00:00, 68.86s/it]\n",
      "100%|██████████████████████████████████████████████████████████████████████████████████████████████████████████████████████████████████████████████████████████████████████████████████████████████████████████| 2/2 [02:00<00:00, 60.41s/it]\n",
      "100%|██████████████████████████████████████████████████████████████████████████████████████████████████████████████████████████████████████████████████████████████████████████████████████████████████████████| 9/9 [10:29<00:00, 69.98s/it]\n",
      "100%|████████████████████████████████████████████████████████████████████████████████████████████████████████████████████████████████████████████████████████████████████████████████████████████████████████| 28/28 [30:34<00:00, 65.51s/it]\n",
      "100%|██████████████████████████████████████████████████████████████████████████████████████████████████████████████████████████████████████████████████████████████████████████████████████████████████████████| 5/5 [05:34<00:00, 66.91s/it]\n",
      "100%|████████████████████████████████████████████████████████████████████████████████████████████████████████████████████████████████████████████████████████████████████████████████████████████████████████| 28/28 [29:45<00:00, 63.78s/it]\n",
      "100%|██████████████████████████████████████████████████████████████████████████████████████████████████████████████████████████████████████████████████████████████████████████████████████████████████████████| 6/6 [06:59<00:00, 69.86s/it]\n",
      "100%|██████████████████████████████████████████████████████████████████████████████████████████████████████████████████████████████████████████████████████████████████████████████████████████████████████████| 2/2 [02:13<00:00, 66.51s/it]\n",
      "100%|██████████████████████████████████████████████████████████████████████████████████████████████████████████████████████████████████████████████████████████████████████████████████████████████████████████| 5/5 [05:00<00:00, 60.07s/it]\n",
      "100%|██████████████████████████████████████████████████████████████████████████████████████████████████████████████████████████████████████████████████████████████████████████████████████████████████████████| 5/5 [06:15<00:00, 75.07s/it]\n",
      "100%|██████████████████████████████████████████████████████████████████████████████████████████████████████████████████████████████████████████████████████████████████████████████████████████████████████████| 5/5 [05:54<00:00, 70.91s/it]\n",
      "100%|██████████████████████████████████████████████████████████████████████████████████████████████████████████████████████████████████████████████████████████████████████████████████████████████████████████| 8/8 [08:27<00:00, 63.42s/it]\n"
     ]
    }
   ],
   "source": [
    "joins_dict = {}\n",
    "step = 5\n",
    "\n",
    "exclude_files = ['']\n",
    "\n",
    "for file in files:\n",
    "    if(file in exclude_files):\n",
    "        continue\n",
    "    \n",
    "    info  = df_dsInformation[df_dsInformation['filename'] == file]                \n",
    "    table = pd.read_csv(f'datasets/{file}', delimiter=info['delimiter'].values[0])\n",
    "\n",
    "    table_descriptions = descriptions[descriptions['TableName'] == file]\n",
    "    candidate_tables       = descriptions[descriptions['TableName'] != file].iloc[:,0]\n",
    "    candidate_descriptions = descriptions[descriptions['TableName'] != file].iloc[:,2]\n",
    "\n",
    "    joins_dict[f'{file}'] = {}\n",
    "    \n",
    "    for i in tqdm(range(table_descriptions.shape[0])):\n",
    "\n",
    "        joins_dict[f'{file}'][f'{table_descriptions.iloc[i, 1]}'] = ''\n",
    "        \n",
    "        for j in range(0, len(candidate_tables), step):\n",
    "            target_description = table_descriptions.iloc[i, 2]\n",
    "\n",
    "            sample_cadidate_tables = candidate_tables[j:j+step]\n",
    "            sample_candidate_descriptions = candidate_descriptions[j:j+step]\n",
    "\n",
    "            prompt_joins = generate_prompt_predict_possible_joins(target_description, sample_cadidate_tables, sample_candidate_descriptions)\n",
    "            split_key_domain = \"Possible JOINs:\"\n",
    "            sample_joins = predict(table, prompt_joins, model, tokenizer, split_key_domain)\n",
    "\n",
    "            if((sample_joins != 'none') or (sample_joins != 'None')):\n",
    "                joins_dict[f'{file}'][f'{table_descriptions.iloc[i, 1]}'] += ', ' + sample_joins"
   ]
  },
  {
   "cell_type": "code",
   "execution_count": 81,
   "id": "1af36e34-2a50-43e8-8091-65c89f8b8e74",
   "metadata": {},
   "outputs": [],
   "source": [
    "with open('Description_test/join_prediction_LLaMa-3.2-11b_v1.json', 'w') as file:\n",
    "    json.dump(joins_dict, file)"
   ]
  },
  {
   "cell_type": "code",
   "execution_count": null,
   "id": "b73e5b00-4f69-4ef6-b472-9cf4e4da43fb",
   "metadata": {},
   "outputs": [],
   "source": [
    "with open('Description_test/join_prediction_v7_LLaMa-3.2-11b.json', 'r') as file:\n",
    "    joins_dict = json.load(file)"
   ]
  }
 ],
 "metadata": {
  "kernelspec": {
   "display_name": "Python 3 (ipykernel)",
   "language": "python",
   "name": "python3"
  },
  "language_info": {
   "codemirror_mode": {
    "name": "ipython",
    "version": 3
   },
   "file_extension": ".py",
   "mimetype": "text/x-python",
   "name": "python",
   "nbconvert_exporter": "python",
   "pygments_lexer": "ipython3",
   "version": "3.10.12"
  }
 },
 "nbformat": 4,
 "nbformat_minor": 5
}
