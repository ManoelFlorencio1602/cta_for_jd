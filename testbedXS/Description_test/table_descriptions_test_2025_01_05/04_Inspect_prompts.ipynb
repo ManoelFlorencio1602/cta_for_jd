{
 "cells": [
  {
   "cell_type": "code",
   "execution_count": 1,
   "id": "d11842ab-27bd-4310-b915-9c738d5fee23",
   "metadata": {},
   "outputs": [],
   "source": [
    "import os\n",
    "import numpy as np"
   ]
  },
  {
   "cell_type": "code",
   "execution_count": 2,
   "id": "505885da-d6df-43e8-88cb-e3c59c722376",
   "metadata": {},
   "outputs": [
    {
     "name": "stdout",
     "output_type": "stream",
     "text": [
      "/home/manoelflorencio/cta_for_jd/testbedXS\n"
     ]
    }
   ],
   "source": [
    "path = '/home/manoelflorencio/cta_for_jd/testbedXS'\n",
    "os.chdir(path)\n",
    "print(os.getcwd())"
   ]
  },
  {
   "cell_type": "code",
   "execution_count": 3,
   "id": "820491ef-40ab-44b4-82c4-49d534b3f086",
   "metadata": {},
   "outputs": [
    {
     "data": {
      "text/plain": [
       "(378, 2)"
      ]
     },
     "execution_count": 3,
     "metadata": {},
     "output_type": "execute_result"
    }
   ],
   "source": [
    "prompts = np.load('Description_test/table_descriptions_test_2025_01_05/Table_JOIN_Prompts/table_JD_with_columns_v3.npy')\n",
    "prompts.shape"
   ]
  },
  {
   "cell_type": "code",
   "execution_count": 4,
   "id": "417759a6-4a34-4700-b89a-870431c3e705",
   "metadata": {},
   "outputs": [
    {
     "name": "stdout",
     "output_type": "stream",
     "text": [
      "\n",
      "            Given a target table and a candidate table, predict if the pair (target table, candidate table) could be joined and answer with only \"Yes\" or \"No\".\n",
      "\n",
      "            Task: Look carefully at the target table description and the candidate table description, as well as the description of their columns, and \n",
      "            use these information to identify patterns and relationships between the descriptions. The result must be only the word \"Yes\" if the JOIN is \n",
      "            possible or \"No\" otherwise.\n",
      "\n",
      "            Additional info: A JOIN in relational databases is an operation that retrieves related rows from two tables by linking them \n",
      "            based on related columns they may have between them.\n",
      "\n",
      "            Additional info: consider location as JOINable as if the values are standardized.\n",
      "\n",
      "           Instructions: \n",
      "                1. Look at the description of the target table given to you.\n",
      "                2. Look at the description of the columns of the target table given to you.\n",
      "                3. Look at the description of the candidate table given to you.\n",
      "                4. Look at the description of the columns of the candidate table given to you.\n",
      "                5. Predict if the target table and the candidate tables are joinable, answer with \"Yes\" or \"No\".\n",
      "    \n"
     ]
    }
   ],
   "source": [
    "print(prompts[0][0])"
   ]
  },
  {
   "cell_type": "code",
   "execution_count": 5,
   "id": "c1165059-cfd9-4140-97b4-9843c0c0e22f",
   "metadata": {},
   "outputs": [
    {
     "name": "stdout",
     "output_type": "stream",
     "text": [
      "Target Table description: The public-art.csv table provides detailed information about various public artworks, including sculptures, murals, and site-integrated works, across different sites in Vancouver, Canada; it details aspects such as the artist's project statement, type of art, status, site name and address, primary material used, ownership, and neighbourhood location, as well as links to further details and photos, along with additional metadata such as year of installation and photo credits.\n",
      "                  Target Table columns descriptions: ['A unique identifier for each public art entry, used to reference specific artworks within the registry.'\n",
      " 'A narrative provided by the artist explaining the inspiration, concept, or narrative behind the artwork.'\n",
      " 'The form or medium of the artwork, such as sculpture, mural, media work, or mosaic.'\n",
      " 'The current status of the artwork, indicating whether it is in place or has been removed.'\n",
      " 'The name of the location or venue where the artwork is installed.'\n",
      " 'The physical address of the site where the artwork is located.'\n",
      " 'The main materials used in the creation of the artwork, such as bronze, aerosol, reinforced concrete, or LED solar beacons.'\n",
      " 'The link to the online registry entry providing more information about the artwork.'\n",
      " 'The link to an image of the artwork in the public art dataset.'\n",
      " 'The entity that owns the artwork, which could be the City of Vancouver or a private owner.'\n",
      " 'The neighborhood within Vancouver where the artwork is located.'\n",
      " 'A description of where the artwork is precisely situated at the site.'\n",
      " 'The geographic coordinates pinpointing the exact location of the artwork.'\n",
      " 'A broader geographical classification indicating the local area where the artwork resides, within or near a neighborhood.'\n",
      " 'A detailed description of the artwork that includes artistic elements, themes, and intended audience interaction.'\n",
      " 'The names of the artists who created the artwork.'\n",
      " 'Acknowledgments for individuals or organizations that provided photographs of the artwork.'\n",
      " 'The year when the artwork was officially installed at its location.'\n",
      " 'An unspecified column likely intended for additional information not categorized by the other columns.']\n",
      "                  Candidate Table description: The table \"schools.csv\" provides detailed information about various schools, including their addresses, categories (such as Public School, Independent School, and StrongStart BC), names, geographical coordinates (as GeoJSON Point objects), and their corresponding geographic local areas in a city, with entries showcasing a diverse range of school types and locations.\n",
      "                  Candidate Table columns descriptions: ['The ADDRESS column contains the physical street addresses of various schools located in Vancouver. It includes street numbers and names, and may additionally specify the avenue or street direction, which are crucial for identifying the location of each school within the city.'\n",
      " 'The SCHOOL_CATEGORY column categorizes the type of educational institution, such as whether it is a Public School or a StrongStart BC center. This classification provides an understanding of the nature of the programs or services offered by the school.'\n",
      " 'The SCHOOL_NAME column lists the official names of the schools. It includes the full name designation and often honors an individual, historical event, or location, thus serving as the primary identifier for each educational institution.'\n",
      " \"The Geom column contains geographical data presented in the GeoJSON format. It specifies the type as 'Point' and includes coordinates (longitude and latitude) that accurately pinpoint the school's geographical location on a map.\"\n",
      " \"The Geo Local Area column indicates the neighborhood or region within Vancouver where the school is situated. This provides a contextual geographical area, such as 'Killarney' or 'Kensington-Cedar Cottage,' linking the school to its broader local community.\"]Answer:\n"
     ]
    }
   ],
   "source": [
    "print(prompts[80][1])"
   ]
  }
 ],
 "metadata": {
  "kernelspec": {
   "display_name": "Python 3 (ipykernel)",
   "language": "python",
   "name": "python3"
  },
  "language_info": {
   "codemirror_mode": {
    "name": "ipython",
    "version": 3
   },
   "file_extension": ".py",
   "mimetype": "text/x-python",
   "name": "python",
   "nbconvert_exporter": "python",
   "pygments_lexer": "ipython3",
   "version": "3.10.12"
  }
 },
 "nbformat": 4,
 "nbformat_minor": 5
}
