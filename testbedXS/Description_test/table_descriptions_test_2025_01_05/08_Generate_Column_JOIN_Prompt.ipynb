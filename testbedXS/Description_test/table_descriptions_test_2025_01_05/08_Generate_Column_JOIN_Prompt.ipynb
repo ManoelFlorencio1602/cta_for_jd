{
 "cells": [
  {
   "cell_type": "code",
   "execution_count": 1,
   "id": "6a38e8aa-6021-4014-9584-04eb91adf32c",
   "metadata": {},
   "outputs": [],
   "source": [
    "import pandas as pd\n",
    "import numpy as np\n",
    "import json\n",
    "import os\n",
    "import glob\n",
    "\n",
    "import pickle\n",
    "\n",
    "from tqdm import tqdm"
   ]
  },
  {
   "cell_type": "code",
   "execution_count": 2,
   "id": "9d952069-8940-4591-aeb3-f5328f43a5b5",
   "metadata": {},
   "outputs": [],
   "source": [
    "pd.set_option('display.max_rows', None)"
   ]
  },
  {
   "cell_type": "code",
   "execution_count": 3,
   "id": "aedd7bc6-1e7d-4c48-ad6b-4c148338e265",
   "metadata": {},
   "outputs": [
    {
     "name": "stdout",
     "output_type": "stream",
     "text": [
      "/home/manoelflorencio/cta_for_jd/testbedXS\n"
     ]
    }
   ],
   "source": [
    "path = '/home/manoelflorencio/cta_for_jd/testbedXS'\n",
    "os.chdir(path)\n",
    "print(os.getcwd())"
   ]
  },
  {
   "cell_type": "code",
   "execution_count": 4,
   "id": "869008af-5838-464d-a071-a6c181635fbf",
   "metadata": {},
   "outputs": [],
   "source": [
    "def generate_prompt_predict_possible_joins(target_description, candidate_description):\n",
    "\n",
    "    system_msg = f\"\"\"\n",
    "            Given one target column description and one candidate column description, predict if they could be joined, Answer with only 'Yes' or 'No'.\n",
    "\n",
    "            Task: Look carefully at the target column description and the candidate column description and use this information to identify patterns and \n",
    "            relationships between the descriptions, the result must be Yes or No depending if the pair is JOINable.\n",
    "            \n",
    "            Additional info: A JOIN in relational databases is an operation that retrieves related rows from two tables by linking them based on related \n",
    "            columns between them.\n",
    "            \n",
    "            Instructions: \n",
    "                1. Look at the target description given to you. \n",
    "                2. Look at the candidate description in detail. \n",
    "                3. Predict if the target column description belongs to a column that may be used in join. \n",
    "                4. Predict if the target column description and the candidate column description are JOINable. Disregard the column names.\n",
    "                \n",
    "            Example 1:\n",
    "                Target description: this column represents a worker's id.\n",
    "                Candidate description: 'the column worker_id represents the worker's id'.\n",
    "                Answer: Yes\n",
    "            \"\"\"\n",
    "    \n",
    "    user_msg = f\"\"\"Target description:     {target_description}\n",
    "                   Candidate description:  {candidate_description}\n",
    "                   Answer: \"\"\".strip()\n",
    "    \n",
    "    return system_msg, user_msg"
   ]
  },
  {
   "cell_type": "code",
   "execution_count": 5,
   "id": "7809d2aa-901b-426d-8818-86c75b41eac4",
   "metadata": {},
   "outputs": [
    {
     "data": {
      "text/html": [
       "<div>\n",
       "<style scoped>\n",
       "    .dataframe tbody tr th:only-of-type {\n",
       "        vertical-align: middle;\n",
       "    }\n",
       "\n",
       "    .dataframe tbody tr th {\n",
       "        vertical-align: top;\n",
       "    }\n",
       "\n",
       "    .dataframe thead th {\n",
       "        text-align: right;\n",
       "    }\n",
       "</style>\n",
       "<table border=\"1\" class=\"dataframe\">\n",
       "  <thead>\n",
       "    <tr style=\"text-align: right;\">\n",
       "      <th></th>\n",
       "      <th>LEFT_TABLE</th>\n",
       "      <th>LEFT_COLUMN</th>\n",
       "      <th>LEFT_DESCRIPTION</th>\n",
       "      <th>RIGHT_TABLE</th>\n",
       "      <th>RIGHT_COLUMN</th>\n",
       "      <th>RIGHT_DESCRIPTION</th>\n",
       "      <th>JOINABLE</th>\n",
       "      <th>JOINABLE_TD</th>\n",
       "      <th>JOINABLE_TD_v2</th>\n",
       "    </tr>\n",
       "  </thead>\n",
       "  <tbody>\n",
       "    <tr>\n",
       "      <th>0</th>\n",
       "      <td>community-centres</td>\n",
       "      <td>ADDRESS</td>\n",
       "      <td>The full postal address of the community garde...</td>\n",
       "      <td>community-gardens-and-food-trees</td>\n",
       "      <td>MERGED_ADDRESS</td>\n",
       "      <td>The ADDRESS column provides the street address...</td>\n",
       "      <td>Yes</td>\n",
       "      <td>Yes</td>\n",
       "      <td>Yes</td>\n",
       "    </tr>\n",
       "    <tr>\n",
       "      <th>1</th>\n",
       "      <td>community-centres</td>\n",
       "      <td>Geo Local Area</td>\n",
       "      <td>The neighbourhood or broader geographical area...</td>\n",
       "      <td>community-gardens-and-food-trees</td>\n",
       "      <td>Geo Local Area</td>\n",
       "      <td>The Geo Local Area column identifies the gener...</td>\n",
       "      <td>Yes</td>\n",
       "      <td>Yes</td>\n",
       "      <td>Yes</td>\n",
       "    </tr>\n",
       "    <tr>\n",
       "      <th>2</th>\n",
       "      <td>community-centres</td>\n",
       "      <td>ADDRESS</td>\n",
       "      <td>This column contains the street address of the...</td>\n",
       "      <td>cultural-spaces</td>\n",
       "      <td>ADDRESS</td>\n",
       "      <td>The ADDRESS column provides the street address...</td>\n",
       "      <td>Yes</td>\n",
       "      <td>Yes</td>\n",
       "      <td>Yes</td>\n",
       "    </tr>\n",
       "    <tr>\n",
       "      <th>3</th>\n",
       "      <td>community-centres</td>\n",
       "      <td>Geo Local Area</td>\n",
       "      <td>This column identifies the local area or neigh...</td>\n",
       "      <td>cultural-spaces</td>\n",
       "      <td>LOCAL_AREA</td>\n",
       "      <td>The Geo Local Area column identifies the gener...</td>\n",
       "      <td>Yes</td>\n",
       "      <td>Yes</td>\n",
       "      <td>Yes</td>\n",
       "    </tr>\n",
       "    <tr>\n",
       "      <th>6</th>\n",
       "      <td>community-centres</td>\n",
       "      <td>Geo Local Area</td>\n",
       "      <td>In this column, the local areas or neighborhoo...</td>\n",
       "      <td>libraries</td>\n",
       "      <td>Geo Local Area</td>\n",
       "      <td>The Geo Local Area column identifies the gener...</td>\n",
       "      <td>Yes</td>\n",
       "      <td>Yes</td>\n",
       "      <td>Yes</td>\n",
       "    </tr>\n",
       "  </tbody>\n",
       "</table>\n",
       "</div>"
      ],
      "text/plain": [
       "          LEFT_TABLE     LEFT_COLUMN  \\\n",
       "0  community-centres         ADDRESS   \n",
       "1  community-centres  Geo Local Area   \n",
       "2  community-centres         ADDRESS   \n",
       "3  community-centres  Geo Local Area   \n",
       "6  community-centres  Geo Local Area   \n",
       "\n",
       "                                    LEFT_DESCRIPTION  \\\n",
       "0  The full postal address of the community garde...   \n",
       "1  The neighbourhood or broader geographical area...   \n",
       "2  This column contains the street address of the...   \n",
       "3  This column identifies the local area or neigh...   \n",
       "6  In this column, the local areas or neighborhoo...   \n",
       "\n",
       "                        RIGHT_TABLE    RIGHT_COLUMN  \\\n",
       "0  community-gardens-and-food-trees  MERGED_ADDRESS   \n",
       "1  community-gardens-and-food-trees  Geo Local Area   \n",
       "2                   cultural-spaces         ADDRESS   \n",
       "3                   cultural-spaces      LOCAL_AREA   \n",
       "6                         libraries  Geo Local Area   \n",
       "\n",
       "                                   RIGHT_DESCRIPTION JOINABLE JOINABLE_TD  \\\n",
       "0  The ADDRESS column provides the street address...      Yes         Yes   \n",
       "1  The Geo Local Area column identifies the gener...      Yes         Yes   \n",
       "2  The ADDRESS column provides the street address...      Yes         Yes   \n",
       "3  The Geo Local Area column identifies the gener...      Yes         Yes   \n",
       "6  The Geo Local Area column identifies the gener...      Yes         Yes   \n",
       "\n",
       "  JOINABLE_TD_v2  \n",
       "0            Yes  \n",
       "1            Yes  \n",
       "2            Yes  \n",
       "3            Yes  \n",
       "6            Yes  "
      ]
     },
     "execution_count": 5,
     "metadata": {},
     "output_type": "execute_result"
    }
   ],
   "source": [
    "cta_matched_joinable_tables = pd.read_csv('Description_test/table_descriptions_test_2025_01_05/junio_JD_matches_joinable_tables.csv')\n",
    "cta_matched_joinable_tables = cta_matched_joinable_tables[cta_matched_joinable_tables['JOINABLE_TD_v2'] == 'Yes']\n",
    "cta_matched_joinable_tables.head()"
   ]
  },
  {
   "cell_type": "code",
   "execution_count": 7,
   "id": "ed9d76f2-9aec-4863-8840-30d3b327e0d4",
   "metadata": {},
   "outputs": [
    {
     "name": "stderr",
     "output_type": "stream",
     "text": [
      "100%|████████████████████████████████████████████████████████████████████████████████████████████████████████████████████████████████████████████████████████████████████████████████████████████████████| 119/119 [00:00<00:00, 9595.18it/s]\n"
     ]
    }
   ],
   "source": [
    "prompts = []\n",
    "\n",
    "for i in tqdm(range(len(cta_matched_joinable_tables))):\n",
    "    \n",
    "    target_table_description = cta_matched_joinable_tables.iloc[i, 2]\n",
    "    target_column_descriptions = cta_matched_joinable_tables.iloc[i, 5]\n",
    "    \n",
    "    prompt = generate_prompt_predict_possible_joins(target_table_description, target_column_descriptions)\n",
    "    prompts.append(prompt)"
   ]
  },
  {
   "cell_type": "code",
   "execution_count": 8,
   "id": "ff9ba63a-8c5a-4a48-8e7b-3f401acd1f98",
   "metadata": {},
   "outputs": [
    {
     "data": {
      "text/plain": [
       "(\"\\n            Given one target column description and one candidate column description, predict if they could be joined, Answer with only 'Yes' or 'No'.\\n\\n            Task: Look carefully at the target column description and the candidate column description and use this information to identify patterns and \\n            relationships between the descriptions, the result must be Yes or No depending if the pair is JOINable.\\n            \\n            Additional info: A JOIN in relational databases is an operation that retrieves related rows from two tables by linking them based on related \\n            columns between them.\\n            \\n            Instructions: \\n                1. Look at the target description given to you. \\n                2. Look at the candidate description in detail. \\n                3. Predict if the target column description belongs to a column that may be used in join. \\n                4. Predict if the target column description and the candidate column description are JOINable. Disregard the column names.\\n                \\n            Example 1:\\n                Target description: this column represents a worker's id.\\n                Candidate description: 'the column worker_id represents the worker's id'.\\n                Answer: Yes\\n            \",\n",
       " 'Target description:     The full postal address of the community garden or food tree, combining street number, name, direction, and type for complete location details.\\n                   Candidate description:  The ADDRESS column provides the street address of each community centre. These addresses include street numbers and names, such as 1 Kingsway for Mount Pleasant and 1318 Cartwright St for False Creek.\\n                   Answer:')"
      ]
     },
     "execution_count": 8,
     "metadata": {},
     "output_type": "execute_result"
    }
   ],
   "source": [
    "prompts[0]"
   ]
  },
  {
   "cell_type": "code",
   "execution_count": 9,
   "id": "b8bc98d6-51b9-4e07-bab5-7462407fab2b",
   "metadata": {},
   "outputs": [],
   "source": [
    "np.save('Description_test/table_descriptions_test_2025_01_05/Column_JOIN_Prompts/column_JD.npy', prompts)"
   ]
  }
 ],
 "metadata": {
  "kernelspec": {
   "display_name": "Python 3 (ipykernel)",
   "language": "python",
   "name": "python3"
  },
  "language_info": {
   "codemirror_mode": {
    "name": "ipython",
    "version": 3
   },
   "file_extension": ".py",
   "mimetype": "text/x-python",
   "name": "python",
   "nbconvert_exporter": "python",
   "pygments_lexer": "ipython3",
   "version": "3.10.12"
  }
 },
 "nbformat": 4,
 "nbformat_minor": 5
}
