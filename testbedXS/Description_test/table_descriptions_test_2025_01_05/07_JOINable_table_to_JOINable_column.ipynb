{
 "cells": [
  {
   "cell_type": "code",
   "execution_count": 1,
   "id": "25cc8b53-2ec0-452c-ac6d-c1c0a153c43f",
   "metadata": {},
   "outputs": [],
   "source": [
    "import pandas as pd\n",
    "import numpy as np\n",
    "import json\n",
    "import os\n",
    "import glob"
   ]
  },
  {
   "cell_type": "code",
   "execution_count": 2,
   "id": "405ee33a-4946-4279-a00a-5a641fb740b2",
   "metadata": {},
   "outputs": [],
   "source": [
    "pd.set_option('display.max_rows', None)"
   ]
  },
  {
   "cell_type": "code",
   "execution_count": 3,
   "id": "b1ec0601-6f4a-4ecf-a053-ce1af73dfa33",
   "metadata": {},
   "outputs": [
    {
     "name": "stdout",
     "output_type": "stream",
     "text": [
      "/home/manoelflorencio/cta_for_jd/testbedXS\n"
     ]
    }
   ],
   "source": [
    "path = '/home/manoelflorencio/cta_for_jd/testbedXS'\n",
    "os.chdir(path)\n",
    "print(os.getcwd())"
   ]
  },
  {
   "cell_type": "code",
   "execution_count": 4,
   "id": "f45fd257-3ce7-41cc-874e-4ae5fb5d7662",
   "metadata": {},
   "outputs": [
    {
     "data": {
      "text/html": [
       "<div>\n",
       "<style scoped>\n",
       "    .dataframe tbody tr th:only-of-type {\n",
       "        vertical-align: middle;\n",
       "    }\n",
       "\n",
       "    .dataframe tbody tr th {\n",
       "        vertical-align: top;\n",
       "    }\n",
       "\n",
       "    .dataframe thead th {\n",
       "        text-align: right;\n",
       "    }\n",
       "</style>\n",
       "<table border=\"1\" class=\"dataframe\">\n",
       "  <thead>\n",
       "    <tr style=\"text-align: right;\">\n",
       "      <th></th>\n",
       "      <th>LEFT_TABLE</th>\n",
       "      <th>RIGHT_TABLE</th>\n",
       "      <th>JOINABLE</th>\n",
       "    </tr>\n",
       "  </thead>\n",
       "  <tbody>\n",
       "    <tr>\n",
       "      <th>0</th>\n",
       "      <td>statewise-census-data-in-india-1901-2011.csv</td>\n",
       "      <td>road-ahead-current-road-closures.csv</td>\n",
       "      <td>No</td>\n",
       "    </tr>\n",
       "    <tr>\n",
       "      <th>1</th>\n",
       "      <td>statewise-census-data-in-india-1901-2011.csv</td>\n",
       "      <td>property-tie-lines.csv</td>\n",
       "      <td>No</td>\n",
       "    </tr>\n",
       "    <tr>\n",
       "      <th>2</th>\n",
       "      <td>statewise-census-data-in-india-1901-2011.csv</td>\n",
       "      <td>public-art.csv</td>\n",
       "      <td>No</td>\n",
       "    </tr>\n",
       "    <tr>\n",
       "      <th>3</th>\n",
       "      <td>statewise-census-data-in-india-1901-2011.csv</td>\n",
       "      <td>gvrd-sewer-trunk-mains.csv</td>\n",
       "      <td>No</td>\n",
       "    </tr>\n",
       "    <tr>\n",
       "      <th>4</th>\n",
       "      <td>statewise-census-data-in-india-1901-2011.csv</td>\n",
       "      <td>SCS_Staff_Salaries_data_30th_June 2010.csv</td>\n",
       "      <td>No</td>\n",
       "    </tr>\n",
       "  </tbody>\n",
       "</table>\n",
       "</div>"
      ],
      "text/plain": [
       "                                     LEFT_TABLE  \\\n",
       "0  statewise-census-data-in-india-1901-2011.csv   \n",
       "1  statewise-census-data-in-india-1901-2011.csv   \n",
       "2  statewise-census-data-in-india-1901-2011.csv   \n",
       "3  statewise-census-data-in-india-1901-2011.csv   \n",
       "4  statewise-census-data-in-india-1901-2011.csv   \n",
       "\n",
       "                                  RIGHT_TABLE JOINABLE  \n",
       "0        road-ahead-current-road-closures.csv       No  \n",
       "1                      property-tie-lines.csv       No  \n",
       "2                              public-art.csv       No  \n",
       "3                  gvrd-sewer-trunk-mains.csv       No  \n",
       "4  SCS_Staff_Salaries_data_30th_June 2010.csv       No  "
      ]
     },
     "execution_count": 4,
     "metadata": {},
     "output_type": "execute_result"
    }
   ],
   "source": [
    "jd_df = pd.read_csv('Description_test/table_descriptions_test_2025_01_05/table_cartesians_JD_with_columns_descriptions_v3.csv')\n",
    "jd_df.head()"
   ]
  },
  {
   "cell_type": "code",
   "execution_count": 5,
   "id": "3bc2aa07-0188-425c-ade8-39d5bcacfcc6",
   "metadata": {},
   "outputs": [
    {
     "data": {
      "text/html": [
       "<div>\n",
       "<style scoped>\n",
       "    .dataframe tbody tr th:only-of-type {\n",
       "        vertical-align: middle;\n",
       "    }\n",
       "\n",
       "    .dataframe tbody tr th {\n",
       "        vertical-align: top;\n",
       "    }\n",
       "\n",
       "    .dataframe thead th {\n",
       "        text-align: right;\n",
       "    }\n",
       "</style>\n",
       "<table border=\"1\" class=\"dataframe\">\n",
       "  <thead>\n",
       "    <tr style=\"text-align: right;\">\n",
       "      <th></th>\n",
       "      <th>LEFT_TABLE</th>\n",
       "      <th>LEFT_COLUMN</th>\n",
       "      <th>LEFT_DESCRIPTION</th>\n",
       "      <th>RIGHT_TABLE</th>\n",
       "      <th>RIGHT_COLUMN</th>\n",
       "      <th>RIGHT_DESCRIPTION</th>\n",
       "      <th>JOINABLE</th>\n",
       "      <th>JOINABLE_TD</th>\n",
       "    </tr>\n",
       "  </thead>\n",
       "  <tbody>\n",
       "    <tr>\n",
       "      <th>0</th>\n",
       "      <td>community-centres</td>\n",
       "      <td>ADDRESS</td>\n",
       "      <td>The full postal address of the community garde...</td>\n",
       "      <td>community-gardens-and-food-trees</td>\n",
       "      <td>MERGED_ADDRESS</td>\n",
       "      <td>The ADDRESS column provides the street address...</td>\n",
       "      <td>Yes</td>\n",
       "      <td>Yes</td>\n",
       "    </tr>\n",
       "    <tr>\n",
       "      <th>1</th>\n",
       "      <td>community-centres</td>\n",
       "      <td>Geo Local Area</td>\n",
       "      <td>The neighbourhood or broader geographical area...</td>\n",
       "      <td>community-gardens-and-food-trees</td>\n",
       "      <td>Geo Local Area</td>\n",
       "      <td>The Geo Local Area column identifies the gener...</td>\n",
       "      <td>Yes</td>\n",
       "      <td>Yes</td>\n",
       "    </tr>\n",
       "    <tr>\n",
       "      <th>2</th>\n",
       "      <td>community-centres</td>\n",
       "      <td>ADDRESS</td>\n",
       "      <td>This column contains the street address of the...</td>\n",
       "      <td>cultural-spaces</td>\n",
       "      <td>ADDRESS</td>\n",
       "      <td>The ADDRESS column provides the street address...</td>\n",
       "      <td>Yes</td>\n",
       "      <td>Yes</td>\n",
       "    </tr>\n",
       "    <tr>\n",
       "      <th>3</th>\n",
       "      <td>community-centres</td>\n",
       "      <td>Geo Local Area</td>\n",
       "      <td>This column identifies the local area or neigh...</td>\n",
       "      <td>cultural-spaces</td>\n",
       "      <td>LOCAL_AREA</td>\n",
       "      <td>The Geo Local Area column identifies the gener...</td>\n",
       "      <td>Yes</td>\n",
       "      <td>Yes</td>\n",
       "    </tr>\n",
       "    <tr>\n",
       "      <th>4</th>\n",
       "      <td>community-centres</td>\n",
       "      <td>ADDRESS</td>\n",
       "      <td>The street address where the organization is l...</td>\n",
       "      <td>eo_pr</td>\n",
       "      <td>STREET</td>\n",
       "      <td>The ADDRESS column provides the street address...</td>\n",
       "      <td>Yes</td>\n",
       "      <td>No</td>\n",
       "    </tr>\n",
       "  </tbody>\n",
       "</table>\n",
       "</div>"
      ],
      "text/plain": [
       "          LEFT_TABLE     LEFT_COLUMN  \\\n",
       "0  community-centres         ADDRESS   \n",
       "1  community-centres  Geo Local Area   \n",
       "2  community-centres         ADDRESS   \n",
       "3  community-centres  Geo Local Area   \n",
       "4  community-centres         ADDRESS   \n",
       "\n",
       "                                    LEFT_DESCRIPTION  \\\n",
       "0  The full postal address of the community garde...   \n",
       "1  The neighbourhood or broader geographical area...   \n",
       "2  This column contains the street address of the...   \n",
       "3  This column identifies the local area or neigh...   \n",
       "4  The street address where the organization is l...   \n",
       "\n",
       "                        RIGHT_TABLE    RIGHT_COLUMN  \\\n",
       "0  community-gardens-and-food-trees  MERGED_ADDRESS   \n",
       "1  community-gardens-and-food-trees  Geo Local Area   \n",
       "2                   cultural-spaces         ADDRESS   \n",
       "3                   cultural-spaces      LOCAL_AREA   \n",
       "4                             eo_pr          STREET   \n",
       "\n",
       "                                   RIGHT_DESCRIPTION JOINABLE JOINABLE_TD  \n",
       "0  The ADDRESS column provides the street address...      Yes         Yes  \n",
       "1  The Geo Local Area column identifies the gener...      Yes         Yes  \n",
       "2  The ADDRESS column provides the street address...      Yes         Yes  \n",
       "3  The Geo Local Area column identifies the gener...      Yes         Yes  \n",
       "4  The ADDRESS column provides the street address...      Yes          No  "
      ]
     },
     "execution_count": 5,
     "metadata": {},
     "output_type": "execute_result"
    }
   ],
   "source": [
    "cta_crossed_columns = pd.read_csv('Description_test/table_descriptions_test_2025_01_05/junio_JD_matches_with_table_descriptions.csv')\n",
    "cta_crossed_columns.head()"
   ]
  },
  {
   "cell_type": "code",
   "execution_count": 15,
   "id": "8b5139d5-ee27-4d31-9aa5-142e2896bec2",
   "metadata": {},
   "outputs": [],
   "source": [
    "joinable = []\n",
    "for i in range(cta_crossed_columns.shape[0]):\n",
    "    left_table = cta_crossed_columns.iloc[i, 0]\n",
    "    right_table = cta_crossed_columns.iloc[i, 3]\n",
    "    j = jd_df[((jd_df['LEFT_TABLE'] == left_table+'.csv') & (jd_df['RIGHT_TABLE'] == right_table+'.csv')) | ((jd_df['LEFT_TABLE'] == right_table+'.csv') & (jd_df['RIGHT_TABLE'] == left_table+'.csv'))].JOINABLE\n",
    "    joinable.append(j.values[0])"
   ]
  },
  {
   "cell_type": "code",
   "execution_count": 16,
   "id": "da375530-e03e-4477-9066-8cadec3792c0",
   "metadata": {},
   "outputs": [],
   "source": [
    "cta_crossed_columns['JOINABLE_TD_v2'] = joinable"
   ]
  },
  {
   "cell_type": "code",
   "execution_count": 17,
   "id": "2d44e328-b59d-4e84-b2d0-d447f0b8ea67",
   "metadata": {},
   "outputs": [],
   "source": [
    "cta_crossed_columns.to_csv('Description_test/table_descriptions_test_2025_01_05/junio_JD_matches_joinable_tables.csv', index=False)"
   ]
  }
 ],
 "metadata": {
  "kernelspec": {
   "display_name": "Python 3 (ipykernel)",
   "language": "python",
   "name": "python3"
  },
  "language_info": {
   "codemirror_mode": {
    "name": "ipython",
    "version": 3
   },
   "file_extension": ".py",
   "mimetype": "text/x-python",
   "name": "python",
   "nbconvert_exporter": "python",
   "pygments_lexer": "ipython3",
   "version": "3.10.12"
  }
 },
 "nbformat": 4,
 "nbformat_minor": 5
}
