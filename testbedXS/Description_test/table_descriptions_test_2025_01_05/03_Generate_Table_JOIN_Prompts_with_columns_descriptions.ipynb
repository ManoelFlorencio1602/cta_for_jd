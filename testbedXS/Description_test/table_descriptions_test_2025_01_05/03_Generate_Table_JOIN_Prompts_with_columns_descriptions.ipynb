{
 "cells": [
  {
   "cell_type": "code",
   "execution_count": 1,
   "id": "e47e3e1c-b273-4745-88b9-db62dcdcba79",
   "metadata": {},
   "outputs": [],
   "source": [
    "import pandas as pd\n",
    "import numpy as np\n",
    "import json\n",
    "import os\n",
    "import glob\n",
    "\n",
    "import pickle\n",
    "\n",
    "from tqdm import tqdm"
   ]
  },
  {
   "cell_type": "code",
   "execution_count": 2,
   "id": "d46bb8d1-27e4-4953-a515-3536f87ab963",
   "metadata": {},
   "outputs": [],
   "source": [
    "pd.set_option('display.max_rows', None)"
   ]
  },
  {
   "cell_type": "code",
   "execution_count": 3,
   "id": "80e77c81-1faa-4dec-a49a-6f003186fd68",
   "metadata": {},
   "outputs": [
    {
     "name": "stdout",
     "output_type": "stream",
     "text": [
      "/home/manoelflorencio/cta_for_jd/testbedXS\n"
     ]
    }
   ],
   "source": [
    "path = '/home/manoelflorencio/cta_for_jd/testbedXS'\n",
    "os.chdir(path)\n",
    "print(os.getcwd())"
   ]
  },
  {
   "cell_type": "code",
   "execution_count": 4,
   "id": "c9209d2e-8467-4021-a149-4a3637e75067",
   "metadata": {},
   "outputs": [],
   "source": [
    "def generate_prompt_JD_prediction(target_table_description, target_column_descriptions, candidate_table_description, candidate_column_descriptions):\n",
    "\n",
    "    system_msg = \"\"\"\n",
    "            Given a target table and a candidate table, predict if the pair (target table, candidate table) could be joined and answer with only \"Yes\" or \"No\".\n",
    "\n",
    "            Task: Look carefully at the target table description and the candidate table description, as well as the description of their columns, and \n",
    "            use these information to identify patterns and relationships between the descriptions. The result must be only the word \"Yes\" if the JOIN is \n",
    "            possible or \"No\" otherwise.\n",
    "\n",
    "            Additional info: A JOIN in relational databases is an operation that retrieves related rows from two tables by linking them \n",
    "            based on related columns they may have between them.\n",
    "\n",
    "            Additional info: consider location as JOINable as if the values are standardized.\n",
    "\n",
    "           Instructions: \n",
    "                1. Look at the description of the target table given to you.\n",
    "                2. Look at the description of the columns of the target table given to you.\n",
    "                3. Look at the description of the candidate table given to you.\n",
    "                4. Look at the description of the columns of the candidate table given to you.\n",
    "                5. Predict if the target table and the candidate tables are joinable, answer with \"Yes\" or \"No\".\n",
    "    \"\"\"\n",
    "    user_msg =  f\"\"\"Target Table description: {target_table_description}\n",
    "                  Target Table columns descriptions: {target_column_descriptions}\n",
    "                  Candidate Table description: {candidate_table_description}\n",
    "                  Candidate Table columns descriptions: {candidate_column_descriptions}Answer:\"\"\".strip()\n",
    "\n",
    "    return system_msg, user_msg"
   ]
  },
  {
   "cell_type": "code",
   "execution_count": 5,
   "id": "f1cc94cc-204c-4922-8cd5-bf67d4c2d916",
   "metadata": {},
   "outputs": [
    {
     "data": {
      "text/html": [
       "<div>\n",
       "<style scoped>\n",
       "    .dataframe tbody tr th:only-of-type {\n",
       "        vertical-align: middle;\n",
       "    }\n",
       "\n",
       "    .dataframe tbody tr th {\n",
       "        vertical-align: top;\n",
       "    }\n",
       "\n",
       "    .dataframe thead th {\n",
       "        text-align: right;\n",
       "    }\n",
       "</style>\n",
       "<table border=\"1\" class=\"dataframe\">\n",
       "  <thead>\n",
       "    <tr style=\"text-align: right;\">\n",
       "      <th></th>\n",
       "      <th>TableName</th>\n",
       "      <th>Column</th>\n",
       "      <th>Description</th>\n",
       "      <th>CTA</th>\n",
       "    </tr>\n",
       "  </thead>\n",
       "  <tbody>\n",
       "    <tr>\n",
       "      <th>0</th>\n",
       "      <td>eo_xx</td>\n",
       "      <td>EIN</td>\n",
       "      <td>The Employer Identification Number (EIN) is a ...</td>\n",
       "      <td>Identifier</td>\n",
       "    </tr>\n",
       "    <tr>\n",
       "      <th>1</th>\n",
       "      <td>eo_xx</td>\n",
       "      <td>NAME</td>\n",
       "      <td>The NAME column contains the official name of ...</td>\n",
       "      <td>Organization</td>\n",
       "    </tr>\n",
       "    <tr>\n",
       "      <th>2</th>\n",
       "      <td>eo_xx</td>\n",
       "      <td>ICO</td>\n",
       "      <td>The ICO column appears to contain names of ind...</td>\n",
       "      <td>Person</td>\n",
       "    </tr>\n",
       "    <tr>\n",
       "      <th>3</th>\n",
       "      <td>eo_xx</td>\n",
       "      <td>STREET</td>\n",
       "      <td>The STREET column provides the street address ...</td>\n",
       "      <td>streetAddress</td>\n",
       "    </tr>\n",
       "    <tr>\n",
       "      <th>4</th>\n",
       "      <td>eo_xx</td>\n",
       "      <td>CITY</td>\n",
       "      <td>The CITY column specifies the city where the o...</td>\n",
       "      <td>Text</td>\n",
       "    </tr>\n",
       "  </tbody>\n",
       "</table>\n",
       "</div>"
      ],
      "text/plain": [
       "  TableName  Column                                        Description  \\\n",
       "0     eo_xx     EIN  The Employer Identification Number (EIN) is a ...   \n",
       "1     eo_xx    NAME  The NAME column contains the official name of ...   \n",
       "2     eo_xx     ICO  The ICO column appears to contain names of ind...   \n",
       "3     eo_xx  STREET  The STREET column provides the street address ...   \n",
       "4     eo_xx    CITY  The CITY column specifies the city where the o...   \n",
       "\n",
       "             CTA  \n",
       "0     Identifier  \n",
       "1   Organization  \n",
       "2         Person  \n",
       "3  streetAddress  \n",
       "4           Text  "
      ]
     },
     "execution_count": 5,
     "metadata": {},
     "output_type": "execute_result"
    }
   ],
   "source": [
    "column_descriptions = pd.read_csv('Description_test/table_descriptions_test_2025_01_05/all_junio_descriptions_with_cta.csv')\n",
    "column_descriptions.head()"
   ]
  },
  {
   "cell_type": "code",
   "execution_count": 6,
   "id": "affc8edc-5299-4680-9431-29f3aac4721e",
   "metadata": {},
   "outputs": [
    {
     "data": {
      "text/html": [
       "<div>\n",
       "<style scoped>\n",
       "    .dataframe tbody tr th:only-of-type {\n",
       "        vertical-align: middle;\n",
       "    }\n",
       "\n",
       "    .dataframe tbody tr th {\n",
       "        vertical-align: top;\n",
       "    }\n",
       "\n",
       "    .dataframe thead th {\n",
       "        text-align: right;\n",
       "    }\n",
       "</style>\n",
       "<table border=\"1\" class=\"dataframe\">\n",
       "  <thead>\n",
       "    <tr style=\"text-align: right;\">\n",
       "      <th></th>\n",
       "      <th>TableName</th>\n",
       "      <th>Description</th>\n",
       "    </tr>\n",
       "  </thead>\n",
       "  <tbody>\n",
       "    <tr>\n",
       "      <th>0</th>\n",
       "      <td>statewise-census-data-in-india-1901-2011.csv</td>\n",
       "      <td>The table \"statewise-census-data-in-india-1901...</td>\n",
       "    </tr>\n",
       "    <tr>\n",
       "      <th>1</th>\n",
       "      <td>road-ahead-current-road-closures.csv</td>\n",
       "      <td>The table \"road-ahead-current-road-closures.cs...</td>\n",
       "    </tr>\n",
       "    <tr>\n",
       "      <th>2</th>\n",
       "      <td>property-tie-lines.csv</td>\n",
       "      <td>The table \"property-tie-lines.csv\" contains in...</td>\n",
       "    </tr>\n",
       "    <tr>\n",
       "      <th>3</th>\n",
       "      <td>public-art.csv</td>\n",
       "      <td>The public-art.csv table provides detailed inf...</td>\n",
       "    </tr>\n",
       "    <tr>\n",
       "      <th>4</th>\n",
       "      <td>gvrd-sewer-trunk-mains.csv</td>\n",
       "      <td>The \"gvrd-sewer-trunk-mains.csv\" table provide...</td>\n",
       "    </tr>\n",
       "  </tbody>\n",
       "</table>\n",
       "</div>"
      ],
      "text/plain": [
       "                                      TableName  \\\n",
       "0  statewise-census-data-in-india-1901-2011.csv   \n",
       "1          road-ahead-current-road-closures.csv   \n",
       "2                        property-tie-lines.csv   \n",
       "3                                public-art.csv   \n",
       "4                    gvrd-sewer-trunk-mains.csv   \n",
       "\n",
       "                                         Description  \n",
       "0  The table \"statewise-census-data-in-india-1901...  \n",
       "1  The table \"road-ahead-current-road-closures.cs...  \n",
       "2  The table \"property-tie-lines.csv\" contains in...  \n",
       "3  The public-art.csv table provides detailed inf...  \n",
       "4  The \"gvrd-sewer-trunk-mains.csv\" table provide...  "
      ]
     },
     "execution_count": 6,
     "metadata": {},
     "output_type": "execute_result"
    }
   ],
   "source": [
    "table_descriptions = pd.read_csv('Description_test/table_descriptions_test_2025_01_05/table_descriptions.csv')\n",
    "table_descriptions.head()"
   ]
  },
  {
   "cell_type": "code",
   "execution_count": 7,
   "id": "9ebdf296-8346-4f63-bb75-d9de6e8602dc",
   "metadata": {},
   "outputs": [
    {
     "data": {
      "text/html": [
       "<div>\n",
       "<style scoped>\n",
       "    .dataframe tbody tr th:only-of-type {\n",
       "        vertical-align: middle;\n",
       "    }\n",
       "\n",
       "    .dataframe tbody tr th {\n",
       "        vertical-align: top;\n",
       "    }\n",
       "\n",
       "    .dataframe thead th {\n",
       "        text-align: right;\n",
       "    }\n",
       "</style>\n",
       "<table border=\"1\" class=\"dataframe\">\n",
       "  <thead>\n",
       "    <tr style=\"text-align: right;\">\n",
       "      <th></th>\n",
       "      <th>LEFT_TABLE</th>\n",
       "      <th>RIGHT_TABLE</th>\n",
       "    </tr>\n",
       "  </thead>\n",
       "  <tbody>\n",
       "    <tr>\n",
       "      <th>0</th>\n",
       "      <td>statewise-census-data-in-india-1901-2011.csv</td>\n",
       "      <td>road-ahead-current-road-closures.csv</td>\n",
       "    </tr>\n",
       "    <tr>\n",
       "      <th>1</th>\n",
       "      <td>statewise-census-data-in-india-1901-2011.csv</td>\n",
       "      <td>property-tie-lines.csv</td>\n",
       "    </tr>\n",
       "    <tr>\n",
       "      <th>2</th>\n",
       "      <td>statewise-census-data-in-india-1901-2011.csv</td>\n",
       "      <td>public-art.csv</td>\n",
       "    </tr>\n",
       "    <tr>\n",
       "      <th>3</th>\n",
       "      <td>statewise-census-data-in-india-1901-2011.csv</td>\n",
       "      <td>gvrd-sewer-trunk-mains.csv</td>\n",
       "    </tr>\n",
       "    <tr>\n",
       "      <th>4</th>\n",
       "      <td>statewise-census-data-in-india-1901-2011.csv</td>\n",
       "      <td>SCS_Staff_Salaries_data_30th_June 2010.csv</td>\n",
       "    </tr>\n",
       "  </tbody>\n",
       "</table>\n",
       "</div>"
      ],
      "text/plain": [
       "                                     LEFT_TABLE  \\\n",
       "0  statewise-census-data-in-india-1901-2011.csv   \n",
       "1  statewise-census-data-in-india-1901-2011.csv   \n",
       "2  statewise-census-data-in-india-1901-2011.csv   \n",
       "3  statewise-census-data-in-india-1901-2011.csv   \n",
       "4  statewise-census-data-in-india-1901-2011.csv   \n",
       "\n",
       "                                  RIGHT_TABLE  \n",
       "0        road-ahead-current-road-closures.csv  \n",
       "1                      property-tie-lines.csv  \n",
       "2                              public-art.csv  \n",
       "3                  gvrd-sewer-trunk-mains.csv  \n",
       "4  SCS_Staff_Salaries_data_30th_June 2010.csv  "
      ]
     },
     "execution_count": 7,
     "metadata": {},
     "output_type": "execute_result"
    }
   ],
   "source": [
    "table_matches = pd.read_csv('Description_test/table_descriptions_test_2025_01_05/table_cartesians.csv')\n",
    "table_matches.head()"
   ]
  },
  {
   "cell_type": "code",
   "execution_count": 8,
   "id": "6a97becb-8a88-4f85-921b-d42469a473b5",
   "metadata": {},
   "outputs": [
    {
     "name": "stderr",
     "output_type": "stream",
     "text": [
      "100%|███████████████████████████████████████████████████████████████████████████████| 378/378 [00:00<00:00, 1047.50it/s]\n"
     ]
    }
   ],
   "source": [
    "prompts = []\n",
    "\n",
    "for i in tqdm(range(len(table_matches))):\n",
    "    left_table_name  = table_matches.iloc[i, 0]\n",
    "    right_table_name = table_matches.iloc[i, 1]\n",
    "    \n",
    "    target_table_description = table_descriptions[table_descriptions['TableName'] == left_table_name].iloc[0,1]\n",
    "    target_column_descriptions = column_descriptions[column_descriptions['TableName'] == left_table_name[:-4]].Description.values    \n",
    "    \n",
    "    candidate_table_description = table_descriptions[table_descriptions['TableName'] == right_table_name].iloc[0,1]\n",
    "    candidate_column_descriptions = column_descriptions[column_descriptions['TableName'] == right_table_name[:-4]].Description.values\n",
    "    \n",
    "    prompt = generate_prompt_JD_prediction(target_table_description, target_column_descriptions, \n",
    "                                           candidate_table_description, candidate_column_descriptions)\n",
    "    prompts.append(prompt)"
   ]
  },
  {
   "cell_type": "code",
   "execution_count": 9,
   "id": "3b3bb7f6-ea7b-405c-ac03-e5cfdca5d635",
   "metadata": {},
   "outputs": [
    {
     "data": {
      "text/plain": [
       "('\\n            Given a target table and a candidate table, predict if the pair (target table, candidate table) could be joined and answer with only \"Yes\" or \"No\".\\n\\n            Task: Look carefully at the target table description and the candidate table description, as well as the description of their columns, and \\n            use these information to identify patterns and relationships between the descriptions. The result must be only the word \"Yes\" if the JOIN is \\n            possible or \"No\" otherwise.\\n\\n            Additional info: A JOIN in relational databases is an operation that retrieves related rows from two tables by linking them \\n            based on related columns they may have between them.\\n\\n            Additional info: consider location as JOINable as if the values are standardized.\\n\\n           Instructions: \\n                1. Look at the description of the target table given to you.\\n                2. Look at the description of the columns of the target table given to you.\\n                3. Look at the description of the candidate table given to you.\\n                4. Look at the description of the columns of the candidate table given to you.\\n                5. Predict if the target table and the candidate tables are joinable, answer with \"Yes\" or \"No\".\\n    ',\n",
       " 'Target Table description: The table \"statewise-census-data-in-india-1901-2011\" contains annual data detailing various socio-economic indicators such as agriculture growth, literacy rates, industry growth, and population metrics across different regions in India including states and specific areas like Andaman & Nicobar Islands and Andhra Pradesh for the years spanning from 1901 to 2011.\\n                  Target Table columns descriptions: [\\'This column specifies the regularity at which the data was recorded or reported. In this dataset, all data entries have an annual frequency, indicating that they are collected or aggregated on a yearly basis.\\'\\n \\'This column denotes the year in which the data pertains to, ranging from 1951 to 2011, capturing various demographics and economic growth figures for specific years.\\'\\n \\'This column represents the name of the geographical area (state, district, or city) in India for which the data entry is made. It includes names like Gondiya, Nagaland, South District, Madurai, Jharkhand, and others.\\'\\n \"This column seems to be a boolean field indicating a specific property or categorization of the location, but based on the available values, it is always \\'False\\'.\"\\n \\'This column contains the unique identifier for the geographic location in the form of an alphanumeric code that corresponds to the state or district of India, such as IN-MH-GO for Gondiya.\\'\\n \\'This column appears to be a reiteration of LOCATION_ID, possibly indicating the same unique identifier of the geographic area in India for each entry.\\'\\n \\'This column indicates the specific type of demographic or economic data being recorded for the location. It includes categories such as Female Population, Male Population, Population, Agriculture growth, Industry growth, Net decadal population accretion, etc.\\'\\n \\'This column holds the numerical data or measure corresponding to the VARIABLE_NAME for each geographic location. It includes values of population counts or growth rates, such as 6.59807 for Female Population in Gondiya or 10.55% for Agriculture growth in Jharkhand.\\'\\n \\'This column features an alphanumeric code that uniquely identifies each type of variable being recorded, such as KN.H3 for Female Population or KN.H1 for Agriculture growth.\\']\\n                  Candidate Table description: The table \"road-ahead-current-road-closures.csv\" provides details about current road closures, including the project description, affected street locations, completion dates, URLs for more information, and geographical coordinates for each closure event.\\n                  Candidate Table columns descriptions: [\"This column contains the project description that specifies the location and scope of road closures. It includes road names and direction references such as \\'from\\' point to an \\'end\\' point.\"\\n \"This column appears to be a placeholder as it contains only \\'nan\\' values in the provided data.\"\\n \\'This column describes the specific areas affected by the project, providing a detailed narrative of the roads included in the closure with starting and ending points.\\'\\n \"This column specifies the completion date of the project, indicating when the road closure is expected to end. The date follows the \\'YYYY-MM-DD\\' format.\"\\n \\'This column contains the URL linking to a webpage with additional details about each specific road closure event or project.\\'\\n \"The \\'Geom\\' column provides geometric information about the road closures. It includes coordinates in either \\'LineString\\' or \\'MultiLineString\\' format, detailing the exact geographical path affected by the closure.\"]Answer:')"
      ]
     },
     "execution_count": 9,
     "metadata": {},
     "output_type": "execute_result"
    }
   ],
   "source": [
    "prompts[0]"
   ]
  },
  {
   "cell_type": "code",
   "execution_count": 10,
   "id": "3f13de2c-cdf8-442a-a321-e5359fa19ea5",
   "metadata": {},
   "outputs": [],
   "source": [
    "np.save('Description_test/table_descriptions_test_2025_01_05/Table_JOIN_Prompts/table_JD_with_columns_v3.npy', prompts)"
   ]
  }
 ],
 "metadata": {
  "kernelspec": {
   "display_name": "Python 3 (ipykernel)",
   "language": "python",
   "name": "python3"
  },
  "language_info": {
   "codemirror_mode": {
    "name": "ipython",
    "version": 3
   },
   "file_extension": ".py",
   "mimetype": "text/x-python",
   "name": "python",
   "nbconvert_exporter": "python",
   "pygments_lexer": "ipython3",
   "version": "3.10.12"
  }
 },
 "nbformat": 4,
 "nbformat_minor": 5
}
