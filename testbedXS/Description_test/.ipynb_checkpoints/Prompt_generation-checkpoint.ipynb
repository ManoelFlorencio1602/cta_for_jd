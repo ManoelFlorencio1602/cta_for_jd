{
 "cells": [
  {
   "cell_type": "code",
   "execution_count": 1,
   "id": "95e5f587-cda2-473f-b2e2-b78130f8b97a",
   "metadata": {},
   "outputs": [],
   "source": [
    "import pandas as pd\n",
    "import numpy as np\n",
    "import json\n",
    "import os\n",
    "import glob\n",
    "\n",
    "import pickle\n",
    "\n",
    "from tqdm import tqdm"
   ]
  },
  {
   "cell_type": "code",
   "execution_count": 2,
   "id": "d64521f3-c2f9-4d9b-a502-0b47b3971b5c",
   "metadata": {},
   "outputs": [
    {
     "name": "stdout",
     "output_type": "stream",
     "text": [
      "/home/manoelflorencio/cta_for_jd/testbedXS\n"
     ]
    }
   ],
   "source": [
    "path = '/home/manoelflorencio/cta_for_jd/testbedXS'\n",
    "os.chdir(path)\n",
    "print(os.getcwd())"
   ]
  },
  {
   "cell_type": "code",
   "execution_count": 3,
   "id": "bcd7d6a9-2223-4048-9c96-2c750a753939",
   "metadata": {},
   "outputs": [],
   "source": [
    "def generate_prompt_predict_possible_joins(target_description, candidate_descriptions, candidate_tables):\n",
    "\n",
    "    system_msg = f\"\"\"\n",
    "            Given one target column description and many candidate column descriptions, predict all the pairs (candidate table name, candidate \n",
    "            description column name) that could be joined.\n",
    "\n",
    "            Task: Look carefully at the target column description and candidate column descriptions and use this information to identify \n",
    "            patterns and relationships between the descriptions, the result must be a list of all the JOINable pairs found. If no joinable pair is \n",
    "            found the result should be just the word \"none\".\n",
    "\n",
    "            Additional info: A JOIN in relational databases is an operation that retrieves related rows from two tables by linking them \n",
    "            based on related columns between them.\n",
    "            \n",
    "            Instructions: \n",
    "                1. Look at the target description given to you. \n",
    "                2. Look at the candidate descriptions in detail. \n",
    "                3. Predict if the target column description belongs to a column that may be used in join. \n",
    "                4. Select all the highly likely JOINs between these columns based only on these descriptions. Disregard the column names.\n",
    "\n",
    "            Example 1:\n",
    "                Target description: this column represents a worker's id\n",
    "                Candidate tables: ['salary.csv','salary.csv','hospital.csv']\n",
    "                Candidate description: ['the column worker_id represents the worker's id', 'this column represents a worker's salary', 'this column represents a hospital location']\n",
    "                Possible JOINs: ('salary.csv', 'worker_id')\n",
    "            \"\"\"\n",
    "    \n",
    "    user_msg = f\"\"\"Target description:      {target_description}\n",
    "                   Candidate table:         {candidate_tables.values}\n",
    "                   Candidate descriptions:  {candidate_descriptions.values}\n",
    "                   Possible JOINs: \"\"\".strip()\n",
    "    \n",
    "    return system_msg, user_msg"
   ]
  },
  {
   "cell_type": "code",
   "execution_count": 4,
   "id": "911eddb9-0ee3-497f-bee5-1022a385414b",
   "metadata": {},
   "outputs": [
    {
     "data": {
      "text/html": [
       "<div>\n",
       "<style scoped>\n",
       "    .dataframe tbody tr th:only-of-type {\n",
       "        vertical-align: middle;\n",
       "    }\n",
       "\n",
       "    .dataframe tbody tr th {\n",
       "        vertical-align: top;\n",
       "    }\n",
       "\n",
       "    .dataframe thead th {\n",
       "        text-align: right;\n",
       "    }\n",
       "</style>\n",
       "<table border=\"1\" class=\"dataframe\">\n",
       "  <thead>\n",
       "    <tr style=\"text-align: right;\">\n",
       "      <th></th>\n",
       "      <th>TableName</th>\n",
       "      <th>Column</th>\n",
       "      <th>Description</th>\n",
       "    </tr>\n",
       "  </thead>\n",
       "  <tbody>\n",
       "    <tr>\n",
       "      <th>0</th>\n",
       "      <td>statewise-census-data-in-india-1901-2011.csv</td>\n",
       "      <td>FREQUENCY</td>\n",
       "      <td>The 'FREQUENCY' column consists of the tempora...</td>\n",
       "    </tr>\n",
       "    <tr>\n",
       "      <th>1</th>\n",
       "      <td>statewise-census-data-in-india-1901-2011.csv</td>\n",
       "      <td>DATE</td>\n",
       "      <td>The 'DATE' column in the table represents the ...</td>\n",
       "    </tr>\n",
       "    <tr>\n",
       "      <th>2</th>\n",
       "      <td>statewise-census-data-in-india-1901-2011.csv</td>\n",
       "      <td>LOCATION_NAME</td>\n",
       "      <td>The \"LOCATION_NAME\" column in the table repres...</td>\n",
       "    </tr>\n",
       "    <tr>\n",
       "      <th>3</th>\n",
       "      <td>statewise-census-data-in-india-1901-2011.csv</td>\n",
       "      <td>LOCATION_F5</td>\n",
       "      <td>The column \"LOCATION_F5\" in the table appears ...</td>\n",
       "    </tr>\n",
       "    <tr>\n",
       "      <th>4</th>\n",
       "      <td>statewise-census-data-in-india-1901-2011.csv</td>\n",
       "      <td>LOCATION_ID</td>\n",
       "      <td>The \"LOCATION_ID\" column contains identifiers ...</td>\n",
       "    </tr>\n",
       "  </tbody>\n",
       "</table>\n",
       "</div>"
      ],
      "text/plain": [
       "                                      TableName         Column  \\\n",
       "0  statewise-census-data-in-india-1901-2011.csv      FREQUENCY   \n",
       "1  statewise-census-data-in-india-1901-2011.csv           DATE   \n",
       "2  statewise-census-data-in-india-1901-2011.csv  LOCATION_NAME   \n",
       "3  statewise-census-data-in-india-1901-2011.csv    LOCATION_F5   \n",
       "4  statewise-census-data-in-india-1901-2011.csv    LOCATION_ID   \n",
       "\n",
       "                                         Description  \n",
       "0  The 'FREQUENCY' column consists of the tempora...  \n",
       "1  The 'DATE' column in the table represents the ...  \n",
       "2  The \"LOCATION_NAME\" column in the table repres...  \n",
       "3  The column \"LOCATION_F5\" in the table appears ...  \n",
       "4  The \"LOCATION_ID\" column contains identifiers ...  "
      ]
     },
     "execution_count": 4,
     "metadata": {},
     "output_type": "execute_result"
    }
   ],
   "source": [
    "descriptions = pd.read_csv('Description_test/all_descriptions.csv')\n",
    "descriptions.head()"
   ]
  },
  {
   "cell_type": "code",
   "execution_count": 13,
   "id": "9eecf5d0-cb7b-471c-832f-1b15842a64ec",
   "metadata": {},
   "outputs": [
    {
     "data": {
      "text/plain": [
       "['statewise-census-data-in-india-1901-2011.csv',\n",
       " 'road-ahead-current-road-closures.csv',\n",
       " 'property-tie-lines.csv',\n",
       " 'public-art.csv',\n",
       " 'gvrd-sewer-trunk-mains.csv',\n",
       " 'SCS_Staff_Salaries_data_30th_June 2010.csv',\n",
       " 'schools.csv',\n",
       " 'rental-standards-current-issues.csv',\n",
       " 'datasets_579296_1047868_authors.csv',\n",
       " 'survey_results_schema.csv',\n",
       " 'animal-control-inventory-lost-and-found.csv',\n",
       " 'glassdoor_wwfu_val_captions.csv',\n",
       " 'eo_xx.csv',\n",
       " 'community-gardens-and-food-trees.csv',\n",
       " 'road-ahead-upcoming-projects.csv',\n",
       " 'libraries.csv',\n",
       " 'cultural-spaces.csv',\n",
       " 'datasets_517172_952401_train.csv',\n",
       " 'public-art-artists.csv',\n",
       " 'eo4.csv',\n",
       " 'currency_exchange.csv',\n",
       " 'eo_pr.csv',\n",
       " 'road-ahead-projects-under-construction.csv',\n",
       " 'ability_ids.csv',\n",
       " 'population-by-governorate-citizenship-and-gender.csv',\n",
       " 'community-centres.csv',\n",
       " 'street-intersections.csv',\n",
       " 'population-census-of-botswana-2011.csv']"
      ]
     },
     "execution_count": 13,
     "metadata": {},
     "output_type": "execute_result"
    }
   ],
   "source": [
    "# files = ['eo_pr.csv', 'cultural-spaces.csv', 'public-art.csv', 'libraries.csv', 'schools.csv']\n",
    "files = [file.split('/')[-1] for file in glob.glob('datasets/*')]\n",
    "files"
   ]
  },
  {
   "cell_type": "code",
   "execution_count": 6,
   "id": "c3a7e248-4136-4069-b03b-080a86990021",
   "metadata": {},
   "outputs": [
    {
     "data": {
      "text/html": [
       "<div>\n",
       "<style scoped>\n",
       "    .dataframe tbody tr th:only-of-type {\n",
       "        vertical-align: middle;\n",
       "    }\n",
       "\n",
       "    .dataframe tbody tr th {\n",
       "        vertical-align: top;\n",
       "    }\n",
       "\n",
       "    .dataframe thead th {\n",
       "        text-align: right;\n",
       "    }\n",
       "</style>\n",
       "<table border=\"1\" class=\"dataframe\">\n",
       "  <thead>\n",
       "    <tr style=\"text-align: right;\">\n",
       "      <th></th>\n",
       "      <th>TableName</th>\n",
       "      <th>Column</th>\n",
       "      <th>Description</th>\n",
       "    </tr>\n",
       "  </thead>\n",
       "  <tbody>\n",
       "    <tr>\n",
       "      <th>0</th>\n",
       "      <td>statewise-census-data-in-india-1901-2011.csv</td>\n",
       "      <td>FREQUENCY</td>\n",
       "      <td>The 'FREQUENCY' column consists of the tempora...</td>\n",
       "    </tr>\n",
       "    <tr>\n",
       "      <th>1</th>\n",
       "      <td>statewise-census-data-in-india-1901-2011.csv</td>\n",
       "      <td>DATE</td>\n",
       "      <td>The 'DATE' column in the table represents the ...</td>\n",
       "    </tr>\n",
       "    <tr>\n",
       "      <th>2</th>\n",
       "      <td>statewise-census-data-in-india-1901-2011.csv</td>\n",
       "      <td>LOCATION_NAME</td>\n",
       "      <td>The \"LOCATION_NAME\" column in the table repres...</td>\n",
       "    </tr>\n",
       "    <tr>\n",
       "      <th>3</th>\n",
       "      <td>statewise-census-data-in-india-1901-2011.csv</td>\n",
       "      <td>LOCATION_F5</td>\n",
       "      <td>The column \"LOCATION_F5\" in the table appears ...</td>\n",
       "    </tr>\n",
       "    <tr>\n",
       "      <th>4</th>\n",
       "      <td>statewise-census-data-in-india-1901-2011.csv</td>\n",
       "      <td>LOCATION_ID</td>\n",
       "      <td>The \"LOCATION_ID\" column contains identifiers ...</td>\n",
       "    </tr>\n",
       "  </tbody>\n",
       "</table>\n",
       "</div>"
      ],
      "text/plain": [
       "                                      TableName         Column  \\\n",
       "0  statewise-census-data-in-india-1901-2011.csv      FREQUENCY   \n",
       "1  statewise-census-data-in-india-1901-2011.csv           DATE   \n",
       "2  statewise-census-data-in-india-1901-2011.csv  LOCATION_NAME   \n",
       "3  statewise-census-data-in-india-1901-2011.csv    LOCATION_F5   \n",
       "4  statewise-census-data-in-india-1901-2011.csv    LOCATION_ID   \n",
       "\n",
       "                                         Description  \n",
       "0  The 'FREQUENCY' column consists of the tempora...  \n",
       "1  The 'DATE' column in the table represents the ...  \n",
       "2  The \"LOCATION_NAME\" column in the table repres...  \n",
       "3  The column \"LOCATION_F5\" in the table appears ...  \n",
       "4  The \"LOCATION_ID\" column contains identifiers ...  "
      ]
     },
     "execution_count": 6,
     "metadata": {},
     "output_type": "execute_result"
    }
   ],
   "source": [
    "sample_descriptions = descriptions[descriptions['TableName'].isin(files)]\n",
    "sample_descriptions = sample_descriptions.reset_index(drop=True)\n",
    "sample_descriptions.head()"
   ]
  },
  {
   "cell_type": "code",
   "execution_count": 7,
   "id": "a08815cf-9045-457d-83f6-0b92253470a6",
   "metadata": {},
   "outputs": [
    {
     "data": {
      "text/plain": [
       "TableName\n",
       "eo4.csv                                                 28\n",
       "eo_pr.csv                                               28\n",
       "eo_xx.csv                                               28\n",
       "public-art.csv                                          19\n",
       "community-gardens-and-food-trees.csv                    19\n",
       "cultural-spaces.csv                                     12\n",
       "SCS_Staff_Salaries_data_30th_June 2010.csv              10\n",
       "public-art-artists.csv                                   9\n",
       "statewise-census-data-in-india-1901-2011.csv             9\n",
       "population-census-of-botswana-2011.csv                   8\n",
       "rental-standards-current-issues.csv                      8\n",
       "gvrd-sewer-trunk-mains.csv                               7\n",
       "animal-control-inventory-lost-and-found.csv              7\n",
       "datasets_579296_1047868_authors.csv                      6\n",
       "road-ahead-projects-under-construction.csv               6\n",
       "road-ahead-upcoming-projects.csv                         6\n",
       "road-ahead-current-road-closures.csv                     6\n",
       "libraries.csv                                            5\n",
       "community-centres.csv                                    5\n",
       "schools.csv                                              5\n",
       "street-intersections.csv                                 5\n",
       "population-by-governorate-citizenship-and-gender.csv     5\n",
       "currency_exchange.csv                                    5\n",
       "glassdoor_wwfu_val_captions.csv                          3\n",
       "survey_results_schema.csv                                2\n",
       "property-tie-lines.csv                                   2\n",
       "datasets_517172_952401_train.csv                         2\n",
       "ability_ids.csv                                          2\n",
       "Name: count, dtype: int64"
      ]
     },
     "execution_count": 7,
     "metadata": {},
     "output_type": "execute_result"
    }
   ],
   "source": [
    "sample_descriptions['TableName'].value_counts()"
   ]
  },
  {
   "cell_type": "code",
   "execution_count": 8,
   "id": "3d24abed-0353-4766-86bf-6c82bc7153cf",
   "metadata": {},
   "outputs": [],
   "source": [
    "df_dsInformation = pd.read_csv('datasetInformation_testbedXS.csv')"
   ]
  },
  {
   "cell_type": "code",
   "execution_count": 9,
   "id": "9145ced5-3005-4af7-94ea-8934cd870e44",
   "metadata": {},
   "outputs": [],
   "source": [
    "prompt_path = 'Description_test/Prompts/JoinDiscovery/'"
   ]
  },
  {
   "cell_type": "code",
   "execution_count": 20,
   "id": "15f1f481-c7e6-4505-9a22-cc2c44e63ed0",
   "metadata": {},
   "outputs": [
    {
     "data": {
      "text/plain": [
       "'TableName'"
      ]
     },
     "execution_count": 20,
     "metadata": {},
     "output_type": "execute_result"
    }
   ],
   "source": [
    "table_descriptions.columns[0]"
   ]
  },
  {
   "cell_type": "code",
   "execution_count": 21,
   "id": "1431e4c6-ad49-439c-bb09-28133fc6c7e9",
   "metadata": {},
   "outputs": [
    {
     "data": {
      "text/html": [
       "<div>\n",
       "<style scoped>\n",
       "    .dataframe tbody tr th:only-of-type {\n",
       "        vertical-align: middle;\n",
       "    }\n",
       "\n",
       "    .dataframe tbody tr th {\n",
       "        vertical-align: top;\n",
       "    }\n",
       "\n",
       "    .dataframe thead th {\n",
       "        text-align: right;\n",
       "    }\n",
       "</style>\n",
       "<table border=\"1\" class=\"dataframe\">\n",
       "  <thead>\n",
       "    <tr style=\"text-align: right;\">\n",
       "      <th></th>\n",
       "      <th>TableName</th>\n",
       "      <th>Column</th>\n",
       "      <th>Description</th>\n",
       "    </tr>\n",
       "  </thead>\n",
       "  <tbody>\n",
       "    <tr>\n",
       "      <th>0</th>\n",
       "      <td>statewise-census-data-in-india-1901-2011.csv</td>\n",
       "      <td>FREQUENCY</td>\n",
       "      <td>The 'FREQUENCY' column consists of the tempora...</td>\n",
       "    </tr>\n",
       "    <tr>\n",
       "      <th>1</th>\n",
       "      <td>statewise-census-data-in-india-1901-2011.csv</td>\n",
       "      <td>DATE</td>\n",
       "      <td>The 'DATE' column in the table represents the ...</td>\n",
       "    </tr>\n",
       "    <tr>\n",
       "      <th>2</th>\n",
       "      <td>statewise-census-data-in-india-1901-2011.csv</td>\n",
       "      <td>LOCATION_NAME</td>\n",
       "      <td>The \"LOCATION_NAME\" column in the table repres...</td>\n",
       "    </tr>\n",
       "    <tr>\n",
       "      <th>3</th>\n",
       "      <td>statewise-census-data-in-india-1901-2011.csv</td>\n",
       "      <td>LOCATION_F5</td>\n",
       "      <td>The column \"LOCATION_F5\" in the table appears ...</td>\n",
       "    </tr>\n",
       "    <tr>\n",
       "      <th>4</th>\n",
       "      <td>statewise-census-data-in-india-1901-2011.csv</td>\n",
       "      <td>LOCATION_ID</td>\n",
       "      <td>The \"LOCATION_ID\" column contains identifiers ...</td>\n",
       "    </tr>\n",
       "    <tr>\n",
       "      <th>5</th>\n",
       "      <td>statewise-census-data-in-india-1901-2011.csv</td>\n",
       "      <td>LOCATION_REGIONID</td>\n",
       "      <td>The \"LOCATION_REGIONID\" column in the table co...</td>\n",
       "    </tr>\n",
       "    <tr>\n",
       "      <th>6</th>\n",
       "      <td>statewise-census-data-in-india-1901-2011.csv</td>\n",
       "      <td>VARIABLE_NAME</td>\n",
       "      <td>The \"VARIABLE_NAME\" column provides a descript...</td>\n",
       "    </tr>\n",
       "    <tr>\n",
       "      <th>7</th>\n",
       "      <td>statewise-census-data-in-india-1901-2011.csv</td>\n",
       "      <td>VALUE</td>\n",
       "      <td>The target column, \"VALUE,\" represents numeric...</td>\n",
       "    </tr>\n",
       "    <tr>\n",
       "      <th>8</th>\n",
       "      <td>statewise-census-data-in-india-1901-2011.csv</td>\n",
       "      <td>VARIABLE_ID</td>\n",
       "      <td>The \"VARIABLE_ID\" column in the table represen...</td>\n",
       "    </tr>\n",
       "  </tbody>\n",
       "</table>\n",
       "</div>"
      ],
      "text/plain": [
       "                                      TableName             Column  \\\n",
       "0  statewise-census-data-in-india-1901-2011.csv          FREQUENCY   \n",
       "1  statewise-census-data-in-india-1901-2011.csv               DATE   \n",
       "2  statewise-census-data-in-india-1901-2011.csv      LOCATION_NAME   \n",
       "3  statewise-census-data-in-india-1901-2011.csv        LOCATION_F5   \n",
       "4  statewise-census-data-in-india-1901-2011.csv        LOCATION_ID   \n",
       "5  statewise-census-data-in-india-1901-2011.csv  LOCATION_REGIONID   \n",
       "6  statewise-census-data-in-india-1901-2011.csv      VARIABLE_NAME   \n",
       "7  statewise-census-data-in-india-1901-2011.csv              VALUE   \n",
       "8  statewise-census-data-in-india-1901-2011.csv        VARIABLE_ID   \n",
       "\n",
       "                                         Description  \n",
       "0  The 'FREQUENCY' column consists of the tempora...  \n",
       "1  The 'DATE' column in the table represents the ...  \n",
       "2  The \"LOCATION_NAME\" column in the table repres...  \n",
       "3  The column \"LOCATION_F5\" in the table appears ...  \n",
       "4  The \"LOCATION_ID\" column contains identifiers ...  \n",
       "5  The \"LOCATION_REGIONID\" column in the table co...  \n",
       "6  The \"VARIABLE_NAME\" column provides a descript...  \n",
       "7  The target column, \"VALUE,\" represents numeric...  \n",
       "8  The \"VARIABLE_ID\" column in the table represen...  "
      ]
     },
     "execution_count": 21,
     "metadata": {},
     "output_type": "execute_result"
    }
   ],
   "source": [
    "table_descriptions"
   ]
  },
  {
   "cell_type": "code",
   "execution_count": 26,
   "id": "8cc74fa0-aa66-4e41-9829-466ed745067d",
   "metadata": {},
   "outputs": [
    {
     "name": "stderr",
     "output_type": "stream",
     "text": [
      "100%|█████████████████████████████████████████████████████████████████████████████████████████████████████████████████████████████████████████████████████████████████████████████████████████████████████████| 9/9 [00:00<00:00, 232.07it/s]\n",
      "100%|█████████████████████████████████████████████████████████████████████████████████████████████████████████████████████████████████████████████████████████████████████████████████████████████████████████| 6/6 [00:00<00:00, 111.76it/s]\n",
      "100%|█████████████████████████████████████████████████████████████████████████████████████████████████████████████████████████████████████████████████████████████████████████████████████████████████████████| 2/2 [00:00<00:00, 243.75it/s]\n",
      "100%|███████████████████████████████████████████████████████████████████████████████████████████████████████████████████████████████████████████████████████████████████████████████████████████████████████| 19/19 [00:00<00:00, 308.52it/s]\n",
      "100%|█████████████████████████████████████████████████████████████████████████████████████████████████████████████████████████████████████████████████████████████████████████████████████████████████████████| 7/7 [00:00<00:00, 288.54it/s]\n",
      "100%|███████████████████████████████████████████████████████████████████████████████████████████████████████████████████████████████████████████████████████████████████████████████████████████████████████| 10/10 [00:00<00:00, 294.32it/s]\n",
      "100%|█████████████████████████████████████████████████████████████████████████████████████████████████████████████████████████████████████████████████████████████████████████████████████████████████████████| 5/5 [00:00<00:00, 279.56it/s]\n",
      "100%|█████████████████████████████████████████████████████████████████████████████████████████████████████████████████████████████████████████████████████████████████████████████████████████████████████████| 8/8 [00:00<00:00, 280.34it/s]\n",
      "100%|█████████████████████████████████████████████████████████████████████████████████████████████████████████████████████████████████████████████████████████████████████████████████████████████████████████| 6/6 [00:00<00:00, 281.62it/s]\n",
      "100%|█████████████████████████████████████████████████████████████████████████████████████████████████████████████████████████████████████████████████████████████████████████████████████████████████████████| 2/2 [00:00<00:00, 256.49it/s]\n",
      "100%|█████████████████████████████████████████████████████████████████████████████████████████████████████████████████████████████████████████████████████████████████████████████████████████████████████████| 7/7 [00:00<00:00, 272.70it/s]\n",
      "100%|█████████████████████████████████████████████████████████████████████████████████████████████████████████████████████████████████████████████████████████████████████████████████████████████████████████| 3/3 [00:00<00:00, 263.22it/s]\n",
      "100%|███████████████████████████████████████████████████████████████████████████████████████████████████████████████████████████████████████████████████████████████████████████████████████████████████████| 28/28 [00:00<00:00, 321.00it/s]\n",
      "100%|███████████████████████████████████████████████████████████████████████████████████████████████████████████████████████████████████████████████████████████████████████████████████████████████████████| 19/19 [00:00<00:00, 308.83it/s]\n",
      "100%|█████████████████████████████████████████████████████████████████████████████████████████████████████████████████████████████████████████████████████████████████████████████████████████████████████████| 6/6 [00:00<00:00, 278.69it/s]\n",
      "100%|█████████████████████████████████████████████████████████████████████████████████████████████████████████████████████████████████████████████████████████████████████████████████████████████████████████| 5/5 [00:00<00:00, 275.77it/s]\n",
      "100%|███████████████████████████████████████████████████████████████████████████████████████████████████████████████████████████████████████████████████████████████████████████████████████████████████████| 12/12 [00:00<00:00, 291.70it/s]\n",
      "100%|█████████████████████████████████████████████████████████████████████████████████████████████████████████████████████████████████████████████████████████████████████████████████████████████████████████| 2/2 [00:00<00:00, 251.96it/s]\n",
      "100%|█████████████████████████████████████████████████████████████████████████████████████████████████████████████████████████████████████████████████████████████████████████████████████████████████████████| 9/9 [00:00<00:00, 284.54it/s]\n",
      "100%|███████████████████████████████████████████████████████████████████████████████████████████████████████████████████████████████████████████████████████████████████████████████████████████████████████| 28/28 [00:00<00:00, 310.38it/s]\n",
      "100%|█████████████████████████████████████████████████████████████████████████████████████████████████████████████████████████████████████████████████████████████████████████████████████████████████████████| 5/5 [00:00<00:00, 275.01it/s]\n",
      "100%|███████████████████████████████████████████████████████████████████████████████████████████████████████████████████████████████████████████████████████████████████████████████████████████████████████| 28/28 [00:00<00:00, 321.71it/s]\n",
      "100%|█████████████████████████████████████████████████████████████████████████████████████████████████████████████████████████████████████████████████████████████████████████████████████████████████████████| 6/6 [00:00<00:00, 282.00it/s]\n",
      "100%|█████████████████████████████████████████████████████████████████████████████████████████████████████████████████████████████████████████████████████████████████████████████████████████████████████████| 2/2 [00:00<00:00, 268.28it/s]\n",
      "100%|█████████████████████████████████████████████████████████████████████████████████████████████████████████████████████████████████████████████████████████████████████████████████████████████████████████| 5/5 [00:00<00:00, 273.87it/s]\n",
      "100%|█████████████████████████████████████████████████████████████████████████████████████████████████████████████████████████████████████████████████████████████████████████████████████████████████████████| 5/5 [00:00<00:00, 277.50it/s]\n",
      "100%|█████████████████████████████████████████████████████████████████████████████████████████████████████████████████████████████████████████████████████████████████████████████████████████████████████████| 5/5 [00:00<00:00, 267.87it/s]\n",
      "100%|█████████████████████████████████████████████████████████████████████████████████████████████████████████████████████████████████████████████████████████████████████████████████████████████████████████| 8/8 [00:00<00:00, 278.24it/s]\n"
     ]
    }
   ],
   "source": [
    "for file in files:\n",
    "    info  = df_dsInformation[df_dsInformation['filename'] == file]                \n",
    "    table = pd.read_csv(f'datasets/{file}', delimiter=info['delimiter'].values[0])\n",
    "\n",
    "    table_descriptions = sample_descriptions[sample_descriptions['TableName'] == file]\n",
    "    candidate_tables       = sample_descriptions[sample_descriptions['TableName'] != file].iloc[:,0]\n",
    "    candidate_descriptions = sample_descriptions[sample_descriptions['TableName'] != file].iloc[:,2]\n",
    "\n",
    "    for i in tqdm(range(table_descriptions.shape[0])):\n",
    "        target_description = table_descriptions.iloc[i, 2]\n",
    "        system_msg, user_msg = generate_prompt_predict_possible_joins(target_description, candidate_descriptions, candidate_tables)\n",
    "        prompt = system_msg + '\\n' + user_msg\n",
    "\n",
    "        with open(f'{prompt_path}{file[:-4]}_{table_descriptions.iloc[i,1]}.txt', 'w') as f:\n",
    "            f.write(prompt)"
   ]
  },
  {
   "cell_type": "code",
   "execution_count": null,
   "id": "6432229e-96ff-448b-82d7-ab0e8a0e65a9",
   "metadata": {},
   "outputs": [],
   "source": []
  },
  {
   "cell_type": "code",
   "execution_count": null,
   "id": "10b01a33-e5e4-4798-bf6b-9dd5d6964d0b",
   "metadata": {},
   "outputs": [],
   "source": []
  },
  {
   "cell_type": "code",
   "execution_count": null,
   "id": "be64d90a-88e3-430f-b864-10c48f2032f7",
   "metadata": {},
   "outputs": [],
   "source": []
  },
  {
   "cell_type": "code",
   "execution_count": null,
   "id": "003af3c6-541c-458a-bda4-2ff5e92618b0",
   "metadata": {},
   "outputs": [],
   "source": []
  }
 ],
 "metadata": {
  "kernelspec": {
   "display_name": "Python 3 (ipykernel)",
   "language": "python",
   "name": "python3"
  },
  "language_info": {
   "codemirror_mode": {
    "name": "ipython",
    "version": 3
   },
   "file_extension": ".py",
   "mimetype": "text/x-python",
   "name": "python",
   "nbconvert_exporter": "python",
   "pygments_lexer": "ipython3",
   "version": "3.10.12"
  }
 },
 "nbformat": 4,
 "nbformat_minor": 5
}
