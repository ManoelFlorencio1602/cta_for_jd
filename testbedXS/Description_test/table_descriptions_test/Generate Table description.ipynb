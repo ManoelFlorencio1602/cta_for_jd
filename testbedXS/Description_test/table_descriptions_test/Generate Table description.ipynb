{
 "cells": [
  {
   "cell_type": "code",
   "execution_count": 1,
   "id": "eb32fcd0-5884-4272-9479-47edae8415cf",
   "metadata": {},
   "outputs": [],
   "source": [
    "import pandas as pd\n",
    "import numpy as np\n",
    "import json\n",
    "import os\n",
    "import glob\n",
    "\n",
    "import pickle\n",
    "from openai import OpenAI\n",
    "\n",
    "from tenacity import (\n",
    "                        retry,\n",
    "                        stop_after_attempt,\n",
    "                        wait_random_exponential\n",
    ")\n",
    "\n",
    "from tqdm import tqdm"
   ]
  },
  {
   "cell_type": "code",
   "execution_count": 2,
   "id": "a08ed458-7fe7-4b5b-ab60-a47f35c89c42",
   "metadata": {},
   "outputs": [],
   "source": [
    "pd.set_option('display.max_rows', None)"
   ]
  },
  {
   "cell_type": "code",
   "execution_count": 3,
   "id": "4343d77e-1c5f-4f58-afb1-bd45c489b237",
   "metadata": {},
   "outputs": [
    {
     "name": "stdout",
     "output_type": "stream",
     "text": [
      "/home/manoelflorencio/cta_for_jd/testbedXS\n"
     ]
    }
   ],
   "source": [
    "path = '/home/manoelflorencio/cta_for_jd/testbedXS'\n",
    "os.chdir(path)\n",
    "print(os.getcwd())"
   ]
  },
  {
   "cell_type": "code",
   "execution_count": 4,
   "id": "6f9683ca-2f73-42fa-839b-ac1fcff0e00f",
   "metadata": {},
   "outputs": [],
   "source": [
    "def generate_prompt_table_prediction(table, table_name):\n",
    "\n",
    "    system_msg = f\"\"\"\n",
    "            Given a table name, its respective columns names and some column values, describe the semantics of the given table.\n",
    "            \n",
    "            Describe the semantics of a given table.\n",
    "            Task: Describe in one phrase the information within a table using continuos text, without itemization.\n",
    "            Instructions: \n",
    "                1. Look at the input given to you.\n",
    "                2. Look at the table and columns names.\n",
    "                3. Look at the column values in detail. \n",
    "                4. Describe the target table. \n",
    "            \"\"\"\n",
    "            \n",
    "    user_msg =  f\"\"\"Table Name: {table_name}\n",
    "                    Columns Names: {','.join(table.columns)}\n",
    "                    Table values: {table.iloc[:50,:]}\n",
    "                    Description:\"\"\".strip()\n",
    "    \n",
    "    return system_msg, user_msg"
   ]
  },
  {
   "cell_type": "code",
   "execution_count": 12,
   "id": "c2b50210-e5db-4063-ae5b-a5f2e4fb0445",
   "metadata": {},
   "outputs": [],
   "source": [
    "def generate_predictions(table, table_name, client):\n",
    "    \n",
    "    system_msg_describe_table, user_msg_describe_table = generate_prompt_table_prediction(table, table_name)\n",
    "    result = execute_prompt(client, system_msg_describe_table, user_msg_describe_table)\n",
    "    description = result.choices[0].message.content.split('Description: ')[-1].strip()\n",
    "\n",
    "    description_df = pd.DataFrame({\n",
    "                               \"TableName\": [table_name],\n",
    "                               \"Description\":[description]\n",
    "                               })\n",
    "    \n",
    "    return description_df"
   ]
  },
  {
   "cell_type": "code",
   "execution_count": 10,
   "id": "e83f5d8b-b397-4562-9da9-fb06390f3be9",
   "metadata": {},
   "outputs": [],
   "source": [
    "@retry(wait=wait_random_exponential(min=1,max=60), stop=stop_after_attempt(6))\n",
    "def execute_prompt(client, system_msg, user_msg):\n",
    "    completion = client.chat.completions.create(\n",
    "                                            model=\"gpt-4o\",\n",
    "                                            messages=[\n",
    "                                                        {\n",
    "                                                            \"role\": \"system\", \n",
    "                                                             \"content\": f\"{system_msg}\"\n",
    "                                                        },\n",
    "                                                        {\n",
    "                                                            \"role\": \"user\",\n",
    "                                                            \"content\": f\"{user_msg}\"\n",
    "                                                        }\n",
    "                                                    ]\n",
    "                                            )\n",
    "    return completion"
   ]
  },
  {
   "cell_type": "code",
   "execution_count": 7,
   "id": "cabf2559-b5fc-4529-9941-382fe4b726a8",
   "metadata": {},
   "outputs": [],
   "source": [
    "client = OpenAI()"
   ]
  },
  {
   "cell_type": "code",
   "execution_count": 8,
   "id": "a177bf5e-d81e-4b95-aa26-a5d46bf36d29",
   "metadata": {},
   "outputs": [],
   "source": [
    "filenames = glob.glob('datasets/*')"
   ]
  },
  {
   "cell_type": "code",
   "execution_count": 9,
   "id": "c9d333c5-471a-4d54-9c8a-037e30e51334",
   "metadata": {},
   "outputs": [],
   "source": [
    "df_dsInformation = pd.read_csv('datasetInformation_testbedXS.csv')"
   ]
  },
  {
   "cell_type": "code",
   "execution_count": 13,
   "id": "22f42b91-ccf3-4c09-87e8-df30ce3def80",
   "metadata": {},
   "outputs": [
    {
     "name": "stderr",
     "output_type": "stream",
     "text": [
      "100%|████████████████████████████████████████████████████████████████████████████████████████████████████████████████████████████████████████████████████████████████████████████████████████████████████████| 28/28 [00:47<00:00,  1.70s/it]\n"
     ]
    }
   ],
   "source": [
    "descriptions_df_complete = pd.DataFrame((), columns=['TableName','Description'])\n",
    "\n",
    "for filename in tqdm(filenames):\n",
    "    table_name = filename.split('/')[-1]\n",
    "    info  = df_dsInformation[df_dsInformation['filename'] == filename.split('/')[-1]]                \n",
    "    df = pd.read_csv(filename, delimiter=info['delimiter'].values[0])\n",
    "    descriptions_df = generate_predictions(df, table_name, client)\n",
    "    descriptions_df_complete = pd.concat([descriptions_df_complete, descriptions_df])\n",
    "\n",
    "    descriptions_df_complete.reset_index(drop=True)\n",
    "    descriptions_df_complete.to_csv('Description_test/table_descriptions_test/table_descriptions.csv', index=False)"
   ]
  }
 ],
 "metadata": {
  "kernelspec": {
   "display_name": "Python 3 (ipykernel)",
   "language": "python",
   "name": "python3"
  },
  "language_info": {
   "codemirror_mode": {
    "name": "ipython",
    "version": 3
   },
   "file_extension": ".py",
   "mimetype": "text/x-python",
   "name": "python",
   "nbconvert_exporter": "python",
   "pygments_lexer": "ipython3",
   "version": "3.10.12"
  }
 },
 "nbformat": 4,
 "nbformat_minor": 5
}
