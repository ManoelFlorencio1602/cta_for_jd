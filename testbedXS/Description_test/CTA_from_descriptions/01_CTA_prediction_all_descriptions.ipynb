{
 "cells": [
  {
   "cell_type": "code",
   "execution_count": 1,
   "id": "117d98bf-eff6-4a6c-8205-94f4cd2c77c9",
   "metadata": {},
   "outputs": [],
   "source": [
    "import pandas as pd\n",
    "import numpy as np\n",
    "import json\n",
    "import os\n",
    "import glob\n",
    "\n",
    "import pickle\n",
    "from pydantic import BaseModel\n",
    "from openai import OpenAI\n",
    "\n",
    "from tenacity import (\n",
    "                        retry,\n",
    "                        stop_after_attempt,\n",
    "                        wait_random_exponential\n",
    ")\n",
    "\n",
    "from tqdm import tqdm"
   ]
  },
  {
   "cell_type": "code",
   "execution_count": 2,
   "id": "51b3c912-f1ad-43ff-bcfc-beb938666df6",
   "metadata": {},
   "outputs": [],
   "source": [
    "pd.set_option('display.max_rows', None)"
   ]
  },
  {
   "cell_type": "code",
   "execution_count": 3,
   "id": "c37f5595-ac49-4b3f-b8f0-6dc98158f0e7",
   "metadata": {},
   "outputs": [
    {
     "name": "stdout",
     "output_type": "stream",
     "text": [
      "/home/manoelflorencio/cta_for_jd/testbedXS\n"
     ]
    }
   ],
   "source": [
    "path = '/home/manoelflorencio/cta_for_jd/testbedXS'\n",
    "os.chdir(path)\n",
    "print(os.getcwd())"
   ]
  },
  {
   "cell_type": "code",
   "execution_count": 4,
   "id": "9a190957-6781-44d9-89fb-0470b6217547",
   "metadata": {},
   "outputs": [],
   "source": [
    "def generate_prompt_cta_prediction(description, cta_types):\n",
    "\n",
    "    system_msg = f\"\"\"\n",
    "            Your task is to classify a column's description of a given table with only one of the following classes that are separated \n",
    "            with comma: {\",\".join(cta_types)}.\n",
    "\n",
    "            Your instructions are:\n",
    "                1. Look at the input given to you.\n",
    "                2. Look at the description semantics in detail.\n",
    "                3. Predict a class among the following classes {\",\".join(cta_types)} for the target column.\n",
    "                4. Answer only with the predicted class.\n",
    "\n",
    "            Example 1:\n",
    "                Description: \"The 'Sex' column in the table represents the gender of the animal listed in each row. The values in this column consist of abbreviations that denote both the sex and reproductive status of the animals. 'M' indicates a male animal, and 'F' stands for a female animal.\n",
    "                Class: category\n",
    "\n",
    "            Example 2:\n",
    "                Description: \"The \"\"GeoLocalArea\"\" column in the table represents the geographical local area within which the public artworks or installations are situated or associated.\n",
    "                Class: streetAddress\"\"\"\n",
    "            \n",
    "    user_msg =  f\"\"\"Description: {description}\n",
    "                    Class: \"\"\".strip()\n",
    "    \n",
    "    return system_msg, user_msg"
   ]
  },
  {
   "cell_type": "code",
   "execution_count": 5,
   "id": "d04084f1-b41a-4fba-b069-994dc1fa3f00",
   "metadata": {},
   "outputs": [],
   "source": [
    "def generate_predictions(description, cta_types, client):\n",
    "    \n",
    "    system_msg_predict_cta, user_msg_predict_cta = generate_prompt_cta_prediction(description, cta_types)\n",
    "    result = execute_prompt(client, system_msg_predict_cta, user_msg_predict_cta)\n",
    "    cta = result.choices[0].message.content.split('Class: ')[-1].strip()\n",
    "    \n",
    "    return cta"
   ]
  },
  {
   "cell_type": "code",
   "execution_count": 6,
   "id": "506d0058-66d6-4634-a4c2-39ef2b03618e",
   "metadata": {},
   "outputs": [],
   "source": [
    "@retry(wait=wait_random_exponential(min=1,max=60), stop=stop_after_attempt(6))\n",
    "def execute_prompt(client, system_msg, user_msg):\n",
    "    completion = client.chat.completions.create(\n",
    "                                            model=\"gpt-4o\",\n",
    "                                            temperature=0.2,\n",
    "                                            messages=[\n",
    "                                                        {\n",
    "                                                            \"role\": \"system\", \n",
    "                                                             \"content\": f\"{system_msg}\"\n",
    "                                                        },\n",
    "                                                        {\n",
    "                                                            \"role\": \"user\",\n",
    "                                                            \"content\": f\"{user_msg}\"\n",
    "                                                        }\n",
    "                                                    ]\n",
    "                                            )\n",
    "    return completion"
   ]
  },
  {
   "cell_type": "code",
   "execution_count": 7,
   "id": "26ae3e2b-db1c-4288-b09d-ea306524c624",
   "metadata": {},
   "outputs": [],
   "source": [
    "client = OpenAI()"
   ]
  },
  {
   "cell_type": "code",
   "execution_count": 32,
   "id": "f69f316a-979a-4a43-ab85-3bc912323220",
   "metadata": {},
   "outputs": [
    {
     "data": {
      "text/html": [
       "<div>\n",
       "<style scoped>\n",
       "    .dataframe tbody tr th:only-of-type {\n",
       "        vertical-align: middle;\n",
       "    }\n",
       "\n",
       "    .dataframe tbody tr th {\n",
       "        vertical-align: top;\n",
       "    }\n",
       "\n",
       "    .dataframe thead th {\n",
       "        text-align: right;\n",
       "    }\n",
       "</style>\n",
       "<table border=\"1\" class=\"dataframe\">\n",
       "  <thead>\n",
       "    <tr style=\"text-align: right;\">\n",
       "      <th></th>\n",
       "      <th>TableName</th>\n",
       "      <th>Column</th>\n",
       "      <th>Description</th>\n",
       "    </tr>\n",
       "  </thead>\n",
       "  <tbody>\n",
       "    <tr>\n",
       "      <th>0</th>\n",
       "      <td>eo_xx</td>\n",
       "      <td>EIN</td>\n",
       "      <td>The Employer Identification Number (EIN) is a ...</td>\n",
       "    </tr>\n",
       "    <tr>\n",
       "      <th>1</th>\n",
       "      <td>eo_xx</td>\n",
       "      <td>NAME</td>\n",
       "      <td>The NAME column contains the official name of ...</td>\n",
       "    </tr>\n",
       "    <tr>\n",
       "      <th>2</th>\n",
       "      <td>eo_xx</td>\n",
       "      <td>ICO</td>\n",
       "      <td>The ICO column appears to contain names of ind...</td>\n",
       "    </tr>\n",
       "    <tr>\n",
       "      <th>3</th>\n",
       "      <td>eo_xx</td>\n",
       "      <td>STREET</td>\n",
       "      <td>The STREET column provides the street address ...</td>\n",
       "    </tr>\n",
       "    <tr>\n",
       "      <th>4</th>\n",
       "      <td>eo_xx</td>\n",
       "      <td>CITY</td>\n",
       "      <td>The CITY column specifies the city where the o...</td>\n",
       "    </tr>\n",
       "  </tbody>\n",
       "</table>\n",
       "</div>"
      ],
      "text/plain": [
       "  TableName  Column                                        Description\n",
       "0     eo_xx     EIN  The Employer Identification Number (EIN) is a ...\n",
       "1     eo_xx    NAME  The NAME column contains the official name of ...\n",
       "2     eo_xx     ICO  The ICO column appears to contain names of ind...\n",
       "3     eo_xx  STREET  The STREET column provides the street address ...\n",
       "4     eo_xx    CITY  The CITY column specifies the city where the o..."
      ]
     },
     "execution_count": 32,
     "metadata": {},
     "output_type": "execute_result"
    }
   ],
   "source": [
    "descriptions = pd.read_csv('Description_test/CTA_from_descriptions/nextiajdxs_description_junio.csv')\n",
    "descriptions.head()"
   ]
  },
  {
   "cell_type": "code",
   "execution_count": 10,
   "id": "84dfb42d-6d2d-4a31-83b4-4b5118be0805",
   "metadata": {},
   "outputs": [],
   "source": [
    "cta_types = np.load('Description_test/CTA_from_descriptions/cta_types.npy')"
   ]
  },
  {
   "cell_type": "code",
   "execution_count": 11,
   "id": "04a52465-66d0-45de-8bc5-a3474b358eae",
   "metadata": {},
   "outputs": [
    {
     "name": "stderr",
     "output_type": "stream",
     "text": [
      "100%|██████████████████████████████████████████████████████████████████████████████████████████████████████████████████████████████████████████████████████████████████████████████████████████████████████| 265/265 [02:11<00:00,  2.02it/s]\n"
     ]
    }
   ],
   "source": [
    "cta = []\n",
    "for table_name, column_name, description in tqdm(descriptions.values):\n",
    "    target_description = description\n",
    "    cta.append(generate_predictions(target_description, cta_types, client))"
   ]
  },
  {
   "cell_type": "code",
   "execution_count": 33,
   "id": "c14e18b9-579b-4c61-a8c8-3c712f6809fe",
   "metadata": {},
   "outputs": [],
   "source": [
    "descriptions['CTA'] = cta"
   ]
  },
  {
   "cell_type": "code",
   "execution_count": 13,
   "id": "f0519189-586c-4ce2-ba57-f89e1844493e",
   "metadata": {},
   "outputs": [],
   "source": [
    "descriptions.to_csv('Description_test/all_junio_descriptions_with_cta.csv',index=False)"
   ]
  },
  {
   "cell_type": "code",
   "execution_count": 75,
   "id": "1a8d907c-6e01-404e-9f34-f9dcd943b66b",
   "metadata": {},
   "outputs": [],
   "source": [
    "descriptions_with_cta = pd.read_csv('Description_test/all_junio_descriptions_with_cta.csv')"
   ]
  },
  {
   "cell_type": "code",
   "execution_count": 76,
   "id": "f77fe0c8-c077-4493-93dd-f54645b743df",
   "metadata": {},
   "outputs": [
    {
     "data": {
      "text/html": [
       "<div>\n",
       "<style scoped>\n",
       "    .dataframe tbody tr th:only-of-type {\n",
       "        vertical-align: middle;\n",
       "    }\n",
       "\n",
       "    .dataframe tbody tr th {\n",
       "        vertical-align: top;\n",
       "    }\n",
       "\n",
       "    .dataframe thead th {\n",
       "        text-align: right;\n",
       "    }\n",
       "</style>\n",
       "<table border=\"1\" class=\"dataframe\">\n",
       "  <thead>\n",
       "    <tr style=\"text-align: right;\">\n",
       "      <th></th>\n",
       "      <th>TableName</th>\n",
       "      <th>Column</th>\n",
       "      <th>Description</th>\n",
       "      <th>CTA</th>\n",
       "    </tr>\n",
       "  </thead>\n",
       "  <tbody>\n",
       "    <tr>\n",
       "      <th>0</th>\n",
       "      <td>eo_xx</td>\n",
       "      <td>EIN</td>\n",
       "      <td>The Employer Identification Number (EIN) is a ...</td>\n",
       "      <td>Identifier</td>\n",
       "    </tr>\n",
       "    <tr>\n",
       "      <th>1</th>\n",
       "      <td>eo_xx</td>\n",
       "      <td>NAME</td>\n",
       "      <td>The NAME column contains the official name of ...</td>\n",
       "      <td>Organization</td>\n",
       "    </tr>\n",
       "    <tr>\n",
       "      <th>2</th>\n",
       "      <td>eo_xx</td>\n",
       "      <td>ICO</td>\n",
       "      <td>The ICO column appears to contain names of ind...</td>\n",
       "      <td>Person</td>\n",
       "    </tr>\n",
       "    <tr>\n",
       "      <th>3</th>\n",
       "      <td>eo_xx</td>\n",
       "      <td>STREET</td>\n",
       "      <td>The STREET column provides the street address ...</td>\n",
       "      <td>streetAddress</td>\n",
       "    </tr>\n",
       "    <tr>\n",
       "      <th>4</th>\n",
       "      <td>eo_xx</td>\n",
       "      <td>CITY</td>\n",
       "      <td>The CITY column specifies the city where the o...</td>\n",
       "      <td>Text</td>\n",
       "    </tr>\n",
       "  </tbody>\n",
       "</table>\n",
       "</div>"
      ],
      "text/plain": [
       "  TableName  Column                                        Description  \\\n",
       "0     eo_xx     EIN  The Employer Identification Number (EIN) is a ...   \n",
       "1     eo_xx    NAME  The NAME column contains the official name of ...   \n",
       "2     eo_xx     ICO  The ICO column appears to contain names of ind...   \n",
       "3     eo_xx  STREET  The STREET column provides the street address ...   \n",
       "4     eo_xx    CITY  The CITY column specifies the city where the o...   \n",
       "\n",
       "             CTA  \n",
       "0     Identifier  \n",
       "1   Organization  \n",
       "2         Person  \n",
       "3  streetAddress  \n",
       "4           Text  "
      ]
     },
     "execution_count": 76,
     "metadata": {},
     "output_type": "execute_result"
    }
   ],
   "source": [
    "descriptions_with_cta.head()"
   ]
  },
  {
   "cell_type": "code",
   "execution_count": 77,
   "id": "62c6ef6e-7af9-4588-bc0b-faaa9a050ec3",
   "metadata": {},
   "outputs": [
    {
     "data": {
      "text/plain": [
       "array(['eo_xx', 'datasets_579296_1047868_authors', 'schools',\n",
       "       'animal-control-inventory-lost-and-found',\n",
       "       'datasets_517172_952401_train', 'eo_pr',\n",
       "       'road-ahead-current-road-closures', 'street-intersections',\n",
       "       'gvrd-sewer-trunk-mains', 'rental-standards-current-issues',\n",
       "       'public-art', 'public-art-artists',\n",
       "       'statewise-census-data-in-india-1901-2011', 'cultural-spaces',\n",
       "       'libraries', 'population-census-of-botswana-2011', 'ability_ids',\n",
       "       'survey_results_schema', 'glassdoor_wwfu_val_captions', 'eo4',\n",
       "       'community-centres', 'road-ahead-projects-under-construction',\n",
       "       'road-ahead-upcoming-projects',\n",
       "       'SCS_Staff_Salaries_data_30th_June 2010', 'property-tie-lines',\n",
       "       'population-by-governorate-citizenship-and-gender',\n",
       "       'community-gardens-and-food-trees', 'currency_exchange'],\n",
       "      dtype=object)"
      ]
     },
     "execution_count": 77,
     "metadata": {},
     "output_type": "execute_result"
    }
   ],
   "source": [
    "table_names = descriptions_with_cta.TableName.unique()\n",
    "table_names"
   ]
  },
  {
   "cell_type": "code",
   "execution_count": 78,
   "id": "01af34dd-9ca0-4a65-8899-b84b99f36fb2",
   "metadata": {},
   "outputs": [],
   "source": [
    "matches = pd.DataFrame({'LEFT_TABLE':[],'LEFT_COLUMN':[],'RIGHT_TABLE':[],'RIGHT_COLUMN':[]})\n",
    "for table_name in table_names:\n",
    "    target_table = descriptions_with_cta[descriptions_with_cta['TableName'] == table_name]\n",
    "    candidate_tables = descriptions_with_cta[descriptions_with_cta['TableName'] != table_name]\n",
    "    for i in range(len(target_table.Column)):\n",
    "        for j in range(len(candidate_tables.Column)):\n",
    "            if(target_table.CTA.values[i] == candidate_tables.CTA.values[j]):\n",
    "                match = pd.DataFrame({'LEFT_TABLE':[table_name],\n",
    "                                      'LEFT_COLUMN':[target_table.Column.values[i]],\n",
    "                                      'LEFT_DESCRIPTION':[target_table.Description.values[i]],\n",
    "                                      'RIGHT_TABLE':[candidate_tables.TableName.values[j]],\n",
    "                                      'RIGHT_COLUMN':[candidate_tables.Column.values[j]],\n",
    "                                      'RIGHT_DESCRIPTION':[candidate_tables.Description.values[j]]})\n",
    "                if(len(matches) == 0):\n",
    "                    matches = match\n",
    "                else:\n",
    "                    matches = pd.concat([matches, match], axis=0)"
   ]
  },
  {
   "cell_type": "code",
   "execution_count": 79,
   "id": "71eeaafa-ef5f-416a-afca-99c1d232c3b6",
   "metadata": {},
   "outputs": [
    {
     "data": {
      "text/html": [
       "<div>\n",
       "<style scoped>\n",
       "    .dataframe tbody tr th:only-of-type {\n",
       "        vertical-align: middle;\n",
       "    }\n",
       "\n",
       "    .dataframe tbody tr th {\n",
       "        vertical-align: top;\n",
       "    }\n",
       "\n",
       "    .dataframe thead th {\n",
       "        text-align: right;\n",
       "    }\n",
       "</style>\n",
       "<table border=\"1\" class=\"dataframe\">\n",
       "  <thead>\n",
       "    <tr style=\"text-align: right;\">\n",
       "      <th></th>\n",
       "      <th>LEFT_TABLE</th>\n",
       "      <th>LEFT_COLUMN</th>\n",
       "      <th>LEFT_DESCRIPTION</th>\n",
       "      <th>RIGHT_TABLE</th>\n",
       "      <th>RIGHT_COLUMN</th>\n",
       "      <th>RIGHT_DESCRIPTION</th>\n",
       "    </tr>\n",
       "  </thead>\n",
       "  <tbody>\n",
       "    <tr>\n",
       "      <th>0</th>\n",
       "      <td>eo_xx</td>\n",
       "      <td>EIN</td>\n",
       "      <td>The Employer Identification Number (EIN) is a ...</td>\n",
       "      <td>datasets_579296_1047868_authors</td>\n",
       "      <td>Author_ID</td>\n",
       "      <td>This column contains a unique identifier for e...</td>\n",
       "    </tr>\n",
       "    <tr>\n",
       "      <th>0</th>\n",
       "      <td>eo_xx</td>\n",
       "      <td>EIN</td>\n",
       "      <td>The Employer Identification Number (EIN) is a ...</td>\n",
       "      <td>datasets_517172_952401_train</td>\n",
       "      <td>id_code</td>\n",
       "      <td>The 'id_code' column contains unique identifie...</td>\n",
       "    </tr>\n",
       "    <tr>\n",
       "      <th>0</th>\n",
       "      <td>eo_xx</td>\n",
       "      <td>EIN</td>\n",
       "      <td>The Employer Identification Number (EIN) is a ...</td>\n",
       "      <td>eo_pr</td>\n",
       "      <td>EIN</td>\n",
       "      <td>The Employer Identification Number (EIN) uniqu...</td>\n",
       "    </tr>\n",
       "    <tr>\n",
       "      <th>0</th>\n",
       "      <td>eo_xx</td>\n",
       "      <td>EIN</td>\n",
       "      <td>The Employer Identification Number (EIN) is a ...</td>\n",
       "      <td>eo_pr</td>\n",
       "      <td>GROUP</td>\n",
       "      <td>Group exemption number, which indicates if the...</td>\n",
       "    </tr>\n",
       "    <tr>\n",
       "      <th>0</th>\n",
       "      <td>eo_xx</td>\n",
       "      <td>EIN</td>\n",
       "      <td>The Employer Identification Number (EIN) is a ...</td>\n",
       "      <td>eo_pr</td>\n",
       "      <td>SUBSECTION</td>\n",
       "      <td>Numerical code indicating the subsection of th...</td>\n",
       "    </tr>\n",
       "  </tbody>\n",
       "</table>\n",
       "</div>"
      ],
      "text/plain": [
       "  LEFT_TABLE LEFT_COLUMN                                   LEFT_DESCRIPTION  \\\n",
       "0      eo_xx         EIN  The Employer Identification Number (EIN) is a ...   \n",
       "0      eo_xx         EIN  The Employer Identification Number (EIN) is a ...   \n",
       "0      eo_xx         EIN  The Employer Identification Number (EIN) is a ...   \n",
       "0      eo_xx         EIN  The Employer Identification Number (EIN) is a ...   \n",
       "0      eo_xx         EIN  The Employer Identification Number (EIN) is a ...   \n",
       "\n",
       "                       RIGHT_TABLE RIGHT_COLUMN  \\\n",
       "0  datasets_579296_1047868_authors    Author_ID   \n",
       "0     datasets_517172_952401_train      id_code   \n",
       "0                            eo_pr          EIN   \n",
       "0                            eo_pr        GROUP   \n",
       "0                            eo_pr   SUBSECTION   \n",
       "\n",
       "                                   RIGHT_DESCRIPTION  \n",
       "0  This column contains a unique identifier for e...  \n",
       "0  The 'id_code' column contains unique identifie...  \n",
       "0  The Employer Identification Number (EIN) uniqu...  \n",
       "0  Group exemption number, which indicates if the...  \n",
       "0  Numerical code indicating the subsection of th...  "
      ]
     },
     "execution_count": 79,
     "metadata": {},
     "output_type": "execute_result"
    }
   ],
   "source": [
    "matches.head()"
   ]
  },
  {
   "cell_type": "code",
   "execution_count": 80,
   "id": "467dbe31-af67-4b2c-8c02-09f04695e2f6",
   "metadata": {},
   "outputs": [
    {
     "data": {
      "text/plain": [
       "(5682, 6)"
      ]
     },
     "execution_count": 80,
     "metadata": {},
     "output_type": "execute_result"
    }
   ],
   "source": [
    "matches.shape"
   ]
  },
  {
   "cell_type": "code",
   "execution_count": 71,
   "id": "004a463b-ab97-4c92-aa15-ec66a8768ffd",
   "metadata": {},
   "outputs": [],
   "source": [
    "def generate_key_for_evaluation(df):\n",
    "    left_table_name = []\n",
    "    left_column_name = []\n",
    "    left_description = []\n",
    "    right_table_name = []\n",
    "    right_column_name = []\n",
    "    right_description = []\n",
    "    df_key = pd.DataFrame((), columns=df.columns)\n",
    "    \n",
    "    for i in range(df.shape[0]):\n",
    "        rtn = df.iloc[i, 3]\n",
    "        ltn = df.iloc[i, 0]\n",
    "        right_table_name.append(rtn if rtn > ltn else ltn)\n",
    "        left_table_name.append(rtn if rtn < ltn else ltn)\n",
    "        \n",
    "    \n",
    "        rcn = df.iloc[i, 4]\n",
    "        lcn = df.iloc[i, 1]\n",
    "        right_column_name.append(rcn if rtn > ltn else lcn)\n",
    "        left_column_name.append(rcn if rtn < ltn else lcn)\n",
    "\n",
    "        rcd = df.iloc[i, 5]\n",
    "        lcd = df.iloc[i, 2]\n",
    "        left_description.append(rcd if rtn > ltn else lcd)\n",
    "        right_description.append(rcd if rtn < ltn else lcd)\n",
    "    \n",
    "    d = {'LEFT_TABLE':left_table_name,\n",
    "         'LEFT_COLUMN':left_column_name,\n",
    "         'LEFT_DESCRIPTION':left_description,\n",
    "         'RIGHT_TABLE':right_table_name,\n",
    "         'RIGHT_COLUMN':right_column_name,\n",
    "         'RIGHT_DESCRIPTION':right_description}\n",
    "    df_key = pd.DataFrame(d)\n",
    "    df_key = df_key.drop_duplicates()\n",
    "    df_key = df_key.reset_index(drop=True)\n",
    "\n",
    "    return df_key"
   ]
  },
  {
   "cell_type": "code",
   "execution_count": 81,
   "id": "747b9953-641f-4815-a336-2a40cd10fbe7",
   "metadata": {},
   "outputs": [
    {
     "data": {
      "text/plain": [
       "(2841, 6)"
      ]
     },
     "execution_count": 81,
     "metadata": {},
     "output_type": "execute_result"
    }
   ],
   "source": [
    "matches = generate_key_for_evaluation(matches)\n",
    "matches.shape"
   ]
  },
  {
   "cell_type": "code",
   "execution_count": 83,
   "id": "c307919d-092b-48e2-bf82-4445abe013a0",
   "metadata": {},
   "outputs": [
    {
     "data": {
      "text/html": [
       "<div>\n",
       "<style scoped>\n",
       "    .dataframe tbody tr th:only-of-type {\n",
       "        vertical-align: middle;\n",
       "    }\n",
       "\n",
       "    .dataframe tbody tr th {\n",
       "        vertical-align: top;\n",
       "    }\n",
       "\n",
       "    .dataframe thead th {\n",
       "        text-align: right;\n",
       "    }\n",
       "</style>\n",
       "<table border=\"1\" class=\"dataframe\">\n",
       "  <thead>\n",
       "    <tr style=\"text-align: right;\">\n",
       "      <th></th>\n",
       "      <th>LEFT_TABLE</th>\n",
       "      <th>LEFT_COLUMN</th>\n",
       "      <th>LEFT_DESCRIPTION</th>\n",
       "      <th>RIGHT_TABLE</th>\n",
       "      <th>RIGHT_COLUMN</th>\n",
       "      <th>RIGHT_DESCRIPTION</th>\n",
       "    </tr>\n",
       "  </thead>\n",
       "  <tbody>\n",
       "    <tr>\n",
       "      <th>0</th>\n",
       "      <td>datasets_579296_1047868_authors</td>\n",
       "      <td>Author_ID</td>\n",
       "      <td>The Employer Identification Number (EIN) is a ...</td>\n",
       "      <td>eo_xx</td>\n",
       "      <td>EIN</td>\n",
       "      <td>This column contains a unique identifier for e...</td>\n",
       "    </tr>\n",
       "    <tr>\n",
       "      <th>1</th>\n",
       "      <td>datasets_517172_952401_train</td>\n",
       "      <td>id_code</td>\n",
       "      <td>The Employer Identification Number (EIN) is a ...</td>\n",
       "      <td>eo_xx</td>\n",
       "      <td>EIN</td>\n",
       "      <td>The 'id_code' column contains unique identifie...</td>\n",
       "    </tr>\n",
       "    <tr>\n",
       "      <th>2</th>\n",
       "      <td>eo_pr</td>\n",
       "      <td>EIN</td>\n",
       "      <td>The Employer Identification Number (EIN) is a ...</td>\n",
       "      <td>eo_xx</td>\n",
       "      <td>EIN</td>\n",
       "      <td>The Employer Identification Number (EIN) uniqu...</td>\n",
       "    </tr>\n",
       "    <tr>\n",
       "      <th>3</th>\n",
       "      <td>eo_pr</td>\n",
       "      <td>GROUP</td>\n",
       "      <td>The Employer Identification Number (EIN) is a ...</td>\n",
       "      <td>eo_xx</td>\n",
       "      <td>EIN</td>\n",
       "      <td>Group exemption number, which indicates if the...</td>\n",
       "    </tr>\n",
       "    <tr>\n",
       "      <th>4</th>\n",
       "      <td>eo_pr</td>\n",
       "      <td>SUBSECTION</td>\n",
       "      <td>The Employer Identification Number (EIN) is a ...</td>\n",
       "      <td>eo_xx</td>\n",
       "      <td>EIN</td>\n",
       "      <td>Numerical code indicating the subsection of th...</td>\n",
       "    </tr>\n",
       "  </tbody>\n",
       "</table>\n",
       "</div>"
      ],
      "text/plain": [
       "                        LEFT_TABLE LEFT_COLUMN  \\\n",
       "0  datasets_579296_1047868_authors   Author_ID   \n",
       "1     datasets_517172_952401_train     id_code   \n",
       "2                            eo_pr         EIN   \n",
       "3                            eo_pr       GROUP   \n",
       "4                            eo_pr  SUBSECTION   \n",
       "\n",
       "                                    LEFT_DESCRIPTION RIGHT_TABLE RIGHT_COLUMN  \\\n",
       "0  The Employer Identification Number (EIN) is a ...       eo_xx          EIN   \n",
       "1  The Employer Identification Number (EIN) is a ...       eo_xx          EIN   \n",
       "2  The Employer Identification Number (EIN) is a ...       eo_xx          EIN   \n",
       "3  The Employer Identification Number (EIN) is a ...       eo_xx          EIN   \n",
       "4  The Employer Identification Number (EIN) is a ...       eo_xx          EIN   \n",
       "\n",
       "                                   RIGHT_DESCRIPTION  \n",
       "0  This column contains a unique identifier for e...  \n",
       "1  The 'id_code' column contains unique identifie...  \n",
       "2  The Employer Identification Number (EIN) uniqu...  \n",
       "3  Group exemption number, which indicates if the...  \n",
       "4  Numerical code indicating the subsection of th...  "
      ]
     },
     "execution_count": 83,
     "metadata": {},
     "output_type": "execute_result"
    }
   ],
   "source": [
    "matches.head()"
   ]
  },
  {
   "cell_type": "code",
   "execution_count": 82,
   "id": "f118f997-2623-4120-ba12-0c95a5aef205",
   "metadata": {},
   "outputs": [],
   "source": [
    "matches.to_csv('Description_test/CTA_from_descriptions/junio_description_cta_matches.csv', index=False)"
   ]
  }
 ],
 "metadata": {
  "kernelspec": {
   "display_name": "Python 3 (ipykernel)",
   "language": "python",
   "name": "python3"
  },
  "language_info": {
   "codemirror_mode": {
    "name": "ipython",
    "version": 3
   },
   "file_extension": ".py",
   "mimetype": "text/x-python",
   "name": "python",
   "nbconvert_exporter": "python",
   "pygments_lexer": "ipython3",
   "version": "3.10.12"
  }
 },
 "nbformat": 4,
 "nbformat_minor": 5
}
