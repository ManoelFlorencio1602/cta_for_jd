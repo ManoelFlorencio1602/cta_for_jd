{
 "cells": [
  {
   "cell_type": "code",
   "execution_count": 1,
   "id": "f9c04ac0-acab-41ec-854a-2f1dec3111e9",
   "metadata": {},
   "outputs": [],
   "source": [
    "import pandas as pd\n",
    "import json\n",
    "import os"
   ]
  },
  {
   "cell_type": "code",
   "execution_count": 3,
   "id": "e0930a62-fa28-4772-b397-468b7322ffb9",
   "metadata": {},
   "outputs": [
    {
     "name": "stdout",
     "output_type": "stream",
     "text": [
      "/home/manoelflorencio/cta_for_jd/testbedXS\n"
     ]
    }
   ],
   "source": [
    "path = '/home/manoelflorencio/cta_for_jd/testbedXS'\n",
    "os.chdir(path)\n",
    "print(os.getcwd())"
   ]
  },
  {
   "cell_type": "code",
   "execution_count": 6,
   "id": "291f435a-2ccc-40cb-b250-e30b06d54dd6",
   "metadata": {},
   "outputs": [
    {
     "data": {
      "text/html": [
       "<div>\n",
       "<style scoped>\n",
       "    .dataframe tbody tr th:only-of-type {\n",
       "        vertical-align: middle;\n",
       "    }\n",
       "\n",
       "    .dataframe tbody tr th {\n",
       "        vertical-align: top;\n",
       "    }\n",
       "\n",
       "    .dataframe thead th {\n",
       "        text-align: right;\n",
       "    }\n",
       "</style>\n",
       "<table border=\"1\" class=\"dataframe\">\n",
       "  <thead>\n",
       "    <tr style=\"text-align: right;\">\n",
       "      <th></th>\n",
       "      <th>LEFT_TABLE</th>\n",
       "      <th>LEFT_COLUMN</th>\n",
       "      <th>RIGHT_TABLE</th>\n",
       "      <th>RIGHT_COLUMN</th>\n",
       "      <th>KEY</th>\n",
       "    </tr>\n",
       "  </thead>\n",
       "  <tbody>\n",
       "    <tr>\n",
       "      <th>0</th>\n",
       "      <td>population-by-governorate-citizenship-and-gend...</td>\n",
       "      <td>Year</td>\n",
       "      <td>statewise-census-data-in-india-1901-2011.csv</td>\n",
       "      <td>DATE</td>\n",
       "      <td>population-by-governorate-citizenship-and-gend...</td>\n",
       "    </tr>\n",
       "    <tr>\n",
       "      <th>1</th>\n",
       "      <td>community-gardens-and-food-trees.csv</td>\n",
       "      <td>MAPID</td>\n",
       "      <td>statewise-census-data-in-india-1901-2011.csv</td>\n",
       "      <td>LOCATION_ID</td>\n",
       "      <td>community-gardens-and-food-trees.csv#MAPID#sta...</td>\n",
       "    </tr>\n",
       "    <tr>\n",
       "      <th>2</th>\n",
       "      <td>population-census-of-botswana-2011.csv</td>\n",
       "      <td>REGION_ID</td>\n",
       "      <td>statewise-census-data-in-india-1901-2011.csv</td>\n",
       "      <td>LOCATION_ID</td>\n",
       "      <td>population-census-of-botswana-2011.csv#REGION_...</td>\n",
       "    </tr>\n",
       "    <tr>\n",
       "      <th>3</th>\n",
       "      <td>population-by-governorate-citizenship-and-gend...</td>\n",
       "      <td>Governorate</td>\n",
       "      <td>statewise-census-data-in-india-1901-2011.csv</td>\n",
       "      <td>LOCATION_REGIONID</td>\n",
       "      <td>population-by-governorate-citizenship-and-gend...</td>\n",
       "    </tr>\n",
       "    <tr>\n",
       "      <th>4</th>\n",
       "      <td>population-census-of-botswana-2011.csv</td>\n",
       "      <td>REGION_REGIONID</td>\n",
       "      <td>statewise-census-data-in-india-1901-2011.csv</td>\n",
       "      <td>LOCATION_REGIONID</td>\n",
       "      <td>population-census-of-botswana-2011.csv#REGION_...</td>\n",
       "    </tr>\n",
       "  </tbody>\n",
       "</table>\n",
       "</div>"
      ],
      "text/plain": [
       "                                          LEFT_TABLE      LEFT_COLUMN  \\\n",
       "0  population-by-governorate-citizenship-and-gend...             Year   \n",
       "1               community-gardens-and-food-trees.csv            MAPID   \n",
       "2             population-census-of-botswana-2011.csv        REGION_ID   \n",
       "3  population-by-governorate-citizenship-and-gend...      Governorate   \n",
       "4             population-census-of-botswana-2011.csv  REGION_REGIONID   \n",
       "\n",
       "                                    RIGHT_TABLE       RIGHT_COLUMN  \\\n",
       "0  statewise-census-data-in-india-1901-2011.csv               DATE   \n",
       "1  statewise-census-data-in-india-1901-2011.csv        LOCATION_ID   \n",
       "2  statewise-census-data-in-india-1901-2011.csv        LOCATION_ID   \n",
       "3  statewise-census-data-in-india-1901-2011.csv  LOCATION_REGIONID   \n",
       "4  statewise-census-data-in-india-1901-2011.csv  LOCATION_REGIONID   \n",
       "\n",
       "                                                 KEY  \n",
       "0  population-by-governorate-citizenship-and-gend...  \n",
       "1  community-gardens-and-food-trees.csv#MAPID#sta...  \n",
       "2  population-census-of-botswana-2011.csv#REGION_...  \n",
       "3  population-by-governorate-citizenship-and-gend...  \n",
       "4  population-census-of-botswana-2011.csv#REGION_...  "
      ]
     },
     "execution_count": 6,
     "metadata": {},
     "output_type": "execute_result"
    }
   ],
   "source": [
    "df = pd.read_csv('Description_test/predicted_joins_df_20241111.csv')\n",
    "df.head()"
   ]
  },
  {
   "cell_type": "code",
   "execution_count": 12,
   "id": "6d4e8279-3310-4d52-84d8-e4c2c46e4d40",
   "metadata": {},
   "outputs": [
    {
     "data": {
      "text/html": [
       "<div>\n",
       "<style scoped>\n",
       "    .dataframe tbody tr th:only-of-type {\n",
       "        vertical-align: middle;\n",
       "    }\n",
       "\n",
       "    .dataframe tbody tr th {\n",
       "        vertical-align: top;\n",
       "    }\n",
       "\n",
       "    .dataframe thead th {\n",
       "        text-align: right;\n",
       "    }\n",
       "</style>\n",
       "<table border=\"1\" class=\"dataframe\">\n",
       "  <thead>\n",
       "    <tr style=\"text-align: right;\">\n",
       "      <th></th>\n",
       "      <th>LEFT_TABLE</th>\n",
       "      <th>LEFT_COLUMN</th>\n",
       "    </tr>\n",
       "  </thead>\n",
       "  <tbody>\n",
       "    <tr>\n",
       "      <th>0</th>\n",
       "      <td>population-by-governorate-citizenship-and-gend...</td>\n",
       "      <td>Year</td>\n",
       "    </tr>\n",
       "    <tr>\n",
       "      <th>1</th>\n",
       "      <td>community-gardens-and-food-trees.csv</td>\n",
       "      <td>MAPID</td>\n",
       "    </tr>\n",
       "    <tr>\n",
       "      <th>2</th>\n",
       "      <td>population-census-of-botswana-2011.csv</td>\n",
       "      <td>REGION_ID</td>\n",
       "    </tr>\n",
       "    <tr>\n",
       "      <th>3</th>\n",
       "      <td>population-by-governorate-citizenship-and-gend...</td>\n",
       "      <td>Governorate</td>\n",
       "    </tr>\n",
       "    <tr>\n",
       "      <th>4</th>\n",
       "      <td>population-census-of-botswana-2011.csv</td>\n",
       "      <td>REGION_REGIONID</td>\n",
       "    </tr>\n",
       "  </tbody>\n",
       "</table>\n",
       "</div>"
      ],
      "text/plain": [
       "                                          LEFT_TABLE      LEFT_COLUMN\n",
       "0  population-by-governorate-citizenship-and-gend...             Year\n",
       "1               community-gardens-and-food-trees.csv            MAPID\n",
       "2             population-census-of-botswana-2011.csv        REGION_ID\n",
       "3  population-by-governorate-citizenship-and-gend...      Governorate\n",
       "4             population-census-of-botswana-2011.csv  REGION_REGIONID"
      ]
     },
     "execution_count": 12,
     "metadata": {},
     "output_type": "execute_result"
    }
   ],
   "source": [
    "columns_to_predict_cta = df.iloc[:,:2]\n",
    "columns_to_predict_cta = pd.concat([columns_to_predict_cta, df.iloc[:, 2:4].rename(columns={'RIGHT_TABLE':'LEFT_TABLE', 'RIGHT_COLUMN':'LEFT_COLUMN'})], axis=0)\n",
    "columns_to_predict_cta.head()"
   ]
  },
  {
   "cell_type": "code",
   "execution_count": 13,
   "id": "9199bff0-2058-45b0-92c4-812a07cd3a0c",
   "metadata": {},
   "outputs": [
    {
     "data": {
      "text/html": [
       "<div>\n",
       "<style scoped>\n",
       "    .dataframe tbody tr th:only-of-type {\n",
       "        vertical-align: middle;\n",
       "    }\n",
       "\n",
       "    .dataframe tbody tr th {\n",
       "        vertical-align: top;\n",
       "    }\n",
       "\n",
       "    .dataframe thead th {\n",
       "        text-align: right;\n",
       "    }\n",
       "</style>\n",
       "<table border=\"1\" class=\"dataframe\">\n",
       "  <thead>\n",
       "    <tr style=\"text-align: right;\">\n",
       "      <th></th>\n",
       "      <th>LEFT_TABLE</th>\n",
       "      <th>LEFT_COLUMN</th>\n",
       "    </tr>\n",
       "  </thead>\n",
       "  <tbody>\n",
       "    <tr>\n",
       "      <th>0</th>\n",
       "      <td>population-by-governorate-citizenship-and-gend...</td>\n",
       "      <td>Year</td>\n",
       "    </tr>\n",
       "    <tr>\n",
       "      <th>1</th>\n",
       "      <td>community-gardens-and-food-trees.csv</td>\n",
       "      <td>MAPID</td>\n",
       "    </tr>\n",
       "    <tr>\n",
       "      <th>2</th>\n",
       "      <td>population-census-of-botswana-2011.csv</td>\n",
       "      <td>REGION_ID</td>\n",
       "    </tr>\n",
       "    <tr>\n",
       "      <th>3</th>\n",
       "      <td>population-by-governorate-citizenship-and-gend...</td>\n",
       "      <td>Governorate</td>\n",
       "    </tr>\n",
       "    <tr>\n",
       "      <th>4</th>\n",
       "      <td>population-census-of-botswana-2011.csv</td>\n",
       "      <td>REGION_REGIONID</td>\n",
       "    </tr>\n",
       "  </tbody>\n",
       "</table>\n",
       "</div>"
      ],
      "text/plain": [
       "                                          LEFT_TABLE      LEFT_COLUMN\n",
       "0  population-by-governorate-citizenship-and-gend...             Year\n",
       "1               community-gardens-and-food-trees.csv            MAPID\n",
       "2             population-census-of-botswana-2011.csv        REGION_ID\n",
       "3  population-by-governorate-citizenship-and-gend...      Governorate\n",
       "4             population-census-of-botswana-2011.csv  REGION_REGIONID"
      ]
     },
     "execution_count": 13,
     "metadata": {},
     "output_type": "execute_result"
    }
   ],
   "source": [
    "columns_to_predict_cta = columns_to_predict_cta.drop_duplicates()\n",
    "columns_to_predict_cta = columns_to_predict_cta.reset_index(drop=True)\n",
    "columns_to_predict_cta.head()"
   ]
  },
  {
   "cell_type": "code",
   "execution_count": 14,
   "id": "aed63aa3-0449-47a3-8211-f4185cb4795d",
   "metadata": {},
   "outputs": [
    {
     "data": {
      "text/plain": [
       "(207, 2)"
      ]
     },
     "execution_count": 14,
     "metadata": {},
     "output_type": "execute_result"
    }
   ],
   "source": [
    "columns_to_predict_cta.shape"
   ]
  },
  {
   "cell_type": "code",
   "execution_count": 15,
   "id": "a977327d-54e2-418f-bec8-475b56b24ff7",
   "metadata": {},
   "outputs": [],
   "source": [
    "columns_to_predict_cta.to_csv('Description_test/CTA_from_descriptions/columns_to_predict.csv', index=False)"
   ]
  }
 ],
 "metadata": {
  "kernelspec": {
   "display_name": "Python 3 (ipykernel)",
   "language": "python",
   "name": "python3"
  },
  "language_info": {
   "codemirror_mode": {
    "name": "ipython",
    "version": 3
   },
   "file_extension": ".py",
   "mimetype": "text/x-python",
   "name": "python",
   "nbconvert_exporter": "python",
   "pygments_lexer": "ipython3",
   "version": "3.10.12"
  }
 },
 "nbformat": 4,
 "nbformat_minor": 5
}
