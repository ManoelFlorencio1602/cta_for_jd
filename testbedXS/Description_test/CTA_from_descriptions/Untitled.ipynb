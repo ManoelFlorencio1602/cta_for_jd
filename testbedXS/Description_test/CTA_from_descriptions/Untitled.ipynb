{
 "cells": [
  {
   "cell_type": "code",
   "execution_count": 4,
   "id": "c3e2b8f0-f37d-4c2e-9f67-8545dfba4e90",
   "metadata": {},
   "outputs": [],
   "source": [
    "import pandas as pd\n",
    "import os"
   ]
  },
  {
   "cell_type": "code",
   "execution_count": 5,
   "id": "3e2e0795-7fc9-4ed2-a98e-8248739d57f9",
   "metadata": {},
   "outputs": [
    {
     "name": "stdout",
     "output_type": "stream",
     "text": [
      "/home/manoelflorencio/cta_for_jd/testbedXS\n"
     ]
    }
   ],
   "source": [
    "path = '/home/manoelflorencio/cta_for_jd/testbedXS'\n",
    "os.chdir(path)\n",
    "print(os.getcwd())"
   ]
  },
  {
   "cell_type": "code",
   "execution_count": 6,
   "id": "5cbb50cb-b338-4929-a6d8-0210ce8c4aa8",
   "metadata": {},
   "outputs": [
    {
     "data": {
      "text/html": [
       "<div>\n",
       "<style scoped>\n",
       "    .dataframe tbody tr th:only-of-type {\n",
       "        vertical-align: middle;\n",
       "    }\n",
       "\n",
       "    .dataframe tbody tr th {\n",
       "        vertical-align: top;\n",
       "    }\n",
       "\n",
       "    .dataframe thead th {\n",
       "        text-align: right;\n",
       "    }\n",
       "</style>\n",
       "<table border=\"1\" class=\"dataframe\">\n",
       "  <thead>\n",
       "    <tr style=\"text-align: right;\">\n",
       "      <th></th>\n",
       "      <th>ds_name</th>\n",
       "      <th>att_name</th>\n",
       "      <th>sizeDistinct1</th>\n",
       "      <th>ds_name_2</th>\n",
       "      <th>att_name_2</th>\n",
       "      <th>sizeDistinct2</th>\n",
       "      <th>joinSize</th>\n",
       "      <th>trueContainment</th>\n",
       "      <th>trueQuality</th>\n",
       "    </tr>\n",
       "  </thead>\n",
       "  <tbody>\n",
       "    <tr>\n",
       "      <th>0</th>\n",
       "      <td>road-ahead-current-road-closures.csv</td>\n",
       "      <td>COMP_DATE</td>\n",
       "      <td>12</td>\n",
       "      <td>road-ahead-upcoming-projects.csv</td>\n",
       "      <td>COMP_DATE</td>\n",
       "      <td>35</td>\n",
       "      <td>6</td>\n",
       "      <td>0.500000</td>\n",
       "      <td>3.0</td>\n",
       "    </tr>\n",
       "    <tr>\n",
       "      <th>1</th>\n",
       "      <td>eo_pr.csv</td>\n",
       "      <td>NTEE_CD</td>\n",
       "      <td>302</td>\n",
       "      <td>eo_xx.csv</td>\n",
       "      <td>NTEE_CD</td>\n",
       "      <td>397</td>\n",
       "      <td>168</td>\n",
       "      <td>0.556291</td>\n",
       "      <td>3.0</td>\n",
       "    </tr>\n",
       "    <tr>\n",
       "      <th>2</th>\n",
       "      <td>eo_pr.csv</td>\n",
       "      <td>NAME</td>\n",
       "      <td>1270</td>\n",
       "      <td>eo4.csv</td>\n",
       "      <td>NAME</td>\n",
       "      <td>3097</td>\n",
       "      <td>1270</td>\n",
       "      <td>1.000000</td>\n",
       "      <td>4.0</td>\n",
       "    </tr>\n",
       "    <tr>\n",
       "      <th>3</th>\n",
       "      <td>eo_pr.csv</td>\n",
       "      <td>ICO</td>\n",
       "      <td>784</td>\n",
       "      <td>eo4.csv</td>\n",
       "      <td>ICO</td>\n",
       "      <td>2050</td>\n",
       "      <td>784</td>\n",
       "      <td>1.000000</td>\n",
       "      <td>4.0</td>\n",
       "    </tr>\n",
       "    <tr>\n",
       "      <th>4</th>\n",
       "      <td>eo_pr.csv</td>\n",
       "      <td>STREET</td>\n",
       "      <td>1266</td>\n",
       "      <td>eo4.csv</td>\n",
       "      <td>STREET</td>\n",
       "      <td>3045</td>\n",
       "      <td>1266</td>\n",
       "      <td>1.000000</td>\n",
       "      <td>4.0</td>\n",
       "    </tr>\n",
       "  </tbody>\n",
       "</table>\n",
       "</div>"
      ],
      "text/plain": [
       "                                ds_name   att_name  sizeDistinct1  \\\n",
       "0  road-ahead-current-road-closures.csv  COMP_DATE             12   \n",
       "1                             eo_pr.csv    NTEE_CD            302   \n",
       "2                             eo_pr.csv       NAME           1270   \n",
       "3                             eo_pr.csv        ICO            784   \n",
       "4                             eo_pr.csv     STREET           1266   \n",
       "\n",
       "                          ds_name_2 att_name_2  sizeDistinct2  joinSize  \\\n",
       "0  road-ahead-upcoming-projects.csv  COMP_DATE             35         6   \n",
       "1                         eo_xx.csv    NTEE_CD            397       168   \n",
       "2                           eo4.csv       NAME           3097      1270   \n",
       "3                           eo4.csv        ICO           2050       784   \n",
       "4                           eo4.csv     STREET           3045      1266   \n",
       "\n",
       "   trueContainment  trueQuality  \n",
       "0         0.500000          3.0  \n",
       "1         0.556291          3.0  \n",
       "2         1.000000          4.0  \n",
       "3         1.000000          4.0  \n",
       "4         1.000000          4.0  "
      ]
     },
     "execution_count": 6,
     "metadata": {},
     "output_type": "execute_result"
    }
   ],
   "source": [
    "groundTruth = pd.read_csv('joinable_columns_gt3_quality.csv')\n",
    "groundTruth.head()"
   ]
  },
  {
   "cell_type": "code",
   "execution_count": 9,
   "id": "816883a3-93de-4cdc-b1d0-681235b43dde",
   "metadata": {},
   "outputs": [
    {
     "data": {
      "text/plain": [
       "(98, 9)"
      ]
     },
     "execution_count": 9,
     "metadata": {},
     "output_type": "execute_result"
    }
   ],
   "source": [
    "groundTruth.shape"
   ]
  },
  {
   "cell_type": "code",
   "execution_count": 10,
   "id": "c42ba023-67e2-4f10-bd83-236a7238e8e4",
   "metadata": {},
   "outputs": [
    {
     "data": {
      "text/html": [
       "<div>\n",
       "<style scoped>\n",
       "    .dataframe tbody tr th:only-of-type {\n",
       "        vertical-align: middle;\n",
       "    }\n",
       "\n",
       "    .dataframe tbody tr th {\n",
       "        vertical-align: top;\n",
       "    }\n",
       "\n",
       "    .dataframe thead th {\n",
       "        text-align: right;\n",
       "    }\n",
       "</style>\n",
       "<table border=\"1\" class=\"dataframe\">\n",
       "  <thead>\n",
       "    <tr style=\"text-align: right;\">\n",
       "      <th></th>\n",
       "      <th>att_name</th>\n",
       "    </tr>\n",
       "    <tr>\n",
       "      <th>ds_name</th>\n",
       "      <th></th>\n",
       "    </tr>\n",
       "  </thead>\n",
       "  <tbody>\n",
       "    <tr>\n",
       "      <th>community-centres.csv</th>\n",
       "      <td>8</td>\n",
       "    </tr>\n",
       "    <tr>\n",
       "      <th>community-gardens-and-food-trees.csv</th>\n",
       "      <td>8</td>\n",
       "    </tr>\n",
       "    <tr>\n",
       "      <th>cultural-spaces.csv</th>\n",
       "      <td>8</td>\n",
       "    </tr>\n",
       "    <tr>\n",
       "      <th>eo4.csv</th>\n",
       "      <td>9</td>\n",
       "    </tr>\n",
       "    <tr>\n",
       "      <th>eo_pr.csv</th>\n",
       "      <td>8</td>\n",
       "    </tr>\n",
       "    <tr>\n",
       "      <th>eo_xx.csv</th>\n",
       "      <td>8</td>\n",
       "    </tr>\n",
       "    <tr>\n",
       "      <th>libraries.csv</th>\n",
       "      <td>8</td>\n",
       "    </tr>\n",
       "    <tr>\n",
       "      <th>population-census-of-botswana-2011.csv</th>\n",
       "      <td>1</td>\n",
       "    </tr>\n",
       "    <tr>\n",
       "      <th>public-art.csv</th>\n",
       "      <td>14</td>\n",
       "    </tr>\n",
       "    <tr>\n",
       "      <th>rental-standards-current-issues.csv</th>\n",
       "      <td>8</td>\n",
       "    </tr>\n",
       "    <tr>\n",
       "      <th>road-ahead-current-road-closures.csv</th>\n",
       "      <td>1</td>\n",
       "    </tr>\n",
       "    <tr>\n",
       "      <th>schools.csv</th>\n",
       "      <td>8</td>\n",
       "    </tr>\n",
       "    <tr>\n",
       "      <th>statewise-census-data-in-india-1901-2011.csv</th>\n",
       "      <td>1</td>\n",
       "    </tr>\n",
       "    <tr>\n",
       "      <th>street-intersections.csv</th>\n",
       "      <td>8</td>\n",
       "    </tr>\n",
       "  </tbody>\n",
       "</table>\n",
       "</div>"
      ],
      "text/plain": [
       "                                              att_name\n",
       "ds_name                                               \n",
       "community-centres.csv                                8\n",
       "community-gardens-and-food-trees.csv                 8\n",
       "cultural-spaces.csv                                  8\n",
       "eo4.csv                                              9\n",
       "eo_pr.csv                                            8\n",
       "eo_xx.csv                                            8\n",
       "libraries.csv                                        8\n",
       "population-census-of-botswana-2011.csv               1\n",
       "public-art.csv                                      14\n",
       "rental-standards-current-issues.csv                  8\n",
       "road-ahead-current-road-closures.csv                 1\n",
       "schools.csv                                          8\n",
       "statewise-census-data-in-india-1901-2011.csv         1\n",
       "street-intersections.csv                             8"
      ]
     },
     "execution_count": 10,
     "metadata": {},
     "output_type": "execute_result"
    }
   ],
   "source": [
    "groundTruth.groupby(['ds_name']).count().iloc[:,:1]"
   ]
  }
 ],
 "metadata": {
  "kernelspec": {
   "display_name": "Python 3 (ipykernel)",
   "language": "python",
   "name": "python3"
  },
  "language_info": {
   "codemirror_mode": {
    "name": "ipython",
    "version": 3
   },
   "file_extension": ".py",
   "mimetype": "text/x-python",
   "name": "python",
   "nbconvert_exporter": "python",
   "pygments_lexer": "ipython3",
   "version": "3.10.12"
  }
 },
 "nbformat": 4,
 "nbformat_minor": 5
}
