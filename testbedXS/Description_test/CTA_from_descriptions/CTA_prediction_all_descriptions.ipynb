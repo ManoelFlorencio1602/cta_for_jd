{
 "cells": [
  {
   "cell_type": "code",
   "execution_count": 1,
   "id": "117d98bf-eff6-4a6c-8205-94f4cd2c77c9",
   "metadata": {},
   "outputs": [],
   "source": [
    "import pandas as pd\n",
    "import numpy as np\n",
    "import json\n",
    "import os\n",
    "import glob\n",
    "\n",
    "import pickle\n",
    "from pydantic import BaseModel\n",
    "from openai import OpenAI\n",
    "\n",
    "from tenacity import (\n",
    "                        retry,\n",
    "                        stop_after_attempt,\n",
    "                        wait_random_exponential\n",
    ")\n",
    "\n",
    "from tqdm import tqdm"
   ]
  },
  {
   "cell_type": "code",
   "execution_count": 2,
   "id": "51b3c912-f1ad-43ff-bcfc-beb938666df6",
   "metadata": {},
   "outputs": [],
   "source": [
    "pd.set_option('display.max_rows', None)"
   ]
  },
  {
   "cell_type": "code",
   "execution_count": 3,
   "id": "c37f5595-ac49-4b3f-b8f0-6dc98158f0e7",
   "metadata": {},
   "outputs": [
    {
     "name": "stdout",
     "output_type": "stream",
     "text": [
      "/home/manoelflorencio/cta_for_jd/testbedXS\n"
     ]
    }
   ],
   "source": [
    "path = '/home/manoelflorencio/cta_for_jd/testbedXS'\n",
    "os.chdir(path)\n",
    "print(os.getcwd())"
   ]
  },
  {
   "cell_type": "code",
   "execution_count": 4,
   "id": "9a190957-6781-44d9-89fb-0470b6217547",
   "metadata": {},
   "outputs": [],
   "source": [
    "def generate_prompt_cta_prediction(description, cta_types):\n",
    "\n",
    "    system_msg = f\"\"\"\n",
    "            Your task is to classify a column's description of a given table with only one of the following classes that are separated \n",
    "            with comma: {\",\".join(cta_types)}.\n",
    "\n",
    "            Your instructions are:\n",
    "                1. Look at the input given to you.\n",
    "                2. Look at the description semantics in detail.\n",
    "                3. Predict a class among the following classes {\",\".join(cta_types)} for the target column.\n",
    "                4. Answer only with the predicted class.\n",
    "\n",
    "            Example 1:\n",
    "                Description: \"The 'Sex' column in the table represents the gender of the animal listed in each row. The values in this column consist of abbreviations that denote both the sex and reproductive status of the animals. 'M' indicates a male animal, and 'F' stands for a female animal.\n",
    "                Class: category\n",
    "\n",
    "            Example 2:\n",
    "                Description: \"The \"\"GeoLocalArea\"\" column in the table represents the geographical local area within which the public artworks or installations are situated or associated.\n",
    "                Class: streetAddress\"\"\"\n",
    "            \n",
    "    user_msg =  f\"\"\"Description: {description}\n",
    "                    Class: \"\"\".strip()\n",
    "    \n",
    "    return system_msg, user_msg"
   ]
  },
  {
   "cell_type": "code",
   "execution_count": 5,
   "id": "d04084f1-b41a-4fba-b069-994dc1fa3f00",
   "metadata": {},
   "outputs": [],
   "source": [
    "def generate_predictions(description, cta_types, client):\n",
    "    \n",
    "    system_msg_predict_cta, user_msg_predict_cta = generate_prompt_cta_prediction(description, cta_types)\n",
    "    result = execute_prompt(client, system_msg_predict_cta, user_msg_predict_cta)\n",
    "    cta = result.choices[0].message.content.split('Class: ')[-1].strip()\n",
    "    \n",
    "    return cta"
   ]
  },
  {
   "cell_type": "code",
   "execution_count": 6,
   "id": "506d0058-66d6-4634-a4c2-39ef2b03618e",
   "metadata": {},
   "outputs": [],
   "source": [
    "@retry(wait=wait_random_exponential(min=1,max=60), stop=stop_after_attempt(6))\n",
    "def execute_prompt(client, system_msg, user_msg):\n",
    "    completion = client.chat.completions.create(\n",
    "                                            model=\"gpt-4o\",\n",
    "                                            temperature=0.2,\n",
    "                                            messages=[\n",
    "                                                        {\n",
    "                                                            \"role\": \"system\", \n",
    "                                                             \"content\": f\"{system_msg}\"\n",
    "                                                        },\n",
    "                                                        {\n",
    "                                                            \"role\": \"user\",\n",
    "                                                            \"content\": f\"{user_msg}\"\n",
    "                                                        }\n",
    "                                                    ]\n",
    "                                            )\n",
    "    return completion"
   ]
  },
  {
   "cell_type": "code",
   "execution_count": 7,
   "id": "26ae3e2b-db1c-4288-b09d-ea306524c624",
   "metadata": {},
   "outputs": [],
   "source": [
    "client = OpenAI()"
   ]
  },
  {
   "cell_type": "code",
   "execution_count": 8,
   "id": "f69f316a-979a-4a43-ab85-3bc912323220",
   "metadata": {},
   "outputs": [
    {
     "data": {
      "text/html": [
       "<div>\n",
       "<style scoped>\n",
       "    .dataframe tbody tr th:only-of-type {\n",
       "        vertical-align: middle;\n",
       "    }\n",
       "\n",
       "    .dataframe tbody tr th {\n",
       "        vertical-align: top;\n",
       "    }\n",
       "\n",
       "    .dataframe thead th {\n",
       "        text-align: right;\n",
       "    }\n",
       "</style>\n",
       "<table border=\"1\" class=\"dataframe\">\n",
       "  <thead>\n",
       "    <tr style=\"text-align: right;\">\n",
       "      <th></th>\n",
       "      <th>TableName</th>\n",
       "      <th>Column</th>\n",
       "      <th>Description</th>\n",
       "    </tr>\n",
       "  </thead>\n",
       "  <tbody>\n",
       "    <tr>\n",
       "      <th>0</th>\n",
       "      <td>statewise-census-data-in-india-1901-2011.csv</td>\n",
       "      <td>FREQUENCY</td>\n",
       "      <td>The 'FREQUENCY' column consists of the tempora...</td>\n",
       "    </tr>\n",
       "    <tr>\n",
       "      <th>1</th>\n",
       "      <td>statewise-census-data-in-india-1901-2011.csv</td>\n",
       "      <td>DATE</td>\n",
       "      <td>The 'DATE' column in the table represents the ...</td>\n",
       "    </tr>\n",
       "    <tr>\n",
       "      <th>2</th>\n",
       "      <td>statewise-census-data-in-india-1901-2011.csv</td>\n",
       "      <td>LOCATION_NAME</td>\n",
       "      <td>The \"LOCATION_NAME\" column in the table repres...</td>\n",
       "    </tr>\n",
       "    <tr>\n",
       "      <th>3</th>\n",
       "      <td>statewise-census-data-in-india-1901-2011.csv</td>\n",
       "      <td>LOCATION_F5</td>\n",
       "      <td>The column \"LOCATION_F5\" in the table appears ...</td>\n",
       "    </tr>\n",
       "    <tr>\n",
       "      <th>4</th>\n",
       "      <td>statewise-census-data-in-india-1901-2011.csv</td>\n",
       "      <td>LOCATION_ID</td>\n",
       "      <td>The \"LOCATION_ID\" column contains identifiers ...</td>\n",
       "    </tr>\n",
       "  </tbody>\n",
       "</table>\n",
       "</div>"
      ],
      "text/plain": [
       "                                      TableName         Column  \\\n",
       "0  statewise-census-data-in-india-1901-2011.csv      FREQUENCY   \n",
       "1  statewise-census-data-in-india-1901-2011.csv           DATE   \n",
       "2  statewise-census-data-in-india-1901-2011.csv  LOCATION_NAME   \n",
       "3  statewise-census-data-in-india-1901-2011.csv    LOCATION_F5   \n",
       "4  statewise-census-data-in-india-1901-2011.csv    LOCATION_ID   \n",
       "\n",
       "                                         Description  \n",
       "0  The 'FREQUENCY' column consists of the tempora...  \n",
       "1  The 'DATE' column in the table represents the ...  \n",
       "2  The \"LOCATION_NAME\" column in the table repres...  \n",
       "3  The column \"LOCATION_F5\" in the table appears ...  \n",
       "4  The \"LOCATION_ID\" column contains identifiers ...  "
      ]
     },
     "execution_count": 8,
     "metadata": {},
     "output_type": "execute_result"
    }
   ],
   "source": [
    "descriptions = pd.read_csv('Description_test/all_descriptions.csv')\n",
    "descriptions.head()"
   ]
  },
  {
   "cell_type": "code",
   "execution_count": 9,
   "id": "84dfb42d-6d2d-4a31-83b4-4b5118be0805",
   "metadata": {},
   "outputs": [],
   "source": [
    "cta_types = np.load('Description_test/CTA_from_descriptions/cta_types.npy')"
   ]
  },
  {
   "cell_type": "code",
   "execution_count": 10,
   "id": "04a52465-66d0-45de-8bc5-a3474b358eae",
   "metadata": {},
   "outputs": [
    {
     "name": "stderr",
     "output_type": "stream",
     "text": [
      "100%|██████████████████████████████████████████████████████████████████████████████████████████████████████████████████████████████████████████████████████████████████████████████████████████████████████| 257/257 [02:11<00:00,  1.95it/s]\n"
     ]
    }
   ],
   "source": [
    "cta = []\n",
    "for table_name, column_name, description in tqdm(descriptions.values):\n",
    "    target_description = description\n",
    "    cta.append(generate_predictions(target_description, cta_types, client))"
   ]
  },
  {
   "cell_type": "code",
   "execution_count": 11,
   "id": "c14e18b9-579b-4c61-a8c8-3c712f6809fe",
   "metadata": {},
   "outputs": [],
   "source": [
    "descriptions['CTA'] = cta"
   ]
  },
  {
   "cell_type": "code",
   "execution_count": 12,
   "id": "f0519189-586c-4ce2-ba57-f89e1844493e",
   "metadata": {},
   "outputs": [],
   "source": [
    "descriptions.to_csv('Description_test/all_descriptions_with_cta.csv',index=False)"
   ]
  },
  {
   "cell_type": "code",
   "execution_count": 29,
   "id": "1a8d907c-6e01-404e-9f34-f9dcd943b66b",
   "metadata": {},
   "outputs": [],
   "source": [
    "descriptions_with_cta = pd.read_csv('Description_test/all_descriptions_with_cta.csv')"
   ]
  },
  {
   "cell_type": "code",
   "execution_count": 30,
   "id": "f77fe0c8-c077-4493-93dd-f54645b743df",
   "metadata": {},
   "outputs": [
    {
     "data": {
      "text/html": [
       "<div>\n",
       "<style scoped>\n",
       "    .dataframe tbody tr th:only-of-type {\n",
       "        vertical-align: middle;\n",
       "    }\n",
       "\n",
       "    .dataframe tbody tr th {\n",
       "        vertical-align: top;\n",
       "    }\n",
       "\n",
       "    .dataframe thead th {\n",
       "        text-align: right;\n",
       "    }\n",
       "</style>\n",
       "<table border=\"1\" class=\"dataframe\">\n",
       "  <thead>\n",
       "    <tr style=\"text-align: right;\">\n",
       "      <th></th>\n",
       "      <th>TableName</th>\n",
       "      <th>Column</th>\n",
       "      <th>Description</th>\n",
       "      <th>CTA</th>\n",
       "    </tr>\n",
       "  </thead>\n",
       "  <tbody>\n",
       "    <tr>\n",
       "      <th>0</th>\n",
       "      <td>statewise-census-data-in-india-1901-2011.csv</td>\n",
       "      <td>FREQUENCY</td>\n",
       "      <td>The 'FREQUENCY' column consists of the tempora...</td>\n",
       "      <td>category</td>\n",
       "    </tr>\n",
       "    <tr>\n",
       "      <th>1</th>\n",
       "      <td>statewise-census-data-in-india-1901-2011.csv</td>\n",
       "      <td>DATE</td>\n",
       "      <td>The 'DATE' column in the table represents the ...</td>\n",
       "      <td>Date</td>\n",
       "    </tr>\n",
       "    <tr>\n",
       "      <th>2</th>\n",
       "      <td>statewise-census-data-in-india-1901-2011.csv</td>\n",
       "      <td>LOCATION_NAME</td>\n",
       "      <td>The \"LOCATION_NAME\" column in the table repres...</td>\n",
       "      <td>Country</td>\n",
       "    </tr>\n",
       "    <tr>\n",
       "      <th>3</th>\n",
       "      <td>statewise-census-data-in-india-1901-2011.csv</td>\n",
       "      <td>LOCATION_F5</td>\n",
       "      <td>The column \"LOCATION_F5\" in the table appears ...</td>\n",
       "      <td>Boolean</td>\n",
       "    </tr>\n",
       "    <tr>\n",
       "      <th>4</th>\n",
       "      <td>statewise-census-data-in-india-1901-2011.csv</td>\n",
       "      <td>LOCATION_ID</td>\n",
       "      <td>The \"LOCATION_ID\" column contains identifiers ...</td>\n",
       "      <td>Identifier</td>\n",
       "    </tr>\n",
       "  </tbody>\n",
       "</table>\n",
       "</div>"
      ],
      "text/plain": [
       "                                      TableName         Column  \\\n",
       "0  statewise-census-data-in-india-1901-2011.csv      FREQUENCY   \n",
       "1  statewise-census-data-in-india-1901-2011.csv           DATE   \n",
       "2  statewise-census-data-in-india-1901-2011.csv  LOCATION_NAME   \n",
       "3  statewise-census-data-in-india-1901-2011.csv    LOCATION_F5   \n",
       "4  statewise-census-data-in-india-1901-2011.csv    LOCATION_ID   \n",
       "\n",
       "                                         Description         CTA  \n",
       "0  The 'FREQUENCY' column consists of the tempora...    category  \n",
       "1  The 'DATE' column in the table represents the ...        Date  \n",
       "2  The \"LOCATION_NAME\" column in the table repres...     Country  \n",
       "3  The column \"LOCATION_F5\" in the table appears ...     Boolean  \n",
       "4  The \"LOCATION_ID\" column contains identifiers ...  Identifier  "
      ]
     },
     "execution_count": 30,
     "metadata": {},
     "output_type": "execute_result"
    }
   ],
   "source": [
    "descriptions_with_cta.head()"
   ]
  },
  {
   "cell_type": "code",
   "execution_count": 31,
   "id": "62c6ef6e-7af9-4588-bc0b-faaa9a050ec3",
   "metadata": {},
   "outputs": [
    {
     "data": {
      "text/plain": [
       "array(['statewise-census-data-in-india-1901-2011.csv',\n",
       "       'road-ahead-current-road-closures.csv', 'property-tie-lines.csv',\n",
       "       'public-art.csv', 'gvrd-sewer-trunk-mains.csv',\n",
       "       'SCS_Staff_Salaries_data_30th_June 2010.csv', 'schools.csv',\n",
       "       'rental-standards-current-issues.csv',\n",
       "       'datasets_579296_1047868_authors.csv', 'survey_results_schema.csv',\n",
       "       'animal-control-inventory-lost-and-found.csv',\n",
       "       'glassdoor_wwfu_val_captions.csv', 'eo_xx.csv',\n",
       "       'community-gardens-and-food-trees.csv',\n",
       "       'road-ahead-upcoming-projects.csv', 'libraries.csv',\n",
       "       'cultural-spaces.csv', 'datasets_517172_952401_train.csv',\n",
       "       'public-art-artists.csv', 'eo4.csv', 'currency_exchange.csv',\n",
       "       'eo_pr.csv', 'road-ahead-projects-under-construction.csv',\n",
       "       'ability_ids.csv',\n",
       "       'population-by-governorate-citizenship-and-gender.csv',\n",
       "       'community-centres.csv', 'street-intersections.csv',\n",
       "       'population-census-of-botswana-2011.csv'], dtype=object)"
      ]
     },
     "execution_count": 31,
     "metadata": {},
     "output_type": "execute_result"
    }
   ],
   "source": [
    "table_names = descriptions_with_cta.TableName.unique()\n",
    "table_names"
   ]
  },
  {
   "cell_type": "code",
   "execution_count": 36,
   "id": "01af34dd-9ca0-4a65-8899-b84b99f36fb2",
   "metadata": {},
   "outputs": [],
   "source": [
    "matches = pd.DataFrame({'LEFT_TABLE':[],'LEFT_COLUMN':[],'RIGHT_TABLE':[],'RIGHT_COLUMN':[]})\n",
    "for table_name in table_names:\n",
    "    target_table = descriptions_with_cta[descriptions_with_cta['TableName'] == table_name]\n",
    "    candidate_tables = descriptions_with_cta[descriptions_with_cta['TableName'] != table_name]\n",
    "    for i in range(len(target_table.Column)):\n",
    "        for j in range(len(candidate_tables.Column)):\n",
    "            if(target_table.CTA.values[i] == candidate_tables.CTA.values[j]):\n",
    "                match = pd.DataFrame({'LEFT_TABLE':[table_name],\n",
    "                                      'LEFT_COLUMN':[target_table.Column.values[i]],\n",
    "                                      'LEFT_DESCRIPTION':[target_table.Description.values[i]],\n",
    "                                      'RIGHT_TABLE':[candidate_tables.TableName.values[j]],\n",
    "                                      'RIGHT_COLUMN':[candidate_tables.Column.values[j]],\n",
    "                                      'RIGHT_DESCRIPTION':[candidate_tables.Description.values[j]]})\n",
    "                if(len(matches) == 0):\n",
    "                    matches = match\n",
    "                else:\n",
    "                    matches = pd.concat([matches, match], axis=0)"
   ]
  },
  {
   "cell_type": "code",
   "execution_count": 37,
   "id": "71eeaafa-ef5f-416a-afca-99c1d232c3b6",
   "metadata": {},
   "outputs": [
    {
     "data": {
      "text/html": [
       "<div>\n",
       "<style scoped>\n",
       "    .dataframe tbody tr th:only-of-type {\n",
       "        vertical-align: middle;\n",
       "    }\n",
       "\n",
       "    .dataframe tbody tr th {\n",
       "        vertical-align: top;\n",
       "    }\n",
       "\n",
       "    .dataframe thead th {\n",
       "        text-align: right;\n",
       "    }\n",
       "</style>\n",
       "<table border=\"1\" class=\"dataframe\">\n",
       "  <thead>\n",
       "    <tr style=\"text-align: right;\">\n",
       "      <th></th>\n",
       "      <th>LEFT_TABLE</th>\n",
       "      <th>LEFT_COLUMN</th>\n",
       "      <th>LEFT_DESCRIPTION</th>\n",
       "      <th>RIGHT_TABLE</th>\n",
       "      <th>RIGHT_COLUMN</th>\n",
       "      <th>RIGHT_DESCRIPTION</th>\n",
       "    </tr>\n",
       "  </thead>\n",
       "  <tbody>\n",
       "    <tr>\n",
       "      <th>0</th>\n",
       "      <td>statewise-census-data-in-india-1901-2011.csv</td>\n",
       "      <td>FREQUENCY</td>\n",
       "      <td>The 'FREQUENCY' column consists of the tempora...</td>\n",
       "      <td>public-art.csv</td>\n",
       "      <td>Type</td>\n",
       "      <td>The \"Type\" column in the table represents the ...</td>\n",
       "    </tr>\n",
       "    <tr>\n",
       "      <th>0</th>\n",
       "      <td>statewise-census-data-in-india-1901-2011.csv</td>\n",
       "      <td>FREQUENCY</td>\n",
       "      <td>The 'FREQUENCY' column consists of the tempora...</td>\n",
       "      <td>public-art.csv</td>\n",
       "      <td>Status</td>\n",
       "      <td>The 'Status' column in this table indicates th...</td>\n",
       "    </tr>\n",
       "    <tr>\n",
       "      <th>0</th>\n",
       "      <td>statewise-census-data-in-india-1901-2011.csv</td>\n",
       "      <td>FREQUENCY</td>\n",
       "      <td>The 'FREQUENCY' column consists of the tempora...</td>\n",
       "      <td>gvrd-sewer-trunk-mains.csv</td>\n",
       "      <td>EFFLUENT_TYPE</td>\n",
       "      <td>The \"EFFLUENT_TYPE\" column in the table provid...</td>\n",
       "    </tr>\n",
       "    <tr>\n",
       "      <th>0</th>\n",
       "      <td>statewise-census-data-in-india-1901-2011.csv</td>\n",
       "      <td>FREQUENCY</td>\n",
       "      <td>The 'FREQUENCY' column consists of the tempora...</td>\n",
       "      <td>gvrd-sewer-trunk-mains.csv</td>\n",
       "      <td>MATERIAL</td>\n",
       "      <td>The \"MATERIAL\" column in the table represents ...</td>\n",
       "    </tr>\n",
       "    <tr>\n",
       "      <th>0</th>\n",
       "      <td>statewise-census-data-in-india-1901-2011.csv</td>\n",
       "      <td>FREQUENCY</td>\n",
       "      <td>The 'FREQUENCY' column consists of the tempora...</td>\n",
       "      <td>SCS_Staff_Salaries_data_30th_June 2010.csv</td>\n",
       "      <td>Grade</td>\n",
       "      <td>The \"Grade\" column in the table represents the...</td>\n",
       "    </tr>\n",
       "  </tbody>\n",
       "</table>\n",
       "</div>"
      ],
      "text/plain": [
       "                                     LEFT_TABLE LEFT_COLUMN  \\\n",
       "0  statewise-census-data-in-india-1901-2011.csv   FREQUENCY   \n",
       "0  statewise-census-data-in-india-1901-2011.csv   FREQUENCY   \n",
       "0  statewise-census-data-in-india-1901-2011.csv   FREQUENCY   \n",
       "0  statewise-census-data-in-india-1901-2011.csv   FREQUENCY   \n",
       "0  statewise-census-data-in-india-1901-2011.csv   FREQUENCY   \n",
       "\n",
       "                                    LEFT_DESCRIPTION  \\\n",
       "0  The 'FREQUENCY' column consists of the tempora...   \n",
       "0  The 'FREQUENCY' column consists of the tempora...   \n",
       "0  The 'FREQUENCY' column consists of the tempora...   \n",
       "0  The 'FREQUENCY' column consists of the tempora...   \n",
       "0  The 'FREQUENCY' column consists of the tempora...   \n",
       "\n",
       "                                  RIGHT_TABLE   RIGHT_COLUMN  \\\n",
       "0                              public-art.csv           Type   \n",
       "0                              public-art.csv         Status   \n",
       "0                  gvrd-sewer-trunk-mains.csv  EFFLUENT_TYPE   \n",
       "0                  gvrd-sewer-trunk-mains.csv       MATERIAL   \n",
       "0  SCS_Staff_Salaries_data_30th_June 2010.csv          Grade   \n",
       "\n",
       "                                   RIGHT_DESCRIPTION  \n",
       "0  The \"Type\" column in the table represents the ...  \n",
       "0  The 'Status' column in this table indicates th...  \n",
       "0  The \"EFFLUENT_TYPE\" column in the table provid...  \n",
       "0  The \"MATERIAL\" column in the table represents ...  \n",
       "0  The \"Grade\" column in the table represents the...  "
      ]
     },
     "execution_count": 37,
     "metadata": {},
     "output_type": "execute_result"
    }
   ],
   "source": [
    "matches.head()"
   ]
  },
  {
   "cell_type": "code",
   "execution_count": 38,
   "id": "467dbe31-af67-4b2c-8c02-09f04695e2f6",
   "metadata": {},
   "outputs": [
    {
     "data": {
      "text/plain": [
       "(6246, 6)"
      ]
     },
     "execution_count": 38,
     "metadata": {},
     "output_type": "execute_result"
    }
   ],
   "source": [
    "matches.shape"
   ]
  },
  {
   "cell_type": "code",
   "execution_count": 40,
   "id": "f118f997-2623-4120-ba12-0c95a5aef205",
   "metadata": {},
   "outputs": [],
   "source": [
    "matches.to_csv('Description_test/CTA_from_descriptions/cta_matches.csv', index=False)"
   ]
  }
 ],
 "metadata": {
  "kernelspec": {
   "display_name": "Python 3 (ipykernel)",
   "language": "python",
   "name": "python3"
  },
  "language_info": {
   "codemirror_mode": {
    "name": "ipython",
    "version": 3
   },
   "file_extension": ".py",
   "mimetype": "text/x-python",
   "name": "python",
   "nbconvert_exporter": "python",
   "pygments_lexer": "ipython3",
   "version": "3.10.12"
  }
 },
 "nbformat": 4,
 "nbformat_minor": 5
}
