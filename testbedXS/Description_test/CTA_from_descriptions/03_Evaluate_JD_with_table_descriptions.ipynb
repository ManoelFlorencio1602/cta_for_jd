{
 "cells": [
  {
   "cell_type": "code",
   "execution_count": 1,
   "id": "33298ba1-e7a8-4f5c-bbbe-aa16bf7cd4d3",
   "metadata": {},
   "outputs": [],
   "source": [
    "import pandas as pd\n",
    "import numpy as np\n",
    "import json\n",
    "import os\n",
    "import glob\n",
    "from tqdm import tqdm"
   ]
  },
  {
   "cell_type": "code",
   "execution_count": 2,
   "id": "0a6e971f-674e-427f-8d33-8b791a78b997",
   "metadata": {},
   "outputs": [],
   "source": [
    "pd.set_option('display.max_rows', None)"
   ]
  },
  {
   "cell_type": "code",
   "execution_count": 3,
   "id": "223182cd-c49f-4b8f-8d75-1afb719d6b33",
   "metadata": {},
   "outputs": [
    {
     "name": "stdout",
     "output_type": "stream",
     "text": [
      "/home/manoelflorencio/cta_for_jd/testbedXS\n"
     ]
    }
   ],
   "source": [
    "path = '/home/manoelflorencio/cta_for_jd/testbedXS'\n",
    "os.chdir(path)\n",
    "print(os.getcwd())"
   ]
  },
  {
   "cell_type": "code",
   "execution_count": 4,
   "id": "d51e0bfd-54c1-433d-917a-edff530589a7",
   "metadata": {},
   "outputs": [],
   "source": [
    "def generate_key_for_evaluation(df):\n",
    "    left_table_name = []\n",
    "    left_column_name = []\n",
    "    right_table_name = []\n",
    "    right_column_name = []\n",
    "    df_key = pd.DataFrame((), columns=df.columns)\n",
    "    \n",
    "    for i in range(df.shape[0]):\n",
    "        rtn = df.iloc[i, 2]\n",
    "        ltn = df.iloc[i, 0]\n",
    "        right_table_name.append(rtn if rtn > ltn else ltn)\n",
    "        left_table_name.append(rtn if rtn < ltn else ltn)\n",
    "    \n",
    "        rcn = df.iloc[i, 3]\n",
    "        lcn = df.iloc[i, 1]\n",
    "        right_column_name.append(rcn if rtn > ltn else lcn)\n",
    "        left_column_name.append(rcn if rtn < ltn else lcn)\n",
    "    \n",
    "    d = {'LEFT_TABLE':left_table_name,\n",
    "         'LEFT_COLUMN':left_column_name,\n",
    "         'RIGHT_TABLE':right_table_name,\n",
    "         'RIGHT_COLUMN':right_column_name}\n",
    "    df_key = pd.DataFrame(d)\n",
    "    df_key = df_key.drop_duplicates()\n",
    "    df_key = df_key.reset_index(drop=True)\n",
    "    \n",
    "    key = []\n",
    "    for i in range(df_key.shape[0]):\n",
    "        key.append(\"#\".join(df_key.iloc[i,:]))\n",
    "    df_key['KEY'] = key\n",
    "\n",
    "    return df_key"
   ]
  },
  {
   "cell_type": "code",
   "execution_count": 5,
   "id": "d23f83df-2420-4a5b-aeb1-58a77198fc43",
   "metadata": {},
   "outputs": [],
   "source": [
    "def fix_table_names(table_name):\n",
    "    return table_name + '.csv'"
   ]
  },
  {
   "cell_type": "code",
   "execution_count": 6,
   "id": "1e331888-4bbf-40b7-a816-ec559dc01f33",
   "metadata": {},
   "outputs": [
    {
     "data": {
      "text/html": [
       "<div>\n",
       "<style scoped>\n",
       "    .dataframe tbody tr th:only-of-type {\n",
       "        vertical-align: middle;\n",
       "    }\n",
       "\n",
       "    .dataframe tbody tr th {\n",
       "        vertical-align: top;\n",
       "    }\n",
       "\n",
       "    .dataframe thead th {\n",
       "        text-align: right;\n",
       "    }\n",
       "</style>\n",
       "<table border=\"1\" class=\"dataframe\">\n",
       "  <thead>\n",
       "    <tr style=\"text-align: right;\">\n",
       "      <th></th>\n",
       "      <th>LEFT_TABLE</th>\n",
       "      <th>LEFT_COLUMN</th>\n",
       "      <th>RIGHT_TABLE</th>\n",
       "      <th>RIGHT_COLUMN</th>\n",
       "    </tr>\n",
       "  </thead>\n",
       "  <tbody>\n",
       "    <tr>\n",
       "      <th>0</th>\n",
       "      <td>community-centres</td>\n",
       "      <td>ADDRESS</td>\n",
       "      <td>community-gardens-and-food-trees</td>\n",
       "      <td>MERGED_ADDRESS</td>\n",
       "    </tr>\n",
       "    <tr>\n",
       "      <th>1</th>\n",
       "      <td>community-centres</td>\n",
       "      <td>Geo Local Area</td>\n",
       "      <td>community-gardens-and-food-trees</td>\n",
       "      <td>Geo Local Area</td>\n",
       "    </tr>\n",
       "    <tr>\n",
       "      <th>2</th>\n",
       "      <td>community-centres</td>\n",
       "      <td>ADDRESS</td>\n",
       "      <td>cultural-spaces</td>\n",
       "      <td>ADDRESS</td>\n",
       "    </tr>\n",
       "    <tr>\n",
       "      <th>3</th>\n",
       "      <td>community-centres</td>\n",
       "      <td>Geo Local Area</td>\n",
       "      <td>cultural-spaces</td>\n",
       "      <td>LOCAL_AREA</td>\n",
       "    </tr>\n",
       "    <tr>\n",
       "      <th>6</th>\n",
       "      <td>community-centres</td>\n",
       "      <td>Geo Local Area</td>\n",
       "      <td>libraries</td>\n",
       "      <td>Geo Local Area</td>\n",
       "    </tr>\n",
       "  </tbody>\n",
       "</table>\n",
       "</div>"
      ],
      "text/plain": [
       "          LEFT_TABLE     LEFT_COLUMN                       RIGHT_TABLE  \\\n",
       "0  community-centres         ADDRESS  community-gardens-and-food-trees   \n",
       "1  community-centres  Geo Local Area  community-gardens-and-food-trees   \n",
       "2  community-centres         ADDRESS                   cultural-spaces   \n",
       "3  community-centres  Geo Local Area                   cultural-spaces   \n",
       "6  community-centres  Geo Local Area                         libraries   \n",
       "\n",
       "     RIGHT_COLUMN  \n",
       "0  MERGED_ADDRESS  \n",
       "1  Geo Local Area  \n",
       "2         ADDRESS  \n",
       "3      LOCAL_AREA  \n",
       "6  Geo Local Area  "
      ]
     },
     "execution_count": 6,
     "metadata": {},
     "output_type": "execute_result"
    }
   ],
   "source": [
    "cta_matches = pd.read_csv('Description_test/CTA_from_descriptions/junio_JD_matches_with_table_descriptions.csv')\n",
    "cta_matches = cta_matches[cta_matches['JOINABLE_TD'] == 'Yes'][['LEFT_TABLE','LEFT_COLUMN','RIGHT_TABLE','RIGHT_COLUMN']]\n",
    "cta_matches.head()"
   ]
  },
  {
   "cell_type": "code",
   "execution_count": 7,
   "id": "473cbb33-dfc7-4b7e-ae1a-13d603e6a654",
   "metadata": {},
   "outputs": [],
   "source": [
    "cta_matches['LEFT_TABLE'] = fix_table_names(cta_matches['LEFT_TABLE'])\n",
    "cta_matches['RIGHT_TABLE'] = fix_table_names(cta_matches['RIGHT_TABLE'])"
   ]
  },
  {
   "cell_type": "code",
   "execution_count": 8,
   "id": "6ebb8618-e9e0-4bdc-b1ca-0480aa2046f0",
   "metadata": {},
   "outputs": [
    {
     "data": {
      "text/html": [
       "<div>\n",
       "<style scoped>\n",
       "    .dataframe tbody tr th:only-of-type {\n",
       "        vertical-align: middle;\n",
       "    }\n",
       "\n",
       "    .dataframe tbody tr th {\n",
       "        vertical-align: top;\n",
       "    }\n",
       "\n",
       "    .dataframe thead th {\n",
       "        text-align: right;\n",
       "    }\n",
       "</style>\n",
       "<table border=\"1\" class=\"dataframe\">\n",
       "  <thead>\n",
       "    <tr style=\"text-align: right;\">\n",
       "      <th></th>\n",
       "      <th>LEFT_TABLE</th>\n",
       "      <th>LEFT_COLUMN</th>\n",
       "      <th>RIGHT_TABLE</th>\n",
       "      <th>RIGHT_COLUMN</th>\n",
       "      <th>KEY</th>\n",
       "    </tr>\n",
       "  </thead>\n",
       "  <tbody>\n",
       "    <tr>\n",
       "      <th>0</th>\n",
       "      <td>community-centres.csv</td>\n",
       "      <td>ADDRESS</td>\n",
       "      <td>community-gardens-and-food-trees.csv</td>\n",
       "      <td>MERGED_ADDRESS</td>\n",
       "      <td>community-centres.csv#ADDRESS#community-garden...</td>\n",
       "    </tr>\n",
       "    <tr>\n",
       "      <th>1</th>\n",
       "      <td>community-centres.csv</td>\n",
       "      <td>Geo Local Area</td>\n",
       "      <td>community-gardens-and-food-trees.csv</td>\n",
       "      <td>Geo Local Area</td>\n",
       "      <td>community-centres.csv#Geo Local Area#community...</td>\n",
       "    </tr>\n",
       "    <tr>\n",
       "      <th>2</th>\n",
       "      <td>community-centres.csv</td>\n",
       "      <td>ADDRESS</td>\n",
       "      <td>cultural-spaces.csv</td>\n",
       "      <td>ADDRESS</td>\n",
       "      <td>community-centres.csv#ADDRESS#cultural-spaces....</td>\n",
       "    </tr>\n",
       "    <tr>\n",
       "      <th>3</th>\n",
       "      <td>community-centres.csv</td>\n",
       "      <td>Geo Local Area</td>\n",
       "      <td>cultural-spaces.csv</td>\n",
       "      <td>LOCAL_AREA</td>\n",
       "      <td>community-centres.csv#Geo Local Area#cultural-...</td>\n",
       "    </tr>\n",
       "    <tr>\n",
       "      <th>4</th>\n",
       "      <td>community-centres.csv</td>\n",
       "      <td>Geo Local Area</td>\n",
       "      <td>libraries.csv</td>\n",
       "      <td>Geo Local Area</td>\n",
       "      <td>community-centres.csv#Geo Local Area#libraries...</td>\n",
       "    </tr>\n",
       "  </tbody>\n",
       "</table>\n",
       "</div>"
      ],
      "text/plain": [
       "              LEFT_TABLE     LEFT_COLUMN  \\\n",
       "0  community-centres.csv         ADDRESS   \n",
       "1  community-centres.csv  Geo Local Area   \n",
       "2  community-centres.csv         ADDRESS   \n",
       "3  community-centres.csv  Geo Local Area   \n",
       "4  community-centres.csv  Geo Local Area   \n",
       "\n",
       "                            RIGHT_TABLE    RIGHT_COLUMN  \\\n",
       "0  community-gardens-and-food-trees.csv  MERGED_ADDRESS   \n",
       "1  community-gardens-and-food-trees.csv  Geo Local Area   \n",
       "2                   cultural-spaces.csv         ADDRESS   \n",
       "3                   cultural-spaces.csv      LOCAL_AREA   \n",
       "4                         libraries.csv  Geo Local Area   \n",
       "\n",
       "                                                 KEY  \n",
       "0  community-centres.csv#ADDRESS#community-garden...  \n",
       "1  community-centres.csv#Geo Local Area#community...  \n",
       "2  community-centres.csv#ADDRESS#cultural-spaces....  \n",
       "3  community-centres.csv#Geo Local Area#cultural-...  \n",
       "4  community-centres.csv#Geo Local Area#libraries...  "
      ]
     },
     "execution_count": 8,
     "metadata": {},
     "output_type": "execute_result"
    }
   ],
   "source": [
    "cta_matches = generate_key_for_evaluation(cta_matches)\n",
    "cta_matches.head()"
   ]
  },
  {
   "cell_type": "code",
   "execution_count": 9,
   "id": "4f272cb4-67d8-45f9-821c-ab3c1a41ece1",
   "metadata": {},
   "outputs": [
    {
     "data": {
      "text/plain": [
       "(93, 5)"
      ]
     },
     "execution_count": 9,
     "metadata": {},
     "output_type": "execute_result"
    }
   ],
   "source": [
    "cta_matches.shape"
   ]
  },
  {
   "cell_type": "code",
   "execution_count": 10,
   "id": "f31140cc-e7c7-4b91-bcb4-f762a2c02dd7",
   "metadata": {},
   "outputs": [
    {
     "data": {
      "text/html": [
       "<div>\n",
       "<style scoped>\n",
       "    .dataframe tbody tr th:only-of-type {\n",
       "        vertical-align: middle;\n",
       "    }\n",
       "\n",
       "    .dataframe tbody tr th {\n",
       "        vertical-align: top;\n",
       "    }\n",
       "\n",
       "    .dataframe thead th {\n",
       "        text-align: right;\n",
       "    }\n",
       "</style>\n",
       "<table border=\"1\" class=\"dataframe\">\n",
       "  <thead>\n",
       "    <tr style=\"text-align: right;\">\n",
       "      <th></th>\n",
       "      <th>LEFT_TABLE</th>\n",
       "      <th>LEFT_COLUMN</th>\n",
       "      <th>RIGHT_TABLE</th>\n",
       "      <th>RIGHT_COLUMN</th>\n",
       "      <th>KEY</th>\n",
       "    </tr>\n",
       "  </thead>\n",
       "  <tbody>\n",
       "    <tr>\n",
       "      <th>0</th>\n",
       "      <td>road-ahead-current-road-closures.csv</td>\n",
       "      <td>COMP_DATE</td>\n",
       "      <td>road-ahead-upcoming-projects.csv</td>\n",
       "      <td>COMP_DATE</td>\n",
       "      <td>road-ahead-current-road-closures.csv#COMP_DATE...</td>\n",
       "    </tr>\n",
       "    <tr>\n",
       "      <th>1</th>\n",
       "      <td>eo_pr.csv</td>\n",
       "      <td>NTEE_CD</td>\n",
       "      <td>eo_xx.csv</td>\n",
       "      <td>NTEE_CD</td>\n",
       "      <td>eo_pr.csv#NTEE_CD#eo_xx.csv#NTEE_CD</td>\n",
       "    </tr>\n",
       "    <tr>\n",
       "      <th>2</th>\n",
       "      <td>eo4.csv</td>\n",
       "      <td>NAME</td>\n",
       "      <td>eo_pr.csv</td>\n",
       "      <td>NAME</td>\n",
       "      <td>eo4.csv#NAME#eo_pr.csv#NAME</td>\n",
       "    </tr>\n",
       "    <tr>\n",
       "      <th>3</th>\n",
       "      <td>eo4.csv</td>\n",
       "      <td>ICO</td>\n",
       "      <td>eo_pr.csv</td>\n",
       "      <td>ICO</td>\n",
       "      <td>eo4.csv#ICO#eo_pr.csv#ICO</td>\n",
       "    </tr>\n",
       "    <tr>\n",
       "      <th>4</th>\n",
       "      <td>eo4.csv</td>\n",
       "      <td>STREET</td>\n",
       "      <td>eo_pr.csv</td>\n",
       "      <td>STREET</td>\n",
       "      <td>eo4.csv#STREET#eo_pr.csv#STREET</td>\n",
       "    </tr>\n",
       "  </tbody>\n",
       "</table>\n",
       "</div>"
      ],
      "text/plain": [
       "                             LEFT_TABLE LEFT_COLUMN  \\\n",
       "0  road-ahead-current-road-closures.csv   COMP_DATE   \n",
       "1                             eo_pr.csv     NTEE_CD   \n",
       "2                               eo4.csv        NAME   \n",
       "3                               eo4.csv         ICO   \n",
       "4                               eo4.csv      STREET   \n",
       "\n",
       "                        RIGHT_TABLE RIGHT_COLUMN  \\\n",
       "0  road-ahead-upcoming-projects.csv    COMP_DATE   \n",
       "1                         eo_xx.csv      NTEE_CD   \n",
       "2                         eo_pr.csv         NAME   \n",
       "3                         eo_pr.csv          ICO   \n",
       "4                         eo_pr.csv       STREET   \n",
       "\n",
       "                                                 KEY  \n",
       "0  road-ahead-current-road-closures.csv#COMP_DATE...  \n",
       "1                eo_pr.csv#NTEE_CD#eo_xx.csv#NTEE_CD  \n",
       "2                        eo4.csv#NAME#eo_pr.csv#NAME  \n",
       "3                          eo4.csv#ICO#eo_pr.csv#ICO  \n",
       "4                    eo4.csv#STREET#eo_pr.csv#STREET  "
      ]
     },
     "execution_count": 10,
     "metadata": {},
     "output_type": "execute_result"
    }
   ],
   "source": [
    "groundTruth = pd.read_csv('joinable_columns_gt3_quality.csv')\n",
    "groundTruth = groundTruth[['ds_name', 'att_name', 'ds_name_2', 'att_name_2']]\n",
    "groundTruth = generate_key_for_evaluation(groundTruth)\n",
    "groundTruth.head()"
   ]
  },
  {
   "cell_type": "code",
   "execution_count": 11,
   "id": "ac9b6f8a-035e-4461-b798-c5ece5379523",
   "metadata": {},
   "outputs": [
    {
     "data": {
      "text/plain": [
       "(53, 5)"
      ]
     },
     "execution_count": 11,
     "metadata": {},
     "output_type": "execute_result"
    }
   ],
   "source": [
    "groundTruth.shape"
   ]
  },
  {
   "cell_type": "code",
   "execution_count": 12,
   "id": "ec741e95-6f69-47a2-a200-e36d21072417",
   "metadata": {},
   "outputs": [
    {
     "name": "stdout",
     "output_type": "stream",
     "text": [
      "0.27956989247311825 0.49056603773584906 0.35616438356164376\n"
     ]
    }
   ],
   "source": [
    "tp = 0\n",
    "fp = 0\n",
    "fn = 0\n",
    "\n",
    "for i in range(len(cta_matches)):\n",
    "    if(cta_matches.iloc[i,4] in groundTruth.iloc[:,4].values):\n",
    "        tp += 1\n",
    "    else:\n",
    "        fp += 1\n",
    "    \n",
    "for i in range(len(groundTruth)):\n",
    "    if(groundTruth.iloc[i,4] not in cta_matches.iloc[:,4].values):\n",
    "        fn += 1\n",
    "    \n",
    "precision = (tp)/(tp+fp)\n",
    "recall = (tp)/(tp+fn)\n",
    "f1_score = 2 * (precision*recall)/(precision+recall)\n",
    "\n",
    "print(precision, recall, f1_score)"
   ]
  },
  {
   "cell_type": "code",
   "execution_count": 13,
   "id": "49f9ec61-18bf-428f-8fb2-4bf228f398f9",
   "metadata": {},
   "outputs": [
    {
     "data": {
      "text/plain": [
       "(26, 67, 27)"
      ]
     },
     "execution_count": 13,
     "metadata": {},
     "output_type": "execute_result"
    }
   ],
   "source": [
    "tp, fp, fn"
   ]
  },
  {
   "cell_type": "markdown",
   "id": "3be60f25-6981-45d3-a9db-7c557f61d223",
   "metadata": {},
   "source": [
    "# Falso Positivo"
   ]
  },
  {
   "cell_type": "code",
   "execution_count": 16,
   "id": "cdca4ce5-0e1f-4067-bdeb-7b5a1c4f8f09",
   "metadata": {},
   "outputs": [],
   "source": [
    "fp_rows = []\n",
    "for i in range(len(cta_matches)):\n",
    "    if(cta_matches.iloc[i,4] not in groundTruth.iloc[:,4].values):\n",
    "        fp_rows.append(cta_matches.iloc[i,4])\n",
    "\n",
    "fp_df = pd.DataFrame(list(map(lambda x: x.split('#'), fp_rows)), columns=['LEFT_TABLE','LEFT_COLUMN','RIGHT_TABLE','RIGHT_COLUMN'])\n",
    "fp_df.to_csv('Description_test/CTA_from_descriptions/false_positives.csv', index=False)"
   ]
  },
  {
   "cell_type": "markdown",
   "id": "cb404e59-416d-4448-b131-9a314d4d94b8",
   "metadata": {},
   "source": [
    "# Falso Negativo"
   ]
  },
  {
   "cell_type": "code",
   "execution_count": 15,
   "id": "5ad9ed54-d0c6-4b4a-a370-f40259b90430",
   "metadata": {},
   "outputs": [
    {
     "name": "stdout",
     "output_type": "stream",
     "text": [
      "eo4.csv#ICO#eo_pr.csv#ICO\n",
      "eo4.csv#CITY#eo_pr.csv#CITY\n",
      "eo4.csv#SORT_NAME#eo_pr.csv#SORT_NAME\n",
      "cultural-spaces.csv#LOCAL_AREA#street-intersections.csv#Geo Local Area\n",
      "cultural-spaces.csv#LOCAL_AREA#schools.csv#Geo Local Area\n",
      "community-gardens-and-food-trees.csv#Geo Local Area#cultural-spaces.csv#LOCAL_AREA\n",
      "rental-standards-current-issues.csv#Geo Local Area#street-intersections.csv#Geo Local Area\n",
      "public-art.csv#Neighbourhood#street-intersections.csv#Geo Local Area\n",
      "public-art.csv#GeoLocalArea#street-intersections.csv#Geo Local Area\n",
      "community-gardens-and-food-trees.csv#Geo Local Area#street-intersections.csv#Geo Local Area\n",
      "public-art.csv#Neighbourhood#rental-standards-current-issues.csv#Geo Local Area\n",
      "public-art.csv#GeoLocalArea#rental-standards-current-issues.csv#Geo Local Area\n",
      "rental-standards-current-issues.csv#Geo Local Area#schools.csv#Geo Local Area\n",
      "community-gardens-and-food-trees.csv#Geo Local Area#rental-standards-current-issues.csv#Geo Local Area\n",
      "public-art.csv#Neighbourhood#schools.csv#Geo Local Area\n",
      "public-art.csv#GeoLocalArea#schools.csv#Geo Local Area\n",
      "community-gardens-and-food-trees.csv#Geo Local Area#public-art.csv#Neighbourhood\n",
      "community-gardens-and-food-trees.csv#Geo Local Area#public-art.csv#GeoLocalArea\n",
      "libraries.csv#Geo Local Area#public-art.csv#Neighbourhood\n",
      "libraries.csv#Geo Local Area#public-art.csv#GeoLocalArea\n",
      "community-centres.csv#Geo Local Area#public-art.csv#Neighbourhood\n",
      "community-centres.csv#Geo Local Area#public-art.csv#GeoLocalArea\n",
      "population-census-of-botswana-2011.csv#FREQUENCY#statewise-census-data-in-india-1901-2011.csv#FREQUENCY\n",
      "community-gardens-and-food-trees.csv#Geo Local Area#schools.csv#Geo Local Area\n",
      "community-gardens-and-food-trees.csv#Geo Local Area#libraries.csv#Geo Local Area\n",
      "eo4.csv#ICO#eo_xx.csv#ICO\n",
      "eo4.csv#SORT_NAME#eo_xx.csv#SORT_NAME\n"
     ]
    }
   ],
   "source": [
    "for i in range(len(groundTruth)):\n",
    "    if(groundTruth.iloc[i,4] not in cta_matches.iloc[:,4].values):\n",
    "        print(groundTruth.iloc[i,4])"
   ]
  }
 ],
 "metadata": {
  "kernelspec": {
   "display_name": "Python 3 (ipykernel)",
   "language": "python",
   "name": "python3"
  },
  "language_info": {
   "codemirror_mode": {
    "name": "ipython",
    "version": 3
   },
   "file_extension": ".py",
   "mimetype": "text/x-python",
   "name": "python",
   "nbconvert_exporter": "python",
   "pygments_lexer": "ipython3",
   "version": "3.10.12"
  }
 },
 "nbformat": 4,
 "nbformat_minor": 5
}
