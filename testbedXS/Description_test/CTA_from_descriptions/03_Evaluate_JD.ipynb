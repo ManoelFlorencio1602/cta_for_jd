{
 "cells": [
  {
   "cell_type": "code",
   "execution_count": 1,
   "id": "33298ba1-e7a8-4f5c-bbbe-aa16bf7cd4d3",
   "metadata": {},
   "outputs": [],
   "source": [
    "import pandas as pd\n",
    "import numpy as np\n",
    "import json\n",
    "import os\n",
    "import glob\n",
    "from tqdm import tqdm"
   ]
  },
  {
   "cell_type": "code",
   "execution_count": 2,
   "id": "0a6e971f-674e-427f-8d33-8b791a78b997",
   "metadata": {},
   "outputs": [],
   "source": [
    "pd.set_option('display.max_rows', None)"
   ]
  },
  {
   "cell_type": "code",
   "execution_count": 3,
   "id": "223182cd-c49f-4b8f-8d75-1afb719d6b33",
   "metadata": {},
   "outputs": [
    {
     "name": "stdout",
     "output_type": "stream",
     "text": [
      "/home/manoelflorencio/cta_for_jd/testbedXS\n"
     ]
    }
   ],
   "source": [
    "path = '/home/manoelflorencio/cta_for_jd/testbedXS'\n",
    "os.chdir(path)\n",
    "print(os.getcwd())"
   ]
  },
  {
   "cell_type": "code",
   "execution_count": 4,
   "id": "d51e0bfd-54c1-433d-917a-edff530589a7",
   "metadata": {},
   "outputs": [],
   "source": [
    "def generate_key_for_evaluation(df):\n",
    "    left_table_name = []\n",
    "    left_column_name = []\n",
    "    right_table_name = []\n",
    "    right_column_name = []\n",
    "    df_key = pd.DataFrame((), columns=df.columns)\n",
    "    \n",
    "    for i in range(df.shape[0]):\n",
    "        rtn = df.iloc[i, 2]\n",
    "        ltn = df.iloc[i, 0]\n",
    "        right_table_name.append(rtn if rtn > ltn else ltn)\n",
    "        left_table_name.append(rtn if rtn < ltn else ltn)\n",
    "    \n",
    "        rcn = df.iloc[i, 3]\n",
    "        lcn = df.iloc[i, 1]\n",
    "        right_column_name.append(rcn if rtn > ltn else lcn)\n",
    "        left_column_name.append(rcn if rtn < ltn else lcn)\n",
    "    \n",
    "    d = {'LEFT_TABLE':left_table_name,\n",
    "         'LEFT_COLUMN':left_column_name,\n",
    "         'RIGHT_TABLE':right_table_name,\n",
    "         'RIGHT_COLUMN':right_column_name}\n",
    "    df_key = pd.DataFrame(d)\n",
    "    df_key = df_key.drop_duplicates()\n",
    "    df_key = df_key.reset_index(drop=True)\n",
    "    \n",
    "    key = []\n",
    "    for i in range(df_key.shape[0]):\n",
    "        key.append(\"#\".join(df_key.iloc[i,:]))\n",
    "    df_key['KEY'] = key\n",
    "\n",
    "    return df_key"
   ]
  },
  {
   "cell_type": "code",
   "execution_count": 5,
   "id": "d23f83df-2420-4a5b-aeb1-58a77198fc43",
   "metadata": {},
   "outputs": [],
   "source": [
    "def fix_table_names(table_name):\n",
    "    return table_name + '.csv'"
   ]
  },
  {
   "cell_type": "code",
   "execution_count": 6,
   "id": "1e331888-4bbf-40b7-a816-ec559dc01f33",
   "metadata": {},
   "outputs": [
    {
     "data": {
      "text/html": [
       "<div>\n",
       "<style scoped>\n",
       "    .dataframe tbody tr th:only-of-type {\n",
       "        vertical-align: middle;\n",
       "    }\n",
       "\n",
       "    .dataframe tbody tr th {\n",
       "        vertical-align: top;\n",
       "    }\n",
       "\n",
       "    .dataframe thead th {\n",
       "        text-align: right;\n",
       "    }\n",
       "</style>\n",
       "<table border=\"1\" class=\"dataframe\">\n",
       "  <thead>\n",
       "    <tr style=\"text-align: right;\">\n",
       "      <th></th>\n",
       "      <th>LEFT_TABLE</th>\n",
       "      <th>LEFT_COLUMN</th>\n",
       "      <th>RIGHT_TABLE</th>\n",
       "      <th>RIGHT_COLUMN</th>\n",
       "    </tr>\n",
       "  </thead>\n",
       "  <tbody>\n",
       "    <tr>\n",
       "      <th>2</th>\n",
       "      <td>eo_pr</td>\n",
       "      <td>EIN</td>\n",
       "      <td>eo_xx</td>\n",
       "      <td>EIN</td>\n",
       "    </tr>\n",
       "    <tr>\n",
       "      <th>24</th>\n",
       "      <td>eo4</td>\n",
       "      <td>EIN</td>\n",
       "      <td>eo_xx</td>\n",
       "      <td>EIN</td>\n",
       "    </tr>\n",
       "    <tr>\n",
       "      <th>34</th>\n",
       "      <td>eo_xx</td>\n",
       "      <td>NAME</td>\n",
       "      <td>schools</td>\n",
       "      <td>SCHOOL_NAME</td>\n",
       "    </tr>\n",
       "    <tr>\n",
       "      <th>35</th>\n",
       "      <td>eo_pr</td>\n",
       "      <td>NAME</td>\n",
       "      <td>eo_xx</td>\n",
       "      <td>NAME</td>\n",
       "    </tr>\n",
       "    <tr>\n",
       "      <th>36</th>\n",
       "      <td>eo_xx</td>\n",
       "      <td>NAME</td>\n",
       "      <td>rental-standards-current-issues</td>\n",
       "      <td>BUSINESSOPERATOR</td>\n",
       "    </tr>\n",
       "  </tbody>\n",
       "</table>\n",
       "</div>"
      ],
      "text/plain": [
       "   LEFT_TABLE LEFT_COLUMN                      RIGHT_TABLE      RIGHT_COLUMN\n",
       "2       eo_pr         EIN                            eo_xx               EIN\n",
       "24        eo4         EIN                            eo_xx               EIN\n",
       "34      eo_xx        NAME                          schools       SCHOOL_NAME\n",
       "35      eo_pr        NAME                            eo_xx              NAME\n",
       "36      eo_xx        NAME  rental-standards-current-issues  BUSINESSOPERATOR"
      ]
     },
     "execution_count": 6,
     "metadata": {},
     "output_type": "execute_result"
    }
   ],
   "source": [
    "cta_matches = pd.read_csv('Description_test/CTA_from_descriptions/junio_JD_from_cta_matches.csv')\n",
    "cta_matches = cta_matches[cta_matches['JOINABLE'] == 'Yes'][['LEFT_TABLE','LEFT_COLUMN','RIGHT_TABLE','RIGHT_COLUMN']]\n",
    "cta_matches.head()"
   ]
  },
  {
   "cell_type": "code",
   "execution_count": 7,
   "id": "473cbb33-dfc7-4b7e-ae1a-13d603e6a654",
   "metadata": {},
   "outputs": [],
   "source": [
    "cta_matches['LEFT_TABLE'] = fix_table_names(cta_matches['LEFT_TABLE'])\n",
    "cta_matches['RIGHT_TABLE'] = fix_table_names(cta_matches['RIGHT_TABLE'])"
   ]
  },
  {
   "cell_type": "code",
   "execution_count": 8,
   "id": "6ebb8618-e9e0-4bdc-b1ca-0480aa2046f0",
   "metadata": {},
   "outputs": [
    {
     "data": {
      "text/html": [
       "<div>\n",
       "<style scoped>\n",
       "    .dataframe tbody tr th:only-of-type {\n",
       "        vertical-align: middle;\n",
       "    }\n",
       "\n",
       "    .dataframe tbody tr th {\n",
       "        vertical-align: top;\n",
       "    }\n",
       "\n",
       "    .dataframe thead th {\n",
       "        text-align: right;\n",
       "    }\n",
       "</style>\n",
       "<table border=\"1\" class=\"dataframe\">\n",
       "  <thead>\n",
       "    <tr style=\"text-align: right;\">\n",
       "      <th></th>\n",
       "      <th>LEFT_TABLE</th>\n",
       "      <th>LEFT_COLUMN</th>\n",
       "      <th>RIGHT_TABLE</th>\n",
       "      <th>RIGHT_COLUMN</th>\n",
       "      <th>KEY</th>\n",
       "    </tr>\n",
       "  </thead>\n",
       "  <tbody>\n",
       "    <tr>\n",
       "      <th>0</th>\n",
       "      <td>eo_pr.csv</td>\n",
       "      <td>EIN</td>\n",
       "      <td>eo_xx.csv</td>\n",
       "      <td>EIN</td>\n",
       "      <td>eo_pr.csv#EIN#eo_xx.csv#EIN</td>\n",
       "    </tr>\n",
       "    <tr>\n",
       "      <th>1</th>\n",
       "      <td>eo4.csv</td>\n",
       "      <td>EIN</td>\n",
       "      <td>eo_xx.csv</td>\n",
       "      <td>EIN</td>\n",
       "      <td>eo4.csv#EIN#eo_xx.csv#EIN</td>\n",
       "    </tr>\n",
       "    <tr>\n",
       "      <th>2</th>\n",
       "      <td>eo_xx.csv</td>\n",
       "      <td>NAME</td>\n",
       "      <td>schools.csv</td>\n",
       "      <td>SCHOOL_NAME</td>\n",
       "      <td>eo_xx.csv#NAME#schools.csv#SCHOOL_NAME</td>\n",
       "    </tr>\n",
       "    <tr>\n",
       "      <th>3</th>\n",
       "      <td>eo_pr.csv</td>\n",
       "      <td>NAME</td>\n",
       "      <td>eo_xx.csv</td>\n",
       "      <td>NAME</td>\n",
       "      <td>eo_pr.csv#NAME#eo_xx.csv#NAME</td>\n",
       "    </tr>\n",
       "    <tr>\n",
       "      <th>4</th>\n",
       "      <td>eo_xx.csv</td>\n",
       "      <td>NAME</td>\n",
       "      <td>rental-standards-current-issues.csv</td>\n",
       "      <td>BUSINESSOPERATOR</td>\n",
       "      <td>eo_xx.csv#NAME#rental-standards-current-issues...</td>\n",
       "    </tr>\n",
       "  </tbody>\n",
       "</table>\n",
       "</div>"
      ],
      "text/plain": [
       "  LEFT_TABLE LEFT_COLUMN                          RIGHT_TABLE  \\\n",
       "0  eo_pr.csv         EIN                            eo_xx.csv   \n",
       "1    eo4.csv         EIN                            eo_xx.csv   \n",
       "2  eo_xx.csv        NAME                          schools.csv   \n",
       "3  eo_pr.csv        NAME                            eo_xx.csv   \n",
       "4  eo_xx.csv        NAME  rental-standards-current-issues.csv   \n",
       "\n",
       "       RIGHT_COLUMN                                                KEY  \n",
       "0               EIN                        eo_pr.csv#EIN#eo_xx.csv#EIN  \n",
       "1               EIN                          eo4.csv#EIN#eo_xx.csv#EIN  \n",
       "2       SCHOOL_NAME             eo_xx.csv#NAME#schools.csv#SCHOOL_NAME  \n",
       "3              NAME                      eo_pr.csv#NAME#eo_xx.csv#NAME  \n",
       "4  BUSINESSOPERATOR  eo_xx.csv#NAME#rental-standards-current-issues...  "
      ]
     },
     "execution_count": 8,
     "metadata": {},
     "output_type": "execute_result"
    }
   ],
   "source": [
    "cta_matches = generate_key_for_evaluation(cta_matches)\n",
    "cta_matches.head()"
   ]
  },
  {
   "cell_type": "code",
   "execution_count": 7,
   "id": "4f272cb4-67d8-45f9-821c-ab3c1a41ece1",
   "metadata": {},
   "outputs": [
    {
     "data": {
      "text/plain": [
       "(189, 5)"
      ]
     },
     "execution_count": 7,
     "metadata": {},
     "output_type": "execute_result"
    }
   ],
   "source": [
    "cta_matches.shape"
   ]
  },
  {
   "cell_type": "code",
   "execution_count": 9,
   "id": "f31140cc-e7c7-4b91-bcb4-f762a2c02dd7",
   "metadata": {},
   "outputs": [
    {
     "data": {
      "text/html": [
       "<div>\n",
       "<style scoped>\n",
       "    .dataframe tbody tr th:only-of-type {\n",
       "        vertical-align: middle;\n",
       "    }\n",
       "\n",
       "    .dataframe tbody tr th {\n",
       "        vertical-align: top;\n",
       "    }\n",
       "\n",
       "    .dataframe thead th {\n",
       "        text-align: right;\n",
       "    }\n",
       "</style>\n",
       "<table border=\"1\" class=\"dataframe\">\n",
       "  <thead>\n",
       "    <tr style=\"text-align: right;\">\n",
       "      <th></th>\n",
       "      <th>LEFT_TABLE</th>\n",
       "      <th>LEFT_COLUMN</th>\n",
       "      <th>RIGHT_TABLE</th>\n",
       "      <th>RIGHT_COLUMN</th>\n",
       "      <th>KEY</th>\n",
       "    </tr>\n",
       "  </thead>\n",
       "  <tbody>\n",
       "    <tr>\n",
       "      <th>0</th>\n",
       "      <td>road-ahead-current-road-closures.csv</td>\n",
       "      <td>COMP_DATE</td>\n",
       "      <td>road-ahead-upcoming-projects.csv</td>\n",
       "      <td>COMP_DATE</td>\n",
       "      <td>road-ahead-current-road-closures.csv#COMP_DATE...</td>\n",
       "    </tr>\n",
       "    <tr>\n",
       "      <th>1</th>\n",
       "      <td>eo_pr.csv</td>\n",
       "      <td>NTEE_CD</td>\n",
       "      <td>eo_xx.csv</td>\n",
       "      <td>NTEE_CD</td>\n",
       "      <td>eo_pr.csv#NTEE_CD#eo_xx.csv#NTEE_CD</td>\n",
       "    </tr>\n",
       "    <tr>\n",
       "      <th>2</th>\n",
       "      <td>eo4.csv</td>\n",
       "      <td>NAME</td>\n",
       "      <td>eo_pr.csv</td>\n",
       "      <td>NAME</td>\n",
       "      <td>eo4.csv#NAME#eo_pr.csv#NAME</td>\n",
       "    </tr>\n",
       "    <tr>\n",
       "      <th>3</th>\n",
       "      <td>eo4.csv</td>\n",
       "      <td>ICO</td>\n",
       "      <td>eo_pr.csv</td>\n",
       "      <td>ICO</td>\n",
       "      <td>eo4.csv#ICO#eo_pr.csv#ICO</td>\n",
       "    </tr>\n",
       "    <tr>\n",
       "      <th>4</th>\n",
       "      <td>eo4.csv</td>\n",
       "      <td>STREET</td>\n",
       "      <td>eo_pr.csv</td>\n",
       "      <td>STREET</td>\n",
       "      <td>eo4.csv#STREET#eo_pr.csv#STREET</td>\n",
       "    </tr>\n",
       "  </tbody>\n",
       "</table>\n",
       "</div>"
      ],
      "text/plain": [
       "                             LEFT_TABLE LEFT_COLUMN  \\\n",
       "0  road-ahead-current-road-closures.csv   COMP_DATE   \n",
       "1                             eo_pr.csv     NTEE_CD   \n",
       "2                               eo4.csv        NAME   \n",
       "3                               eo4.csv         ICO   \n",
       "4                               eo4.csv      STREET   \n",
       "\n",
       "                        RIGHT_TABLE RIGHT_COLUMN  \\\n",
       "0  road-ahead-upcoming-projects.csv    COMP_DATE   \n",
       "1                         eo_xx.csv      NTEE_CD   \n",
       "2                         eo_pr.csv         NAME   \n",
       "3                         eo_pr.csv          ICO   \n",
       "4                         eo_pr.csv       STREET   \n",
       "\n",
       "                                                 KEY  \n",
       "0  road-ahead-current-road-closures.csv#COMP_DATE...  \n",
       "1                eo_pr.csv#NTEE_CD#eo_xx.csv#NTEE_CD  \n",
       "2                        eo4.csv#NAME#eo_pr.csv#NAME  \n",
       "3                          eo4.csv#ICO#eo_pr.csv#ICO  \n",
       "4                    eo4.csv#STREET#eo_pr.csv#STREET  "
      ]
     },
     "execution_count": 9,
     "metadata": {},
     "output_type": "execute_result"
    }
   ],
   "source": [
    "groundTruth = pd.read_csv('joinable_columns_gt3_quality.csv')\n",
    "groundTruth = groundTruth[['ds_name', 'att_name', 'ds_name_2', 'att_name_2']]\n",
    "groundTruth = generate_key_for_evaluation(groundTruth)\n",
    "groundTruth.head()"
   ]
  },
  {
   "cell_type": "code",
   "execution_count": 10,
   "id": "ac9b6f8a-035e-4461-b798-c5ece5379523",
   "metadata": {},
   "outputs": [
    {
     "data": {
      "text/plain": [
       "(53, 5)"
      ]
     },
     "execution_count": 10,
     "metadata": {},
     "output_type": "execute_result"
    }
   ],
   "source": [
    "groundTruth.shape"
   ]
  },
  {
   "cell_type": "code",
   "execution_count": 12,
   "id": "ec741e95-6f69-47a2-a200-e36d21072417",
   "metadata": {},
   "outputs": [
    {
     "name": "stdout",
     "output_type": "stream",
     "text": [
      "0.25396825396825395 0.9056603773584906 0.396694214876033\n"
     ]
    }
   ],
   "source": [
    "tp = 0\n",
    "fp = 0\n",
    "fn = 0\n",
    "\n",
    "for i in range(len(cta_matches)):\n",
    "    if(cta_matches.iloc[i,4] in groundTruth.iloc[:,4].values):\n",
    "        tp += 1\n",
    "    else:\n",
    "        fp += 1\n",
    "    \n",
    "for i in range(len(groundTruth)):\n",
    "    if(groundTruth.iloc[i,4] not in cta_matches.iloc[:,4].values):\n",
    "        fn += 1\n",
    "    \n",
    "precision = (tp)/(tp+fp)\n",
    "recall = (tp)/(tp+fn)\n",
    "f1_score = 2 * (precision*recall)/(precision+recall)\n",
    "\n",
    "print(precision, recall, f1_score)"
   ]
  },
  {
   "cell_type": "code",
   "execution_count": 14,
   "id": "49f9ec61-18bf-428f-8fb2-4bf228f398f9",
   "metadata": {},
   "outputs": [
    {
     "data": {
      "text/plain": [
       "(48, 141, 5)"
      ]
     },
     "execution_count": 14,
     "metadata": {},
     "output_type": "execute_result"
    }
   ],
   "source": [
    "tp, fp, fn"
   ]
  },
  {
   "cell_type": "markdown",
   "id": "3be60f25-6981-45d3-a9db-7c557f61d223",
   "metadata": {},
   "source": [
    "# Falso Positivo"
   ]
  },
  {
   "cell_type": "code",
   "execution_count": 15,
   "id": "cdca4ce5-0e1f-4067-bdeb-7b5a1c4f8f09",
   "metadata": {},
   "outputs": [
    {
     "name": "stdout",
     "output_type": "stream",
     "text": [
      "eo_pr.csv#EIN#eo_xx.csv#EIN\n",
      "eo4.csv#EIN#eo_xx.csv#EIN\n",
      "eo_xx.csv#NAME#schools.csv#SCHOOL_NAME\n",
      "eo_pr.csv#NAME#eo_xx.csv#NAME\n",
      "eo_xx.csv#NAME#rental-standards-current-issues.csv#BUSINESSOPERATOR\n",
      "community-gardens-and-food-trees.csv#STEWARD_OR_MANAGING_ORGANIZATION#eo_xx.csv#NAME\n",
      "eo_pr.csv#ICO#eo_xx.csv#ICO\n",
      "SCS_Staff_Salaries_data_30th_June 2010.csv#Name#eo_xx.csv#ICO\n",
      "eo_xx.csv#STREET#schools.csv#ADDRESS\n",
      "eo_pr.csv#STREET#eo_xx.csv#STREET\n",
      "eo_xx.csv#STREET#rental-standards-current-issues.csv#Street\n",
      "eo_xx.csv#STREET#libraries.csv#ADDRESS\n",
      "eo_xx.csv#STREET#road-ahead-projects-under-construction.csv#STREET\n",
      "eo_pr.csv#STATE#eo_xx.csv#STATE\n",
      "eo_xx.csv#STATE#statewise-census-data-in-india-1901-2011.csv#LOCATION_NAME\n",
      "eo_pr.csv#ZIP#eo_xx.csv#ZIP\n",
      "eo4.csv#GROUP#eo_xx.csv#GROUP\n",
      "eo4.csv#ORGANIZATION#eo_xx.csv#GROUP\n",
      "eo_pr.csv#SUBSECTION#eo_xx.csv#SUBSECTION\n",
      "eo_pr.csv#STATUS#eo_xx.csv#SUBSECTION\n",
      "eo4.csv#SUBSECTION#eo_xx.csv#SUBSECTION\n",
      "eo_pr.csv#SUBSECTION#eo_xx.csv#CLASSIFICATION\n",
      "eo_pr.csv#STATUS#eo_xx.csv#CLASSIFICATION\n",
      "eo_pr.csv#RULING#eo_xx.csv#RULING\n",
      "eo4.csv#RULING#eo_xx.csv#RULING\n",
      "eo4.csv#FOUNDATION#eo_xx.csv#FOUNDATION\n",
      "eo4.csv#ORGANIZATION#eo_xx.csv#FOUNDATION\n",
      "eo_pr.csv#ACTIVITY#eo_xx.csv#ACTIVITY\n",
      "eo4.csv#CLASSIFICATION#eo_xx.csv#ACTIVITY\n",
      "eo4.csv#ACTIVITY#eo_xx.csv#ACTIVITY\n",
      "eo4.csv#STATUS#eo_xx.csv#STATUS\n",
      "eo_pr.csv#TAX_PERIOD#eo_xx.csv#TAX_PERIOD\n",
      "eo4.csv#TAX_PERIOD#eo_xx.csv#TAX_PERIOD\n",
      "eo4.csv#ASSET_CD#eo_xx.csv#ASSET_CD\n",
      "eo_pr.csv#INCOME_CD#eo_xx.csv#INCOME_CD\n",
      "eo4.csv#INCOME_CD#eo_xx.csv#INCOME_CD\n",
      "eo4.csv#FILING_REQ_CD#eo_xx.csv#FILING_REQ_CD\n",
      "eo_pr.csv#FILING_REQ_CD#eo_xx.csv#PF_FILING_REQ_CD\n",
      "eo_pr.csv#PF_FILING_REQ_CD#eo_xx.csv#PF_FILING_REQ_CD\n",
      "eo4.csv#PF_FILING_REQ_CD#eo_xx.csv#PF_FILING_REQ_CD\n",
      "eo_pr.csv#INCOME_AMT#eo_xx.csv#INCOME_AMT\n",
      "eo_pr.csv#REVENUE_AMT#eo_xx.csv#INCOME_AMT\n",
      "eo4.csv#REVENUE_AMT#eo_xx.csv#INCOME_AMT\n",
      "eo_pr.csv#INCOME_AMT#eo_xx.csv#REVENUE_AMT\n",
      "eo_pr.csv#REVENUE_AMT#eo_xx.csv#REVENUE_AMT\n",
      "eo_pr.csv#CLASSIFICATION#eo_xx.csv#NTEE_CD\n",
      "eo_pr.csv#ACTIVITY#eo_xx.csv#NTEE_CD\n",
      "eo_pr.csv#STREET#schools.csv#ADDRESS\n",
      "rental-standards-current-issues.csv#Street#schools.csv#ADDRESS\n",
      "schools.csv#Geom#street-intersections.csv#Geom\n",
      "rental-standards-current-issues.csv#Geom#schools.csv#Geom\n",
      "cultural-spaces.csv#Geom#schools.csv#Geom\n",
      "eo4.csv#EIN#eo_pr.csv#EIN\n",
      "eo_pr.csv#NAME#rental-standards-current-issues.csv#BUSINESSOPERATOR\n",
      "community-gardens-and-food-trees.csv#STEWARD_OR_MANAGING_ORGANIZATION#eo_pr.csv#NAME\n",
      "cultural-spaces.csv#ADDRESS#eo_pr.csv#STREET\n",
      "eo_pr.csv#STREET#libraries.csv#ADDRESS\n",
      "community-centres.csv#ADDRESS#eo_pr.csv#STREET\n",
      "eo4.csv#STATE#eo_pr.csv#STATE\n",
      "eo4.csv#SUBSECTION#eo_pr.csv#SUBSECTION\n",
      "eo4.csv#ICO#eo_pr.csv#AFFILIATION\n",
      "eo4.csv#AFFILIATION#eo_pr.csv#AFFILIATION\n",
      "eo4.csv#ORGANIZATION#eo_pr.csv#CLASSIFICATION\n",
      "eo4.csv#RULING#eo_pr.csv#RULING\n",
      "eo4.csv#DEDUCTIBILITY#eo_pr.csv#DEDUCTIBILITY\n",
      "cultural-spaces.csv#PRIMARY_USE#eo_pr.csv#ACTIVITY\n",
      "eo4.csv#GROUP#eo_pr.csv#ACTIVITY\n",
      "eo4.csv#CLASSIFICATION#eo_pr.csv#ACTIVITY\n",
      "eo4.csv#FOUNDATION#eo_pr.csv#ACTIVITY\n",
      "eo4.csv#ACTIVITY#eo_pr.csv#ACTIVITY\n",
      "eo4.csv#ORGANIZATION#eo_pr.csv#ACTIVITY\n",
      "eo4.csv#NTEE_CD#eo_pr.csv#ACTIVITY\n",
      "eo4.csv#TAX_PERIOD#eo_pr.csv#TAX_PERIOD\n",
      "eo4.csv#INCOME_CD#eo_pr.csv#INCOME_CD\n",
      "eo4.csv#PF_FILING_REQ_CD#eo_pr.csv#FILING_REQ_CD\n",
      "eo4.csv#PF_FILING_REQ_CD#eo_pr.csv#PF_FILING_REQ_CD\n",
      "eo4.csv#ACCT_PD#eo_pr.csv#ACCT_PD\n",
      "eo4.csv#ASSET_AMT#eo_pr.csv#ASSET_AMT\n",
      "eo4.csv#CLASSIFICATION#eo_pr.csv#NTEE_CD\n",
      "road-ahead-current-road-closures.csv#PROJECT#road-ahead-upcoming-projects.csv#PROJECT\n",
      "road-ahead-current-road-closures.csv#LOCATION#road-ahead-projects-under-construction.csv#PROJECT\n",
      "road-ahead-current-road-closures.csv#LOCATION#road-ahead-projects-under-construction.csv#LOCATION\n",
      "road-ahead-current-road-closures.csv#LOCATION#road-ahead-upcoming-projects.csv#LOCATION\n",
      "road-ahead-current-road-closures.csv#COMP_DATE#road-ahead-projects-under-construction.csv#COMP_DATE\n",
      "road-ahead-current-road-closures.csv#URL_LINK#road-ahead-upcoming-projects.csv#URL_LINK\n",
      "road-ahead-current-road-closures.csv#Geom#road-ahead-projects-under-construction.csv#Geom\n",
      "road-ahead-current-road-closures.csv#Geom#road-ahead-upcoming-projects.csv#Geom\n",
      "property-tie-lines.csv#Geom#road-ahead-current-road-closures.csv#Geom\n",
      "gvrd-sewer-trunk-mains.csv#Geom#property-tie-lines.csv#Geom\n",
      "cultural-spaces.csv#ADDRESS#rental-standards-current-issues.csv#StreetNumber\n",
      "community-centres.csv#ADDRESS#rental-standards-current-issues.csv#StreetNumber\n",
      "community-gardens-and-food-trees.csv#STREET_NUMBER#rental-standards-current-issues.csv#StreetNumber\n",
      "community-gardens-and-food-trees.csv#MERGED_ADDRESS#rental-standards-current-issues.csv#StreetNumber\n",
      "cultural-spaces.csv#ADDRESS#rental-standards-current-issues.csv#Street\n",
      "eo4.csv#STREET#rental-standards-current-issues.csv#Street\n",
      "community-centres.csv#ADDRESS#rental-standards-current-issues.csv#Street\n",
      "community-gardens-and-food-trees.csv#STREET_NAME#rental-standards-current-issues.csv#Street\n",
      "community-gardens-and-food-trees.csv#STREET_TYPE#rental-standards-current-issues.csv#Street\n",
      "community-gardens-and-food-trees.csv#MERGED_ADDRESS#rental-standards-current-issues.csv#Street\n",
      "public-art.csv#Geom#rental-standards-current-issues.csv#Geom\n",
      "cultural-spaces.csv#Geom#rental-standards-current-issues.csv#Geom\n",
      "libraries.csv#Geom#rental-standards-current-issues.csv#Geom\n",
      "community-centres.csv#Geom#rental-standards-current-issues.csv#Geom\n",
      "property-tie-lines.csv#Geom#rental-standards-current-issues.csv#Geom\n",
      "community-gardens-and-food-trees.csv#Geom#rental-standards-current-issues.csv#Geom\n",
      "glassdoor_wwfu_val_captions.csv#id#public-art.csv#RegistryID\n",
      "community-gardens-and-food-trees.csv#NAME#public-art.csv#SiteName\n",
      "cultural-spaces.csv#Geom#public-art.csv#Geom\n",
      "libraries.csv#Geom#public-art.csv#Geom\n",
      "community-centres.csv#Geom#public-art.csv#Geom\n",
      "community-gardens-and-food-trees.csv#Geom#public-art.csv#Geom\n",
      "currency_exchange.csv#Country#public-art-artists.csv#Country\n",
      "population-census-of-botswana-2011.csv#DATE#statewise-census-data-in-india-1901-2011.csv#DATE\n",
      "population-by-governorate-citizenship-and-gender.csv#Year#statewise-census-data-in-india-1901-2011.csv#DATE\n",
      "eo4.csv#STATE#statewise-census-data-in-india-1901-2011.csv#LOCATION_NAME\n",
      "cultural-spaces.csv#YEAR#population-by-governorate-citizenship-and-gender.csv#Year\n",
      "community-centres.csv#ADDRESS#cultural-spaces.csv#ADDRESS\n",
      "cultural-spaces.csv#Geom#libraries.csv#Geom\n",
      "community-centres.csv#Geom#cultural-spaces.csv#Geom\n",
      "community-gardens-and-food-trees.csv#Geom#cultural-spaces.csv#Geom\n",
      "community-centres.csv#Geom#libraries.csv#Geom\n",
      "population-by-governorate-citizenship-and-gender.csv#Year#population-census-of-botswana-2011.csv#DATE\n",
      "eo4.csv#STATE#population-census-of-botswana-2011.csv#REGION_NAME\n",
      "eo4.csv#SORT_NAME#population-census-of-botswana-2011.csv#REGION_REGIONID\n",
      "population-by-governorate-citizenship-and-gender.csv#Gender#population-census-of-botswana-2011.csv#SEX_ID\n",
      "population-by-governorate-citizenship-and-gender.csv#Gender#population-census-of-botswana-2011.csv#SEX_NAME\n",
      "population-by-governorate-citizenship-and-gender.csv#Population#population-census-of-botswana-2011.csv#VALUE\n",
      "community-gardens-and-food-trees.csv#STEWARD_OR_MANAGING_ORGANIZATION#eo4.csv#NAME\n",
      "community-centres.csv#ADDRESS#eo4.csv#STREET\n",
      "eo4.csv#STATE#population-by-governorate-citizenship-and-gender.csv#Governorate\n",
      "community-centres.csv#ADDRESS#community-gardens-and-food-trees.csv#MERGED_ADDRESS\n",
      "community-centres.csv#Geom#community-gardens-and-food-trees.csv#Geom\n",
      "road-ahead-projects-under-construction.csv#Geom#road-ahead-upcoming-projects.csv#Geom\n",
      "property-tie-lines.csv#Geom#road-ahead-projects-under-construction.csv#Geom\n",
      "road-ahead-projects-under-construction.csv#PROJECT#road-ahead-upcoming-projects.csv#LOCATION\n",
      "road-ahead-projects-under-construction.csv#STREET#road-ahead-upcoming-projects.csv#STREET\n",
      "road-ahead-projects-under-construction.csv#LOCATION#road-ahead-upcoming-projects.csv#LOCATION\n",
      "road-ahead-projects-under-construction.csv#COMP_DATE#road-ahead-upcoming-projects.csv#COMP_DATE\n",
      "road-ahead-projects-under-construction.csv#URL_LINK#road-ahead-upcoming-projects.csv#URL_LINK\n",
      "property-tie-lines.csv#Geom#road-ahead-upcoming-projects.csv#Geom\n",
      "SCS_Staff_Salaries_data_30th_June 2010.csv#Parent Department#community-gardens-and-food-trees.csv#STEWARD_OR_MANAGING_ORGANIZATION\n"
     ]
    }
   ],
   "source": [
    "for i in range(len(cta_matches)):\n",
    "    if(cta_matches.iloc[i,4] not in groundTruth.iloc[:,4].values):\n",
    "        print(cta_matches.iloc[i,4])"
   ]
  },
  {
   "cell_type": "markdown",
   "id": "cb404e59-416d-4448-b131-9a314d4d94b8",
   "metadata": {},
   "source": [
    "# Falso Negativo"
   ]
  },
  {
   "cell_type": "code",
   "execution_count": 13,
   "id": "5ad9ed54-d0c6-4b4a-a370-f40259b90430",
   "metadata": {},
   "outputs": [
    {
     "name": "stdout",
     "output_type": "stream",
     "text": [
      "eo4.csv#ICO#eo_pr.csv#ICO\n",
      "eo4.csv#CITY#eo_pr.csv#CITY\n",
      "eo4.csv#SORT_NAME#eo_pr.csv#SORT_NAME\n",
      "eo4.csv#ICO#eo_xx.csv#ICO\n",
      "eo4.csv#SORT_NAME#eo_xx.csv#SORT_NAME\n"
     ]
    }
   ],
   "source": [
    "for i in range(len(groundTruth)):\n",
    "    if(groundTruth.iloc[i,4] not in cta_matches.iloc[:,4].values):\n",
    "        print(groundTruth.iloc[i,4])"
   ]
  }
 ],
 "metadata": {
  "kernelspec": {
   "display_name": "Python 3 (ipykernel)",
   "language": "python",
   "name": "python3"
  },
  "language_info": {
   "codemirror_mode": {
    "name": "ipython",
    "version": 3
   },
   "file_extension": ".py",
   "mimetype": "text/x-python",
   "name": "python",
   "nbconvert_exporter": "python",
   "pygments_lexer": "ipython3",
   "version": "3.10.12"
  }
 },
 "nbformat": 4,
 "nbformat_minor": 5
}
