{
 "cells": [
  {
   "cell_type": "code",
   "execution_count": 1,
   "id": "be8f1bf1-2516-4e74-9be5-b1009f4defaa",
   "metadata": {},
   "outputs": [],
   "source": [
    "import pandas as pd\n",
    "import numpy as np\n",
    "import json\n",
    "import os\n",
    "import glob\n",
    "\n",
    "import pickle\n",
    "from pydantic import BaseModel\n",
    "from openai import OpenAI\n",
    "\n",
    "from tenacity import (\n",
    "                        retry,\n",
    "                        stop_after_attempt,\n",
    "                        wait_random_exponential\n",
    ")\n",
    "\n",
    "from tqdm import tqdm"
   ]
  },
  {
   "cell_type": "code",
   "execution_count": 2,
   "id": "85bf37e0-5c13-4d06-b929-62cf21229f89",
   "metadata": {},
   "outputs": [],
   "source": [
    "pd.set_option('display.max_rows', None)"
   ]
  },
  {
   "cell_type": "code",
   "execution_count": 3,
   "id": "04ac04d5-299e-4b77-94b5-6396932c3402",
   "metadata": {},
   "outputs": [
    {
     "name": "stdout",
     "output_type": "stream",
     "text": [
      "/home/manoelflorencio/cta_for_jd/testbedXS\n"
     ]
    }
   ],
   "source": [
    "path = '/home/manoelflorencio/cta_for_jd/testbedXS'\n",
    "os.chdir(path)\n",
    "print(os.getcwd())"
   ]
  },
  {
   "cell_type": "code",
   "execution_count": 4,
   "id": "0ce09cfa-164e-4e79-8cfb-7b71d05bc15b",
   "metadata": {},
   "outputs": [],
   "source": [
    "class join_schema(BaseModel):\n",
    "    table_name: str\n",
    "    column_name: str"
   ]
  },
  {
   "cell_type": "code",
   "execution_count": 5,
   "id": "2eac673b-77e9-422e-93bd-5dcad13ce012",
   "metadata": {},
   "outputs": [],
   "source": [
    "def generate_prompt_predict_possible_joins(target_description, candidate_description):\n",
    "\n",
    "    system_msg = f\"\"\"\n",
    "            Given one target column description and one candidate column description, predict if they could be joined, Answer with only 'Yes' or 'No'.\n",
    "\n",
    "            Task: Look carefully at the target column description and the candidate column description and use this information to identify patterns and \n",
    "            relationships between the descriptions, the result must be Yes or No depending if the pair is JOINable.\n",
    "            \n",
    "            Additional info: A JOIN in relational databases is an operation that retrieves related rows from two tables by linking them based on related \n",
    "            columns between them.\n",
    "            \n",
    "            Instructions: \n",
    "                1. Look at the target description given to you. \n",
    "                2. Look at the candidate description in detail. \n",
    "                3. Predict if the target column description belongs to a column that may be used in join. \n",
    "                4. Predict if the target column description and the candidate column description are JOINable. Disregard the column names.\n",
    "                \n",
    "            Example 1:\n",
    "                Target description: this column represents a worker's id.\n",
    "                Candidate description: 'the column worker_id represents the worker's id'.\n",
    "                Answer: Yes\n",
    "            \"\"\"\n",
    "    \n",
    "    user_msg = f\"\"\"Target description:     {target_description}\n",
    "                   Candidate description:  {candidate_description}\n",
    "                   Answer: \"\"\".strip()\n",
    "    \n",
    "    return system_msg, user_msg"
   ]
  },
  {
   "cell_type": "code",
   "execution_count": 6,
   "id": "3c6b2bf6-b8c4-4d01-8405-a162e2ed3db7",
   "metadata": {},
   "outputs": [],
   "source": [
    "def generate_predictions(target_description, candidate_description, client):\n",
    "    \n",
    "    system_msg_predict_joins, user_msg_predict_joins = generate_prompt_predict_possible_joins(target_description, candidate_description)\n",
    "    result = execute_prompt(client, system_msg_predict_joins, user_msg_predict_joins)\n",
    "    answer = result.choices[0].message.content.split('Answer: ')[-1].strip()\n",
    "    \n",
    "    return answer"
   ]
  },
  {
   "cell_type": "code",
   "execution_count": 7,
   "id": "e5df99c0-c2bc-4f67-9465-b6fb9c23b600",
   "metadata": {},
   "outputs": [],
   "source": [
    "@retry(wait=wait_random_exponential(min=1,max=60), stop=stop_after_attempt(6))\n",
    "def execute_prompt(client, system_msg, user_msg):\n",
    "    completion = client.chat.completions.create(\n",
    "                                            model=\"gpt-4o\",\n",
    "                                            messages=[\n",
    "                                                        {\n",
    "                                                            \"role\": \"system\", \n",
    "                                                             \"content\": f\"{system_msg}\"\n",
    "                                                        },\n",
    "                                                        {\n",
    "                                                            \"role\": \"user\",\n",
    "                                                            \"content\": f\"{user_msg}\"\n",
    "                                                        }\n",
    "                                                    ]\n",
    "                                            )\n",
    "    return completion"
   ]
  },
  {
   "cell_type": "code",
   "execution_count": 8,
   "id": "a66b71ed-78b6-443f-91ee-96efd2bd5d8d",
   "metadata": {},
   "outputs": [],
   "source": [
    "client = OpenAI()"
   ]
  },
  {
   "cell_type": "code",
   "execution_count": 9,
   "id": "850dace4-0ea7-4d9c-aa92-f1b8d8fbf919",
   "metadata": {},
   "outputs": [
    {
     "data": {
      "text/html": [
       "<div>\n",
       "<style scoped>\n",
       "    .dataframe tbody tr th:only-of-type {\n",
       "        vertical-align: middle;\n",
       "    }\n",
       "\n",
       "    .dataframe tbody tr th {\n",
       "        vertical-align: top;\n",
       "    }\n",
       "\n",
       "    .dataframe thead th {\n",
       "        text-align: right;\n",
       "    }\n",
       "</style>\n",
       "<table border=\"1\" class=\"dataframe\">\n",
       "  <thead>\n",
       "    <tr style=\"text-align: right;\">\n",
       "      <th></th>\n",
       "      <th>LEFT_TABLE</th>\n",
       "      <th>LEFT_COLUMN</th>\n",
       "      <th>LEFT_DESCRIPTION</th>\n",
       "      <th>RIGHT_TABLE</th>\n",
       "      <th>RIGHT_COLUMN</th>\n",
       "      <th>RIGHT_DESCRIPTION</th>\n",
       "    </tr>\n",
       "  </thead>\n",
       "  <tbody>\n",
       "    <tr>\n",
       "      <th>0</th>\n",
       "      <td>datasets_579296_1047868_authors</td>\n",
       "      <td>Author_ID</td>\n",
       "      <td>The Employer Identification Number (EIN) is a ...</td>\n",
       "      <td>eo_xx</td>\n",
       "      <td>EIN</td>\n",
       "      <td>This column contains a unique identifier for e...</td>\n",
       "    </tr>\n",
       "    <tr>\n",
       "      <th>1</th>\n",
       "      <td>datasets_517172_952401_train</td>\n",
       "      <td>id_code</td>\n",
       "      <td>The Employer Identification Number (EIN) is a ...</td>\n",
       "      <td>eo_xx</td>\n",
       "      <td>EIN</td>\n",
       "      <td>The 'id_code' column contains unique identifie...</td>\n",
       "    </tr>\n",
       "    <tr>\n",
       "      <th>2</th>\n",
       "      <td>eo_pr</td>\n",
       "      <td>EIN</td>\n",
       "      <td>The Employer Identification Number (EIN) is a ...</td>\n",
       "      <td>eo_xx</td>\n",
       "      <td>EIN</td>\n",
       "      <td>The Employer Identification Number (EIN) uniqu...</td>\n",
       "    </tr>\n",
       "    <tr>\n",
       "      <th>3</th>\n",
       "      <td>eo_pr</td>\n",
       "      <td>GROUP</td>\n",
       "      <td>The Employer Identification Number (EIN) is a ...</td>\n",
       "      <td>eo_xx</td>\n",
       "      <td>EIN</td>\n",
       "      <td>Group exemption number, which indicates if the...</td>\n",
       "    </tr>\n",
       "    <tr>\n",
       "      <th>4</th>\n",
       "      <td>eo_pr</td>\n",
       "      <td>SUBSECTION</td>\n",
       "      <td>The Employer Identification Number (EIN) is a ...</td>\n",
       "      <td>eo_xx</td>\n",
       "      <td>EIN</td>\n",
       "      <td>Numerical code indicating the subsection of th...</td>\n",
       "    </tr>\n",
       "  </tbody>\n",
       "</table>\n",
       "</div>"
      ],
      "text/plain": [
       "                        LEFT_TABLE LEFT_COLUMN  \\\n",
       "0  datasets_579296_1047868_authors   Author_ID   \n",
       "1     datasets_517172_952401_train     id_code   \n",
       "2                            eo_pr         EIN   \n",
       "3                            eo_pr       GROUP   \n",
       "4                            eo_pr  SUBSECTION   \n",
       "\n",
       "                                    LEFT_DESCRIPTION RIGHT_TABLE RIGHT_COLUMN  \\\n",
       "0  The Employer Identification Number (EIN) is a ...       eo_xx          EIN   \n",
       "1  The Employer Identification Number (EIN) is a ...       eo_xx          EIN   \n",
       "2  The Employer Identification Number (EIN) is a ...       eo_xx          EIN   \n",
       "3  The Employer Identification Number (EIN) is a ...       eo_xx          EIN   \n",
       "4  The Employer Identification Number (EIN) is a ...       eo_xx          EIN   \n",
       "\n",
       "                                   RIGHT_DESCRIPTION  \n",
       "0  This column contains a unique identifier for e...  \n",
       "1  The 'id_code' column contains unique identifie...  \n",
       "2  The Employer Identification Number (EIN) uniqu...  \n",
       "3  Group exemption number, which indicates if the...  \n",
       "4  Numerical code indicating the subsection of th...  "
      ]
     },
     "execution_count": 9,
     "metadata": {},
     "output_type": "execute_result"
    }
   ],
   "source": [
    "cta_matches = pd.read_csv('Description_test/CTA_from_descriptions/junio_description_cta_matches.csv')\n",
    "cta_matches.head()"
   ]
  },
  {
   "cell_type": "code",
   "execution_count": 10,
   "id": "23d52075-be21-4448-93c7-7011c2e01d4b",
   "metadata": {},
   "outputs": [
    {
     "data": {
      "text/plain": [
       "(2841, 6)"
      ]
     },
     "execution_count": 10,
     "metadata": {},
     "output_type": "execute_result"
    }
   ],
   "source": [
    "cta_matches.shape"
   ]
  },
  {
   "cell_type": "code",
   "execution_count": 11,
   "id": "578060c7-7756-425b-834e-5ca2069695bc",
   "metadata": {},
   "outputs": [
    {
     "name": "stderr",
     "output_type": "stream",
     "text": [
      "100%|████████████████████████████████████████████████████████████████████████████████████████████████████████████████████████████████████████████████████████████████████████████████████████████████████| 2841/2841 [27:22<00:00,  1.73it/s]\n"
     ]
    }
   ],
   "source": [
    "answers = []\n",
    "\n",
    "for i in tqdm(range(len(cta_matches))):\n",
    "    target_description = cta_matches.iloc[i,2]\n",
    "    candidate_description = cta_matches.iloc[i,5]\n",
    "    answer = generate_predictions(target_description, candidate_description, client)\n",
    "    answers.append(answer)"
   ]
  },
  {
   "cell_type": "code",
   "execution_count": 12,
   "id": "f528c5ec-ecad-4569-9875-ddd00384e99c",
   "metadata": {},
   "outputs": [],
   "source": [
    "cta_matches['JOINABLE'] = answers"
   ]
  },
  {
   "cell_type": "code",
   "execution_count": 13,
   "id": "04bb6fda-f3d9-485c-ba67-11a0b67db387",
   "metadata": {},
   "outputs": [
    {
     "data": {
      "text/html": [
       "<div>\n",
       "<style scoped>\n",
       "    .dataframe tbody tr th:only-of-type {\n",
       "        vertical-align: middle;\n",
       "    }\n",
       "\n",
       "    .dataframe tbody tr th {\n",
       "        vertical-align: top;\n",
       "    }\n",
       "\n",
       "    .dataframe thead th {\n",
       "        text-align: right;\n",
       "    }\n",
       "</style>\n",
       "<table border=\"1\" class=\"dataframe\">\n",
       "  <thead>\n",
       "    <tr style=\"text-align: right;\">\n",
       "      <th></th>\n",
       "      <th>LEFT_TABLE</th>\n",
       "      <th>LEFT_COLUMN</th>\n",
       "      <th>LEFT_DESCRIPTION</th>\n",
       "      <th>RIGHT_TABLE</th>\n",
       "      <th>RIGHT_COLUMN</th>\n",
       "      <th>RIGHT_DESCRIPTION</th>\n",
       "      <th>JOINABLE</th>\n",
       "    </tr>\n",
       "  </thead>\n",
       "  <tbody>\n",
       "    <tr>\n",
       "      <th>0</th>\n",
       "      <td>datasets_579296_1047868_authors</td>\n",
       "      <td>Author_ID</td>\n",
       "      <td>The Employer Identification Number (EIN) is a ...</td>\n",
       "      <td>eo_xx</td>\n",
       "      <td>EIN</td>\n",
       "      <td>This column contains a unique identifier for e...</td>\n",
       "      <td>No</td>\n",
       "    </tr>\n",
       "    <tr>\n",
       "      <th>1</th>\n",
       "      <td>datasets_517172_952401_train</td>\n",
       "      <td>id_code</td>\n",
       "      <td>The Employer Identification Number (EIN) is a ...</td>\n",
       "      <td>eo_xx</td>\n",
       "      <td>EIN</td>\n",
       "      <td>The 'id_code' column contains unique identifie...</td>\n",
       "      <td>No</td>\n",
       "    </tr>\n",
       "    <tr>\n",
       "      <th>2</th>\n",
       "      <td>eo_pr</td>\n",
       "      <td>EIN</td>\n",
       "      <td>The Employer Identification Number (EIN) is a ...</td>\n",
       "      <td>eo_xx</td>\n",
       "      <td>EIN</td>\n",
       "      <td>The Employer Identification Number (EIN) uniqu...</td>\n",
       "      <td>Yes</td>\n",
       "    </tr>\n",
       "    <tr>\n",
       "      <th>3</th>\n",
       "      <td>eo_pr</td>\n",
       "      <td>GROUP</td>\n",
       "      <td>The Employer Identification Number (EIN) is a ...</td>\n",
       "      <td>eo_xx</td>\n",
       "      <td>EIN</td>\n",
       "      <td>Group exemption number, which indicates if the...</td>\n",
       "      <td>No</td>\n",
       "    </tr>\n",
       "    <tr>\n",
       "      <th>4</th>\n",
       "      <td>eo_pr</td>\n",
       "      <td>SUBSECTION</td>\n",
       "      <td>The Employer Identification Number (EIN) is a ...</td>\n",
       "      <td>eo_xx</td>\n",
       "      <td>EIN</td>\n",
       "      <td>Numerical code indicating the subsection of th...</td>\n",
       "      <td>No</td>\n",
       "    </tr>\n",
       "  </tbody>\n",
       "</table>\n",
       "</div>"
      ],
      "text/plain": [
       "                        LEFT_TABLE LEFT_COLUMN  \\\n",
       "0  datasets_579296_1047868_authors   Author_ID   \n",
       "1     datasets_517172_952401_train     id_code   \n",
       "2                            eo_pr         EIN   \n",
       "3                            eo_pr       GROUP   \n",
       "4                            eo_pr  SUBSECTION   \n",
       "\n",
       "                                    LEFT_DESCRIPTION RIGHT_TABLE RIGHT_COLUMN  \\\n",
       "0  The Employer Identification Number (EIN) is a ...       eo_xx          EIN   \n",
       "1  The Employer Identification Number (EIN) is a ...       eo_xx          EIN   \n",
       "2  The Employer Identification Number (EIN) is a ...       eo_xx          EIN   \n",
       "3  The Employer Identification Number (EIN) is a ...       eo_xx          EIN   \n",
       "4  The Employer Identification Number (EIN) is a ...       eo_xx          EIN   \n",
       "\n",
       "                                   RIGHT_DESCRIPTION JOINABLE  \n",
       "0  This column contains a unique identifier for e...       No  \n",
       "1  The 'id_code' column contains unique identifie...       No  \n",
       "2  The Employer Identification Number (EIN) uniqu...      Yes  \n",
       "3  Group exemption number, which indicates if the...       No  \n",
       "4  Numerical code indicating the subsection of th...       No  "
      ]
     },
     "execution_count": 13,
     "metadata": {},
     "output_type": "execute_result"
    }
   ],
   "source": [
    "cta_matches.head()"
   ]
  },
  {
   "cell_type": "code",
   "execution_count": 14,
   "id": "9862bfe8-637d-42ca-9dda-b00f7b0d2832",
   "metadata": {},
   "outputs": [
    {
     "data": {
      "text/html": [
       "<div>\n",
       "<style scoped>\n",
       "    .dataframe tbody tr th:only-of-type {\n",
       "        vertical-align: middle;\n",
       "    }\n",
       "\n",
       "    .dataframe tbody tr th {\n",
       "        vertical-align: top;\n",
       "    }\n",
       "\n",
       "    .dataframe thead th {\n",
       "        text-align: right;\n",
       "    }\n",
       "</style>\n",
       "<table border=\"1\" class=\"dataframe\">\n",
       "  <thead>\n",
       "    <tr style=\"text-align: right;\">\n",
       "      <th></th>\n",
       "      <th>LEFT_TABLE</th>\n",
       "      <th>LEFT_COLUMN</th>\n",
       "      <th>LEFT_DESCRIPTION</th>\n",
       "      <th>RIGHT_TABLE</th>\n",
       "      <th>RIGHT_COLUMN</th>\n",
       "      <th>RIGHT_DESCRIPTION</th>\n",
       "      <th>JOINABLE</th>\n",
       "    </tr>\n",
       "  </thead>\n",
       "  <tbody>\n",
       "    <tr>\n",
       "      <th>2</th>\n",
       "      <td>eo_pr</td>\n",
       "      <td>EIN</td>\n",
       "      <td>The Employer Identification Number (EIN) is a ...</td>\n",
       "      <td>eo_xx</td>\n",
       "      <td>EIN</td>\n",
       "      <td>The Employer Identification Number (EIN) uniqu...</td>\n",
       "      <td>Yes</td>\n",
       "    </tr>\n",
       "    <tr>\n",
       "      <th>24</th>\n",
       "      <td>eo4</td>\n",
       "      <td>EIN</td>\n",
       "      <td>The Employer Identification Number (EIN) is a ...</td>\n",
       "      <td>eo_xx</td>\n",
       "      <td>EIN</td>\n",
       "      <td>This column contains the Employer Identificati...</td>\n",
       "      <td>Yes</td>\n",
       "    </tr>\n",
       "    <tr>\n",
       "      <th>34</th>\n",
       "      <td>eo_xx</td>\n",
       "      <td>NAME</td>\n",
       "      <td>The SCHOOL_NAME column lists the official name...</td>\n",
       "      <td>schools</td>\n",
       "      <td>SCHOOL_NAME</td>\n",
       "      <td>The NAME column contains the official name of ...</td>\n",
       "      <td>Yes</td>\n",
       "    </tr>\n",
       "    <tr>\n",
       "      <th>35</th>\n",
       "      <td>eo_pr</td>\n",
       "      <td>NAME</td>\n",
       "      <td>The NAME column contains the official name of ...</td>\n",
       "      <td>eo_xx</td>\n",
       "      <td>NAME</td>\n",
       "      <td>The official name of the organization or busin...</td>\n",
       "      <td>Yes</td>\n",
       "    </tr>\n",
       "    <tr>\n",
       "      <th>36</th>\n",
       "      <td>eo_xx</td>\n",
       "      <td>NAME</td>\n",
       "      <td>The name of the person or company responsible ...</td>\n",
       "      <td>rental-standards-current-issues</td>\n",
       "      <td>BUSINESSOPERATOR</td>\n",
       "      <td>The NAME column contains the official name of ...</td>\n",
       "      <td>Yes</td>\n",
       "    </tr>\n",
       "  </tbody>\n",
       "</table>\n",
       "</div>"
      ],
      "text/plain": [
       "   LEFT_TABLE LEFT_COLUMN                                   LEFT_DESCRIPTION  \\\n",
       "2       eo_pr         EIN  The Employer Identification Number (EIN) is a ...   \n",
       "24        eo4         EIN  The Employer Identification Number (EIN) is a ...   \n",
       "34      eo_xx        NAME  The SCHOOL_NAME column lists the official name...   \n",
       "35      eo_pr        NAME  The NAME column contains the official name of ...   \n",
       "36      eo_xx        NAME  The name of the person or company responsible ...   \n",
       "\n",
       "                        RIGHT_TABLE      RIGHT_COLUMN  \\\n",
       "2                             eo_xx               EIN   \n",
       "24                            eo_xx               EIN   \n",
       "34                          schools       SCHOOL_NAME   \n",
       "35                            eo_xx              NAME   \n",
       "36  rental-standards-current-issues  BUSINESSOPERATOR   \n",
       "\n",
       "                                    RIGHT_DESCRIPTION JOINABLE  \n",
       "2   The Employer Identification Number (EIN) uniqu...      Yes  \n",
       "24  This column contains the Employer Identificati...      Yes  \n",
       "34  The NAME column contains the official name of ...      Yes  \n",
       "35  The official name of the organization or busin...      Yes  \n",
       "36  The NAME column contains the official name of ...      Yes  "
      ]
     },
     "execution_count": 14,
     "metadata": {},
     "output_type": "execute_result"
    }
   ],
   "source": [
    "cta_matches[cta_matches['JOINABLE'] == 'Yes'].head()"
   ]
  },
  {
   "cell_type": "code",
   "execution_count": 15,
   "id": "caac268d-d764-4466-8055-8591f82e89da",
   "metadata": {},
   "outputs": [
    {
     "data": {
      "text/plain": [
       "(189, 7)"
      ]
     },
     "execution_count": 15,
     "metadata": {},
     "output_type": "execute_result"
    }
   ],
   "source": [
    "cta_matches[cta_matches['JOINABLE'] == 'Yes'].shape"
   ]
  },
  {
   "cell_type": "code",
   "execution_count": 16,
   "id": "a9e9f641-3708-495e-a8ab-f951d7f182a9",
   "metadata": {},
   "outputs": [],
   "source": [
    "cta_matches.to_csv('Description_test/CTA_from_descriptions/junio_JD_from_cta_matches.csv',index=False)"
   ]
  }
 ],
 "metadata": {
  "kernelspec": {
   "display_name": "Python 3 (ipykernel)",
   "language": "python",
   "name": "python3"
  },
  "language_info": {
   "codemirror_mode": {
    "name": "ipython",
    "version": 3
   },
   "file_extension": ".py",
   "mimetype": "text/x-python",
   "name": "python",
   "nbconvert_exporter": "python",
   "pygments_lexer": "ipython3",
   "version": "3.10.12"
  }
 },
 "nbformat": 4,
 "nbformat_minor": 5
}
