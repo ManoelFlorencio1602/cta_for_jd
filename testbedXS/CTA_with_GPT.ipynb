{
 "cells": [
  {
   "cell_type": "code",
   "execution_count": 1,
   "id": "e251a0f8-687c-44a9-ab03-d2557c0b1ea7",
   "metadata": {},
   "outputs": [],
   "source": [
    "import pandas as pd\n",
    "import numpy as np\n",
    "import json\n",
    "\n",
    "import pickle\n",
    "from openai import OpenAI\n",
    "\n",
    "from tenacity import (\n",
    "                        retry,\n",
    "                        stop_after_attempt,\n",
    "                        wait_random_exponential\n",
    ")"
   ]
  },
  {
   "cell_type": "code",
   "execution_count": 2,
   "id": "0b465ae8-ef13-4219-9fd1-cae076662e18",
   "metadata": {},
   "outputs": [],
   "source": [
    "def generate_prompt_predict_domain(table):\n",
    "    with open('cta_types_domain_reduced_6domain.json', 'r') as file:\n",
    "        cta_type_domain = json.load(file)\n",
    "\n",
    "    system_msg = f\"\"\"\n",
    "            Answer the question based on the task and instructions below. If the question cannot be answered using the information provided answer with \"Place\".\n",
    "            Task: Classify the table given to you with only one of the following domains that are separated with comma: {\", \".join(cta_type_domain.keys())}.\n",
    "            Instructions: 1. Look at the input given to you. 2. Look at the cell values in detail. 3. Decide if describes a {\", \".join(cta_type_domain.keys())}. 4. Answer only with the predicted domain. \n",
    "            Example 1: Table: [[\"Friends Pizza\", 2525, Cash Visa MasterCard, 7:30 AM]]\n",
    "            Domain: Restaurant\n",
    "            Example 2: Table: [[Museum/Gallery, Vancouver; BC; V6J 2C7, Kitsilano]]\n",
    "            Domain: Place\"\"\"\n",
    "    \n",
    "    user_msg = f\"\"\"Table: {table.iloc[:30,:].values}\n",
    "                   Domain: \"\"\".strip()\n",
    "    \n",
    "    return system_msg, user_msg"
   ]
  },
  {
   "cell_type": "code",
   "execution_count": 3,
   "id": "30cf899d-4e0b-4a59-923b-5abc7058fdd4",
   "metadata": {},
   "outputs": [],
   "source": [
    "def generate_prompt_predict_cta(data_point, domain):\n",
    "    with open('cta_types_domain_reduced_6domain.json', 'r') as file:\n",
    "        cta_type_domain = json.load(file)\n",
    "\n",
    "    system_msg = f\"\"\"\n",
    "            Answer the question based on the task, instructions and examples below. If the question cannot be answered using the information provided answer with \"I don't know\".\n",
    "            Task: Classify the text given to you with two of the following classes that are separated with comma: {\", \".join(cta_type_domain[domain])}.\n",
    "            Instructions: 1. Look at the input given to you. 2. Look at the cell values in detail.\n",
    "            Example 1: Column: [Kitsilano, Strathcona, Downtown, UBC, Downtown, Mount Pleasant]\n",
    "            Label: addressLocality, streetAddress\n",
    "            Example 2: Column: ['www.memorybc.ca/museum-of-15th-field-artillery-regiment','www.221a.ca/', 'https://www.facebook.com/ACMEstudiobuilding','http://gallery.ahva.ubc.ca/about/','http://www.mozaicoflamenco.com/', 'http://www.anzaclub.org','www.artbeatus.com', 'http://www.artsfactorysociety.ca/']\n",
    "            Label: URL, Text\"\"\"\n",
    "    \n",
    "    user_msg = f\"\"\"Column: {data_point.values}\n",
    "                   Label: \"\"\".strip()\n",
    "    \n",
    "    return system_msg, user_msg"
   ]
  },
  {
   "cell_type": "code",
   "execution_count": 4,
   "id": "239e30af-aa16-4ad2-ae37-da65894b9f01",
   "metadata": {},
   "outputs": [],
   "source": [
    "@retry(wait=wait_random_exponential(min=1,max=60), stop=stop_after_attempt(6))\n",
    "def execute_prompt(client, system_msg, user_msg):\n",
    "    completion = client.chat.completions.create(\n",
    "                                            model=\"gpt-3.5-turbo-0125\",\n",
    "                                            messages=[\n",
    "                                                        {\n",
    "                                                            \"role\": \"system\", \n",
    "                                                             \"content\": f\"{system_msg}\"\n",
    "                                                        },\n",
    "                                                        {\n",
    "                                                            \"role\": \"user\",\n",
    "                                                            \"content\": f\"{user_msg}\"\n",
    "                                                        }\n",
    "                                                    ]\n",
    "                                            )\n",
    "    return completion"
   ]
  },
  {
   "cell_type": "code",
   "execution_count": 5,
   "id": "d62119d8-5f5e-4233-8d6a-4797d2e29505",
   "metadata": {},
   "outputs": [],
   "source": [
    "def processing_output(prediction, domain):\n",
    "    with open('cta_types_domain_reduced_6domain.json', 'r') as file:\n",
    "        cta_type_domain = json.load(file)\n",
    "    categories = cta_type_domain[domain]\n",
    "\n",
    "    y_pred = []\n",
    "    for category in categories:\n",
    "        if  category.lower() in prediction.lower():\n",
    "            y_pred.append(category)\n",
    "            \n",
    "    if(len(y_pred) == 0):\n",
    "        y_pred.append(\"none\")\n",
    "\n",
    "    return y_pred"
   ]
  },
  {
   "cell_type": "code",
   "execution_count": 6,
   "id": "65a8d48f-e118-44d5-9602-ecdd56d1a622",
   "metadata": {},
   "outputs": [],
   "source": [
    "def generate_predictions(dataframe, client):\n",
    "    system_msg_predict_domain, user_msg_predict_domain = generate_prompt_predict_domain(dataframe)\n",
    "    result = execute_prompt(client, system_msg_predict_domain, user_msg_predict_domain)\n",
    "    domain = result.choices[0].message.content.split('Domain: ')[-1].strip()\n",
    "    \n",
    "    X_test = pd.DataFrame(dataframe.iloc[:50].apply(generate_prompt_predict_cta, args=(domain,), axis=0))\n",
    "    \n",
    "    y_pred = []\n",
    "    for i in range(X_test.shape[1]):\n",
    "        result = execute_prompt(client, X_test.T.iloc[i,0], X_test.T.iloc[i,1])\n",
    "        prediction = result.choices[0].message.content.split('Label: ')[-1].strip()\n",
    "        processed_prediction = processing_output(prediction, domain)\n",
    "        y_pred.append(processed_prediction) \n",
    "    \n",
    "    predictions = pd.DataFrame({\n",
    "                                \"Column\":dataframe.columns, \n",
    "                                \"Predicted\":y_pred\n",
    "                                })\n",
    "    \n",
    "    return X_test, y_pred, domain, predictions"
   ]
  },
  {
   "cell_type": "code",
   "execution_count": 7,
   "id": "7b154ddb-32f6-40b8-9206-aabbc15604bd",
   "metadata": {},
   "outputs": [],
   "source": [
    "client = OpenAI()"
   ]
  },
  {
   "cell_type": "code",
   "execution_count": 8,
   "id": "d659336b-d277-444b-8f5c-6e81d88d900c",
   "metadata": {},
   "outputs": [
    {
     "data": {
      "text/plain": [
       "array(['community-centres.csv', 'community-gardens-and-food-trees.csv',\n",
       "       'cultural-spaces.csv', 'eo4.csv', 'eo_pr.csv', 'eo_xx.csv',\n",
       "       'libraries.csv', 'population-census-of-botswana-2011.csv',\n",
       "       'public-art-artists.csv', 'public-art.csv',\n",
       "       'rental-standards-current-issues.csv', 'schools.csv',\n",
       "       'statewise-census-data-in-india-1901-2011.csv',\n",
       "       'street-intersections.csv'], dtype=object)"
      ]
     },
     "execution_count": 8,
     "metadata": {},
     "output_type": "execute_result"
    }
   ],
   "source": [
    "df_joinable_columns = pd.read_csv('joinable_columns_90containment.csv')\n",
    "all_joinable_files = np.concatenate((df_joinable_columns['ds_name'], df_joinable_columns['ds_name_2']), axis=0)\n",
    "all_joinable_files = np.unique(all_joinable_files)\n",
    "all_joinable_files"
   ]
  },
  {
   "cell_type": "code",
   "execution_count": 9,
   "id": "fdd00c85-ef20-4255-8fa0-279eeab5a031",
   "metadata": {},
   "outputs": [],
   "source": [
    "df_dsInformation = pd.read_csv('datasetInformation_testbedXS.csv')"
   ]
  },
  {
   "cell_type": "code",
   "execution_count": 10,
   "id": "5c4aa862-4a01-4e84-91c2-6eb0fabb6832",
   "metadata": {},
   "outputs": [
    {
     "name": "stdout",
     "output_type": "stream",
     "text": [
      "Making predictions for table street-intersections.csv. 14 out of 14\n"
     ]
    }
   ],
   "source": [
    "ST_predictions_dict = {}\n",
    "for i in range(13, len(all_joinable_files)):\n",
    "# for i in range(len(all_joinable_files)):\n",
    "    print(f'Making predictions for table {all_joinable_files[i]}. {i+1} out of {len(all_joinable_files)}')\n",
    "    info  = df_dsInformation[df_dsInformation['filename'] == all_joinable_files[i]]\n",
    "    df = pd.read_csv(f'datasets/{all_joinable_files[i]}', delimiter=info['delimiter'].values[0])\n",
    "    X_test, y_pred, domain, predictions = generate_predictions(df, client)\n",
    "    ST_predictions_dict[all_joinable_files[i]] = predictions\n",
    "\n",
    "    with open('GPT3.5Turbo_predictions/GPT3.5Turbo_ST_predictions_dict_14.pkl', 'wb') as f:\n",
    "        pickle.dump(ST_predictions_dict, f)"
   ]
  },
  {
   "cell_type": "code",
   "execution_count": 11,
   "id": "7f059ec5-8a17-4775-8331-36a921c51a0f",
   "metadata": {},
   "outputs": [
    {
     "data": {
      "text/plain": [
       "{'street-intersections.csv':            Column                         Predicted\n",
       " 0       AT_STREET                            [none]\n",
       " 1       ON_STREET                         [Integer]\n",
       " 2         XSTREET  [addressLocality, streetAddress]\n",
       " 3            Geom        [GeoCoordinates, GeoShape]\n",
       " 4  Geo Local Area                 [addressLocality]}"
      ]
     },
     "execution_count": 11,
     "metadata": {},
     "output_type": "execute_result"
    }
   ],
   "source": [
    "ST_predictions_dict"
   ]
  }
 ],
 "metadata": {
  "kernelspec": {
   "display_name": "Python 3 (ipykernel)",
   "language": "python",
   "name": "python3"
  },
  "language_info": {
   "codemirror_mode": {
    "name": "ipython",
    "version": 3
   },
   "file_extension": ".py",
   "mimetype": "text/x-python",
   "name": "python",
   "nbconvert_exporter": "python",
   "pygments_lexer": "ipython3",
   "version": "3.10.12"
  }
 },
 "nbformat": 4,
 "nbformat_minor": 5
}
