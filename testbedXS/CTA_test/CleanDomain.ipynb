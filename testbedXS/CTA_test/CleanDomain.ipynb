{
 "cells": [
  {
   "cell_type": "code",
   "execution_count": 1,
   "id": "73f0cbd4-d692-4ce8-b7d2-eceffdddaeab",
   "metadata": {},
   "outputs": [],
   "source": [
    "import json"
   ]
  },
  {
   "cell_type": "code",
   "execution_count": 12,
   "id": "bbab6ffd-4ed2-4346-a6d7-a07d8a50cbc9",
   "metadata": {},
   "outputs": [],
   "source": [
    "with open('cta_types_domain.json', 'r') as file:\n",
    "    cta_type_domain = json.load(file)"
   ]
  },
  {
   "cell_type": "code",
   "execution_count": 13,
   "id": "a4b54ae8-6e88-4227-a554-b6543c0a9952",
   "metadata": {},
   "outputs": [],
   "source": [
    "with open('cta_types_domain_reduced.json', 'w') as file:\n",
    "    del cta_type_domain['CreativeWork']\n",
    "    del cta_type_domain['JobPosting']\n",
    "    del cta_type_domain['MusicRecording']\n",
    "    del cta_type_domain['SportsEvent']\n",
    "    del cta_type_domain['MusicAlbum']\n",
    "    del cta_type_domain['Movie']\n",
    "    del cta_type_domain['TVEpisode']\n",
    "    json.dump(cta_type_domain, file)"
   ]
  }
 ],
 "metadata": {
  "kernelspec": {
   "display_name": "Python 3 (ipykernel)",
   "language": "python",
   "name": "python3"
  },
  "language_info": {
   "codemirror_mode": {
    "name": "ipython",
    "version": 3
   },
   "file_extension": ".py",
   "mimetype": "text/x-python",
   "name": "python",
   "nbconvert_exporter": "python",
   "pygments_lexer": "ipython3",
   "version": "3.10.12"
  }
 },
 "nbformat": 4,
 "nbformat_minor": 5
}
