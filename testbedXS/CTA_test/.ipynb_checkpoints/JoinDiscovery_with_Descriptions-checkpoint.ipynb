{
 "cells": [
  {
   "cell_type": "code",
   "execution_count": 1,
   "id": "da918189-0e57-4558-b5ed-a2473397f182",
   "metadata": {},
   "outputs": [],
   "source": [
    "import pandas as pd\n",
    "import numpy as np\n",
    "from openai import OpenAI\n",
    "\n",
    "from tenacity import (\n",
    "                        retry,\n",
    "                        stop_after_attempt,\n",
    "                        wait_random_exponential\n",
    ")"
   ]
  },
  {
   "cell_type": "code",
   "execution_count": 36,
   "id": "e69783ea-dd82-4643-b436-6afc60765134",
   "metadata": {},
   "outputs": [],
   "source": [
    "def generate_prompt_joins_from_description(table1, table2):\n",
    "\n",
    "    system_msg = f\"\"\"\n",
    "            Based on the semantic descriptions of the columns in Table 1 and Table 2, identify the best key that would allow a join between these tables. \n",
    "            \"\"\"\n",
    "    \n",
    "    user_msg = f\"\"\"Table 1 columns' descriptions: {table1}\n",
    "                   Table 2 columns' descriptions: {table2}\n",
    "                   Potential keys: \"\"\".strip()\n",
    "    \n",
    "    return system_msg, user_msg"
   ]
  },
  {
   "cell_type": "code",
   "execution_count": 2,
   "id": "c940db4e-fdd4-4b0a-bbda-4f6cd65a8461",
   "metadata": {},
   "outputs": [],
   "source": [
    "def generate_prompt_column_description(table, column):\n",
    "\n",
    "    system_msg = f\"\"\"\n",
    "            Describe the semantics of a target column.\n",
    "            Task: Describe the informations within a column in a given table.\n",
    "            Instructions: 1. Look at the input given to you. 2. Look at the column values in detail. 3. Describe the target column. \n",
    "            \"\"\"\n",
    "    \n",
    "    user_msg = f\"\"\"Table columns: {table.columns}\n",
    "                   Table values:  {table.iloc[:30,:].values}\n",
    "                   Target column: {column}\n",
    "                   Description: \"\"\".strip()\n",
    "    \n",
    "    return system_msg, user_msg"
   ]
  },
  {
   "cell_type": "code",
   "execution_count": 3,
   "id": "f4be83d3-fa41-4298-8fbf-e8860534f7f5",
   "metadata": {},
   "outputs": [],
   "source": [
    "def generate_prompt_description_similarity(c1, c2):\n",
    "\n",
    "    system_msg = f\"\"\"\n",
    "            Given the semantic description of two columns in a dataset, determine whether the columns are joinable based on their semantics \n",
    "            and provide a likelihood score between 0 (not joinable) and 10 (highly joinable). Asnwer only with the likelihood score.\n",
    "            Example 1:\n",
    "                Semantic description of column 1: the column represents an ID.\n",
    "                Semantic description of column 2: the column represents an ID.\n",
    "                Likelihood Score: 10\n",
    "            \"\"\"\n",
    "    \n",
    "    user_msg = f\"\"\"Semantic description of column 1: {c1}\n",
    "                   Semantic description of column 2: {c2}\n",
    "                   Likelihood Score: \"\"\".strip()\n",
    "    \n",
    "    return system_msg, user_msg"
   ]
  },
  {
   "cell_type": "code",
   "execution_count": 4,
   "id": "81291ef6-8fa5-40b1-9f07-c67cba69e705",
   "metadata": {},
   "outputs": [],
   "source": [
    "@retry(wait=wait_random_exponential(min=1,max=60), stop=stop_after_attempt(6))\n",
    "def execute_prompt(client, system_msg, user_msg):\n",
    "    completion = client.chat.completions.create(\n",
    "                                            model=\"gpt-3.5-turbo-0125\",\n",
    "                                            messages=[\n",
    "                                                        {\n",
    "                                                            \"role\": \"system\", \n",
    "                                                             \"content\": f\"{system_msg}\"\n",
    "                                                        },\n",
    "                                                        {\n",
    "                                                            \"role\": \"user\",\n",
    "                                                            \"content\": f\"{user_msg}\"\n",
    "                                                        }\n",
    "                                                    ]\n",
    "                                            )\n",
    "    return completion"
   ]
  },
  {
   "cell_type": "code",
   "execution_count": 5,
   "id": "ef0ffcba-5b80-4e29-a79d-f3487367c1f1",
   "metadata": {},
   "outputs": [],
   "source": [
    "def generate_predictions(dataframe, column, client):\n",
    "    system_msg_predict_description, user_msg_predict_description = generate_prompt_column_description(dataframe, column)\n",
    "    result = execute_prompt(client, system_msg_predict_description, user_msg_predict_description)\n",
    "    description = result.choices[0].message.content.split('Description: ')[-1].strip()\n",
    "    \n",
    "    return description"
   ]
  },
  {
   "cell_type": "code",
   "execution_count": 6,
   "id": "058be0b5-eef7-4577-9de7-73ec67753459",
   "metadata": {},
   "outputs": [],
   "source": [
    "def generate_likelihood(c1, c2, client):\n",
    "    system_msg_predict_likelihood, user_msg_predict_likelihood = generate_prompt_description_similarity(c1, c2)\n",
    "    result = execute_prompt(client, system_msg_predict_likelihood, user_msg_predict_likelihood)\n",
    "    likelihood = result.choices[0].message.content.split('Likelihood Score: ')[-1].strip()\n",
    "\n",
    "    return likelihood"
   ]
  },
  {
   "cell_type": "code",
   "execution_count": 7,
   "id": "e15b41ef-af38-4ec0-b5c2-982e2e196aa0",
   "metadata": {},
   "outputs": [
    {
     "data": {
      "text/plain": [
       "array(['community-centres.csv', 'community-gardens-and-food-trees.csv',\n",
       "       'cultural-spaces.csv', 'eo4.csv', 'eo_pr.csv', 'eo_xx.csv',\n",
       "       'libraries.csv', 'population-census-of-botswana-2011.csv',\n",
       "       'public-art-artists.csv', 'public-art.csv',\n",
       "       'rental-standards-current-issues.csv', 'schools.csv',\n",
       "       'statewise-census-data-in-india-1901-2011.csv',\n",
       "       'street-intersections.csv'], dtype=object)"
      ]
     },
     "execution_count": 7,
     "metadata": {},
     "output_type": "execute_result"
    }
   ],
   "source": [
    "df_joinable_columns = pd.read_csv('joinable_columns_90containment.csv')\n",
    "all_joinable_files = np.concatenate((df_joinable_columns['ds_name'], df_joinable_columns['ds_name_2']), axis=0)\n",
    "all_joinable_files = np.unique(all_joinable_files)\n",
    "all_joinable_files"
   ]
  },
  {
   "cell_type": "code",
   "execution_count": 8,
   "id": "96dd9651-b0d9-46d7-a9a2-11a6b5e4cd0d",
   "metadata": {},
   "outputs": [
    {
     "data": {
      "text/html": [
       "<div>\n",
       "<style scoped>\n",
       "    .dataframe tbody tr th:only-of-type {\n",
       "        vertical-align: middle;\n",
       "    }\n",
       "\n",
       "    .dataframe tbody tr th {\n",
       "        vertical-align: top;\n",
       "    }\n",
       "\n",
       "    .dataframe thead th {\n",
       "        text-align: right;\n",
       "    }\n",
       "</style>\n",
       "<table border=\"1\" class=\"dataframe\">\n",
       "  <thead>\n",
       "    <tr style=\"text-align: right;\">\n",
       "      <th></th>\n",
       "      <th>filename</th>\n",
       "      <th>delimiter</th>\n",
       "      <th>multiline</th>\n",
       "      <th>file</th>\n",
       "      <th>nullVal</th>\n",
       "      <th>file_size</th>\n",
       "      <th>ignoreTrailing</th>\n",
       "      <th>source</th>\n",
       "    </tr>\n",
       "  </thead>\n",
       "  <tbody>\n",
       "    <tr>\n",
       "      <th>0</th>\n",
       "      <td>survey_results_schema.csv</td>\n",
       "      <td>,</td>\n",
       "      <td>True</td>\n",
       "      <td>csv</td>\n",
       "      <td>\"\"</td>\n",
       "      <td>23kb</td>\n",
       "      <td>True</td>\n",
       "      <td>https://www.kaggle.com/stackoverflow/so-survey...</td>\n",
       "    </tr>\n",
       "    <tr>\n",
       "      <th>1</th>\n",
       "      <td>datasets_517172_952401_train.csv</td>\n",
       "      <td>,</td>\n",
       "      <td>False</td>\n",
       "      <td>csv</td>\n",
       "      <td>\"\"</td>\n",
       "      <td>55kb</td>\n",
       "      <td>True</td>\n",
       "      <td>https://www.kaggle.com/sovitrath/diabetic-reti...</td>\n",
       "    </tr>\n",
       "    <tr>\n",
       "      <th>2</th>\n",
       "      <td>ability_ids.csv</td>\n",
       "      <td>,</td>\n",
       "      <td>False</td>\n",
       "      <td>csv</td>\n",
       "      <td>\"\"</td>\n",
       "      <td>19kb</td>\n",
       "      <td>True</td>\n",
       "      <td>https://www.kaggle.com/devinanzelmo/dota-2-mat...</td>\n",
       "    </tr>\n",
       "    <tr>\n",
       "      <th>3</th>\n",
       "      <td>public-art.csv</td>\n",
       "      <td>;</td>\n",
       "      <td>True</td>\n",
       "      <td>csv</td>\n",
       "      <td>\"\"</td>\n",
       "      <td>669kb</td>\n",
       "      <td>True</td>\n",
       "      <td>https://opendata.vancouver.ca/explore/dataset/...</td>\n",
       "    </tr>\n",
       "    <tr>\n",
       "      <th>4</th>\n",
       "      <td>public-art-artists.csv</td>\n",
       "      <td>;</td>\n",
       "      <td>True</td>\n",
       "      <td>csv</td>\n",
       "      <td>\"\"</td>\n",
       "      <td>243kb</td>\n",
       "      <td>True</td>\n",
       "      <td>https://opendata.vancouver.ca/explore/dataset/...</td>\n",
       "    </tr>\n",
       "  </tbody>\n",
       "</table>\n",
       "</div>"
      ],
      "text/plain": [
       "                           filename delimiter  multiline file nullVal  \\\n",
       "0         survey_results_schema.csv         ,       True  csv      \"\"   \n",
       "1  datasets_517172_952401_train.csv         ,      False  csv      \"\"   \n",
       "2                   ability_ids.csv         ,      False  csv      \"\"   \n",
       "3                    public-art.csv         ;       True  csv      \"\"   \n",
       "4            public-art-artists.csv         ;       True  csv      \"\"   \n",
       "\n",
       "  file_size  ignoreTrailing                                             source  \n",
       "0      23kb            True  https://www.kaggle.com/stackoverflow/so-survey...  \n",
       "1      55kb            True  https://www.kaggle.com/sovitrath/diabetic-reti...  \n",
       "2      19kb            True  https://www.kaggle.com/devinanzelmo/dota-2-mat...  \n",
       "3     669kb            True  https://opendata.vancouver.ca/explore/dataset/...  \n",
       "4     243kb            True  https://opendata.vancouver.ca/explore/dataset/...  "
      ]
     },
     "execution_count": 8,
     "metadata": {},
     "output_type": "execute_result"
    }
   ],
   "source": [
    "df_dsInformation = pd.read_csv('datasetInformation_testbedXS.csv')\n",
    "df_dsInformation.head()"
   ]
  },
  {
   "cell_type": "code",
   "execution_count": 9,
   "id": "7bea681a-e87b-4eb0-9a02-e5dd0cf7f893",
   "metadata": {},
   "outputs": [
    {
     "data": {
      "text/html": [
       "<div>\n",
       "<style scoped>\n",
       "    .dataframe tbody tr th:only-of-type {\n",
       "        vertical-align: middle;\n",
       "    }\n",
       "\n",
       "    .dataframe tbody tr th {\n",
       "        vertical-align: top;\n",
       "    }\n",
       "\n",
       "    .dataframe thead th {\n",
       "        text-align: right;\n",
       "    }\n",
       "</style>\n",
       "<table border=\"1\" class=\"dataframe\">\n",
       "  <thead>\n",
       "    <tr style=\"text-align: right;\">\n",
       "      <th></th>\n",
       "      <th>NAME</th>\n",
       "      <th>ADDRESS</th>\n",
       "      <th>URLLINK</th>\n",
       "      <th>Geom</th>\n",
       "      <th>Geo Local Area</th>\n",
       "    </tr>\n",
       "  </thead>\n",
       "  <tbody>\n",
       "    <tr>\n",
       "      <th>0</th>\n",
       "      <td>Dunbar</td>\n",
       "      <td>4747 Dunbar St</td>\n",
       "      <td>http://vancouver.ca/parks/cc/dunbar/index.htm</td>\n",
       "      <td>{\"type\": \"Point\", \"coordinates\": [-123.1883, 4...</td>\n",
       "      <td>Dunbar-Southlands</td>\n",
       "    </tr>\n",
       "    <tr>\n",
       "      <th>1</th>\n",
       "      <td>Hastings</td>\n",
       "      <td>3096 E Hastings St</td>\n",
       "      <td>http://vancouver.ca/parks/cc/hastings/index.htm</td>\n",
       "      <td>{\"type\": \"Point\", \"coordinates\": [-123.0393, 4...</td>\n",
       "      <td>Hastings-Sunrise</td>\n",
       "    </tr>\n",
       "    <tr>\n",
       "      <th>2</th>\n",
       "      <td>Gathering Place Community Centre</td>\n",
       "      <td>609 Helmcken St</td>\n",
       "      <td>http://vancouver.ca/parks-recreation-culture/g...</td>\n",
       "      <td>{\"type\": \"Point\", \"coordinates\": [-123.1235, 4...</td>\n",
       "      <td>Downtown</td>\n",
       "    </tr>\n",
       "    <tr>\n",
       "      <th>3</th>\n",
       "      <td>Thunderbird</td>\n",
       "      <td>2311 Cassiar St</td>\n",
       "      <td>http://vancouver.ca/parks/cc/thunderbird/index...</td>\n",
       "      <td>{\"type\": \"Point\", \"coordinates\": [-123.0321, 4...</td>\n",
       "      <td>Hastings-Sunrise</td>\n",
       "    </tr>\n",
       "    <tr>\n",
       "      <th>4</th>\n",
       "      <td>Douglas Park</td>\n",
       "      <td>801 W 22nd Av</td>\n",
       "      <td>http://vancouver.ca/parks/cc/douglas/index.htm</td>\n",
       "      <td>{\"type\": \"Point\", \"coordinates\": [-123.1213, 4...</td>\n",
       "      <td>South Cambie</td>\n",
       "    </tr>\n",
       "  </tbody>\n",
       "</table>\n",
       "</div>"
      ],
      "text/plain": [
       "                               NAME             ADDRESS  \\\n",
       "0                            Dunbar      4747 Dunbar St   \n",
       "1                          Hastings  3096 E Hastings St   \n",
       "2  Gathering Place Community Centre     609 Helmcken St   \n",
       "3                       Thunderbird     2311 Cassiar St   \n",
       "4                      Douglas Park       801 W 22nd Av   \n",
       "\n",
       "                                             URLLINK  \\\n",
       "0      http://vancouver.ca/parks/cc/dunbar/index.htm   \n",
       "1    http://vancouver.ca/parks/cc/hastings/index.htm   \n",
       "2  http://vancouver.ca/parks-recreation-culture/g...   \n",
       "3  http://vancouver.ca/parks/cc/thunderbird/index...   \n",
       "4     http://vancouver.ca/parks/cc/douglas/index.htm   \n",
       "\n",
       "                                                Geom     Geo Local Area  \n",
       "0  {\"type\": \"Point\", \"coordinates\": [-123.1883, 4...  Dunbar-Southlands  \n",
       "1  {\"type\": \"Point\", \"coordinates\": [-123.0393, 4...   Hastings-Sunrise  \n",
       "2  {\"type\": \"Point\", \"coordinates\": [-123.1235, 4...           Downtown  \n",
       "3  {\"type\": \"Point\", \"coordinates\": [-123.0321, 4...   Hastings-Sunrise  \n",
       "4  {\"type\": \"Point\", \"coordinates\": [-123.1213, 4...       South Cambie  "
      ]
     },
     "execution_count": 9,
     "metadata": {},
     "output_type": "execute_result"
    }
   ],
   "source": [
    "info  = df_dsInformation[df_dsInformation['filename'] == 'community-centres.csv']\n",
    "df_community_centres = pd.read_csv('datasets/community-centres.csv', delimiter=info['delimiter'].values[0])\n",
    "df_community_centres.head()"
   ]
  },
  {
   "cell_type": "code",
   "execution_count": 10,
   "id": "379e8f8e-be55-4103-9b51-ef5495b13b38",
   "metadata": {},
   "outputs": [
    {
     "data": {
      "text/html": [
       "<div>\n",
       "<style scoped>\n",
       "    .dataframe tbody tr th:only-of-type {\n",
       "        vertical-align: middle;\n",
       "    }\n",
       "\n",
       "    .dataframe tbody tr th {\n",
       "        vertical-align: top;\n",
       "    }\n",
       "\n",
       "    .dataframe thead th {\n",
       "        text-align: right;\n",
       "    }\n",
       "</style>\n",
       "<table border=\"1\" class=\"dataframe\">\n",
       "  <thead>\n",
       "    <tr style=\"text-align: right;\">\n",
       "      <th></th>\n",
       "      <th>YEAR</th>\n",
       "      <th>CULTURAL_SPACE_NAME</th>\n",
       "      <th>WEBSITE</th>\n",
       "      <th>TYPE</th>\n",
       "      <th>PRIMARY_USE</th>\n",
       "      <th>ADDRESS</th>\n",
       "      <th>LOCAL_AREA</th>\n",
       "      <th>OWNERSHIP</th>\n",
       "      <th>SQUARE_FEET</th>\n",
       "      <th>NUMBER_OF_SEATS</th>\n",
       "      <th>ACTIVE_SPACE</th>\n",
       "      <th>Geom</th>\n",
       "    </tr>\n",
       "  </thead>\n",
       "  <tbody>\n",
       "    <tr>\n",
       "      <th>0</th>\n",
       "      <td>2017</td>\n",
       "      <td>15th Field Artillery Regiment Museum and Archives</td>\n",
       "      <td>www.memorybc.ca/museum-of-15th-field-artillery...</td>\n",
       "      <td>Museum/Gallery</td>\n",
       "      <td>Museum/Gallery</td>\n",
       "      <td>2025 W 11th Av, Vancouver, BC, V6J 2C7</td>\n",
       "      <td>Kitsilano</td>\n",
       "      <td>Privately Owned</td>\n",
       "      <td>NaN</td>\n",
       "      <td>NaN</td>\n",
       "      <td>Yes</td>\n",
       "      <td>{\"type\": \"Point\", \"coordinates\": [-123.151123,...</td>\n",
       "    </tr>\n",
       "    <tr>\n",
       "      <th>1</th>\n",
       "      <td>2017</td>\n",
       "      <td>221A Artist Run Centre</td>\n",
       "      <td>www.221a.ca/</td>\n",
       "      <td>Museum/Gallery</td>\n",
       "      <td>Museum/Gallery</td>\n",
       "      <td>221 E Georgia St, Vancouver, BC, V6A 1Z6</td>\n",
       "      <td>Strathcona</td>\n",
       "      <td>Privately Owned</td>\n",
       "      <td>9000.0</td>\n",
       "      <td>NaN</td>\n",
       "      <td>Yes</td>\n",
       "      <td>{\"type\": \"Point\", \"coordinates\": [-123.098796,...</td>\n",
       "    </tr>\n",
       "    <tr>\n",
       "      <th>2</th>\n",
       "      <td>2017</td>\n",
       "      <td>Acme Studios</td>\n",
       "      <td>https://www.facebook.com/ACMEstudiobuilding</td>\n",
       "      <td>Studio/Rehearsal</td>\n",
       "      <td>Artist Studio</td>\n",
       "      <td>112 E Hastings St, Vancouver, BC, V6A 4J1</td>\n",
       "      <td>Downtown</td>\n",
       "      <td>Privately Owned</td>\n",
       "      <td>18000.0</td>\n",
       "      <td>NaN</td>\n",
       "      <td>Yes</td>\n",
       "      <td>{\"type\": \"Point\", \"coordinates\": [-123.101791,...</td>\n",
       "    </tr>\n",
       "    <tr>\n",
       "      <th>3</th>\n",
       "      <td>2017</td>\n",
       "      <td>AHVA Gallery</td>\n",
       "      <td>http://gallery.ahva.ubc.ca/about/</td>\n",
       "      <td>Museum/Gallery</td>\n",
       "      <td>Museum/Gallery</td>\n",
       "      <td>6398 University Blvd, Vancouver, BC,</td>\n",
       "      <td>UBC</td>\n",
       "      <td>Other</td>\n",
       "      <td>1990.0</td>\n",
       "      <td>NaN</td>\n",
       "      <td>Yes</td>\n",
       "      <td>{\"type\": \"Point\", \"coordinates\": [-123.2549451...</td>\n",
       "    </tr>\n",
       "    <tr>\n",
       "      <th>4</th>\n",
       "      <td>2017</td>\n",
       "      <td>Al Mozaico Flamenco Dance Academy</td>\n",
       "      <td>http://www.mozaicoflamenco.com/</td>\n",
       "      <td>Educational</td>\n",
       "      <td>Educational Institution</td>\n",
       "      <td>828 E Hastings St, Vancouver, BC, V6A 1R6</td>\n",
       "      <td>Strathcona</td>\n",
       "      <td>Privately Owned</td>\n",
       "      <td>NaN</td>\n",
       "      <td>NaN</td>\n",
       "      <td>Yes</td>\n",
       "      <td>{\"type\": \"Point\", \"coordinates\": [-123.0864434...</td>\n",
       "    </tr>\n",
       "  </tbody>\n",
       "</table>\n",
       "</div>"
      ],
      "text/plain": [
       "   YEAR                                CULTURAL_SPACE_NAME  \\\n",
       "0  2017  15th Field Artillery Regiment Museum and Archives   \n",
       "1  2017                             221A Artist Run Centre   \n",
       "2  2017                                       Acme Studios   \n",
       "3  2017                                       AHVA Gallery   \n",
       "4  2017                  Al Mozaico Flamenco Dance Academy   \n",
       "\n",
       "                                             WEBSITE              TYPE  \\\n",
       "0  www.memorybc.ca/museum-of-15th-field-artillery...    Museum/Gallery   \n",
       "1                                       www.221a.ca/    Museum/Gallery   \n",
       "2        https://www.facebook.com/ACMEstudiobuilding  Studio/Rehearsal   \n",
       "3                  http://gallery.ahva.ubc.ca/about/    Museum/Gallery   \n",
       "4                    http://www.mozaicoflamenco.com/       Educational   \n",
       "\n",
       "               PRIMARY_USE                                    ADDRESS  \\\n",
       "0           Museum/Gallery     2025 W 11th Av, Vancouver, BC, V6J 2C7   \n",
       "1           Museum/Gallery   221 E Georgia St, Vancouver, BC, V6A 1Z6   \n",
       "2            Artist Studio  112 E Hastings St, Vancouver, BC, V6A 4J1   \n",
       "3           Museum/Gallery       6398 University Blvd, Vancouver, BC,   \n",
       "4  Educational Institution  828 E Hastings St, Vancouver, BC, V6A 1R6   \n",
       "\n",
       "   LOCAL_AREA        OWNERSHIP  SQUARE_FEET  NUMBER_OF_SEATS ACTIVE_SPACE  \\\n",
       "0   Kitsilano  Privately Owned          NaN              NaN          Yes   \n",
       "1  Strathcona  Privately Owned       9000.0              NaN          Yes   \n",
       "2    Downtown  Privately Owned      18000.0              NaN          Yes   \n",
       "3         UBC            Other       1990.0              NaN          Yes   \n",
       "4  Strathcona  Privately Owned          NaN              NaN          Yes   \n",
       "\n",
       "                                                Geom  \n",
       "0  {\"type\": \"Point\", \"coordinates\": [-123.151123,...  \n",
       "1  {\"type\": \"Point\", \"coordinates\": [-123.098796,...  \n",
       "2  {\"type\": \"Point\", \"coordinates\": [-123.101791,...  \n",
       "3  {\"type\": \"Point\", \"coordinates\": [-123.2549451...  \n",
       "4  {\"type\": \"Point\", \"coordinates\": [-123.0864434...  "
      ]
     },
     "execution_count": 10,
     "metadata": {},
     "output_type": "execute_result"
    }
   ],
   "source": [
    "info  = df_dsInformation[df_dsInformation['filename'] == 'cultural-spaces.csv']\n",
    "df_cultural_spaces = pd.read_csv('datasets/cultural-spaces.csv', delimiter=info['delimiter'].values[0])\n",
    "df_cultural_spaces.head()"
   ]
  },
  {
   "cell_type": "code",
   "execution_count": 11,
   "id": "35cf02a6-e142-416f-9c4a-09f7b3f12338",
   "metadata": {},
   "outputs": [],
   "source": [
    "client = OpenAI()"
   ]
  },
  {
   "cell_type": "code",
   "execution_count": 13,
   "id": "b93e2579-d1b6-4bcc-9bcc-412a374e618f",
   "metadata": {},
   "outputs": [],
   "source": [
    "community_centres_descriptions = []\n",
    "for i in range(df_community_centres.shape[1]):\n",
    "    info  = df_dsInformation[df_dsInformation['filename'] == 'community-centres.csv']\n",
    "    description = generate_predictions(df_community_centres, df_community_centres.iloc[:,i], client)\n",
    "    community_centres_descriptions.append(description)"
   ]
  },
  {
   "cell_type": "code",
   "execution_count": 14,
   "id": "a75622ed-3400-488c-860d-70f23a2d8deb",
   "metadata": {},
   "outputs": [
    {
     "data": {
      "text/plain": [
       "[\"The target column in the given table is named 'NAME'. This column contains the names of different community centers or parks in Vancouver. Each row in the column represents the name of a specific location such as Dunbar, Hastings, Gathering Place Community Centre, Thunderbird, etc. This column provides a unique identifier for each entry in the dataset, allowing users to easily distinguish between the different locations listed in the table.\",\n",
       " \"The target column is the 'ADDRESS' column in the given table. It contains the street addresses of various locations such as community centers, parks, and memorial sites in Vancouver. Each value in the 'ADDRESS' column represents the physical location address of the respective facility. The addresses include street numbers and names, along with any additional details such as building names or numbers.\",\n",
       " \"The target column is named 'URLLINK' and contains URLs linking to websites related to various community centers or parks in Vancouver. Each row in the column provides a specific URL corresponding to a particular location or facility. The URLs generally direct to information pages about the respective community centers or parks, including details about programs, services, events, and amenities offered at those locations. These URLs serve as a valuable resource for individuals seeking information about the listed community centers and parks in Vancouver.\",\n",
       " 'The values in the \"Geom\" column are in JSON format and represent geographical coordinates in the form of a Point. Each value contains the type \"Point\" and a pair of coordinates in the format \"[-123.1883, 49.2428]\". These coordinates likely represent latitude and longitude information for the corresponding locations described in the table. This column provides spatial information that can be used for mapping or geospatial analysis.',\n",
       " 'The target column is named \"Geo Local Area\" and it contains the local area information associated with each entry in the table. This column provides details about the specific neighborhood or district where each location is situated. Each value in the \"Geo Local Area\" column corresponds to the name of a distinct local area within the city of Vancouver. The values in this column represent the geographical categorization of the respective locations based on their neighborhoods or communities.']"
      ]
     },
     "execution_count": 14,
     "metadata": {},
     "output_type": "execute_result"
    }
   ],
   "source": [
    "community_centres_descriptions"
   ]
  },
  {
   "cell_type": "code",
   "execution_count": 16,
   "id": "e0d26c3c-912b-463d-b273-2bd74bded527",
   "metadata": {},
   "outputs": [],
   "source": [
    "cultural_spaces_descriptions = []\n",
    "for i in range(df_cultural_spaces.shape[1]):\n",
    "    info  = df_dsInformation[df_dsInformation['filename'] == 'community-centres.csv']\n",
    "    description = generate_predictions(df_cultural_spaces, df_cultural_spaces.iloc[:,i], client)\n",
    "    cultural_spaces_descriptions.append(description)"
   ]
  },
  {
   "cell_type": "code",
   "execution_count": 17,
   "id": "3a01994b-d31f-43fb-83e5-000be138c226",
   "metadata": {
    "scrolled": true
   },
   "outputs": [
    {
     "data": {
      "text/plain": [
       "['The target column in the given table is named \"YEAR\". It contains the year associated with each entry in the table. In this specific case, all the values in the \"YEAR\" column are 2017, indicating that the data pertains to cultural spaces and related information from the year 2017. The data seems to be focused on cultural spaces, their types, addresses, ownership, square footage, and other relevant details from the year 2017.',\n",
       " \"The target column is named 'CULTURAL_SPACE_NAME'. It contains the names of various cultural spaces such as museums, galleries, studios, community centers, and performance spaces in Vancouver. Each value in this column represents the name of a specific cultural space, providing a unique identifier for the cultural establishment. The values in this column are textual and descriptive, enabling easy identification and categorization of each cultural space mentioned in the dataset.\",\n",
       " \"The target column is 'WEBSITE' and it contains the website URLs associated with different cultural spaces in Vancouver. These website URLs provide additional information about the respective cultural spaces, such as museums, galleries, studios, community centers, etc. The URLs link to the official websites of these cultural spaces, allowing users to explore further details, events, and resources available at each location.\",\n",
       " \"The target column in the given table is the 'TYPE' column. This column contains categorical values that represent the type or category of each cultural space listed in the table. Some of the values in this column include 'Museum/Gallery', 'Studio/Rehearsal', 'Educational', 'Community Space', 'Theatre/Performance', and 'Library/Archives'. \\n\\nEach value in the 'TYPE' column provides information about the primary purpose or function of the cultural space, allowing users to easily identify and categorize the different types of cultural spaces listed in the table.\",\n",
       " 'The target column \"PRIMARY_USE\" contains information about the primary usage or purpose of the cultural space listed in the table. \\n\\nIt includes different categories such as Museum/Gallery, Artist Studio, Educational Institution, Performance Space, Community Centre/Hall, Library/Archives, and others. \\n\\nEach value in this column indicates the main function or purpose of the cultural space listed in the respective row of the table.',\n",
       " \"The target column in the table is the 'ADDRESS' column. This column contains detailed physical addresses of various cultural spaces, such as museums, galleries, studios, educational institutions, and community centers, located in Vancouver, British Columbia. Each address includes the street number, street name, city (Vancouver), province (BC), and postal code. The addresses provide a precise location for each cultural space listed in the table, allowing individuals to easily locate and visit these establishments.\",\n",
       " \"The target column is the 'LOCAL_AREA' column in the given table. This column contains information about the specific local areas or neighborhoods where the cultural spaces are located. Each row in this column corresponds to a different cultural space and identifies the area it is situated in. The values in this column provide details such as Kitsilano, Strathcona, Downtown, UBC, etc., indicating the neighborhood where each cultural space is established.\",\n",
       " \"The target column is 'OWNERSHIP'. It contains information about the ownership status of the cultural spaces listed in the table. The values in this column indicate whether the cultural space is privately owned, owned by the city of Vancouver, owned by a non-profit organization, or has a different ownership status labeled as 'Other'.\",\n",
       " \"The target column is 'SQUARE_FEET', which contains information about the square footage of the cultural space mentioned in the corresponding rows. The values in this column appear to be numerical, denoting the size or area of each cultural space. Some entries have specific square footage values (e.g., 9000.0, 18000.0, 1990.0, and 16543.0), while others are missing or marked as 'NaN', indicating that the square footage information is not available for those cultural spaces. The unit of measurement for the square footage is not explicitly mentioned in the provided data.\",\n",
       " 'The target column is labeled \"NUMBER_OF_SEATS\" and contains information about the number of seats available in each cultural space listed in the table. The values in this column are numeric (float64 data type) representing the count of seats available for seating in each respective cultural space. However, some entries have missing values (NaN). This information is crucial for understanding the capacity or size of the venues, particularly for theatres, performance spaces, galleries, and other similar establishments where seating is necessary for visitors or audiences.',\n",
       " 'The target column is named \"ACTIVE_SPACE.\" It appears to contain categorical data with the value \"Yes\" indicating that the cultural space described in the corresponding row is an active space. Each row in this column represents whether the cultural space is currently active or not.',\n",
       " 'The target column in the given table is named \\'Geom\\'. It contains geographical coordinates represented as a JSON object with latitude and longitude values. Each row in the \\'Geom\\' column provides the location coordinates of the corresponding cultural space or facility in Vancouver. The latitude and longitude values are embedded within the JSON structure under the key \"coordinates\". This column is used to store spatial information about the cultural spaces such as museums, galleries, studios, and community centers in Vancouver, making it possible to visualize and analyze their locations on a map.']"
      ]
     },
     "execution_count": 17,
     "metadata": {},
     "output_type": "execute_result"
    }
   ],
   "source": [
    "cultural_spaces_descriptions"
   ]
  },
  {
   "cell_type": "code",
   "execution_count": 19,
   "id": "4d283b3d-9727-4fed-b285-d63bad49b7f0",
   "metadata": {},
   "outputs": [],
   "source": [
    "likelihoods = []\n",
    "for i in range(len(community_centres_descriptions)):\n",
    "    for j in range(len(cultural_spaces_descriptions)):\n",
    "        likelihood = generate_likelihood(community_centres_descriptions[i], cultural_spaces_descriptions[j], client)\n",
    "        likelihoods.append(likelihood)"
   ]
  },
  {
   "cell_type": "code",
   "execution_count": 22,
   "id": "39a8ad1f-5331-4aa1-be73-b4a39e1daeb8",
   "metadata": {},
   "outputs": [
    {
     "name": "stdout",
     "output_type": "stream",
     "text": [
      "The similarity between column NAME from community_centres.csv and the column LOCAL_AREA from cultural-spaces.csv is 10.\n",
      "The similarity between column ADDRESS from community_centres.csv and the column ADDRESS from cultural-spaces.csv is 10.\n",
      "The similarity between column ADDRESS from community_centres.csv and the column Geom from cultural-spaces.csv is 10.\n",
      "The similarity between column URLLINK from community_centres.csv and the column Geom from cultural-spaces.csv is 10.\n",
      "The similarity between column Geom from community_centres.csv and the column CULTURAL_SPACE_NAME from cultural-spaces.csv is 10.\n",
      "The similarity between column Geom from community_centres.csv and the column Geom from cultural-spaces.csv is 10.\n",
      "The similarity between column Geo Local Area from community_centres.csv and the column LOCAL_AREA from cultural-spaces.csv is 10.\n"
     ]
    }
   ],
   "source": [
    "for i in range(len(community_centres_descriptions)):\n",
    "    for j in range(len(cultural_spaces_descriptions)):\n",
    "        if(likelihoods[12*i+j] == '10'):\n",
    "            print(f'The similarity between column {df_community_centres.columns[i]} from community_centres.csv and the column {df_cultural_spaces.columns[j]} from cultural-spaces.csv is {likelihoods[12*i+j]}.')"
   ]
  },
  {
   "cell_type": "code",
   "execution_count": 24,
   "id": "847cabb7-88ee-47de-b1ea-08db70f4bc09",
   "metadata": {},
   "outputs": [],
   "source": [
    "def generate_joins_predictions(table1, table2, client):\n",
    "    system_msg_predict_joins, user_msg_predict_joins = generate_prompt_joins_from_description(table1, table2)\n",
    "    result = execute_prompt(client, system_msg_predict_joins, user_msg_predict_joins)\n",
    "    potential_keys = result.choices[0].message.content.split('Potential keys: ')[-1].strip()\n",
    "\n",
    "    return potential_keys"
   ]
  },
  {
   "cell_type": "code",
   "execution_count": 37,
   "id": "f66b5819-9d88-455d-aec8-b217065ed1d3",
   "metadata": {},
   "outputs": [
    {
     "data": {
      "text/plain": [
       "\"Based on the descriptions of the columns in Table 1 and Table 2, the best key that would allow a join between these tables would be the combination of the following columns from each table:\\n\\n- From Table 1: 'NAME' column and 'ADDRESS' column (unique identifiers for community centers or parks in Vancouver).\\n- From Table 2: 'CULTURAL_SPACE_NAME' column and 'ADDRESS' column (unique identifiers for cultural spaces in Vancouver).\\n\\nThese columns provide distinct names and physical addresses for the respective locations or facilities in each table, making them suitable keys for joining the two tables based on common identifiers.\""
      ]
     },
     "execution_count": 37,
     "metadata": {},
     "output_type": "execute_result"
    }
   ],
   "source": [
    "join_prediction = generate_joins_predictions(community_centres_descriptions, cultural_spaces_descriptions, client)\n",
    "join_prediction"
   ]
  },
  {
   "cell_type": "code",
   "execution_count": 38,
   "id": "91cc719c-108c-43c9-a55c-2dd7fb1f2f64",
   "metadata": {},
   "outputs": [
    {
     "data": {
      "text/plain": [
       "['Based on the descriptions of the columns in Table 1 and Table 2, the best key that would allow a join between these tables would be the combination of the following columns from each table:',\n",
       " \"- From Table 1: 'NAME' column and 'ADDRESS' column (unique identifiers for community centers or parks in Vancouver).\\n- From Table 2: 'CULTURAL_SPACE_NAME' column and 'ADDRESS' column (unique identifiers for cultural spaces in Vancouver).\",\n",
       " 'These columns provide distinct names and physical addresses for the respective locations or facilities in each table, making them suitable keys for joining the two tables based on common identifiers.']"
      ]
     },
     "execution_count": 38,
     "metadata": {},
     "output_type": "execute_result"
    }
   ],
   "source": [
    "join_prediction.split('\\n\\n')"
   ]
  },
  {
   "cell_type": "code",
   "execution_count": 35,
   "id": "66042cda-0d1d-48f9-bf29-25eda7c49897",
   "metadata": {},
   "outputs": [
    {
     "data": {
      "text/html": [
       "<div>\n",
       "<style scoped>\n",
       "    .dataframe tbody tr th:only-of-type {\n",
       "        vertical-align: middle;\n",
       "    }\n",
       "\n",
       "    .dataframe tbody tr th {\n",
       "        vertical-align: top;\n",
       "    }\n",
       "\n",
       "    .dataframe thead th {\n",
       "        text-align: right;\n",
       "    }\n",
       "</style>\n",
       "<table border=\"1\" class=\"dataframe\">\n",
       "  <thead>\n",
       "    <tr style=\"text-align: right;\">\n",
       "      <th></th>\n",
       "      <th>ds_name</th>\n",
       "      <th>att_name</th>\n",
       "      <th>ds_name_2</th>\n",
       "      <th>att_name_2</th>\n",
       "    </tr>\n",
       "  </thead>\n",
       "  <tbody>\n",
       "    <tr>\n",
       "      <th>20</th>\n",
       "      <td>community-centres.csv</td>\n",
       "      <td>Geo Local Area</td>\n",
       "      <td>cultural-spaces.csv</td>\n",
       "      <td>LOCAL_AREA</td>\n",
       "    </tr>\n",
       "  </tbody>\n",
       "</table>\n",
       "</div>"
      ],
      "text/plain": [
       "                  ds_name        att_name            ds_name_2  att_name_2\n",
       "20  community-centres.csv  Geo Local Area  cultural-spaces.csv  LOCAL_AREA"
      ]
     },
     "execution_count": 35,
     "metadata": {},
     "output_type": "execute_result"
    }
   ],
   "source": [
    "df_joinable_columns[(df_joinable_columns['ds_name'] == 'community-centres.csv') & (df_joinable_columns['ds_name_2'] == 'cultural-spaces.csv')]"
   ]
  }
 ],
 "metadata": {
  "kernelspec": {
   "display_name": "Python 3 (ipykernel)",
   "language": "python",
   "name": "python3"
  },
  "language_info": {
   "codemirror_mode": {
    "name": "ipython",
    "version": 3
   },
   "file_extension": ".py",
   "mimetype": "text/x-python",
   "name": "python",
   "nbconvert_exporter": "python",
   "pygments_lexer": "ipython3",
   "version": "3.10.12"
  }
 },
 "nbformat": 4,
 "nbformat_minor": 5
}
